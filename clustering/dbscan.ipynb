{
 "cells": [
  {
   "cell_type": "code",
   "execution_count": 121,
   "metadata": {},
   "outputs": [],
   "source": [
    "import pandas as pd\n",
    "import numpy as np\n",
    "import matplotlib.pyplot as plt\n",
    "from sklearn.cluster import DBSCAN\n",
    "from sklearn import metrics\n",
    "from geopy.distance import great_circle\n",
    "from shapely.geometry import MultiPoint\n",
    "import seaborn as sns\n",
    "import time\n",
    "import matplotlib as mpl\n",
    ""
   ]
  },
  {
   "cell_type": "code",
   "execution_count": 122,
   "metadata": {},
   "outputs": [],
   "source": [
    "# set matplotlib defaults\n",
    "%matplotlib inline\n",
    "sns.set()\n",
    "plt.rcParams[\"figure.figsize\"] = (15,6)\n",
    "mpl.rc('axes', labelsize=18)\n",
    "mpl.rc('xtick', labelsize=16)\n",
    "mpl.rc('ytick', labelsize=16)\n",
    "plt.rc('figure', titlesize=18)\n",
    "plt.style.use('seaborn-darkgrid')"
   ]
  },
  {
   "cell_type": "code",
   "execution_count": 123,
   "metadata": {},
   "outputs": [],
   "source": [
    "# define the number of kilometers in one radian\n",
    "kms_per_radian = 6371.0088"
   ]
  },
  {
   "cell_type": "code",
   "execution_count": 124,
   "metadata": {},
   "outputs": [
    {
     "output_type": "execute_result",
     "data": {
      "text/plain": "           x         y  accident_id  year  \\\n0 -74.105296  4.509792      4437952  2016   \n1 -74.167225  4.631051      4472304  2017   \n\n                                address severity accident_type  \\\n0                     CL 80A-KR 1 SE 02   Injury         Crash   \n1  AV AVENIDA CIUDAD DE CALI-CL 42 S 02   Injury      Run over   \n\n   severity_numeric borough_geo                  timestamp        date  hour  \\\n0                 8        USME  2016-02-27 16:20:00+00:00  2016-02-27    16   \n1                 9     KENNEDY  2017-02-09 16:45:00+00:00  2017-02-09    16   \n\n  month_name  month  day  \n0        Feb      2  Sat  \n1        Feb      2  Thu  ",
      "text/html": "<div>\n<style scoped>\n    .dataframe tbody tr th:only-of-type {\n        vertical-align: middle;\n    }\n\n    .dataframe tbody tr th {\n        vertical-align: top;\n    }\n\n    .dataframe thead th {\n        text-align: right;\n    }\n</style>\n<table border=\"1\" class=\"dataframe\">\n  <thead>\n    <tr style=\"text-align: right;\">\n      <th></th>\n      <th>x</th>\n      <th>y</th>\n      <th>accident_id</th>\n      <th>year</th>\n      <th>address</th>\n      <th>severity</th>\n      <th>accident_type</th>\n      <th>severity_numeric</th>\n      <th>borough_geo</th>\n      <th>timestamp</th>\n      <th>date</th>\n      <th>hour</th>\n      <th>month_name</th>\n      <th>month</th>\n      <th>day</th>\n    </tr>\n  </thead>\n  <tbody>\n    <tr>\n      <th>0</th>\n      <td>-74.105296</td>\n      <td>4.509792</td>\n      <td>4437952</td>\n      <td>2016</td>\n      <td>CL 80A-KR 1 SE 02</td>\n      <td>Injury</td>\n      <td>Crash</td>\n      <td>8</td>\n      <td>USME</td>\n      <td>2016-02-27 16:20:00+00:00</td>\n      <td>2016-02-27</td>\n      <td>16</td>\n      <td>Feb</td>\n      <td>2</td>\n      <td>Sat</td>\n    </tr>\n    <tr>\n      <th>1</th>\n      <td>-74.167225</td>\n      <td>4.631051</td>\n      <td>4472304</td>\n      <td>2017</td>\n      <td>AV AVENIDA CIUDAD DE CALI-CL 42 S 02</td>\n      <td>Injury</td>\n      <td>Run over</td>\n      <td>9</td>\n      <td>KENNEDY</td>\n      <td>2017-02-09 16:45:00+00:00</td>\n      <td>2017-02-09</td>\n      <td>16</td>\n      <td>Feb</td>\n      <td>2</td>\n      <td>Thu</td>\n    </tr>\n  </tbody>\n</table>\n</div>"
     },
     "metadata": {},
     "execution_count": 124
    }
   ],
   "source": [
    "# load the data set\n",
    "df = pd.read_csv('../data/accident_clean.csv')\n",
    "df.head(2) "
   ]
  },
  {
   "cell_type": "code",
   "execution_count": 125,
   "metadata": {},
   "outputs": [],
   "source": [
    "YEAR = 2015"
   ]
  },
  {
   "cell_type": "code",
   "execution_count": 126,
   "metadata": {},
   "outputs": [],
   "source": [
    "# df_sample = df[(df.year == 2019) | (df.year == 2018) | (df.year == 2017) | (df.year == 2016) | (df.year == 2015)]\n",
    "df_sample = df[(df.year == YEAR)]"
   ]
  },
  {
   "cell_type": "code",
   "execution_count": 127,
   "metadata": {},
   "outputs": [],
   "source": [
    "coords = df_sample[['y', 'x']].values\n",
    "coords = np.radians(coords)\n",
    "# define epsilon as 100 meters, converted to radians for use by haversine\n",
    "epsilon = 0.075 / kms_per_radian"
   ]
  },
  {
   "cell_type": "code",
   "execution_count": 128,
   "metadata": {},
   "outputs": [
    {
     "output_type": "execute_result",
     "data": {
      "text/plain": "(30429, 2)"
     },
     "metadata": {},
     "execution_count": 128
    }
   ],
   "source": [
    "coords.shape"
   ]
  },
  {
   "cell_type": "code",
   "execution_count": 129,
   "metadata": {},
   "outputs": [],
   "source": [
    "start_time = time.time()\n",
    "db = DBSCAN(eps=epsilon, min_samples=25, algorithm='ball_tree', metric='haversine').fit(coords)\n",
    "cluster_labels = db.labels_\n",
    "elapsed = time.time()-start_time"
   ]
  },
  {
   "cell_type": "code",
   "execution_count": 130,
   "metadata": {},
   "outputs": [
    {
     "output_type": "stream",
     "name": "stdout",
     "text": "Clustered 30429 points down to 105 clusters, for 100.0% compression in 5.37 seconds\n"
    }
   ],
   "source": [
    "# get the number of clusters\n",
    "num_clusters = len(set(cluster_labels))\n",
    "\n",
    "# all done, print the outcome\n",
    "print(f'Clustered {len(df_sample)} points down to {num_clusters} clusters, for {round(1 - float(num_clusters) / len(df_sample),2)*100}% compression in {round(elapsed,2)} seconds')\n",
    "# print(f'Silhouette coefficient: {metrics.silhouette_score(coords,cluster_labels)}')"
   ]
  },
  {
   "cell_type": "code",
   "execution_count": 131,
   "metadata": {},
   "outputs": [
    {
     "output_type": "execute_result",
     "data": {
      "text/plain": "            x         y  accident_id  year  \\\n5  -74.023482  4.766878      4426757  2015   \n6  -74.072893  4.598232      4404972  2015   \n7  -74.158180  4.639044      4412227  2015   \n20 -74.088759  4.591854      4407122  2015   \n21 -74.058111  4.650699      4427675  2015   \n\n                                address         severity accident_type  \\\n5                       KR 3-CL 189C 02           Injury      Run over   \n6                         KR 5-CL 12 28           Injury         Crash   \n7   AV AVENIDA CIUDAD DE CALI-CL 2 S 02  Material damage         Crash   \n20           AV AVENIDA CARACAS-CL 1 02  Material damage         Crash   \n21                        KR 7-CL 67 02           Injury         Crash   \n\n    severity_numeric borough_geo                  timestamp        date  hour  \\\n5                  9     USAQUEN  2015-10-17 21:00:00+00:00  2015-10-17    21   \n6                  8  CANDELARIA  2015-02-17 08:10:00+00:00  2015-02-17     8   \n7                  1     KENNEDY  2015-05-07 05:50:00+00:00  2015-05-07     5   \n20                 1    SANTA FE  2015-03-08 01:50:00+00:00  2015-03-08     1   \n21                 8   CHAPINERO  2015-10-26 15:10:00+00:00  2015-10-26    15   \n\n   month_name  month  day  cluster_id  \n5         Oct     10  Sat          -1  \n6         Feb      2  Tue          -1  \n7         May      5  Thu          -1  \n20        Mar      3  Sun           0  \n21        Oct     10  Mon          -1  ",
      "text/html": "<div>\n<style scoped>\n    .dataframe tbody tr th:only-of-type {\n        vertical-align: middle;\n    }\n\n    .dataframe tbody tr th {\n        vertical-align: top;\n    }\n\n    .dataframe thead th {\n        text-align: right;\n    }\n</style>\n<table border=\"1\" class=\"dataframe\">\n  <thead>\n    <tr style=\"text-align: right;\">\n      <th></th>\n      <th>x</th>\n      <th>y</th>\n      <th>accident_id</th>\n      <th>year</th>\n      <th>address</th>\n      <th>severity</th>\n      <th>accident_type</th>\n      <th>severity_numeric</th>\n      <th>borough_geo</th>\n      <th>timestamp</th>\n      <th>date</th>\n      <th>hour</th>\n      <th>month_name</th>\n      <th>month</th>\n      <th>day</th>\n      <th>cluster_id</th>\n    </tr>\n  </thead>\n  <tbody>\n    <tr>\n      <th>5</th>\n      <td>-74.023482</td>\n      <td>4.766878</td>\n      <td>4426757</td>\n      <td>2015</td>\n      <td>KR 3-CL 189C 02</td>\n      <td>Injury</td>\n      <td>Run over</td>\n      <td>9</td>\n      <td>USAQUEN</td>\n      <td>2015-10-17 21:00:00+00:00</td>\n      <td>2015-10-17</td>\n      <td>21</td>\n      <td>Oct</td>\n      <td>10</td>\n      <td>Sat</td>\n      <td>-1</td>\n    </tr>\n    <tr>\n      <th>6</th>\n      <td>-74.072893</td>\n      <td>4.598232</td>\n      <td>4404972</td>\n      <td>2015</td>\n      <td>KR 5-CL 12 28</td>\n      <td>Injury</td>\n      <td>Crash</td>\n      <td>8</td>\n      <td>CANDELARIA</td>\n      <td>2015-02-17 08:10:00+00:00</td>\n      <td>2015-02-17</td>\n      <td>8</td>\n      <td>Feb</td>\n      <td>2</td>\n      <td>Tue</td>\n      <td>-1</td>\n    </tr>\n    <tr>\n      <th>7</th>\n      <td>-74.158180</td>\n      <td>4.639044</td>\n      <td>4412227</td>\n      <td>2015</td>\n      <td>AV AVENIDA CIUDAD DE CALI-CL 2 S 02</td>\n      <td>Material damage</td>\n      <td>Crash</td>\n      <td>1</td>\n      <td>KENNEDY</td>\n      <td>2015-05-07 05:50:00+00:00</td>\n      <td>2015-05-07</td>\n      <td>5</td>\n      <td>May</td>\n      <td>5</td>\n      <td>Thu</td>\n      <td>-1</td>\n    </tr>\n    <tr>\n      <th>20</th>\n      <td>-74.088759</td>\n      <td>4.591854</td>\n      <td>4407122</td>\n      <td>2015</td>\n      <td>AV AVENIDA CARACAS-CL 1 02</td>\n      <td>Material damage</td>\n      <td>Crash</td>\n      <td>1</td>\n      <td>SANTA FE</td>\n      <td>2015-03-08 01:50:00+00:00</td>\n      <td>2015-03-08</td>\n      <td>1</td>\n      <td>Mar</td>\n      <td>3</td>\n      <td>Sun</td>\n      <td>0</td>\n    </tr>\n    <tr>\n      <th>21</th>\n      <td>-74.058111</td>\n      <td>4.650699</td>\n      <td>4427675</td>\n      <td>2015</td>\n      <td>KR 7-CL 67 02</td>\n      <td>Injury</td>\n      <td>Crash</td>\n      <td>8</td>\n      <td>CHAPINERO</td>\n      <td>2015-10-26 15:10:00+00:00</td>\n      <td>2015-10-26</td>\n      <td>15</td>\n      <td>Oct</td>\n      <td>10</td>\n      <td>Mon</td>\n      <td>-1</td>\n    </tr>\n  </tbody>\n</table>\n</div>"
     },
     "metadata": {},
     "execution_count": 131
    }
   ],
   "source": [
    "df_sample['cluster_id'] = cluster_labels\n",
    "df_sample.head()"
   ]
  },
  {
   "cell_type": "code",
   "execution_count": 132,
   "metadata": {},
   "outputs": [
    {
     "output_type": "execute_result",
     "data": {
      "text/plain": "(26727, 16)"
     },
     "metadata": {},
     "execution_count": 132
    }
   ],
   "source": [
    "df_sample[df_sample.cluster_id == -1].shape"
   ]
  },
  {
   "cell_type": "code",
   "execution_count": 133,
   "metadata": {},
   "outputs": [],
   "source": [
    "def get_centermost_point(cluster):\n",
    "    centroid = (MultiPoint(cluster).centroid.x, MultiPoint(cluster).centroid.y)\n",
    "    centermost_point = min(cluster, key=lambda point: great_circle(point, centroid).m)\n",
    "    # centermost_point = np.degrees(np.array(centroid))\n",
    "    centermost_point = np.degrees(centermost_point)\n",
    "    return centermost_point"
   ]
  },
  {
   "cell_type": "code",
   "execution_count": 134,
   "metadata": {},
   "outputs": [],
   "source": [
    "clusters = pd.DataFrame([coords[cluster_labels==n] for n in range(num_clusters)])\n",
    "clusters.drop(clusters.tail(1).index, inplace=True)"
   ]
  },
  {
   "cell_type": "code",
   "execution_count": 135,
   "metadata": {},
   "outputs": [
    {
     "output_type": "execute_result",
     "data": {
      "text/plain": "     0\n51  25\n63  25\n39  25\n78  25\n85  25\n..  ..\n7   68\n23  68\n10  69\n15  84\n17  87\n\n[104 rows x 1 columns]",
      "text/html": "<div>\n<style scoped>\n    .dataframe tbody tr th:only-of-type {\n        vertical-align: middle;\n    }\n\n    .dataframe tbody tr th {\n        vertical-align: top;\n    }\n\n    .dataframe thead th {\n        text-align: right;\n    }\n</style>\n<table border=\"1\" class=\"dataframe\">\n  <thead>\n    <tr style=\"text-align: right;\">\n      <th></th>\n      <th>0</th>\n    </tr>\n  </thead>\n  <tbody>\n    <tr>\n      <th>51</th>\n      <td>25</td>\n    </tr>\n    <tr>\n      <th>63</th>\n      <td>25</td>\n    </tr>\n    <tr>\n      <th>39</th>\n      <td>25</td>\n    </tr>\n    <tr>\n      <th>78</th>\n      <td>25</td>\n    </tr>\n    <tr>\n      <th>85</th>\n      <td>25</td>\n    </tr>\n    <tr>\n      <th>...</th>\n      <td>...</td>\n    </tr>\n    <tr>\n      <th>7</th>\n      <td>68</td>\n    </tr>\n    <tr>\n      <th>23</th>\n      <td>68</td>\n    </tr>\n    <tr>\n      <th>10</th>\n      <td>69</td>\n    </tr>\n    <tr>\n      <th>15</th>\n      <td>84</td>\n    </tr>\n    <tr>\n      <th>17</th>\n      <td>87</td>\n    </tr>\n  </tbody>\n</table>\n<p>104 rows × 1 columns</p>\n</div>"
     },
     "metadata": {},
     "execution_count": 135
    }
   ],
   "source": [
    "clusters.applymap(lambda x: len(x)).sort_values(by=0)"
   ]
  },
  {
   "cell_type": "code",
   "execution_count": 136,
   "metadata": {},
   "outputs": [
    {
     "output_type": "execute_result",
     "data": {
      "text/plain": "(3702, 3)"
     },
     "metadata": {},
     "execution_count": 136
    }
   ],
   "source": [
    "clustered_points = clusters.explode(0)\n",
    "clustered_points = clustered_points.applymap(np.degrees)\n",
    "clustered_points['y'] = clustered_points[0].apply(lambda x: x[0])\n",
    "clustered_points['x'] = clustered_points[0].apply(lambda x: x[1])\n",
    "clustered_points.shape"
   ]
  },
  {
   "cell_type": "code",
   "execution_count": 137,
   "metadata": {},
   "outputs": [],
   "source": [
    "centroids = clusters.applymap(get_centermost_point)"
   ]
  },
  {
   "cell_type": "code",
   "execution_count": 138,
   "metadata": {},
   "outputs": [
    {
     "output_type": "execute_result",
     "data": {
      "text/plain": "(104, 3)"
     },
     "metadata": {},
     "execution_count": 138
    }
   ],
   "source": [
    "centroids['y'] = centroids[0].apply(lambda x: x[0])\n",
    "centroids['x'] = centroids[0].apply(lambda x: x[1])\n",
    "centroids.shape"
   ]
  },
  {
   "cell_type": "code",
   "execution_count": 139,
   "metadata": {},
   "outputs": [
    {
     "output_type": "execute_result",
     "data": {
      "text/plain": "                                            0         y          x\n0      [4.59184233000002, -74.08878166499993]  4.591842 -74.088782\n1     [4.760559846000035, -74.06575966999998]  4.760560 -74.065760\n2     [4.648264478000044, -74.10723968499997]  4.648264 -74.107240\n3      [4.59516491100004, -74.14530483699998]  4.595165 -74.145305\n4          [4.679129501000034, -74.119425515]  4.679130 -74.119426\n..                                        ...       ...        ...\n99    [4.628263501000049, -74.17076367399994]  4.628264 -74.170764\n100    [4.66420211600007, -74.04761288599997]  4.664202 -74.047613\n101  [4.6804475150000275, -74.09967961099994]  4.680448 -74.099680\n102   [4.726337779000062, -74.12478046799998]  4.726338 -74.124780\n103    [4.60292615000003, -74.09348428599995]  4.602926 -74.093484\n\n[104 rows x 3 columns]",
      "text/html": "<div>\n<style scoped>\n    .dataframe tbody tr th:only-of-type {\n        vertical-align: middle;\n    }\n\n    .dataframe tbody tr th {\n        vertical-align: top;\n    }\n\n    .dataframe thead th {\n        text-align: right;\n    }\n</style>\n<table border=\"1\" class=\"dataframe\">\n  <thead>\n    <tr style=\"text-align: right;\">\n      <th></th>\n      <th>0</th>\n      <th>y</th>\n      <th>x</th>\n    </tr>\n  </thead>\n  <tbody>\n    <tr>\n      <th>0</th>\n      <td>[4.59184233000002, -74.08878166499993]</td>\n      <td>4.591842</td>\n      <td>-74.088782</td>\n    </tr>\n    <tr>\n      <th>1</th>\n      <td>[4.760559846000035, -74.06575966999998]</td>\n      <td>4.760560</td>\n      <td>-74.065760</td>\n    </tr>\n    <tr>\n      <th>2</th>\n      <td>[4.648264478000044, -74.10723968499997]</td>\n      <td>4.648264</td>\n      <td>-74.107240</td>\n    </tr>\n    <tr>\n      <th>3</th>\n      <td>[4.59516491100004, -74.14530483699998]</td>\n      <td>4.595165</td>\n      <td>-74.145305</td>\n    </tr>\n    <tr>\n      <th>4</th>\n      <td>[4.679129501000034, -74.119425515]</td>\n      <td>4.679130</td>\n      <td>-74.119426</td>\n    </tr>\n    <tr>\n      <th>...</th>\n      <td>...</td>\n      <td>...</td>\n      <td>...</td>\n    </tr>\n    <tr>\n      <th>99</th>\n      <td>[4.628263501000049, -74.17076367399994]</td>\n      <td>4.628264</td>\n      <td>-74.170764</td>\n    </tr>\n    <tr>\n      <th>100</th>\n      <td>[4.66420211600007, -74.04761288599997]</td>\n      <td>4.664202</td>\n      <td>-74.047613</td>\n    </tr>\n    <tr>\n      <th>101</th>\n      <td>[4.6804475150000275, -74.09967961099994]</td>\n      <td>4.680448</td>\n      <td>-74.099680</td>\n    </tr>\n    <tr>\n      <th>102</th>\n      <td>[4.726337779000062, -74.12478046799998]</td>\n      <td>4.726338</td>\n      <td>-74.124780</td>\n    </tr>\n    <tr>\n      <th>103</th>\n      <td>[4.60292615000003, -74.09348428599995]</td>\n      <td>4.602926</td>\n      <td>-74.093484</td>\n    </tr>\n  </tbody>\n</table>\n<p>104 rows × 3 columns</p>\n</div>"
     },
     "metadata": {},
     "execution_count": 139
    }
   ],
   "source": [
    "centroids"
   ]
  },
  {
   "cell_type": "code",
   "execution_count": 140,
   "metadata": {},
   "outputs": [],
   "source": [
    "#clustered_points = clustered_points.sample(frac=0.5)"
   ]
  },
  {
   "cell_type": "code",
   "execution_count": 141,
   "metadata": {},
   "outputs": [],
   "source": [
    "# import folium  \n",
    "# from folium.plugins import HeatMap\n",
    "# folium_map = folium.Map(location=[4.654335, -74.083644],\n",
    "#                         zoom_start=14,\n",
    "#                         tiles=\"openstreetmap\")\n",
    "\n",
    "# for row in clustered_points.iterrows():\n",
    "#     marker = folium.CircleMarker(location=[row[1]['y'],row[1]['x']], radius=2, color=\"black\", fill=True)\n",
    "#     marker.add_to(folium_map)\n",
    "\n",
    "\n",
    "# for row in centroids.iterrows():\n",
    "#     marker = folium.CircleMarker(location=[row[1]['y'],row[1]['x']], radius=7, color='#3186cc',fill=True, fill_color='#3186cc')\n",
    "#     marker.add_to(folium_map)\n",
    "\n",
    "# id = 296\n",
    "# marker = folium.CircleMarker(location=[centroids.iloc[id]['y'],centroids.iloc[id]['x']], radius=25, color='#3186cc',fill=True, fill_color='#3186cc')\n",
    "# marker.add_to(folium_map)\n",
    "# for point in clusters.iloc[id].values[0]:\n",
    "#     marker = folium.CircleMarker(location=[np.degrees(point)[0],np.degrees(point)[1]], radius=2, color=\"black\", fill=True)\n",
    "#     marker.add_to(folium_map)"
   ]
  },
  {
   "cell_type": "code",
   "execution_count": 142,
   "metadata": {},
   "outputs": [],
   "source": [
    "# folium_map"
   ]
  },
  {
   "cell_type": "code",
   "execution_count": 143,
   "metadata": {},
   "outputs": [
    {
     "output_type": "execute_result",
     "data": {
      "text/plain": "           x         y  accident_id  year          address severity  \\\n5 -74.023482  4.766878      4426757  2015  KR 3-CL 189C 02   Injury   \n6 -74.072893  4.598232      4404972  2015    KR 5-CL 12 28   Injury   \n\n  accident_type  severity_numeric borough_geo                  timestamp  \\\n5      Run over                 9     USAQUEN  2015-10-17 21:00:00+00:00   \n6         Crash                 8  CANDELARIA  2015-02-17 08:10:00+00:00   \n\n         date  hour month_name  month  day  cluster_id  \n5  2015-10-17    21        Oct     10  Sat          -1  \n6  2015-02-17     8        Feb      2  Tue          -1  ",
      "text/html": "<div>\n<style scoped>\n    .dataframe tbody tr th:only-of-type {\n        vertical-align: middle;\n    }\n\n    .dataframe tbody tr th {\n        vertical-align: top;\n    }\n\n    .dataframe thead th {\n        text-align: right;\n    }\n</style>\n<table border=\"1\" class=\"dataframe\">\n  <thead>\n    <tr style=\"text-align: right;\">\n      <th></th>\n      <th>x</th>\n      <th>y</th>\n      <th>accident_id</th>\n      <th>year</th>\n      <th>address</th>\n      <th>severity</th>\n      <th>accident_type</th>\n      <th>severity_numeric</th>\n      <th>borough_geo</th>\n      <th>timestamp</th>\n      <th>date</th>\n      <th>hour</th>\n      <th>month_name</th>\n      <th>month</th>\n      <th>day</th>\n      <th>cluster_id</th>\n    </tr>\n  </thead>\n  <tbody>\n    <tr>\n      <th>5</th>\n      <td>-74.023482</td>\n      <td>4.766878</td>\n      <td>4426757</td>\n      <td>2015</td>\n      <td>KR 3-CL 189C 02</td>\n      <td>Injury</td>\n      <td>Run over</td>\n      <td>9</td>\n      <td>USAQUEN</td>\n      <td>2015-10-17 21:00:00+00:00</td>\n      <td>2015-10-17</td>\n      <td>21</td>\n      <td>Oct</td>\n      <td>10</td>\n      <td>Sat</td>\n      <td>-1</td>\n    </tr>\n    <tr>\n      <th>6</th>\n      <td>-74.072893</td>\n      <td>4.598232</td>\n      <td>4404972</td>\n      <td>2015</td>\n      <td>KR 5-CL 12 28</td>\n      <td>Injury</td>\n      <td>Crash</td>\n      <td>8</td>\n      <td>CANDELARIA</td>\n      <td>2015-02-17 08:10:00+00:00</td>\n      <td>2015-02-17</td>\n      <td>8</td>\n      <td>Feb</td>\n      <td>2</td>\n      <td>Tue</td>\n      <td>-1</td>\n    </tr>\n  </tbody>\n</table>\n</div>"
     },
     "metadata": {},
     "execution_count": 143
    }
   ],
   "source": [
    "df_sample.head(2)"
   ]
  },
  {
   "cell_type": "code",
   "execution_count": 144,
   "metadata": {},
   "outputs": [],
   "source": [
    "centroids.reset_index(inplace=True)\n",
    "centroids.drop(columns=[0], inplace=True)\n",
    "centroids.rename(columns={'index': 'cluster_id'}, inplace=True)"
   ]
  },
  {
   "cell_type": "code",
   "execution_count": 145,
   "metadata": {},
   "outputs": [],
   "source": [
    "centroids['year'] = YEAR"
   ]
  },
  {
   "cell_type": "code",
   "execution_count": 146,
   "metadata": {},
   "outputs": [],
   "source": [
    "df_sample.to_csv(f'../data/{YEAR}_dataset_clusters.csv', index=None)"
   ]
  },
  {
   "cell_type": "code",
   "execution_count": 147,
   "metadata": {},
   "outputs": [],
   "source": [
    "centroids.to_csv(f'../data/{YEAR}_centroids.csv',index=None)"
   ]
  },
  {
   "cell_type": "code",
   "execution_count": 148,
   "metadata": {},
   "outputs": [],
   "source": [
    "clustered_points.reset_index(inplace=True)\n",
    "clustered_points.drop(columns=[0], inplace=True)\n",
    "clustered_points.rename(columns={'index': 'cluster_id'}, inplace=True)"
   ]
  },
  {
   "cell_type": "code",
   "execution_count": 149,
   "metadata": {},
   "outputs": [],
   "source": [
    "clustered_points['year'] = YEAR"
   ]
  },
  {
   "cell_type": "code",
   "execution_count": 150,
   "metadata": {},
   "outputs": [],
   "source": [
    "clustered_points.to_csv(f'../data/{YEAR}_clustered_points.csv', index=None)"
   ]
  },
  {
   "cell_type": "code",
   "execution_count": null,
   "metadata": {},
   "outputs": [],
   "source": []
  }
 ],
 "metadata": {
  "file_extension": ".py",
  "kernelspec": {
   "display_name": "Python 3.8.2 64-bit ('ds4a-project': conda)",
   "language": "python",
   "name": "python38264bitds4aprojectcondae0f55255db9a456ea22c31180c5c6b0c"
  },
  "language_info": {
   "codemirror_mode": {
    "name": "ipython",
    "version": 3
   },
   "file_extension": ".py",
   "mimetype": "text/x-python",
   "name": "python",
   "nbconvert_exporter": "python",
   "pygments_lexer": "ipython3",
   "version": "3.8.2-final"
  },
  "mimetype": "text/x-python",
  "name": "python",
  "npconvert_exporter": "python",
  "pygments_lexer": "ipython3",
  "version": 3
 },
 "nbformat": 4,
 "nbformat_minor": 2
}