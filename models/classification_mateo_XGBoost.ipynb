{
 "cells": [
  {
   "cell_type": "code",
   "execution_count": 2,
   "metadata": {},
   "outputs": [],
   "source": [
    "import pandas as pd\n",
    "import numpy as np\n",
    "import seaborn as sns\n",
    "import matplotlib.pyplot as plt\n",
    "import matplotlib as mpl\n",
    "\n",
    "from sklearn.model_selection import train_test_split\n",
    "from sklearn.metrics import accuracy_score, confusion_matrix, f1_score, cohen_kappa_score, classification_report , roc_curve, roc_auc_score, average_precision_score\n",
    "from sklearn.model_selection import KFold, StratifiedKFold, cross_val_score\n",
    "from sklearn.ensemble import RandomForestClassifier\n",
    "from sklearn.preprocessing import MinMaxScaler\n",
    "from sklearn.pipeline import Pipeline\n",
    "from sklearn.base import BaseEstimator, TransformerMixin\n",
    "import xgboost"
   ]
  },
  {
   "cell_type": "code",
   "execution_count": 3,
   "metadata": {},
   "outputs": [],
   "source": [
    "# set matplotlib defaults\n",
    "%matplotlib inline\n",
    "sns.set()\n",
    "plt.rcParams[\"figure.figsize\"] = (15,6)\n",
    "mpl.rc('axes', labelsize=18)\n",
    "mpl.rc('xtick', labelsize=16)\n",
    "mpl.rc('ytick', labelsize=16)\n",
    "plt.rc('figure', titlesize=18)\n",
    "plt.style.use('seaborn-darkgrid')"
   ]
  },
  {
   "cell_type": "code",
   "execution_count": 4,
   "metadata": {},
   "outputs": [
    {
     "name": "stderr",
     "output_type": "stream",
     "text": [
      "/home/matt/anaconda3/envs/ds4a-project/lib/python3.8/site-packages/IPython/core/interactiveshell.py:3062: DtypeWarning: Columns (11,12) have mixed types.Specify dtype option on import or set low_memory=False.\n",
      "  has_raised = await self.run_ast_nodes(code_ast.body, cell_name,\n"
     ]
    }
   ],
   "source": [
    "data_2018 = pd.read_csv(\"../data/dataset_2018_with_negatives.csv\")\n",
    "data_2019 = pd.read_csv(\"../data/dataset_2019_with_negatives.csv\")"
   ]
  },
  {
   "cell_type": "code",
   "execution_count": 5,
   "metadata": {},
   "outputs": [],
   "source": [
    "data_2018 = data_2018[(data_2018.summary.notnull())  & (data_2018.month > 8)]"
   ]
  },
  {
   "cell_type": "code",
   "execution_count": 6,
   "metadata": {},
   "outputs": [
    {
     "name": "stdout",
     "output_type": "stream",
     "text": [
      "(58133, 40) (21496, 40)\n"
     ]
    }
   ],
   "source": [
    "print(data_2019.shape, data_2018.shape)"
   ]
  },
  {
   "cell_type": "code",
   "execution_count": 10,
   "metadata": {},
   "outputs": [],
   "source": [
    "data = pd.concat([data_2018, data_2019])"
   ]
  },
  {
   "cell_type": "code",
   "execution_count": 11,
   "metadata": {},
   "outputs": [],
   "source": [
    "# data = pd.get_dummies(data, columns=['summary'])"
   ]
  },
  {
   "cell_type": "code",
   "execution_count": 12,
   "metadata": {},
   "outputs": [],
   "source": [
    "# data.drop(['year', 'precipAccumulation', 'timestamp', 'date', 'address', \n",
    "#            'severity', 'accident_type','severity_numeric','borough_id',\n",
    "#           'timestamp_darksky', 'summary', 'icon','precipType'], axis=1, inplace=True)"
   ]
  },
  {
   "cell_type": "code",
   "execution_count": 13,
   "metadata": {},
   "outputs": [
    {
     "data": {
      "text/plain": [
       "RangeIndex(start=0, stop=79629, step=1)"
      ]
     },
     "execution_count": 13,
     "metadata": {},
     "output_type": "execute_result"
    }
   ],
   "source": [
    "data.reset_index(drop=True, inplace=True)\n",
    "data.index"
   ]
  },
  {
   "cell_type": "code",
   "execution_count": 14,
   "metadata": {},
   "outputs": [
    {
     "data": {
      "text/plain": [
       "Index(['x', 'y', 'timestamp', 'date', 'year', 'month', 'day', 'day_of_year',\n",
       "       'day_of_week', 'hour', 'address', 'severity', 'accident_type',\n",
       "       'severity_numeric', 'borough', 'cluster_id', 'sample_type',\n",
       "       'borough_id', 'area_km2', 'population', 'population_density',\n",
       "       'timestamp_darksky', 'summary', 'icon', 'precipIntensity',\n",
       "       'precipProbability', 'temperature', 'apparentTemperature', 'dewPoint',\n",
       "       'humidity', 'windSpeed', 'cloudCover', 'uvIndex', 'visibility',\n",
       "       'windBearing', 'windGust', 'pressure', 'precipType', 'ozone',\n",
       "       'precipAccumulation'],\n",
       "      dtype='object')"
      ]
     },
     "execution_count": 14,
     "metadata": {},
     "output_type": "execute_result"
    }
   ],
   "source": [
    "data.columns"
   ]
  },
  {
   "cell_type": "code",
   "execution_count": 15,
   "metadata": {},
   "outputs": [
    {
     "name": "stdout",
     "output_type": "stream",
     "text": [
      "<class 'pandas.core.frame.DataFrame'>\n",
      "RangeIndex: 79629 entries, 0 to 79628\n",
      "Data columns (total 40 columns):\n",
      " #   Column               Non-Null Count  Dtype  \n",
      "---  ------               --------------  -----  \n",
      " 0   x                    79629 non-null  float64\n",
      " 1   y                    79629 non-null  float64\n",
      " 2   timestamp            79629 non-null  object \n",
      " 3   date                 79629 non-null  object \n",
      " 4   year                 79629 non-null  int64  \n",
      " 5   month                79629 non-null  int64  \n",
      " 6   day                  79629 non-null  int64  \n",
      " 7   day_of_year          79629 non-null  int64  \n",
      " 8   day_of_week          79629 non-null  int64  \n",
      " 9   hour                 79629 non-null  int64  \n",
      " 10  address              79629 non-null  object \n",
      " 11  severity             39792 non-null  object \n",
      " 12  accident_type        39792 non-null  object \n",
      " 13  severity_numeric     39792 non-null  float64\n",
      " 14  borough              79629 non-null  object \n",
      " 15  cluster_id           79629 non-null  int64  \n",
      " 16  sample_type          79629 non-null  int64  \n",
      " 17  borough_id           79629 non-null  int64  \n",
      " 18  area_km2             79629 non-null  float64\n",
      " 19  population           79629 non-null  int64  \n",
      " 20  population_density   79629 non-null  float64\n",
      " 21  timestamp_darksky    79629 non-null  object \n",
      " 22  summary              79629 non-null  object \n",
      " 23  icon                 79629 non-null  object \n",
      " 24  precipIntensity      79629 non-null  float64\n",
      " 25  precipProbability    79629 non-null  float64\n",
      " 26  temperature          79629 non-null  float64\n",
      " 27  apparentTemperature  79629 non-null  float64\n",
      " 28  dewPoint             79629 non-null  float64\n",
      " 29  humidity             79629 non-null  float64\n",
      " 30  windSpeed            79629 non-null  float64\n",
      " 31  cloudCover           79629 non-null  float64\n",
      " 32  uvIndex              79629 non-null  float64\n",
      " 33  visibility           79629 non-null  float64\n",
      " 34  windBearing          79629 non-null  float64\n",
      " 35  windGust             79629 non-null  float64\n",
      " 36  pressure             79629 non-null  float64\n",
      " 37  precipType           76796 non-null  object \n",
      " 38  ozone                79629 non-null  float64\n",
      " 39  precipAccumulation   1 non-null      float64\n",
      "dtypes: float64(20), int64(10), object(10)\n",
      "memory usage: 24.3+ MB\n"
     ]
    }
   ],
   "source": [
    "data.info()"
   ]
  },
  {
   "cell_type": "code",
   "execution_count": 16,
   "metadata": {},
   "outputs": [
    {
     "data": {
      "text/plain": [
       "month                day_of_year            0.997\n",
       "apparentTemperature  temperature            0.997\n",
       "day_of_year          month                  0.997\n",
       "temperature          apparentTemperature    0.997\n",
       "                     uvIndex                0.833\n",
       "uvIndex              temperature            0.833\n",
       "windSpeed            windGust               0.826\n",
       "windGust             windSpeed              0.826\n",
       "apparentTemperature  uvIndex                0.824\n",
       "uvIndex              apparentTemperature    0.824\n",
       "precipProbability    precipIntensity        0.802\n",
       "precipIntensity      precipProbability      0.802\n",
       "temperature          hour                   0.692\n",
       "hour                 temperature            0.692\n",
       "apparentTemperature  hour                   0.685\n",
       "hour                 apparentTemperature    0.685\n",
       "apparentTemperature  dewPoint               0.654\n",
       "dewPoint             apparentTemperature    0.654\n",
       "dtype: float64"
      ]
     },
     "execution_count": 16,
     "metadata": {},
     "output_type": "execute_result"
    }
   ],
   "source": [
    "corr = data.corr()\n",
    "c1 = corr.abs().unstack().round(3)\n",
    "c1<1\n",
    "c1[(c1<1) & (c1> 0.65)].sort_values(ascending = False)"
   ]
  },
  {
   "cell_type": "code",
   "execution_count": 17,
   "metadata": {},
   "outputs": [
    {
     "data": {
      "image/png": "[encoded data removed]",
      "text/plain": [
       "<Figure size 1008x1008 with 2 Axes>"
      ]
     },
     "metadata": {},
     "output_type": "display_data"
    }
   ],
   "source": [
    "plt.figure(figsize=(14,14))\n",
    "sns.heatmap(corr.where(np.tril(np.ones(corr.shape)).astype(np.bool)), cmap='coolwarm')\n",
    "plt.show()"
   ]
  },
  {
   "cell_type": "markdown",
   "metadata": {},
   "source": [
    "## Useful Functions"
   ]
  },
  {
   "cell_type": "code",
   "execution_count": 18,
   "metadata": {},
   "outputs": [],
   "source": [
    "def model_fit_predict(X_train, X_test, y_train, y_test, clf):\n",
    "    categories = ['non-accident', 'accident']\n",
    "    clf.fit(X_train, y_train)\n",
    "    scores = cross_val_score(clf, X_train, y_train, cv=5, scoring= 'roc_auc', n_jobs=-1)\n",
    "    print('ROC AUC: {:.2f} (+/- {:.3f} )'.format(scores.mean(), scores.std() * 2))\n",
    "\n",
    "    y_pred = clf.predict(X_test)\n",
    "    print('Cohen kappa score {:.4f}'.format(cohen_kappa_score(y_pred, y_test)))\n",
    "    print('F1 score {:.4f}'.format(f1_score(y_pred, y_test,)))\n",
    "    print('Average precision score {:.4f}'.format(average_precision_score(y_pred, y_test)))\n",
    "    print(classification_report(y_test, y_pred,target_names=categories))\n",
    "\n",
    "#     metric_names = ['f1', 'roc_auc', 'average_precision', 'accuracy', 'precision', 'recall']\n",
    "#     scores_df = pd.DataFrame(index=metric_names, columns=['Random-CV', 'Stratified-CV']) # to store the scores\n",
    "#     cv = KFold(n_splits=3)\n",
    "#     scv = StratifiedKFold(n_splits=3)\n",
    "#     for metric in metric_names:\n",
    "#         score1 = cross_val_score(clf, X_train, y_train, scoring=metric, cv=cv, n_jobs=-1).mean()\n",
    "#         score2 = cross_val_score(clf, X_train, y_train, scoring=metric, cv=scv, n_jobs=-1).mean()\n",
    "#         scores_df.loc[metric] = [score1, score2]\n",
    "#     print(scores_df)\n",
    "    y_pred_proba = clf.predict_proba(X_test)[:,1]\n",
    "\n",
    "    return clf, y_pred, y_pred_proba\n"
   ]
  },
  {
   "cell_type": "code",
   "execution_count": 19,
   "metadata": {},
   "outputs": [],
   "source": [
    "def model_plot(y_test, y_pred, y_pred_proba, model_name):\n",
    "    categories = ['non-accident', 'accident']\n",
    "    gs = mpl.gridspec.GridSpec(2, 2)\n",
    "\n",
    "    plt.figure(figsize=(14,10))\n",
    "    ax = plt.subplot(gs[0, 0]) # row 0, col 0\n",
    "    labels = [0,1]\n",
    "    cnf_mx = confusion_matrix(y_test,y_pred,labels=labels)\n",
    "    ax1 = sns.heatmap(cnf_mx, cmap='Blues',annot=True, fmt=\"d\")\n",
    "    plt.xticks([0.5,1.5],categories, rotation=0)\n",
    "    plt.yticks([0.5,1.5],categories, rotation=0)\n",
    "    plt.title(f'Confusion matrix {model_name}', fontsize=18)\n",
    "    plt.xlabel('Predicted label')\n",
    "    plt.ylabel('True label')\n",
    "\n",
    "    ax = plt.subplot(gs[0, 1]) # row 0, col 1\n",
    "    row_sums = cnf_mx.sum(axis=1, keepdims=True)\n",
    "    norm_cnf_mx = cnf_mx / row_sums\n",
    "    np.fill_diagonal(norm_cnf_mx, 0)\n",
    "    ax2 = sns.heatmap(norm_cnf_mx, cmap='Blues',annot=True, fmt=\".4%\")\n",
    "    plt.xticks([0.5,1.5],categories, rotation=0)\n",
    "    plt.yticks([0.5,1.5],categories, rotation=0)\n",
    "    plt.title(f'Error matrix {model_name}', fontsize=18)\n",
    "    plt.xlabel('Predicted label')\n",
    "\n",
    "    ax = plt.subplot(gs[1, :]) # row 1, span all columns\n",
    "    fpr, tpr, _ = roc_curve(y_test,  y_pred_proba)\n",
    "    auc = roc_auc_score(y_test, y_pred_proba)\n",
    "    # Display plot for AUC curve\n",
    "    ax3 = plt.plot(fpr,tpr,label= f\"{model_name}, auc={round(auc,4)}\")\n",
    "    ax3 = plt.plot([0, 1], [0, 1], color='darkorange', lw=2, linestyle='--')\n",
    "    plt.legend(fontsize=14)\n",
    "    plt.title(f\"ROC cuve: {model_name}\", fontsize= 18)\n",
    "    plt.tight_layout()\n",
    "    plt.show()"
   ]
  },
  {
   "cell_type": "code",
   "execution_count": 20,
   "metadata": {},
   "outputs": [],
   "source": [
    "def generate_cyclical_variables(df, column, period):\n",
    "    if df[column].min() != 0:\n",
    "        df[f'{column}_sin'] = np.sin((df[column] - 1)*(2.*np.pi/period))\n",
    "        df[f'{column}_cos'] = np.cos((df[column] - 1)*(2.*np.pi/period))\n",
    "    else:\n",
    "        df[f'{column}_sin'] = np.sin((df[column])*(2.*np.pi/period))\n",
    "        df[f'{column}_cos'] = np.cos((df[column])*(2.*np.pi/period))\n",
    "\n",
    "    return df"
   ]
  },
  {
   "cell_type": "code",
   "execution_count": 21,
   "metadata": {},
   "outputs": [],
   "source": [
    "def generate_precipitation_intensity(df, column_intensity, column_probability):\n",
    "    df['precip_intensity_probability'] = df.precipIntensity * df.precipProbability\n",
    "    return df"
   ]
  },
  {
   "cell_type": "code",
   "execution_count": 22,
   "metadata": {},
   "outputs": [],
   "source": [
    "# data = (data.pipe(generate_precipitation_intensity, column_intensity='precipIntensity', column_probability = 'precipProbability' )\n",
    "#  .pipe(generate_cyclical_variables, column='hour', period = 24)\n",
    "#  .pipe(generate_cyclical_variables, column='day_of_week', period = 7)\n",
    "#  .pipe(generate_cyclical_variables, column='month', period = 12)\n",
    "#  .pipe(generate_cyclical_variables, column='day_of_year', period = 365)\n",
    "# )"
   ]
  },
  {
   "cell_type": "code",
   "execution_count": 23,
   "metadata": {},
   "outputs": [],
   "source": [
    "#Custom Transformer that extracts columns passed as argument to its constructor \n",
    "class FeatureSelector( BaseEstimator, TransformerMixin ):\n",
    "    #Class Constructor \n",
    "    def __init__( self, feature_names ):\n",
    "        self._feature_names = feature_names \n",
    "    \n",
    "    #Return self nothing else to do here    \n",
    "    def fit( self, X, y = None ):\n",
    "        return self \n",
    "    \n",
    "    #Method that describes what we need this transformer to do\n",
    "    def transform( self, X, y = None ):\n",
    "        return X.loc[:,self._feature_names ] "
   ]
  },
  {
   "cell_type": "code",
   "execution_count": 24,
   "metadata": {},
   "outputs": [],
   "source": [
    "#Custom Transformer that extracts columns passed as argument to its constructor \n",
    "class IntensityProba( BaseEstimator, TransformerMixin ):\n",
    "    #Class Constructor \n",
    "    def __init__( self, column_intensity, column_probability ):\n",
    "        self.column_intensity = column_intensity \n",
    "        self.column_probability = column_probability\n",
    "    \n",
    "    #Return self nothing else to do here    \n",
    "    def fit( self, X, y = None ):\n",
    "        \n",
    "        return self \n",
    "    \n",
    "    #Method that describes what we need this transformer to do\n",
    "    def transform( self, X, y = None ):\n",
    "        X.loc[:,'precip_intensity_probability'] = X[self.column_intensity] * X[self.column_probability]\n",
    "        return X.drop([self.column_intensity, self.column_probability], axis=1)"
   ]
  },
  {
   "cell_type": "code",
   "execution_count": 25,
   "metadata": {},
   "outputs": [],
   "source": [
    "#Custom Transformer that extracts columns passed as argument to its constructor \n",
    "class CyclicalGenerator( BaseEstimator, TransformerMixin ):\n",
    "    #Class Constructor \n",
    "    def __init__( self, column, period ):\n",
    "        self.column = column \n",
    "        self.period = period\n",
    "    \n",
    "    #Return self nothing else to do here    \n",
    "    def fit( self, X, y = None ):\n",
    "        \n",
    "        return self \n",
    "    \n",
    "    #Method that describes what we need this transformer to do\n",
    "    def transform( self, X, y = None ):\n",
    "        if X[self.column].min() != 0:\n",
    "            X.loc[:,f'{self.column}_sin'] = np.sin((X[self.column] - 1)*(2.*np.pi/self.period))\n",
    "            X.loc[:,f'{self.column}_cos'] = np.cos((X[self.column] - 1)*(2.*np.pi/self.period))\n",
    "        else:\n",
    "            X.loc[:,f'{self.column}_sin'] = np.sin((X[self.column])*(2.*np.pi/self.period))\n",
    "            X.loc[:,f'{self.column}_cos'] = np.cos((X[self.column])*(2.*np.pi/self.period))\n",
    "\n",
    "        return X.drop(self.column, axis=1)"
   ]
  },
  {
   "cell_type": "code",
   "execution_count": 26,
   "metadata": {},
   "outputs": [],
   "source": [
    "class ExtractDateParts( BaseEstimator, TransformerMixin ):\n",
    "    #Class Constructor \n",
    "    def __init__( self, datime_column):\n",
    "        self.datime_column = datime_column \n",
    "    \n",
    "    #Return self nothing else to do here    \n",
    "    def fit( self, X, y = None ):\n",
    "        \n",
    "        return self \n",
    "    \n",
    "    #Method that describes what we need this transformer to do\n",
    "    def transform( self, X, y = None ):\n",
    "        X.loc[:,'day_of_year'] = pd.to_datetime(X[self.datime_column]).dt.dayofyear\n",
    "        X.loc[:,'day_of_week'] = pd.to_datetime(X[self.datime_column]).dt.dayofweek\n",
    "        X.loc[:,'month'] = pd.to_datetime(X[self.datime_column]).dt.month\n",
    "        X.loc[:,'hour'] = pd.to_datetime(X[self.datime_column]).dt.hour\n",
    "  \n",
    "        return   X.drop(self.datime_column, axis=1)"
   ]
  },
  {
   "cell_type": "code",
   "execution_count": 27,
   "metadata": {},
   "outputs": [],
   "source": [
    "cols_front_end = ['x', 'y','timestamp']\n",
    "cols_to_keep_weather = [ \n",
    "       'precipIntensity', 'precipProbability', 'temperature', \n",
    "       'dewPoint', 'humidity', 'windSpeed',\n",
    "       'cloudCover', 'uvIndex', 'visibility',\n",
    "       'pressure', 'ozone']\n",
    "cols_to_keep = cols_front_end + cols_to_keep_weather\n",
    "target_feature = ['sample_type']"
   ]
  },
  {
   "cell_type": "code",
   "execution_count": 28,
   "metadata": {},
   "outputs": [],
   "source": [
    "pipeline_preprocess = Pipeline([\n",
    "    ('select_cols', FeatureSelector(cols_to_keep)),\n",
    "    ('date_parts', ExtractDateParts('timestamp')),\n",
    "    ('cyclical_hour', CyclicalGenerator('hour', 24)),\n",
    "    ('cyclical_dow', CyclicalGenerator('day_of_week', 12)),\n",
    "    ('cyclical_month', CyclicalGenerator('month', 24)),\n",
    "    ('cyclical_doy', CyclicalGenerator('day_of_year', 24) ),\n",
    "    ('intesity_proba', IntensityProba('precipIntensity', 'precipProbability')),\n",
    "])\n",
    "\n",
    "data_prepared_df = pipeline_preprocess.fit_transform(data)"
   ]
  },
  {
   "cell_type": "code",
   "execution_count": 29,
   "metadata": {},
   "outputs": [
    {
     "data": {
      "text/html": [
       "<div>\n",
       "<style scoped>\n",
       "    .dataframe tbody tr th:only-of-type {\n",
       "        vertical-align: middle;\n",
       "    }\n",
       "\n",
       "    .dataframe tbody tr th {\n",
       "        vertical-align: top;\n",
       "    }\n",
       "\n",
       "    .dataframe thead th {\n",
       "        text-align: right;\n",
       "    }\n",
       "</style>\n",
       "<table border=\"1\" class=\"dataframe\">\n",
       "  <thead>\n",
       "    <tr style=\"text-align: right;\">\n",
       "      <th></th>\n",
       "      <th>x</th>\n",
       "      <th>y</th>\n",
       "      <th>temperature</th>\n",
       "      <th>dewPoint</th>\n",
       "      <th>humidity</th>\n",
       "      <th>windSpeed</th>\n",
       "      <th>cloudCover</th>\n",
       "      <th>uvIndex</th>\n",
       "      <th>visibility</th>\n",
       "      <th>pressure</th>\n",
       "      <th>ozone</th>\n",
       "      <th>hour_sin</th>\n",
       "      <th>hour_cos</th>\n",
       "      <th>day_of_week_sin</th>\n",
       "      <th>day_of_week_cos</th>\n",
       "      <th>month_sin</th>\n",
       "      <th>month_cos</th>\n",
       "      <th>day_of_year_sin</th>\n",
       "      <th>day_of_year_cos</th>\n",
       "      <th>precip_intensity_probability</th>\n",
       "    </tr>\n",
       "  </thead>\n",
       "  <tbody>\n",
       "    <tr>\n",
       "      <th>0</th>\n",
       "      <td>-74.154268</td>\n",
       "      <td>4.622942</td>\n",
       "      <td>14.62</td>\n",
       "      <td>12.92</td>\n",
       "      <td>0.90</td>\n",
       "      <td>1.48</td>\n",
       "      <td>0.74</td>\n",
       "      <td>5.0</td>\n",
       "      <td>8.278</td>\n",
       "      <td>1015.4</td>\n",
       "      <td>268.4</td>\n",
       "      <td>-0.500000</td>\n",
       "      <td>-0.866025</td>\n",
       "      <td>0.866025</td>\n",
       "      <td>-0.500000</td>\n",
       "      <td>0.866025</td>\n",
       "      <td>-0.5</td>\n",
       "      <td>-0.866025</td>\n",
       "      <td>-0.500000</td>\n",
       "      <td>0.087780</td>\n",
       "    </tr>\n",
       "    <tr>\n",
       "      <th>1</th>\n",
       "      <td>-74.051403</td>\n",
       "      <td>4.722273</td>\n",
       "      <td>19.41</td>\n",
       "      <td>12.60</td>\n",
       "      <td>0.65</td>\n",
       "      <td>2.33</td>\n",
       "      <td>0.71</td>\n",
       "      <td>8.0</td>\n",
       "      <td>16.093</td>\n",
       "      <td>1013.1</td>\n",
       "      <td>266.2</td>\n",
       "      <td>-0.707107</td>\n",
       "      <td>-0.707107</td>\n",
       "      <td>0.500000</td>\n",
       "      <td>-0.866025</td>\n",
       "      <td>0.866025</td>\n",
       "      <td>-0.5</td>\n",
       "      <td>0.965926</td>\n",
       "      <td>-0.258819</td>\n",
       "      <td>0.016709</td>\n",
       "    </tr>\n",
       "  </tbody>\n",
       "</table>\n",
       "</div>"
      ],
      "text/plain": [
       "           x         y  temperature  dewPoint  humidity  windSpeed  \\\n",
       "0 -74.154268  4.622942        14.62     12.92      0.90       1.48   \n",
       "1 -74.051403  4.722273        19.41     12.60      0.65       2.33   \n",
       "\n",
       "   cloudCover  uvIndex  visibility  pressure  ozone  hour_sin  hour_cos  \\\n",
       "0        0.74      5.0       8.278    1015.4  268.4 -0.500000 -0.866025   \n",
       "1        0.71      8.0      16.093    1013.1  266.2 -0.707107 -0.707107   \n",
       "\n",
       "   day_of_week_sin  day_of_week_cos  month_sin  month_cos  day_of_year_sin  \\\n",
       "0         0.866025        -0.500000   0.866025       -0.5        -0.866025   \n",
       "1         0.500000        -0.866025   0.866025       -0.5         0.965926   \n",
       "\n",
       "   day_of_year_cos  precip_intensity_probability  \n",
       "0        -0.500000                      0.087780  \n",
       "1        -0.258819                      0.016709  "
      ]
     },
     "execution_count": 29,
     "metadata": {},
     "output_type": "execute_result"
    }
   ],
   "source": [
    "data_prepared_df.head(2)"
   ]
  },
  {
   "cell_type": "code",
   "execution_count": 30,
   "metadata": {},
   "outputs": [],
   "source": [
    "full_pipeline = Pipeline([\n",
    "    ('preprocess', pipeline_preprocess),\n",
    "    ('scaler', MinMaxScaler()),\n",
    "])"
   ]
  },
  {
   "cell_type": "code",
   "execution_count": 31,
   "metadata": {},
   "outputs": [],
   "source": [
    "data_prepared = full_pipeline.fit_transform(data)"
   ]
  },
  {
   "cell_type": "code",
   "execution_count": 32,
   "metadata": {},
   "outputs": [],
   "source": [
    "data_prepared\n",
    "labels = data[target_feature].values"
   ]
  },
  {
   "cell_type": "markdown",
   "metadata": {},
   "source": [
    "## Model"
   ]
  },
  {
   "cell_type": "code",
   "execution_count": 38,
   "metadata": {},
   "outputs": [],
   "source": [
    "data_dmatrix = xgboost.DMatrix(data_prepared,label=labels,feature_names=data_prepared_df.columns)"
   ]
  },
  {
   "cell_type": "code",
   "execution_count": 39,
   "metadata": {},
   "outputs": [],
   "source": [
    "X_train, X_test_val, y_train, y_test_val = train_test_split(data_prepared, labels, test_size=0.33, random_state = 42)\n",
    "X_test, X_val, y_test, y_val = train_test_split(X_test_val, y_test_val, test_size=0.33, random_state = 42)"
   ]
  },
  {
   "cell_type": "code",
   "execution_count": 96,
   "metadata": {},
   "outputs": [
    {
     "name": "stdout",
     "output_type": "stream",
     "text": [
      "\n",
      "VALIDATION\n",
      "\n",
      "Cohen kappa score 0.2102\n",
      "F1 score 0.5674\n",
      "Average precision score 0.4813\n",
      "              precision    recall  f1-score   support\n",
      "\n",
      "non-accident       0.59      0.69      0.64      4369\n",
      "    accident       0.62      0.52      0.57      4303\n",
      "\n",
      "    accuracy                           0.61      8672\n",
      "   macro avg       0.61      0.60      0.60      8672\n",
      "weighted avg       0.61      0.61      0.60      8672\n",
      "\n",
      "\n",
      "TEST\n",
      "\n",
      "Cohen kappa score test 0.2019\n",
      "F1 score test 0.5632\n",
      "Average Test precision score 0.4773\n",
      "              precision    recall  f1-score   support\n",
      "\n",
      "non-accident       0.59      0.69      0.63      8828\n",
      "    accident       0.62      0.52      0.56      8778\n",
      "\n",
      "    accuracy                           0.60     17606\n",
      "   macro avg       0.60      0.60      0.60     17606\n",
      "weighted avg       0.60      0.60      0.60     17606\n",
      "\n",
      "Test AUC: 0.6009167453584738\n"
     ]
    }
   ],
   "source": [
    "params = {'subsample': 0.8,\n",
    " 'n_estimators': 300,\n",
    " 'min_child_weight': 5,\n",
    " 'max_depth': 8,\n",
    " 'learning_rate': 0.1,\n",
    " 'gamma': 0.5,\n",
    " 'colsample_bytree': 0.8}\n",
    "booster = xgboost.XGBClassifier(subsample=0.8, n_estimators=300, min_child_weight=5, max_depth=8, learning_rate=0.1, gamma=0.5, colsample_bytree=0.8)\n",
    "booster.fit(X_train, y_train.ravel())\n",
    "\n",
    "categories = ['non-accident', 'accident']\n",
    "\n",
    "\n",
    "y_pred_val = np.round(booster.predict(X_val))\n",
    "print('\\nVALIDATION\\n')\n",
    "print('Cohen kappa score {:.4f}'.format(cohen_kappa_score(y_pred_val, y_val)))\n",
    "print('F1 score {:.4f}'.format(f1_score(y_pred_val, y_val)))\n",
    "print('Average precision score {:.4f}'.format(average_precision_score(y_pred_val, y_val)))\n",
    "print(classification_report(y_val, y_pred_val, target_names=categories))\n",
    "y_pred_test = booster.predict(X_test)\n",
    "print('\\nTEST\\n')\n",
    "print('Cohen kappa score test {:.4f}'.format(cohen_kappa_score(y_pred_test, y_test)))\n",
    "print('F1 score test {:.4f}'.format(f1_score(y_pred_test, y_test)))\n",
    "print('Average Test precision score {:.4f}'.format(average_precision_score(y_pred_test, y_test)))\n",
    "print(classification_report(y_test, y_pred_test, target_names=categories))\n",
    "print ('Test AUC:',roc_auc_score(y_test,y_pred_test))\n"
   ]
  },
  {
   "cell_type": "code",
   "execution_count": 84,
   "metadata": {},
   "outputs": [
    {
     "data": {
      "text/plain": [
       "array([[0.526821  , 0.47317898],\n",
       "       [0.58969253, 0.41030747],\n",
       "       [0.4631794 , 0.5368206 ],\n",
       "       ...,\n",
       "       [0.67648065, 0.32351938],\n",
       "       [0.5509752 , 0.44902483],\n",
       "       [0.5456271 , 0.45437285]], dtype=float32)"
      ]
     },
     "execution_count": 84,
     "metadata": {},
     "output_type": "execute_result"
    }
   ],
   "source": [
    "booster.predict_proba(X_val)"
   ]
  },
  {
   "cell_type": "code",
   "execution_count": 100,
   "metadata": {},
   "outputs": [
    {
     "data": {
      "text/plain": [
       "['finalized_model.sav']"
      ]
     },
     "execution_count": 100,
     "metadata": {},
     "output_type": "execute_result"
    }
   ],
   "source": [
    "import joblib\n",
    "# save the model to disk\n",
    "filename = 'finalized_model.sav'\n",
    "joblib.dump(booster, filename)"
   ]
  },
  {
   "cell_type": "code",
   "execution_count": 97,
   "metadata": {},
   "outputs": [
    {
     "name": "stdout",
     "output_type": "stream",
     "text": [
      "[19:14:45] WARNING: /workspace/src/learner.cc:480: \n",
      "Parameters: { n_estimators } might not be used.\n",
      "\n",
      "  This may not be accurate due to some parameters are only used in language bindings but\n",
      "  passed down to XGBoost core.  Or some parameters are not used but slip through this\n",
      "  verification. Please open an issue if you find above cases.\n",
      "\n",
      "\n",
      "[19:14:45] WARNING: /workspace/src/learner.cc:480: \n",
      "Parameters: { n_estimators } might not be used.\n",
      "\n",
      "  This may not be accurate due to some parameters are only used in language bindings but\n",
      "  passed down to XGBoost core.  Or some parameters are not used but slip through this\n",
      "  verification. Please open an issue if you find above cases.\n",
      "\n",
      "\n",
      "[19:14:45] WARNING: /workspace/src/learner.cc:480: \n",
      "Parameters: { n_estimators } might not be used.\n",
      "\n",
      "  This may not be accurate due to some parameters are only used in language bindings but\n",
      "  passed down to XGBoost core.  Or some parameters are not used but slip through this\n",
      "  verification. Please open an issue if you find above cases.\n",
      "\n",
      "\n",
      "[19:14:45] WARNING: /workspace/src/learner.cc:480: \n",
      "Parameters: { n_estimators } might not be used.\n",
      "\n",
      "  This may not be accurate due to some parameters are only used in language bindings but\n",
      "  passed down to XGBoost core.  Or some parameters are not used but slip through this\n",
      "  verification. Please open an issue if you find above cases.\n",
      "\n",
      "\n",
      "[19:14:45] WARNING: /workspace/src/learner.cc:480: \n",
      "Parameters: { n_estimators } might not be used.\n",
      "\n",
      "  This may not be accurate due to some parameters are only used in language bindings but\n",
      "  passed down to XGBoost core.  Or some parameters are not used but slip through this\n",
      "  verification. Please open an issue if you find above cases.\n",
      "\n",
      "\n",
      "[19:14:45] WARNING: /workspace/src/learner.cc:480: \n",
      "Parameters: { n_estimators } might not be used.\n",
      "\n",
      "  This may not be accurate due to some parameters are only used in language bindings but\n",
      "  passed down to XGBoost core.  Or some parameters are not used but slip through this\n",
      "  verification. Please open an issue if you find above cases.\n",
      "\n",
      "\n",
      "[19:14:46] WARNING: /workspace/src/learner.cc:480: \n",
      "Parameters: { n_estimators } might not be used.\n",
      "\n",
      "  This may not be accurate due to some parameters are only used in language bindings but\n",
      "  passed down to XGBoost core.  Or some parameters are not used but slip through this\n",
      "  verification. Please open an issue if you find above cases.\n",
      "\n",
      "\n",
      "[19:14:46] WARNING: /workspace/src/learner.cc:480: \n",
      "Parameters: { n_estimators } might not be used.\n",
      "\n",
      "  This may not be accurate due to some parameters are only used in language bindings but\n",
      "  passed down to XGBoost core.  Or some parameters are not used but slip through this\n",
      "  verification. Please open an issue if you find above cases.\n",
      "\n",
      "\n",
      "[19:14:46] WARNING: /workspace/src/learner.cc:480: \n",
      "Parameters: { n_estimators } might not be used.\n",
      "\n",
      "  This may not be accurate due to some parameters are only used in language bindings but\n",
      "  passed down to XGBoost core.  Or some parameters are not used but slip through this\n",
      "  verification. Please open an issue if you find above cases.\n",
      "\n",
      "\n",
      "[19:14:47] WARNING: /workspace/src/learner.cc:480: \n",
      "Parameters: { n_estimators } might not be used.\n",
      "\n",
      "  This may not be accurate due to some parameters are only used in language bindings but\n",
      "  passed down to XGBoost core.  Or some parameters are not used but slip through this\n",
      "  verification. Please open an issue if you find above cases.\n",
      "\n",
      "\n"
     ]
    }
   ],
   "source": [
    " #{\"objective\":\"reg:logistic\",'learning_rate': 0.2, 'gamma': 0.1, 'max_depth': 10, 'alpha': 0.1}\n",
    "params = {'subsample': 0.8,\n",
    " 'n_estimators': 300,\n",
    " 'min_child_weight': 5,\n",
    " 'max_depth': 8,\n",
    " 'learning_rate': 0.1,\n",
    " 'gamma': 0.5,\n",
    " 'colsample_bytree': 0.8}\n",
    "\n",
    "cv_results = xgboost.cv(dtrain=data_dmatrix, params=params, nfold=10,\n",
    "                    num_boost_round=100, early_stopping_rounds=10, metrics=\"auc\", as_pandas=True, seed=123)"
   ]
  },
  {
   "cell_type": "code",
   "execution_count": 99,
   "metadata": {},
   "outputs": [
    {
     "data": {
      "text/html": [
       "<div>\n",
       "<style scoped>\n",
       "    .dataframe tbody tr th:only-of-type {\n",
       "        vertical-align: middle;\n",
       "    }\n",
       "\n",
       "    .dataframe tbody tr th {\n",
       "        vertical-align: top;\n",
       "    }\n",
       "\n",
       "    .dataframe thead th {\n",
       "        text-align: right;\n",
       "    }\n",
       "</style>\n",
       "<table border=\"1\" class=\"dataframe\">\n",
       "  <thead>\n",
       "    <tr style=\"text-align: right;\">\n",
       "      <th></th>\n",
       "      <th>train-auc-mean</th>\n",
       "      <th>train-auc-std</th>\n",
       "      <th>test-auc-mean</th>\n",
       "      <th>test-auc-std</th>\n",
       "    </tr>\n",
       "  </thead>\n",
       "  <tbody>\n",
       "    <tr>\n",
       "      <th>0</th>\n",
       "      <td>0.646881</td>\n",
       "      <td>0.004379</td>\n",
       "      <td>0.622312</td>\n",
       "      <td>0.008847</td>\n",
       "    </tr>\n",
       "    <tr>\n",
       "      <th>1</th>\n",
       "      <td>0.666395</td>\n",
       "      <td>0.006661</td>\n",
       "      <td>0.631853</td>\n",
       "      <td>0.014237</td>\n",
       "    </tr>\n",
       "    <tr>\n",
       "      <th>2</th>\n",
       "      <td>0.680153</td>\n",
       "      <td>0.004758</td>\n",
       "      <td>0.639974</td>\n",
       "      <td>0.008108</td>\n",
       "    </tr>\n",
       "    <tr>\n",
       "      <th>3</th>\n",
       "      <td>0.688257</td>\n",
       "      <td>0.005093</td>\n",
       "      <td>0.646685</td>\n",
       "      <td>0.007413</td>\n",
       "    </tr>\n",
       "    <tr>\n",
       "      <th>4</th>\n",
       "      <td>0.694338</td>\n",
       "      <td>0.002562</td>\n",
       "      <td>0.649975</td>\n",
       "      <td>0.007301</td>\n",
       "    </tr>\n",
       "    <tr>\n",
       "      <th>5</th>\n",
       "      <td>0.700488</td>\n",
       "      <td>0.002509</td>\n",
       "      <td>0.652851</td>\n",
       "      <td>0.006495</td>\n",
       "    </tr>\n",
       "    <tr>\n",
       "      <th>6</th>\n",
       "      <td>0.707332</td>\n",
       "      <td>0.003042</td>\n",
       "      <td>0.655970</td>\n",
       "      <td>0.006922</td>\n",
       "    </tr>\n",
       "    <tr>\n",
       "      <th>7</th>\n",
       "      <td>0.711299</td>\n",
       "      <td>0.003470</td>\n",
       "      <td>0.656983</td>\n",
       "      <td>0.007161</td>\n",
       "    </tr>\n",
       "    <tr>\n",
       "      <th>8</th>\n",
       "      <td>0.715827</td>\n",
       "      <td>0.004246</td>\n",
       "      <td>0.658942</td>\n",
       "      <td>0.006509</td>\n",
       "    </tr>\n",
       "    <tr>\n",
       "      <th>9</th>\n",
       "      <td>0.720644</td>\n",
       "      <td>0.004114</td>\n",
       "      <td>0.659667</td>\n",
       "      <td>0.006476</td>\n",
       "    </tr>\n",
       "    <tr>\n",
       "      <th>10</th>\n",
       "      <td>0.724418</td>\n",
       "      <td>0.004199</td>\n",
       "      <td>0.660441</td>\n",
       "      <td>0.006064</td>\n",
       "    </tr>\n",
       "    <tr>\n",
       "      <th>11</th>\n",
       "      <td>0.727610</td>\n",
       "      <td>0.004611</td>\n",
       "      <td>0.661141</td>\n",
       "      <td>0.005769</td>\n",
       "    </tr>\n",
       "    <tr>\n",
       "      <th>12</th>\n",
       "      <td>0.730917</td>\n",
       "      <td>0.004235</td>\n",
       "      <td>0.661319</td>\n",
       "      <td>0.005734</td>\n",
       "    </tr>\n",
       "    <tr>\n",
       "      <th>13</th>\n",
       "      <td>0.733584</td>\n",
       "      <td>0.003657</td>\n",
       "      <td>0.662205</td>\n",
       "      <td>0.005663</td>\n",
       "    </tr>\n",
       "    <tr>\n",
       "      <th>14</th>\n",
       "      <td>0.735654</td>\n",
       "      <td>0.003846</td>\n",
       "      <td>0.662656</td>\n",
       "      <td>0.005510</td>\n",
       "    </tr>\n",
       "    <tr>\n",
       "      <th>15</th>\n",
       "      <td>0.738481</td>\n",
       "      <td>0.003790</td>\n",
       "      <td>0.662269</td>\n",
       "      <td>0.005440</td>\n",
       "    </tr>\n",
       "    <tr>\n",
       "      <th>16</th>\n",
       "      <td>0.741334</td>\n",
       "      <td>0.003828</td>\n",
       "      <td>0.662558</td>\n",
       "      <td>0.005418</td>\n",
       "    </tr>\n",
       "    <tr>\n",
       "      <th>17</th>\n",
       "      <td>0.743898</td>\n",
       "      <td>0.003894</td>\n",
       "      <td>0.663484</td>\n",
       "      <td>0.005539</td>\n",
       "    </tr>\n",
       "    <tr>\n",
       "      <th>18</th>\n",
       "      <td>0.746155</td>\n",
       "      <td>0.003635</td>\n",
       "      <td>0.663799</td>\n",
       "      <td>0.005565</td>\n",
       "    </tr>\n",
       "    <tr>\n",
       "      <th>19</th>\n",
       "      <td>0.748469</td>\n",
       "      <td>0.003390</td>\n",
       "      <td>0.663990</td>\n",
       "      <td>0.005183</td>\n",
       "    </tr>\n",
       "    <tr>\n",
       "      <th>20</th>\n",
       "      <td>0.750547</td>\n",
       "      <td>0.003352</td>\n",
       "      <td>0.664138</td>\n",
       "      <td>0.004996</td>\n",
       "    </tr>\n",
       "    <tr>\n",
       "      <th>21</th>\n",
       "      <td>0.752964</td>\n",
       "      <td>0.002933</td>\n",
       "      <td>0.664085</td>\n",
       "      <td>0.005215</td>\n",
       "    </tr>\n",
       "    <tr>\n",
       "      <th>22</th>\n",
       "      <td>0.753943</td>\n",
       "      <td>0.003258</td>\n",
       "      <td>0.664074</td>\n",
       "      <td>0.005262</td>\n",
       "    </tr>\n",
       "    <tr>\n",
       "      <th>23</th>\n",
       "      <td>0.755438</td>\n",
       "      <td>0.003048</td>\n",
       "      <td>0.664301</td>\n",
       "      <td>0.005308</td>\n",
       "    </tr>\n",
       "  </tbody>\n",
       "</table>\n",
       "</div>"
      ],
      "text/plain": [
       "    train-auc-mean  train-auc-std  test-auc-mean  test-auc-std\n",
       "0         0.646881       0.004379       0.622312      0.008847\n",
       "1         0.666395       0.006661       0.631853      0.014237\n",
       "2         0.680153       0.004758       0.639974      0.008108\n",
       "3         0.688257       0.005093       0.646685      0.007413\n",
       "4         0.694338       0.002562       0.649975      0.007301\n",
       "5         0.700488       0.002509       0.652851      0.006495\n",
       "6         0.707332       0.003042       0.655970      0.006922\n",
       "7         0.711299       0.003470       0.656983      0.007161\n",
       "8         0.715827       0.004246       0.658942      0.006509\n",
       "9         0.720644       0.004114       0.659667      0.006476\n",
       "10        0.724418       0.004199       0.660441      0.006064\n",
       "11        0.727610       0.004611       0.661141      0.005769\n",
       "12        0.730917       0.004235       0.661319      0.005734\n",
       "13        0.733584       0.003657       0.662205      0.005663\n",
       "14        0.735654       0.003846       0.662656      0.005510\n",
       "15        0.738481       0.003790       0.662269      0.005440\n",
       "16        0.741334       0.003828       0.662558      0.005418\n",
       "17        0.743898       0.003894       0.663484      0.005539\n",
       "18        0.746155       0.003635       0.663799      0.005565\n",
       "19        0.748469       0.003390       0.663990      0.005183\n",
       "20        0.750547       0.003352       0.664138      0.004996\n",
       "21        0.752964       0.002933       0.664085      0.005215\n",
       "22        0.753943       0.003258       0.664074      0.005262\n",
       "23        0.755438       0.003048       0.664301      0.005308"
      ]
     },
     "execution_count": 99,
     "metadata": {},
     "output_type": "execute_result"
    }
   ],
   "source": [
    "cv_results"
   ]
  },
  {
   "cell_type": "code",
   "execution_count": 94,
   "metadata": {},
   "outputs": [
    {
     "name": "stdout",
     "output_type": "stream",
     "text": [
      "[17:20:08] WARNING: /workspace/src/learner.cc:480: \n",
      "Parameters: { n_estimators } might not be used.\n",
      "\n",
      "  This may not be accurate due to some parameters are only used in language bindings but\n",
      "  passed down to XGBoost core.  Or some parameters are not used but slip through this\n",
      "  verification. Please open an issue if you find above cases.\n",
      "\n",
      "\n"
     ]
    },
    {
     "data": {
      "text/plain": [
       "<matplotlib.axes._subplots.AxesSubplot at 0x7fa965485250>"
      ]
     },
     "execution_count": 94,
     "metadata": {},
     "output_type": "execute_result"
    },
    {
     "data": {
      "image/png": "[encoded data removed]",
      "text/plain": [
       "<Figure size 1080x432 with 1 Axes>"
      ]
     },
     "metadata": {},
     "output_type": "display_data"
    }
   ],
   "source": [
    "xg_clf = xgboost.train(params=params, dtrain=data_dmatrix, num_boost_round=10)\n",
    "xgboost.plot_importance(xg_clf)"
   ]
  }
 ],
 "metadata": {
  "file_extension": ".py",
  "kernelspec": {
   "display_name": "Python 3.8.2 64-bit ('ds4a-project': conda)",
   "language": "python",
   "name": "python38264bitds4aprojectcondae0f55255db9a456ea22c31180c5c6b0c"
  },
  "language_info": {
   "codemirror_mode": {
    "name": "ipython",
    "version": 3
   },
   "file_extension": ".py",
   "mimetype": "text/x-python",
   "name": "python",
   "nbconvert_exporter": "python",
   "pygments_lexer": "ipython3",
   "version": "3.8.2"
  },
  "mimetype": "text/x-python",
  "name": "python",
  "npconvert_exporter": "python",
  "pygments_lexer": "ipython3",
  "version": 3
 },
 "nbformat": 4,
 "nbformat_minor": 2
}
