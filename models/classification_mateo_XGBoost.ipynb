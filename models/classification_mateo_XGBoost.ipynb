{
 "cells": [
  {
   "cell_type": "code",
   "execution_count": 1,
   "metadata": {},
   "outputs": [],
   "source": [
    "import pandas as pd\n",
    "import numpy as np\n",
    "import seaborn as sns\n",
    "import matplotlib.pyplot as plt\n",
    "import matplotlib as mpl\n",
    "\n",
    "from sklearn.model_selection import train_test_split\n",
    "from sklearn.metrics import accuracy_score, confusion_matrix, f1_score, cohen_kappa_score, classification_report , roc_curve, roc_auc_score, average_precision_score\n",
    "from sklearn.model_selection import KFold, StratifiedKFold, cross_val_score\n",
    "from sklearn.ensemble import RandomForestClassifier\n",
    "from sklearn.preprocessing import MinMaxScaler\n",
    "from sklearn.pipeline import Pipeline\n",
    "from sklearn.base import BaseEstimator, TransformerMixin\n",
    "import xgboost"
   ]
  },
  {
   "cell_type": "code",
   "execution_count": 2,
   "metadata": {},
   "outputs": [],
   "source": [
    "# set matplotlib defaults\n",
    "%matplotlib inline\n",
    "sns.set()\n",
    "plt.rcParams[\"figure.figsize\"] = (15,6)\n",
    "mpl.rc('axes', labelsize=18)\n",
    "mpl.rc('xtick', labelsize=16)\n",
    "mpl.rc('ytick', labelsize=16)\n",
    "plt.rc('figure', titlesize=18)\n",
    "plt.style.use('seaborn-darkgrid')"
   ]
  },
  {
   "cell_type": "code",
   "execution_count": 4,
   "metadata": {},
   "outputs": [
    {
     "name": "stderr",
     "output_type": "stream",
     "text": [
      "/home/juan/anaconda3/envs/ds4a/lib/python3.8/site-packages/IPython/core/interactiveshell.py:3062: DtypeWarning: Columns (11,12) have mixed types.Specify dtype option on import or set low_memory=False.\n",
      "  has_raised = await self.run_ast_nodes(code_ast.body, cell_name,\n"
     ]
    }
   ],
   "source": [
    "data_2018 = pd.read_csv(\"../data/dataset_2018_with_negatives.csv\")\n",
    "data_2019 = pd.read_csv(\"../data/dataset_2019_with_negatives.csv\")"
   ]
  },
  {
   "cell_type": "code",
   "execution_count": 8,
   "metadata": {},
   "outputs": [],
   "source": [
    "# data_2018 = data_2018[(data_2018.summary.notnull())  & (data_2018.month > 8)]\n",
    "data_2018 = data_2018[data_2018['summary'].isnull() == False]"
   ]
  },
  {
   "cell_type": "code",
   "execution_count": 9,
   "metadata": {},
   "outputs": [
    {
     "name": "stdout",
     "output_type": "stream",
     "text": [
      "(58133, 40) (49101, 40)\n"
     ]
    }
   ],
   "source": [
    "print(data_2019.shape, data_2018.shape)"
   ]
  },
  {
   "cell_type": "code",
   "execution_count": 10,
   "metadata": {},
   "outputs": [],
   "source": [
    "data = pd.concat([data_2018, data_2019])"
   ]
  },
  {
   "cell_type": "code",
   "execution_count": 11,
   "metadata": {},
   "outputs": [],
   "source": [
    "# data = pd.get_dummies(data, columns=['summary'])"
   ]
  },
  {
   "cell_type": "code",
   "execution_count": 12,
   "metadata": {},
   "outputs": [],
   "source": [
    "# data.drop(['year', 'precipAccumulation', 'timestamp', 'date', 'address', \n",
    "#            'severity', 'accident_type','severity_numeric','borough_id',\n",
    "#           'timestamp_darksky', 'summary', 'icon','precipType'], axis=1, inplace=True)"
   ]
  },
  {
   "cell_type": "code",
   "execution_count": 11,
   "metadata": {},
   "outputs": [
    {
     "data": {
      "text/plain": [
       "RangeIndex(start=0, stop=107234, step=1)"
      ]
     },
     "execution_count": 11,
     "metadata": {},
     "output_type": "execute_result"
    }
   ],
   "source": [
    "data.reset_index(drop=True, inplace=True)\n",
    "data.index"
   ]
  },
  {
   "cell_type": "code",
   "execution_count": 14,
   "metadata": {},
   "outputs": [
    {
     "data": {
      "text/plain": [
       "Index(['x', 'y', 'timestamp', 'date', 'year', 'month', 'day', 'day_of_year',\n",
       "       'day_of_week', 'hour', 'address', 'severity', 'accident_type',\n",
       "       'severity_numeric', 'borough', 'cluster_id', 'sample_type',\n",
       "       'borough_id', 'area_km2', 'population', 'population_density',\n",
       "       'timestamp_darksky', 'summary', 'icon', 'precipIntensity',\n",
       "       'precipProbability', 'temperature', 'apparentTemperature', 'dewPoint',\n",
       "       'humidity', 'windSpeed', 'cloudCover', 'uvIndex', 'visibility',\n",
       "       'windBearing', 'windGust', 'pressure', 'precipType', 'ozone',\n",
       "       'precipAccumulation'],\n",
       "      dtype='object')"
      ]
     },
     "execution_count": 14,
     "metadata": {},
     "output_type": "execute_result"
    }
   ],
   "source": [
    "data.columns"
   ]
  },
  {
   "cell_type": "code",
   "execution_count": 15,
   "metadata": {},
   "outputs": [
    {
     "name": "stdout",
     "output_type": "stream",
     "text": [
      "<class 'pandas.core.frame.DataFrame'>\n",
      "RangeIndex: 79629 entries, 0 to 79628\n",
      "Data columns (total 40 columns):\n",
      " #   Column               Non-Null Count  Dtype  \n",
      "---  ------               --------------  -----  \n",
      " 0   x                    79629 non-null  float64\n",
      " 1   y                    79629 non-null  float64\n",
      " 2   timestamp            79629 non-null  object \n",
      " 3   date                 79629 non-null  object \n",
      " 4   year                 79629 non-null  int64  \n",
      " 5   month                79629 non-null  int64  \n",
      " 6   day                  79629 non-null  int64  \n",
      " 7   day_of_year          79629 non-null  int64  \n",
      " 8   day_of_week          79629 non-null  int64  \n",
      " 9   hour                 79629 non-null  int64  \n",
      " 10  address              79629 non-null  object \n",
      " 11  severity             39792 non-null  object \n",
      " 12  accident_type        39792 non-null  object \n",
      " 13  severity_numeric     39792 non-null  float64\n",
      " 14  borough              79629 non-null  object \n",
      " 15  cluster_id           79629 non-null  int64  \n",
      " 16  sample_type          79629 non-null  int64  \n",
      " 17  borough_id           79629 non-null  int64  \n",
      " 18  area_km2             79629 non-null  float64\n",
      " 19  population           79629 non-null  int64  \n",
      " 20  population_density   79629 non-null  float64\n",
      " 21  timestamp_darksky    79629 non-null  object \n",
      " 22  summary              79629 non-null  object \n",
      " 23  icon                 79629 non-null  object \n",
      " 24  precipIntensity      79629 non-null  float64\n",
      " 25  precipProbability    79629 non-null  float64\n",
      " 26  temperature          79629 non-null  float64\n",
      " 27  apparentTemperature  79629 non-null  float64\n",
      " 28  dewPoint             79629 non-null  float64\n",
      " 29  humidity             79629 non-null  float64\n",
      " 30  windSpeed            79629 non-null  float64\n",
      " 31  cloudCover           79629 non-null  float64\n",
      " 32  uvIndex              79629 non-null  float64\n",
      " 33  visibility           79629 non-null  float64\n",
      " 34  windBearing          79629 non-null  float64\n",
      " 35  windGust             79629 non-null  float64\n",
      " 36  pressure             79629 non-null  float64\n",
      " 37  precipType           76796 non-null  object \n",
      " 38  ozone                79629 non-null  float64\n",
      " 39  precipAccumulation   1 non-null      float64\n",
      "dtypes: float64(20), int64(10), object(10)\n",
      "memory usage: 24.3+ MB\n"
     ]
    }
   ],
   "source": [
    "data.info()"
   ]
  },
  {
   "cell_type": "code",
   "execution_count": 12,
   "metadata": {},
   "outputs": [
    {
     "data": {
      "text/plain": [
       "month                day_of_year            0.997\n",
       "apparentTemperature  temperature            0.997\n",
       "day_of_year          month                  0.997\n",
       "temperature          apparentTemperature    0.997\n",
       "windGust             windSpeed              0.829\n",
       "windSpeed            windGust               0.829\n",
       "precipProbability    precipIntensity        0.822\n",
       "precipIntensity      precipProbability      0.822\n",
       "uvIndex              temperature            0.812\n",
       "temperature          uvIndex                0.812\n",
       "apparentTemperature  uvIndex                0.801\n",
       "uvIndex              apparentTemperature    0.801\n",
       "humidity             temperature            0.728\n",
       "temperature          humidity               0.728\n",
       "apparentTemperature  humidity               0.711\n",
       "humidity             apparentTemperature    0.711\n",
       "temperature          hour                   0.685\n",
       "hour                 temperature            0.685\n",
       "apparentTemperature  hour                   0.675\n",
       "hour                 apparentTemperature    0.675\n",
       "dtype: float64"
      ]
     },
     "execution_count": 12,
     "metadata": {},
     "output_type": "execute_result"
    }
   ],
   "source": [
    "corr = data.corr()\n",
    "c1 = corr.abs().unstack().round(3)\n",
    "c1<1\n",
    "c1[(c1<1) & (c1> 0.65)].sort_values(ascending = False)"
   ]
  },
  {
   "cell_type": "code",
   "execution_count": 13,
   "metadata": {},
   "outputs": [
    {
     "data": {
      "image/png": "[encoded data removed]",
      "text/plain": [
       "<Figure size 1008x1008 with 2 Axes>"
      ]
     },
     "metadata": {},
     "output_type": "display_data"
    }
   ],
   "source": [
    "plt.figure(figsize=(14,14))\n",
    "sns.heatmap(corr.where(np.tril(np.ones(corr.shape)).astype(np.bool)), cmap='coolwarm')\n",
    "plt.show()"
   ]
  },
  {
   "cell_type": "markdown",
   "metadata": {},
   "source": [
    "## Useful Functions"
   ]
  },
  {
   "cell_type": "code",
   "execution_count": 14,
   "metadata": {},
   "outputs": [],
   "source": [
    "def model_fit_predict(X_train, X_test, y_train, y_test, clf):\n",
    "    categories = ['non-accident', 'accident']\n",
    "    clf.fit(X_train, y_train)\n",
    "    scores = cross_val_score(clf, X_train, y_train, cv=5, scoring= 'roc_auc', n_jobs=-1)\n",
    "    print('ROC AUC: {:.2f} (+/- {:.3f} )'.format(scores.mean(), scores.std() * 2))\n",
    "\n",
    "    y_pred = clf.predict(X_test)\n",
    "    print('Cohen kappa score {:.4f}'.format(cohen_kappa_score(y_pred, y_test)))\n",
    "    print('F1 score {:.4f}'.format(f1_score(y_pred, y_test,)))\n",
    "    print('Average precision score {:.4f}'.format(average_precision_score(y_pred, y_test)))\n",
    "    print(classification_report(y_test, y_pred,target_names=categories))\n",
    "\n",
    "#     metric_names = ['f1', 'roc_auc', 'average_precision', 'accuracy', 'precision', 'recall']\n",
    "#     scores_df = pd.DataFrame(index=metric_names, columns=['Random-CV', 'Stratified-CV']) # to store the scores\n",
    "#     cv = KFold(n_splits=3)\n",
    "#     scv = StratifiedKFold(n_splits=3)\n",
    "#     for metric in metric_names:\n",
    "#         score1 = cross_val_score(clf, X_train, y_train, scoring=metric, cv=cv, n_jobs=-1).mean()\n",
    "#         score2 = cross_val_score(clf, X_train, y_train, scoring=metric, cv=scv, n_jobs=-1).mean()\n",
    "#         scores_df.loc[metric] = [score1, score2]\n",
    "#     print(scores_df)\n",
    "    y_pred_proba = clf.predict_proba(X_test)[:,1]\n",
    "\n",
    "    return clf, y_pred, y_pred_proba\n"
   ]
  },
  {
   "cell_type": "code",
   "execution_count": 15,
   "metadata": {},
   "outputs": [],
   "source": [
    "def model_plot(y_test, y_pred, y_pred_proba, model_name):\n",
    "    categories = ['non-accident', 'accident']\n",
    "    gs = mpl.gridspec.GridSpec(2, 2)\n",
    "\n",
    "    plt.figure(figsize=(14,10))\n",
    "    ax = plt.subplot(gs[0, 0]) # row 0, col 0\n",
    "    labels = [0,1]\n",
    "    cnf_mx = confusion_matrix(y_test,y_pred,labels=labels)\n",
    "    ax1 = sns.heatmap(cnf_mx, cmap='Blues',annot=True, fmt=\"d\")\n",
    "    plt.xticks([0.5,1.5],categories, rotation=0)\n",
    "    plt.yticks([0.5,1.5],categories, rotation=0)\n",
    "    plt.title(f'Confusion matrix {model_name}', fontsize=18)\n",
    "    plt.xlabel('Predicted label')\n",
    "    plt.ylabel('True label')\n",
    "\n",
    "    ax = plt.subplot(gs[0, 1]) # row 0, col 1\n",
    "    row_sums = cnf_mx.sum(axis=1, keepdims=True)\n",
    "    norm_cnf_mx = cnf_mx / row_sums\n",
    "    np.fill_diagonal(norm_cnf_mx, 0)\n",
    "    ax2 = sns.heatmap(norm_cnf_mx, cmap='Blues',annot=True, fmt=\".4%\")\n",
    "    plt.xticks([0.5,1.5],categories, rotation=0)\n",
    "    plt.yticks([0.5,1.5],categories, rotation=0)\n",
    "    plt.title(f'Error matrix {model_name}', fontsize=18)\n",
    "    plt.xlabel('Predicted label')\n",
    "\n",
    "    ax = plt.subplot(gs[1, :]) # row 1, span all columns\n",
    "    fpr, tpr, _ = roc_curve(y_test,  y_pred_proba)\n",
    "    auc = roc_auc_score(y_test, y_pred_proba)\n",
    "    # Display plot for AUC curve\n",
    "    ax3 = plt.plot(fpr,tpr,label= f\"{model_name}, auc={round(auc,4)}\")\n",
    "    ax3 = plt.plot([0, 1], [0, 1], color='darkorange', lw=2, linestyle='--')\n",
    "    plt.legend(fontsize=14)\n",
    "    plt.title(f\"ROC cuve: {model_name}\", fontsize= 18)\n",
    "    plt.tight_layout()\n",
    "    plt.show()"
   ]
  },
  {
   "cell_type": "code",
   "execution_count": 16,
   "metadata": {},
   "outputs": [],
   "source": [
    "def generate_cyclical_variables(df, column, period):\n",
    "    if df[column].min() != 0:\n",
    "        df[f'{column}_sin'] = np.sin((df[column] - 1)*(2.*np.pi/period))\n",
    "        df[f'{column}_cos'] = np.cos((df[column] - 1)*(2.*np.pi/period))\n",
    "    else:\n",
    "        df[f'{column}_sin'] = np.sin((df[column])*(2.*np.pi/period))\n",
    "        df[f'{column}_cos'] = np.cos((df[column])*(2.*np.pi/period))\n",
    "\n",
    "    return df"
   ]
  },
  {
   "cell_type": "code",
   "execution_count": 17,
   "metadata": {},
   "outputs": [],
   "source": [
    "def generate_precipitation_intensity(df, column_intensity, column_probability):\n",
    "    df['precip_intensity_probability'] = df.precipIntensity * df.precipProbability\n",
    "    return df"
   ]
  },
  {
   "cell_type": "code",
   "execution_count": 18,
   "metadata": {},
   "outputs": [],
   "source": [
    "# data = (data.pipe(generate_precipitation_intensity, column_intensity='precipIntensity', column_probability = 'precipProbability' )\n",
    "#  .pipe(generate_cyclical_variables, column='hour', period = 24)\n",
    "#  .pipe(generate_cyclical_variables, column='day_of_week', period = 7)\n",
    "#  .pipe(generate_cyclical_variables, column='month', period = 12)\n",
    "#  .pipe(generate_cyclical_variables, column='day_of_year', period = 365)\n",
    "# )"
   ]
  },
  {
   "cell_type": "code",
   "execution_count": 19,
   "metadata": {},
   "outputs": [],
   "source": [
    "#Custom Transformer that extracts columns passed as argument to its constructor \n",
    "class FeatureSelector( BaseEstimator, TransformerMixin ):\n",
    "    #Class Constructor \n",
    "    def __init__( self, feature_names ):\n",
    "        self._feature_names = feature_names \n",
    "    \n",
    "    #Return self nothing else to do here    \n",
    "    def fit( self, X, y = None ):\n",
    "        return self \n",
    "    \n",
    "    #Method that describes what we need this transformer to do\n",
    "    def transform( self, X, y = None ):\n",
    "        return X.loc[:,self._feature_names ] "
   ]
  },
  {
   "cell_type": "code",
   "execution_count": 20,
   "metadata": {},
   "outputs": [],
   "source": [
    "#Custom Transformer that extracts columns passed as argument to its constructor \n",
    "class IntensityProba( BaseEstimator, TransformerMixin ):\n",
    "    #Class Constructor \n",
    "    def __init__( self, column_intensity, column_probability ):\n",
    "        self.column_intensity = column_intensity \n",
    "        self.column_probability = column_probability\n",
    "    \n",
    "    #Return self nothing else to do here    \n",
    "    def fit( self, X, y = None ):\n",
    "        \n",
    "        return self \n",
    "    \n",
    "    #Method that describes what we need this transformer to do\n",
    "    def transform( self, X, y = None ):\n",
    "        X.loc[:,'precip_intensity_probability'] = X[self.column_intensity] * X[self.column_probability]\n",
    "        return X.drop([self.column_intensity, self.column_probability], axis=1)"
   ]
  },
  {
   "cell_type": "code",
   "execution_count": 21,
   "metadata": {},
   "outputs": [],
   "source": [
    "#Custom Transformer that extracts columns passed as argument to its constructor \n",
    "class CyclicalGenerator( BaseEstimator, TransformerMixin ):\n",
    "    #Class Constructor \n",
    "    def __init__( self, column, period ):\n",
    "        self.column = column \n",
    "        self.period = period\n",
    "    \n",
    "    #Return self nothing else to do here    \n",
    "    def fit( self, X, y = None ):\n",
    "        \n",
    "        return self \n",
    "    \n",
    "    #Method that describes what we need this transformer to do\n",
    "    def transform( self, X, y = None ):\n",
    "        if X[self.column].min() != 0:\n",
    "            X.loc[:,f'{self.column}_sin'] = np.sin((X[self.column] - 1)*(2.*np.pi/self.period))\n",
    "            X.loc[:,f'{self.column}_cos'] = np.cos((X[self.column] - 1)*(2.*np.pi/self.period))\n",
    "        else:\n",
    "            X.loc[:,f'{self.column}_sin'] = np.sin((X[self.column])*(2.*np.pi/self.period))\n",
    "            X.loc[:,f'{self.column}_cos'] = np.cos((X[self.column])*(2.*np.pi/self.period))\n",
    "\n",
    "        return X.drop(self.column, axis=1)"
   ]
  },
  {
   "cell_type": "code",
   "execution_count": 22,
   "metadata": {},
   "outputs": [],
   "source": [
    "class ExtractDateParts( BaseEstimator, TransformerMixin ):\n",
    "    #Class Constructor \n",
    "    def __init__( self, datime_column):\n",
    "        self.datime_column = datime_column \n",
    "    \n",
    "    #Return self nothing else to do here    \n",
    "    def fit( self, X, y = None ):\n",
    "        \n",
    "        return self \n",
    "    \n",
    "    #Method that describes what we need this transformer to do\n",
    "    def transform( self, X, y = None ):\n",
    "        X.loc[:,'day_of_year'] = pd.to_datetime(X[self.datime_column]).dt.dayofyear\n",
    "        X.loc[:,'day_of_week'] = pd.to_datetime(X[self.datime_column]).dt.dayofweek\n",
    "        X.loc[:,'month'] = pd.to_datetime(X[self.datime_column]).dt.month\n",
    "        X.loc[:,'hour'] = pd.to_datetime(X[self.datime_column]).dt.hour\n",
    "  \n",
    "        return   X.drop(self.datime_column, axis=1)"
   ]
  },
  {
   "cell_type": "code",
   "execution_count": 27,
   "metadata": {},
   "outputs": [],
   "source": [
    "cols_front_end = ['x', 'y','timestamp']\n",
    "cols_to_keep_weather = [ \n",
    "       'precipIntensity', 'precipProbability', 'temperature', \n",
    "       'dewPoint', 'humidity', 'windSpeed',\n",
    "       'cloudCover', 'uvIndex', 'visibility']\n",
    "       # 'pressure', 'ozone']\n",
    "cols_to_keep = cols_front_end + cols_to_keep_weather\n",
    "target_feature = ['sample_type']"
   ]
  },
  {
   "cell_type": "code",
   "execution_count": 28,
   "metadata": {},
   "outputs": [
    {
     "data": {
      "text/plain": [
       "['x',\n",
       " 'y',\n",
       " 'timestamp',\n",
       " 'precipIntensity',\n",
       " 'precipProbability',\n",
       " 'temperature',\n",
       " 'dewPoint',\n",
       " 'humidity',\n",
       " 'windSpeed',\n",
       " 'cloudCover',\n",
       " 'uvIndex',\n",
       " 'visibility']"
      ]
     },
     "execution_count": 28,
     "metadata": {},
     "output_type": "execute_result"
    }
   ],
   "source": [
    "cols_to_keep"
   ]
  },
  {
   "cell_type": "code",
   "execution_count": 29,
   "metadata": {},
   "outputs": [],
   "source": [
    "pipeline_preprocess = Pipeline([\n",
    "    ('select_cols', FeatureSelector(cols_to_keep)),\n",
    "    ('date_parts', ExtractDateParts('timestamp')),\n",
    "    ('cyclical_hour', CyclicalGenerator('hour', 24)),\n",
    "    ('cyclical_dow', CyclicalGenerator('day_of_week', 7)),\n",
    "    ('cyclical_month', CyclicalGenerator('month', 12)),\n",
    "    ('cyclical_doy', CyclicalGenerator('day_of_year', 365) ),\n",
    "    ('intesity_proba', IntensityProba('precipIntensity', 'precipProbability')),\n",
    "])\n",
    "\n",
    "data_prepared_df = pipeline_preprocess.fit_transform(data)"
   ]
  },
  {
   "cell_type": "code",
   "execution_count": 30,
   "metadata": {},
   "outputs": [
    {
     "data": {
      "text/html": [
       "<div>\n",
       "<style scoped>\n",
       "    .dataframe tbody tr th:only-of-type {\n",
       "        vertical-align: middle;\n",
       "    }\n",
       "\n",
       "    .dataframe tbody tr th {\n",
       "        vertical-align: top;\n",
       "    }\n",
       "\n",
       "    .dataframe thead th {\n",
       "        text-align: right;\n",
       "    }\n",
       "</style>\n",
       "<table border=\"1\" class=\"dataframe\">\n",
       "  <thead>\n",
       "    <tr style=\"text-align: right;\">\n",
       "      <th></th>\n",
       "      <th>x</th>\n",
       "      <th>y</th>\n",
       "      <th>temperature</th>\n",
       "      <th>dewPoint</th>\n",
       "      <th>humidity</th>\n",
       "      <th>windSpeed</th>\n",
       "      <th>cloudCover</th>\n",
       "      <th>uvIndex</th>\n",
       "      <th>visibility</th>\n",
       "      <th>hour_sin</th>\n",
       "      <th>hour_cos</th>\n",
       "      <th>day_of_week_sin</th>\n",
       "      <th>day_of_week_cos</th>\n",
       "      <th>month_sin</th>\n",
       "      <th>month_cos</th>\n",
       "      <th>day_of_year_sin</th>\n",
       "      <th>day_of_year_cos</th>\n",
       "      <th>precip_intensity_probability</th>\n",
       "    </tr>\n",
       "  </thead>\n",
       "  <tbody>\n",
       "    <tr>\n",
       "      <th>0</th>\n",
       "      <td>-74.121790</td>\n",
       "      <td>4.603106</td>\n",
       "      <td>12.94</td>\n",
       "      <td>9.99</td>\n",
       "      <td>0.82</td>\n",
       "      <td>2.09</td>\n",
       "      <td>0.44</td>\n",
       "      <td>0.0</td>\n",
       "      <td>10.003</td>\n",
       "      <td>1.224647e-16</td>\n",
       "      <td>-1.0</td>\n",
       "      <td>-0.781831</td>\n",
       "      <td>0.62349</td>\n",
       "      <td>0.866025</td>\n",
       "      <td>0.5</td>\n",
       "      <td>0.989932</td>\n",
       "      <td>0.14154</td>\n",
       "      <td>0.0</td>\n",
       "    </tr>\n",
       "    <tr>\n",
       "      <th>1</th>\n",
       "      <td>-74.106312</td>\n",
       "      <td>4.627395</td>\n",
       "      <td>12.94</td>\n",
       "      <td>9.99</td>\n",
       "      <td>0.82</td>\n",
       "      <td>2.09</td>\n",
       "      <td>0.44</td>\n",
       "      <td>0.0</td>\n",
       "      <td>10.003</td>\n",
       "      <td>1.224647e-16</td>\n",
       "      <td>-1.0</td>\n",
       "      <td>-0.781831</td>\n",
       "      <td>0.62349</td>\n",
       "      <td>0.866025</td>\n",
       "      <td>0.5</td>\n",
       "      <td>0.989932</td>\n",
       "      <td>0.14154</td>\n",
       "      <td>0.0</td>\n",
       "    </tr>\n",
       "  </tbody>\n",
       "</table>\n",
       "</div>"
      ],
      "text/plain": [
       "           x         y  temperature  dewPoint  humidity  windSpeed  \\\n",
       "0 -74.121790  4.603106        12.94      9.99      0.82       2.09   \n",
       "1 -74.106312  4.627395        12.94      9.99      0.82       2.09   \n",
       "\n",
       "   cloudCover  uvIndex  visibility      hour_sin  hour_cos  day_of_week_sin  \\\n",
       "0        0.44      0.0      10.003  1.224647e-16      -1.0        -0.781831   \n",
       "1        0.44      0.0      10.003  1.224647e-16      -1.0        -0.781831   \n",
       "\n",
       "   day_of_week_cos  month_sin  month_cos  day_of_year_sin  day_of_year_cos  \\\n",
       "0          0.62349   0.866025        0.5         0.989932          0.14154   \n",
       "1          0.62349   0.866025        0.5         0.989932          0.14154   \n",
       "\n",
       "   precip_intensity_probability  \n",
       "0                           0.0  \n",
       "1                           0.0  "
      ]
     },
     "execution_count": 30,
     "metadata": {},
     "output_type": "execute_result"
    }
   ],
   "source": [
    "data_prepared_df.head(2)"
   ]
  },
  {
   "cell_type": "code",
   "execution_count": 31,
   "metadata": {},
   "outputs": [],
   "source": [
    "full_pipeline = Pipeline([\n",
    "    ('preprocess', pipeline_preprocess),\n",
    "    ('scaler', MinMaxScaler()),\n",
    "])"
   ]
  },
  {
   "cell_type": "code",
   "execution_count": 32,
   "metadata": {},
   "outputs": [],
   "source": [
    "data_prepared = full_pipeline.fit_transform(data)"
   ]
  },
  {
   "cell_type": "code",
   "execution_count": 33,
   "metadata": {},
   "outputs": [],
   "source": [
    "data_prepared\n",
    "labels = data[target_feature].values"
   ]
  },
  {
   "cell_type": "markdown",
   "metadata": {},
   "source": [
    "## Model"
   ]
  },
  {
   "cell_type": "code",
   "execution_count": 34,
   "metadata": {},
   "outputs": [],
   "source": [
    "data_dmatrix = xgboost.DMatrix(data_prepared,label=labels,feature_names=data_prepared_df.columns)"
   ]
  },
  {
   "cell_type": "code",
   "execution_count": 35,
   "metadata": {},
   "outputs": [],
   "source": [
    "X_train, X_test_val, y_train, y_test_val = train_test_split(data_prepared, labels, test_size=0.33, random_state = 42)\n",
    "X_test, X_val, y_test, y_val = train_test_split(X_test_val, y_test_val, test_size=0.33, random_state = 42)"
   ]
  },
  {
   "cell_type": "code",
   "execution_count": 36,
   "metadata": {},
   "outputs": [
    {
     "name": "stdout",
     "output_type": "stream",
     "text": [
      "\n",
      "VALIDATION\n",
      "\n",
      "Cohen kappa score 0.2065\n",
      "F1 score 0.5673\n",
      "Average precision score 0.4777\n",
      "              precision    recall  f1-score   support\n",
      "\n",
      "non-accident       0.58      0.69      0.63      5773\n",
      "    accident       0.63      0.52      0.57      5906\n",
      "\n",
      "    accuracy                           0.60     11679\n",
      "   macro avg       0.61      0.60      0.60     11679\n",
      "weighted avg       0.61      0.60      0.60     11679\n",
      "\n",
      "\n",
      "TEST\n",
      "\n",
      "Cohen kappa score test 0.1989\n",
      "F1 score test 0.5592\n",
      "Average Test precision score 0.4735\n",
      "              precision    recall  f1-score   support\n",
      "\n",
      "non-accident       0.59      0.69      0.63     11961\n",
      "    accident       0.62      0.51      0.56     11748\n",
      "\n",
      "    accuracy                           0.60     23709\n",
      "   macro avg       0.60      0.60      0.60     23709\n",
      "weighted avg       0.60      0.60      0.60     23709\n",
      "\n",
      "Test AUC: 0.5992825977925023\n"
     ]
    }
   ],
   "source": [
    "params = {'subsample': 0.8,\n",
    " 'n_estimators': 300,\n",
    " 'min_child_weight': 5,\n",
    " 'max_depth': 8,\n",
    " 'learning_rate': 0.1,\n",
    " 'gamma': 0.5,\n",
    " 'colsample_bytree': 0.8}\n",
    "booster = xgboost.XGBClassifier(subsample=0.8, n_estimators=300, min_child_weight=5, max_depth=8, learning_rate=0.1, gamma=0.5, colsample_bytree=0.8)\n",
    "booster.fit(X_train, y_train.ravel())\n",
    "\n",
    "categories = ['non-accident', 'accident']\n",
    "\n",
    "\n",
    "y_pred_val = np.round(booster.predict(X_val))\n",
    "print('\\nVALIDATION\\n')\n",
    "print('Cohen kappa score {:.4f}'.format(cohen_kappa_score(y_pred_val, y_val)))\n",
    "print('F1 score {:.4f}'.format(f1_score(y_pred_val, y_val)))\n",
    "print('Average precision score {:.4f}'.format(average_precision_score(y_pred_val, y_val)))\n",
    "print(classification_report(y_val, y_pred_val, target_names=categories))\n",
    "y_pred_test = booster.predict(X_test)\n",
    "print('\\nTEST\\n')\n",
    "print('Cohen kappa score test {:.4f}'.format(cohen_kappa_score(y_pred_test, y_test)))\n",
    "print('F1 score test {:.4f}'.format(f1_score(y_pred_test, y_test)))\n",
    "print('Average Test precision score {:.4f}'.format(average_precision_score(y_pred_test, y_test)))\n",
    "print(classification_report(y_test, y_pred_test, target_names=categories))\n",
    "print ('Test AUC:',roc_auc_score(y_test,y_pred_test))\n"
   ]
  },
  {
   "cell_type": "code",
   "execution_count": 37,
   "metadata": {},
   "outputs": [
    {
     "data": {
      "text/plain": [
       "array([[0.6316321 , 0.36836794],\n",
       "       [0.516624  , 0.48337603],\n",
       "       [0.50157243, 0.49842757],\n",
       "       ...,\n",
       "       [0.15082109, 0.8491789 ],\n",
       "       [0.47109538, 0.5289046 ],\n",
       "       [0.7089985 , 0.2910015 ]], dtype=float32)"
      ]
     },
     "execution_count": 37,
     "metadata": {},
     "output_type": "execute_result"
    }
   ],
   "source": [
    "booster.predict_proba(X_val)"
   ]
  },
  {
   "cell_type": "code",
   "execution_count": 38,
   "metadata": {},
   "outputs": [
    {
     "data": {
      "text/plain": [
       "['finalized_model.sav']"
      ]
     },
     "execution_count": 38,
     "metadata": {},
     "output_type": "execute_result"
    }
   ],
   "source": [
    "import joblib\n",
    "# save the model to disk\n",
    "filename = 'finalized_model.sav'\n",
    "joblib.dump(booster, filename)"
   ]
  },
  {
   "cell_type": "code",
   "execution_count": 39,
   "metadata": {},
   "outputs": [],
   "source": [
    " #{\"objective\":\"reg:logistic\",'learning_rate': 0.2, 'gamma': 0.1, 'max_depth': 10, 'alpha': 0.1}\n",
    "params = {'subsample': 0.8,\n",
    " 'n_estimators': 300,\n",
    " 'min_child_weight': 5,\n",
    " 'max_depth': 8,\n",
    " 'learning_rate': 0.1,\n",
    " 'gamma': 0.5,\n",
    " 'colsample_bytree': 0.8}\n",
    "\n",
    "cv_results = xgboost.cv(dtrain=data_dmatrix, params=params, nfold=10,\n",
    "                    num_boost_round=100, early_stopping_rounds=10, metrics=\"auc\", as_pandas=True, seed=123)"
   ]
  },
  {
   "cell_type": "code",
   "execution_count": 40,
   "metadata": {},
   "outputs": [
    {
     "data": {
      "text/html": [
       "<div>\n",
       "<style scoped>\n",
       "    .dataframe tbody tr th:only-of-type {\n",
       "        vertical-align: middle;\n",
       "    }\n",
       "\n",
       "    .dataframe tbody tr th {\n",
       "        vertical-align: top;\n",
       "    }\n",
       "\n",
       "    .dataframe thead th {\n",
       "        text-align: right;\n",
       "    }\n",
       "</style>\n",
       "<table border=\"1\" class=\"dataframe\">\n",
       "  <thead>\n",
       "    <tr style=\"text-align: right;\">\n",
       "      <th></th>\n",
       "      <th>train-auc-mean</th>\n",
       "      <th>train-auc-std</th>\n",
       "      <th>test-auc-mean</th>\n",
       "      <th>test-auc-std</th>\n",
       "    </tr>\n",
       "  </thead>\n",
       "  <tbody>\n",
       "    <tr>\n",
       "      <th>0</th>\n",
       "      <td>0.589871</td>\n",
       "      <td>0.004200</td>\n",
       "      <td>0.565692</td>\n",
       "      <td>0.005789</td>\n",
       "    </tr>\n",
       "    <tr>\n",
       "      <th>1</th>\n",
       "      <td>0.638276</td>\n",
       "      <td>0.013411</td>\n",
       "      <td>0.610319</td>\n",
       "      <td>0.016140</td>\n",
       "    </tr>\n",
       "    <tr>\n",
       "      <th>2</th>\n",
       "      <td>0.656144</td>\n",
       "      <td>0.004069</td>\n",
       "      <td>0.622562</td>\n",
       "      <td>0.006201</td>\n",
       "    </tr>\n",
       "    <tr>\n",
       "      <th>3</th>\n",
       "      <td>0.666746</td>\n",
       "      <td>0.007370</td>\n",
       "      <td>0.631141</td>\n",
       "      <td>0.007408</td>\n",
       "    </tr>\n",
       "    <tr>\n",
       "      <th>4</th>\n",
       "      <td>0.675759</td>\n",
       "      <td>0.006365</td>\n",
       "      <td>0.636861</td>\n",
       "      <td>0.006641</td>\n",
       "    </tr>\n",
       "    <tr>\n",
       "      <th>5</th>\n",
       "      <td>0.681786</td>\n",
       "      <td>0.005661</td>\n",
       "      <td>0.638643</td>\n",
       "      <td>0.008083</td>\n",
       "    </tr>\n",
       "    <tr>\n",
       "      <th>6</th>\n",
       "      <td>0.686034</td>\n",
       "      <td>0.005124</td>\n",
       "      <td>0.641681</td>\n",
       "      <td>0.008919</td>\n",
       "    </tr>\n",
       "    <tr>\n",
       "      <th>7</th>\n",
       "      <td>0.692857</td>\n",
       "      <td>0.002973</td>\n",
       "      <td>0.645863</td>\n",
       "      <td>0.008431</td>\n",
       "    </tr>\n",
       "    <tr>\n",
       "      <th>8</th>\n",
       "      <td>0.695537</td>\n",
       "      <td>0.003578</td>\n",
       "      <td>0.647934</td>\n",
       "      <td>0.007172</td>\n",
       "    </tr>\n",
       "    <tr>\n",
       "      <th>9</th>\n",
       "      <td>0.700571</td>\n",
       "      <td>0.003110</td>\n",
       "      <td>0.650082</td>\n",
       "      <td>0.006467</td>\n",
       "    </tr>\n",
       "    <tr>\n",
       "      <th>10</th>\n",
       "      <td>0.705710</td>\n",
       "      <td>0.002670</td>\n",
       "      <td>0.652046</td>\n",
       "      <td>0.005077</td>\n",
       "    </tr>\n",
       "    <tr>\n",
       "      <th>11</th>\n",
       "      <td>0.709029</td>\n",
       "      <td>0.003073</td>\n",
       "      <td>0.652859</td>\n",
       "      <td>0.005485</td>\n",
       "    </tr>\n",
       "    <tr>\n",
       "      <th>12</th>\n",
       "      <td>0.711261</td>\n",
       "      <td>0.002687</td>\n",
       "      <td>0.654046</td>\n",
       "      <td>0.006235</td>\n",
       "    </tr>\n",
       "    <tr>\n",
       "      <th>13</th>\n",
       "      <td>0.713925</td>\n",
       "      <td>0.002891</td>\n",
       "      <td>0.654737</td>\n",
       "      <td>0.006354</td>\n",
       "    </tr>\n",
       "    <tr>\n",
       "      <th>14</th>\n",
       "      <td>0.716742</td>\n",
       "      <td>0.003712</td>\n",
       "      <td>0.655450</td>\n",
       "      <td>0.006009</td>\n",
       "    </tr>\n",
       "    <tr>\n",
       "      <th>15</th>\n",
       "      <td>0.719001</td>\n",
       "      <td>0.003771</td>\n",
       "      <td>0.655481</td>\n",
       "      <td>0.005705</td>\n",
       "    </tr>\n",
       "    <tr>\n",
       "      <th>16</th>\n",
       "      <td>0.721073</td>\n",
       "      <td>0.004220</td>\n",
       "      <td>0.656193</td>\n",
       "      <td>0.005500</td>\n",
       "    </tr>\n",
       "    <tr>\n",
       "      <th>17</th>\n",
       "      <td>0.723184</td>\n",
       "      <td>0.003756</td>\n",
       "      <td>0.656926</td>\n",
       "      <td>0.005272</td>\n",
       "    </tr>\n",
       "    <tr>\n",
       "      <th>18</th>\n",
       "      <td>0.725491</td>\n",
       "      <td>0.003650</td>\n",
       "      <td>0.656966</td>\n",
       "      <td>0.005223</td>\n",
       "    </tr>\n",
       "    <tr>\n",
       "      <th>19</th>\n",
       "      <td>0.727448</td>\n",
       "      <td>0.003756</td>\n",
       "      <td>0.656776</td>\n",
       "      <td>0.004974</td>\n",
       "    </tr>\n",
       "    <tr>\n",
       "      <th>20</th>\n",
       "      <td>0.729774</td>\n",
       "      <td>0.004285</td>\n",
       "      <td>0.656608</td>\n",
       "      <td>0.005140</td>\n",
       "    </tr>\n",
       "    <tr>\n",
       "      <th>21</th>\n",
       "      <td>0.731232</td>\n",
       "      <td>0.004118</td>\n",
       "      <td>0.656735</td>\n",
       "      <td>0.004993</td>\n",
       "    </tr>\n",
       "    <tr>\n",
       "      <th>22</th>\n",
       "      <td>0.732915</td>\n",
       "      <td>0.004005</td>\n",
       "      <td>0.656592</td>\n",
       "      <td>0.005073</td>\n",
       "    </tr>\n",
       "    <tr>\n",
       "      <th>23</th>\n",
       "      <td>0.734445</td>\n",
       "      <td>0.003704</td>\n",
       "      <td>0.656733</td>\n",
       "      <td>0.005047</td>\n",
       "    </tr>\n",
       "    <tr>\n",
       "      <th>24</th>\n",
       "      <td>0.736190</td>\n",
       "      <td>0.003674</td>\n",
       "      <td>0.656884</td>\n",
       "      <td>0.005188</td>\n",
       "    </tr>\n",
       "    <tr>\n",
       "      <th>25</th>\n",
       "      <td>0.737700</td>\n",
       "      <td>0.003680</td>\n",
       "      <td>0.657061</td>\n",
       "      <td>0.005145</td>\n",
       "    </tr>\n",
       "    <tr>\n",
       "      <th>26</th>\n",
       "      <td>0.739171</td>\n",
       "      <td>0.003706</td>\n",
       "      <td>0.657330</td>\n",
       "      <td>0.005096</td>\n",
       "    </tr>\n",
       "    <tr>\n",
       "      <th>27</th>\n",
       "      <td>0.740536</td>\n",
       "      <td>0.003801</td>\n",
       "      <td>0.657387</td>\n",
       "      <td>0.005153</td>\n",
       "    </tr>\n",
       "    <tr>\n",
       "      <th>28</th>\n",
       "      <td>0.741864</td>\n",
       "      <td>0.003752</td>\n",
       "      <td>0.657464</td>\n",
       "      <td>0.005030</td>\n",
       "    </tr>\n",
       "    <tr>\n",
       "      <th>29</th>\n",
       "      <td>0.743461</td>\n",
       "      <td>0.003700</td>\n",
       "      <td>0.657697</td>\n",
       "      <td>0.004778</td>\n",
       "    </tr>\n",
       "    <tr>\n",
       "      <th>30</th>\n",
       "      <td>0.744735</td>\n",
       "      <td>0.003629</td>\n",
       "      <td>0.657923</td>\n",
       "      <td>0.004770</td>\n",
       "    </tr>\n",
       "    <tr>\n",
       "      <th>31</th>\n",
       "      <td>0.745856</td>\n",
       "      <td>0.003593</td>\n",
       "      <td>0.657976</td>\n",
       "      <td>0.004609</td>\n",
       "    </tr>\n",
       "    <tr>\n",
       "      <th>32</th>\n",
       "      <td>0.746848</td>\n",
       "      <td>0.003720</td>\n",
       "      <td>0.657851</td>\n",
       "      <td>0.004492</td>\n",
       "    </tr>\n",
       "    <tr>\n",
       "      <th>33</th>\n",
       "      <td>0.748229</td>\n",
       "      <td>0.003934</td>\n",
       "      <td>0.657615</td>\n",
       "      <td>0.004183</td>\n",
       "    </tr>\n",
       "    <tr>\n",
       "      <th>34</th>\n",
       "      <td>0.749805</td>\n",
       "      <td>0.004224</td>\n",
       "      <td>0.657839</td>\n",
       "      <td>0.004021</td>\n",
       "    </tr>\n",
       "    <tr>\n",
       "      <th>35</th>\n",
       "      <td>0.750902</td>\n",
       "      <td>0.004384</td>\n",
       "      <td>0.657782</td>\n",
       "      <td>0.003920</td>\n",
       "    </tr>\n",
       "    <tr>\n",
       "      <th>36</th>\n",
       "      <td>0.752152</td>\n",
       "      <td>0.004418</td>\n",
       "      <td>0.657559</td>\n",
       "      <td>0.003903</td>\n",
       "    </tr>\n",
       "    <tr>\n",
       "      <th>37</th>\n",
       "      <td>0.753058</td>\n",
       "      <td>0.004316</td>\n",
       "      <td>0.657748</td>\n",
       "      <td>0.004132</td>\n",
       "    </tr>\n",
       "    <tr>\n",
       "      <th>38</th>\n",
       "      <td>0.754156</td>\n",
       "      <td>0.003987</td>\n",
       "      <td>0.658008</td>\n",
       "      <td>0.003864</td>\n",
       "    </tr>\n",
       "    <tr>\n",
       "      <th>39</th>\n",
       "      <td>0.755665</td>\n",
       "      <td>0.003899</td>\n",
       "      <td>0.658143</td>\n",
       "      <td>0.003835</td>\n",
       "    </tr>\n",
       "  </tbody>\n",
       "</table>\n",
       "</div>"
      ],
      "text/plain": [
       "    train-auc-mean  train-auc-std  test-auc-mean  test-auc-std\n",
       "0         0.589871       0.004200       0.565692      0.005789\n",
       "1         0.638276       0.013411       0.610319      0.016140\n",
       "2         0.656144       0.004069       0.622562      0.006201\n",
       "3         0.666746       0.007370       0.631141      0.007408\n",
       "4         0.675759       0.006365       0.636861      0.006641\n",
       "5         0.681786       0.005661       0.638643      0.008083\n",
       "6         0.686034       0.005124       0.641681      0.008919\n",
       "7         0.692857       0.002973       0.645863      0.008431\n",
       "8         0.695537       0.003578       0.647934      0.007172\n",
       "9         0.700571       0.003110       0.650082      0.006467\n",
       "10        0.705710       0.002670       0.652046      0.005077\n",
       "11        0.709029       0.003073       0.652859      0.005485\n",
       "12        0.711261       0.002687       0.654046      0.006235\n",
       "13        0.713925       0.002891       0.654737      0.006354\n",
       "14        0.716742       0.003712       0.655450      0.006009\n",
       "15        0.719001       0.003771       0.655481      0.005705\n",
       "16        0.721073       0.004220       0.656193      0.005500\n",
       "17        0.723184       0.003756       0.656926      0.005272\n",
       "18        0.725491       0.003650       0.656966      0.005223\n",
       "19        0.727448       0.003756       0.656776      0.004974\n",
       "20        0.729774       0.004285       0.656608      0.005140\n",
       "21        0.731232       0.004118       0.656735      0.004993\n",
       "22        0.732915       0.004005       0.656592      0.005073\n",
       "23        0.734445       0.003704       0.656733      0.005047\n",
       "24        0.736190       0.003674       0.656884      0.005188\n",
       "25        0.737700       0.003680       0.657061      0.005145\n",
       "26        0.739171       0.003706       0.657330      0.005096\n",
       "27        0.740536       0.003801       0.657387      0.005153\n",
       "28        0.741864       0.003752       0.657464      0.005030\n",
       "29        0.743461       0.003700       0.657697      0.004778\n",
       "30        0.744735       0.003629       0.657923      0.004770\n",
       "31        0.745856       0.003593       0.657976      0.004609\n",
       "32        0.746848       0.003720       0.657851      0.004492\n",
       "33        0.748229       0.003934       0.657615      0.004183\n",
       "34        0.749805       0.004224       0.657839      0.004021\n",
       "35        0.750902       0.004384       0.657782      0.003920\n",
       "36        0.752152       0.004418       0.657559      0.003903\n",
       "37        0.753058       0.004316       0.657748      0.004132\n",
       "38        0.754156       0.003987       0.658008      0.003864\n",
       "39        0.755665       0.003899       0.658143      0.003835"
      ]
     },
     "execution_count": 40,
     "metadata": {},
     "output_type": "execute_result"
    }
   ],
   "source": [
    "cv_results"
   ]
  },
  {
   "cell_type": "code",
   "execution_count": 44,
   "metadata": {},
   "outputs": [
    {
     "data": {
      "text/plain": [
       "0.649779865"
      ]
     },
     "execution_count": 44,
     "metadata": {},
     "output_type": "execute_result"
    }
   ],
   "source": [
    "cv_results['test-auc-mean'].mean()"
   ]
  },
  {
   "cell_type": "code",
   "execution_count": 41,
   "metadata": {},
   "outputs": [
    {
     "name": "stdout",
     "output_type": "stream",
     "text": [
      "[23:20:32] WARNING: /home/conda/feedstock_root/build_artifacts/xgboost_1588600955503/work/src/learner.cc:328: \n",
      "Parameters: { n_estimators } might not be used.\n",
      "\n",
      "  This may not be accurate due to some parameters are only used in language bindings but\n",
      "  passed down to XGBoost core.  Or some parameters are not used but slip through this\n",
      "  verification. Please open an issue if you find above cases.\n",
      "\n",
      "\n"
     ]
    },
    {
     "data": {
      "text/plain": [
       "<matplotlib.axes._subplots.AxesSubplot at 0x7f34fcb8ee50>"
      ]
     },
     "execution_count": 41,
     "metadata": {},
     "output_type": "execute_result"
    },
    {
     "data": {
      "image/png": "[encoded data removed]",
      "text/plain": [
       "<Figure size 1080x432 with 1 Axes>"
      ]
     },
     "metadata": {},
     "output_type": "display_data"
    }
   ],
   "source": [
    "xg_clf = xgboost.train(params=params, dtrain=data_dmatrix, num_boost_round=10)\n",
    "xgboost.plot_importance(xg_clf)"
   ]
  },
  {
   "cell_type": "code",
   "execution_count": null,
   "metadata": {},
   "outputs": [],
   "source": []
  },
  {
   "cell_type": "code",
   "execution_count": null,
   "metadata": {},
   "outputs": [],
   "source": []
  },
  {
   "cell_type": "code",
   "execution_count": null,
   "metadata": {},
   "outputs": [],
   "source": []
  }
 ],
 "metadata": {
  "file_extension": ".py",
  "kernelspec": {
   "display_name": "Python 3",
   "language": "python",
   "name": "python3"
  },
  "language_info": {
   "codemirror_mode": {
    "name": "ipython",
    "version": 3
   },
   "file_extension": ".py",
   "mimetype": "text/x-python",
   "name": "python",
   "nbconvert_exporter": "python",
   "pygments_lexer": "ipython3",
   "version": "3.8.2"
  },
  "mimetype": "text/x-python",
  "name": "python",
  "npconvert_exporter": "python",
  "pygments_lexer": "ipython3",
  "version": 3
 },
 "nbformat": 4,
 "nbformat_minor": 2
}
