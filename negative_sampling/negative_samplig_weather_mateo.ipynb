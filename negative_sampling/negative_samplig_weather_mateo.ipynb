{
 "nbformat": 4,
 "nbformat_minor": 2,
 "metadata": {
  "language_info": {
   "name": "python",
   "codemirror_mode": {
    "name": "ipython",
    "version": 3
   },
   "version": "3.7.7-final"
  },
  "orig_nbformat": 2,
  "file_extension": ".py",
  "mimetype": "text/x-python",
  "name": "python",
  "npconvert_exporter": "python",
  "pygments_lexer": "ipython3",
  "version": 3,
  "kernelspec": {
   "name": "python38264bitds4aprojectcondae0f55255db9a456ea22c31180c5c6b0c",
   "language": "python",
   "display_name": "Python 3.8.2 64-bit ('ds4a-project': conda)"
  }
 },
 "cells": [
  {
   "cell_type": "code",
   "execution_count": 1,
   "metadata": {},
   "outputs": [],
   "source": [
    "import pandas as pd\n",
    "import numpy as np"
   ]
  },
  {
   "cell_type": "code",
   "execution_count": 2,
   "metadata": {},
   "outputs": [],
   "source": [
    "accidents = pd.read_csv('../data/2015-2019_dataset_clusters.csv')"
   ]
  },
  {
   "cell_type": "code",
   "execution_count": 3,
   "metadata": {},
   "outputs": [
    {
     "output_type": "execute_result",
     "data": {
      "text/plain": "           x         y  accident_id  year  \\\n0 -74.105296  4.509792      4437952  2016   \n1 -74.167225  4.631051      4472304  2017   \n2 -74.121790  4.603106      4512837  2018   \n3 -74.075332  4.607944      4437462  2016   \n4 -74.064965  4.744182      4473374  2017   \n\n                                address severity accident_type  \\\n0                     CL 80A-KR 1 SE 02   Injury         Crash   \n1  AV AVENIDA CIUDAD DE CALI-CL 42 S 02   Injury      Run over   \n2  AV AVENIDA PRIMERA DE MAYO-KR 50A 14   Injury         Crash   \n3                        KR 13-CL 18 02   Injury         Crash   \n4           AV AVENIDA BOYACA-CL 160 02   Injury      Run over   \n\n   severity_numeric    borough_geo                  timestamp        date  \\\n0                 8           USME  2016-02-27 16:20:00+00:00  2016-02-27   \n1                 9        KENNEDY  2017-02-09 16:45:00+00:00  2017-02-09   \n2                 8  PUENTE ARANDA  2018-03-25 12:10:00+00:00  2018-03-25   \n3                 8       SANTA FE  2016-02-22 08:55:00+00:00  2016-02-22   \n4                 9           SUBA  2017-02-19 13:00:00+00:00  2017-02-19   \n\n   hour month_name  month  day  cluster_id  \n0    16        Feb      2  Sat           0  \n1    16        Feb      2  Thu           1  \n2    12        Mar      3  Sun           1  \n3     8        Feb      2  Mon           1  \n4    13        Feb      2  Sun           2  ",
      "text/html": "<div>\n<style scoped>\n    .dataframe tbody tr th:only-of-type {\n        vertical-align: middle;\n    }\n\n    .dataframe tbody tr th {\n        vertical-align: top;\n    }\n\n    .dataframe thead th {\n        text-align: right;\n    }\n</style>\n<table border=\"1\" class=\"dataframe\">\n  <thead>\n    <tr style=\"text-align: right;\">\n      <th></th>\n      <th>x</th>\n      <th>y</th>\n      <th>accident_id</th>\n      <th>year</th>\n      <th>address</th>\n      <th>severity</th>\n      <th>accident_type</th>\n      <th>severity_numeric</th>\n      <th>borough_geo</th>\n      <th>timestamp</th>\n      <th>date</th>\n      <th>hour</th>\n      <th>month_name</th>\n      <th>month</th>\n      <th>day</th>\n      <th>cluster_id</th>\n    </tr>\n  </thead>\n  <tbody>\n    <tr>\n      <th>0</th>\n      <td>-74.105296</td>\n      <td>4.509792</td>\n      <td>4437952</td>\n      <td>2016</td>\n      <td>CL 80A-KR 1 SE 02</td>\n      <td>Injury</td>\n      <td>Crash</td>\n      <td>8</td>\n      <td>USME</td>\n      <td>2016-02-27 16:20:00+00:00</td>\n      <td>2016-02-27</td>\n      <td>16</td>\n      <td>Feb</td>\n      <td>2</td>\n      <td>Sat</td>\n      <td>0</td>\n    </tr>\n    <tr>\n      <th>1</th>\n      <td>-74.167225</td>\n      <td>4.631051</td>\n      <td>4472304</td>\n      <td>2017</td>\n      <td>AV AVENIDA CIUDAD DE CALI-CL 42 S 02</td>\n      <td>Injury</td>\n      <td>Run over</td>\n      <td>9</td>\n      <td>KENNEDY</td>\n      <td>2017-02-09 16:45:00+00:00</td>\n      <td>2017-02-09</td>\n      <td>16</td>\n      <td>Feb</td>\n      <td>2</td>\n      <td>Thu</td>\n      <td>1</td>\n    </tr>\n    <tr>\n      <th>2</th>\n      <td>-74.121790</td>\n      <td>4.603106</td>\n      <td>4512837</td>\n      <td>2018</td>\n      <td>AV AVENIDA PRIMERA DE MAYO-KR 50A 14</td>\n      <td>Injury</td>\n      <td>Crash</td>\n      <td>8</td>\n      <td>PUENTE ARANDA</td>\n      <td>2018-03-25 12:10:00+00:00</td>\n      <td>2018-03-25</td>\n      <td>12</td>\n      <td>Mar</td>\n      <td>3</td>\n      <td>Sun</td>\n      <td>1</td>\n    </tr>\n    <tr>\n      <th>3</th>\n      <td>-74.075332</td>\n      <td>4.607944</td>\n      <td>4437462</td>\n      <td>2016</td>\n      <td>KR 13-CL 18 02</td>\n      <td>Injury</td>\n      <td>Crash</td>\n      <td>8</td>\n      <td>SANTA FE</td>\n      <td>2016-02-22 08:55:00+00:00</td>\n      <td>2016-02-22</td>\n      <td>8</td>\n      <td>Feb</td>\n      <td>2</td>\n      <td>Mon</td>\n      <td>1</td>\n    </tr>\n    <tr>\n      <th>4</th>\n      <td>-74.064965</td>\n      <td>4.744182</td>\n      <td>4473374</td>\n      <td>2017</td>\n      <td>AV AVENIDA BOYACA-CL 160 02</td>\n      <td>Injury</td>\n      <td>Run over</td>\n      <td>9</td>\n      <td>SUBA</td>\n      <td>2017-02-19 13:00:00+00:00</td>\n      <td>2017-02-19</td>\n      <td>13</td>\n      <td>Feb</td>\n      <td>2</td>\n      <td>Sun</td>\n      <td>2</td>\n    </tr>\n  </tbody>\n</table>\n</div>"
     },
     "metadata": {},
     "execution_count": 3
    }
   ],
   "source": [
    "accidents.head()"
   ]
  },
  {
   "cell_type": "code",
   "execution_count": 4,
   "metadata": {},
   "outputs": [],
   "source": [
    "df_positive_2018 = accidents[pd.to_datetime(accidents.date).dt.year == 2018]"
   ]
  },
  {
   "cell_type": "code",
   "execution_count": 5,
   "metadata": {},
   "outputs": [],
   "source": [
    "df_positive = df_positive_2018[['x','y','date','hour', 'borough_geo', 'address', 'cluster_id']].copy()"
   ]
  },
  {
   "cell_type": "code",
   "execution_count": 6,
   "metadata": {},
   "outputs": [],
   "source": [
    "df_positive.date = pd.to_datetime(df_positive.date)"
   ]
  },
  {
   "cell_type": "code",
   "execution_count": 7,
   "metadata": {},
   "outputs": [],
   "source": [
    "df_positive['day_of_year'] = df_positive.date.dt.dayofyear"
   ]
  },
  {
   "cell_type": "code",
   "execution_count": 8,
   "metadata": {},
   "outputs": [],
   "source": [
    "df_positive['coords'] = df_positive[['x', 'y']].apply(lambda x: ';'.join((str(x['x']), str(x['y']))), axis = 1)"
   ]
  },
  {
   "cell_type": "code",
   "execution_count": 9,
   "metadata": {},
   "outputs": [],
   "source": [
    "df_positive = df_positive[['hour', 'day_of_year','borough_geo', 'coords', 'address', 'cluster_id']].copy()"
   ]
  },
  {
   "cell_type": "code",
   "execution_count": 10,
   "metadata": {},
   "outputs": [
    {
     "output_type": "execute_result",
     "data": {
      "text/plain": "   hour  day_of_year    borough_geo                                 coords  \\\n2    12           84  PUENTE ARANDA  -74.12178986799995;4.6031063950000535   \n9     7           44           BOSA    -74.17893912999993;4.62416029700006   \n\n                                address  cluster_id  \n2  AV AVENIDA PRIMERA DE MAYO-KR 50A 14           1  \n9                       KR 86-CL 53 S 2           1  ",
      "text/html": "<div>\n<style scoped>\n    .dataframe tbody tr th:only-of-type {\n        vertical-align: middle;\n    }\n\n    .dataframe tbody tr th {\n        vertical-align: top;\n    }\n\n    .dataframe thead th {\n        text-align: right;\n    }\n</style>\n<table border=\"1\" class=\"dataframe\">\n  <thead>\n    <tr style=\"text-align: right;\">\n      <th></th>\n      <th>hour</th>\n      <th>day_of_year</th>\n      <th>borough_geo</th>\n      <th>coords</th>\n      <th>address</th>\n      <th>cluster_id</th>\n    </tr>\n  </thead>\n  <tbody>\n    <tr>\n      <th>2</th>\n      <td>12</td>\n      <td>84</td>\n      <td>PUENTE ARANDA</td>\n      <td>-74.12178986799995;4.6031063950000535</td>\n      <td>AV AVENIDA PRIMERA DE MAYO-KR 50A 14</td>\n      <td>1</td>\n    </tr>\n    <tr>\n      <th>9</th>\n      <td>7</td>\n      <td>44</td>\n      <td>BOSA</td>\n      <td>-74.17893912999993;4.62416029700006</td>\n      <td>KR 86-CL 53 S 2</td>\n      <td>1</td>\n    </tr>\n  </tbody>\n</table>\n</div>"
     },
     "metadata": {},
     "execution_count": 10
    }
   ],
   "source": [
    "df_positive.head(2)"
   ]
  },
  {
   "cell_type": "code",
   "execution_count": 11,
   "metadata": {},
   "outputs": [],
   "source": [
    "df_positive = df_positive.reset_index(drop=True)"
   ]
  },
  {
   "cell_type": "code",
   "execution_count": 12,
   "metadata": {
    "tags": [
     "outputPrepend",
     "outputPrepend",
     "outputPrepend",
     "outputPrepend",
     "outputPrepend",
     "outputPrepend",
     "outputPrepend",
     "outputPrepend",
     "outputPrepend",
     "outputPrepend",
     "outputPrepend",
     "outputPrepend",
     "outputPrepend",
     "outputPrepend",
     "outputPrepend",
     "outputPrepend",
     "outputPrepend",
     "outputPrepend",
     "outputPrepend",
     "outputPrepend",
     "outputPrepend",
     "outputPrepend",
     "outputPrepend",
     "outputPrepend",
     "outputPrepend",
     "outputPrepend",
     "outputPrepend",
     "outputPrepend",
     "outputPrepend",
     "outputPrepend",
     "outputPrepend",
     "outputPrepend",
     "outputPrepend",
     "outputPrepend",
     "outputPrepend",
     "outputPrepend",
     "outputPrepend",
     "outputPrepend",
     "outputPrepend",
     "outputPrepend",
     "outputPrepend",
     "outputPrepend",
     "outputPrepend",
     "outputPrepend",
     "outputPrepend",
     "outputPrepend",
     "outputPrepend",
     "outputPrepend",
     "outputPrepend",
     "outputPrepend",
     "outputPrepend",
     "outputPrepend",
     "outputPrepend",
     "outputPrepend",
     "outputPrepend",
     "outputPrepend",
     "outputPrepend",
     "outputPrepend",
     "outputPrepend",
     "outputPrepend",
     "outputPrepend",
     "outputPrepend",
     "outputPrepend",
     "outputPrepend",
     "outputPrepend",
     "outputPrepend",
     "outputPrepend",
     "outputPrepend",
     "outputPrepend",
     "outputPrepend",
     "outputPrepend",
     "outputPrepend",
     "outputPrepend",
     "outputPrepend",
     "outputPrepend",
     "outputPrepend",
     "outputPrepend",
     "outputPrepend",
     "outputPrepend",
     "outputPrepend",
     "outputPrepend",
     "outputPrepend",
     "outputPrepend",
     "outputPrepend",
     "outputPrepend",
     "outputPrepend",
     "outputPrepend",
     "outputPrepend",
     "outputPrepend",
     "outputPrepend",
     "outputPrepend",
     "outputPrepend",
     "outputPrepend",
     "outputPrepend",
     "outputPrepend",
     "outputPrepend",
     "outputPrepend",
     "outputPrepend",
     "outputPrepend",
     "outputPrepend",
     "outputPrepend",
     "outputPrepend",
     "outputPrepend",
     "outputPrepend",
     "outputPrepend",
     "outputPrepend",
     "outputPrepend",
     "outputPrepend",
     "outputPrepend",
     "outputPrepend",
     "outputPrepend",
     "outputPrepend",
     "outputPrepend",
     "outputPrepend",
     "outputPrepend",
     "outputPrepend",
     "outputPrepend",
     "outputPrepend",
     "outputPrepend",
     "outputPrepend",
     "outputPrepend",
     "outputPrepend",
     "outputPrepend",
     "outputPrepend",
     "outputPrepend",
     "outputPrepend",
     "outputPrepend",
     "outputPrepend",
     "outputPrepend",
     "outputPrepend",
     "outputPrepend",
     "outputPrepend",
     "outputPrepend",
     "outputPrepend",
     "outputPrepend",
     "outputPrepend",
     "outputPrepend",
     "outputPrepend",
     "outputPrepend",
     "outputPrepend",
     "outputPrepend",
     "outputPrepend",
     "outputPrepend",
     "outputPrepend",
     "outputPrepend",
     "outputPrepend",
     "outputPrepend",
     "outputPrepend",
     "outputPrepend",
     "outputPrepend",
     "outputPrepend",
     "outputPrepend",
     "outputPrepend",
     "outputPrepend",
     "outputPrepend",
     "outputPrepend",
     "outputPrepend",
     "outputPrepend",
     "outputPrepend",
     "outputPrepend",
     "outputPrepend",
     "outputPrepend",
     "outputPrepend",
     "outputPrepend",
     "outputPrepend",
     "outputPrepend",
     "outputPrepend",
     "outputPrepend",
     "outputPrepend",
     "outputPrepend",
     "outputPrepend",
     "outputPrepend",
     "outputPrepend",
     "outputPrepend",
     "outputPrepend",
     "outputPrepend",
     "outputPrepend",
     "outputPrepend",
     "outputPrepend",
     "outputPrepend",
     "outputPrepend",
     "outputPrepend",
     "outputPrepend",
     "outputPrepend",
     "outputPrepend",
     "outputPrepend",
     "outputPrepend",
     "outputPrepend",
     "outputPrepend",
     "outputPrepend",
     "outputPrepend",
     "outputPrepend",
     "outputPrepend",
     "outputPrepend",
     "outputPrepend",
     "outputPrepend",
     "outputPrepend",
     "outputPrepend",
     "outputPrepend",
     "outputPrepend",
     "outputPrepend",
     "outputPrepend",
     "outputPrepend",
     "outputPrepend",
     "outputPrepend",
     "outputPrepend",
     "outputPrepend",
     "outputPrepend",
     "outputPrepend",
     "outputPrepend",
     "outputPrepend",
     "outputPrepend",
     "outputPrepend",
     "outputPrepend",
     "outputPrepend",
     "outputPrepend",
     "outputPrepend",
     "outputPrepend",
     "outputPrepend",
     "outputPrepend",
     "outputPrepend",
     "outputPrepend",
     "outputPrepend",
     "outputPrepend",
     "outputPrepend",
     "outputPrepend",
     "outputPrepend",
     "outputPrepend",
     "outputPrepend",
     "outputPrepend",
     "outputPrepend",
     "outputPrepend",
     "outputPrepend",
     "outputPrepend",
     "outputPrepend",
     "outputPrepend",
     "outputPrepend",
     "outputPrepend",
     "outputPrepend",
     "outputPrepend",
     "outputPrepend",
     "outputPrepend",
     "outputPrepend",
     "outputPrepend",
     "outputPrepend",
     "outputPrepend",
     "outputPrepend",
     "outputPrepend",
     "outputPrepend",
     "outputPrepend",
     "outputPrepend",
     "outputPrepend",
     "outputPrepend",
     "outputPrepend",
     "outputPrepend",
     "outputPrepend",
     "outputPrepend",
     "outputPrepend",
     "outputPrepend",
     "outputPrepend",
     "outputPrepend",
     "outputPrepend",
     "outputPrepend",
     "outputPrepend",
     "outputPrepend",
     "outputPrepend",
     "outputPrepend",
     "outputPrepend",
     "outputPrepend",
     "outputPrepend",
     "outputPrepend",
     "outputPrepend",
     "outputPrepend",
     "outputPrepend",
     "outputPrepend",
     "outputPrepend",
     "outputPrepend",
     "outputPrepend",
     "outputPrepend",
     "outputPrepend",
     "outputPrepend",
     "outputPrepend",
     "outputPrepend",
     "outputPrepend",
     "outputPrepend",
     "outputPrepend",
     "outputPrepend",
     "outputPrepend",
     "outputPrepend",
     "outputPrepend",
     "outputPrepend",
     "outputPrepend",
     "outputPrepend",
     "outputPrepend",
     "outputPrepend",
     "outputPrepend",
     "outputPrepend",
     "outputPrepend",
     "outputPrepend",
     "outputPrepend",
     "outputPrepend",
     "outputPrepend",
     "outputPrepend",
     "outputPrepend",
     "outputPrepend",
     "outputPrepend",
     "outputPrepend",
     "outputPrepend",
     "outputPrepend",
     "outputPrepend",
     "outputPrepend",
     "outputPrepend",
     "outputPrepend",
     "outputPrepend",
     "outputPrepend",
     "outputPrepend",
     "outputPrepend",
     "outputPrepend",
     "outputPrepend",
     "outputPrepend",
     "outputPrepend",
     "outputPrepend",
     "outputPrepend",
     "outputPrepend",
     "outputPrepend",
     "outputPrepend",
     "outputPrepend",
     "outputPrepend",
     "outputPrepend",
     "outputPrepend",
     "outputPrepend",
     "outputPrepend",
     "outputPrepend",
     "outputPrepend",
     "outputPrepend",
     "outputPrepend",
     "outputPrepend",
     "outputPrepend",
     "outputPrepend",
     "outputPrepend",
     "outputPrepend",
     "outputPrepend",
     "outputPrepend",
     "outputPrepend",
     "outputPrepend",
     "outputPrepend",
     "outputPrepend",
     "outputPrepend",
     "outputPrepend",
     "outputPrepend",
     "outputPrepend",
     "outputPrepend"
    ]
   },
   "outputs": [],
   "source": [
    "def generate_negative_sample(row):\n",
    "    num_samples = 0\n",
    "    while num_samples < 1:\n",
    "        randcol = np.random.choice(np.array(['hour', 'day_of_year', 'coords']))\n",
    "        replacement = df_positive.sample()\n",
    "        negative_sample = row\n",
    "        negative_sample[randcol] = replacement[randcol].values[0]\n",
    "        if randcol == 'coords':\n",
    "            negative_sample['borough_geo'] = replacement['borough_geo'].values[0]\n",
    "            negative_sample['address']  = replacement['address'].values[0]\n",
    "            negative_sample['cluster_id']  = replacement['cluster_id'].values[0]\n",
    "\n",
    "        ncoords = negative_sample['coords']\n",
    "        nhour = negative_sample['hour']\n",
    "        nday = negative_sample['day_of_year']\n",
    "        \n",
    "        if df_positive.loc[(df_positive['coords'] == ncoords) & (df_positive['hour'] == nhour) & (df_positive['day_of_year'] == nday)].empty:\n",
    "            yield negative_sample[['hour', 'day_of_year','coords','address', 'borough_geo', 'cluster_id']].values.tolist()\n",
    "            num_samples += 1\n",
    "        else:\n",
    "            print('found coincidence', negative_sample[['hour', 'day_of_year','coords']].values.tolist())"
   ]
  },
  {
   "cell_type": "code",
   "execution_count": 13,
   "metadata": {},
   "outputs": [],
   "source": [
    "my_list = [generate_negative_sample(df_positive.iloc[x]) for x in df_positive.index]"
   ]
  },
  {
   "cell_type": "code",
   "execution_count": 14,
   "metadata": {
    "tags": [
     "outputPrepend",
     "outputPrepend",
     "outputPrepend",
     "outputPrepend",
     "outputPrepend",
     "outputPrepend",
     "outputPrepend",
     "outputPrepend",
     "outputPrepend",
     "outputPrepend",
     "outputPrepend",
     "outputPrepend",
     "outputPrepend",
     "outputPrepend",
     "outputPrepend",
     "outputPrepend",
     "outputPrepend",
     "outputPrepend",
     "outputPrepend",
     "outputPrepend",
     "outputPrepend",
     "outputPrepend",
     "outputPrepend",
     "outputPrepend",
     "outputPrepend",
     "outputPrepend",
     "outputPrepend",
     "outputPrepend",
     "outputPrepend",
     "outputPrepend",
     "outputPrepend",
     "outputPrepend",
     "outputPrepend",
     "outputPrepend",
     "outputPrepend",
     "outputPrepend",
     "outputPrepend",
     "outputPrepend",
     "outputPrepend",
     "outputPrepend",
     "outputPrepend",
     "outputPrepend",
     "outputPrepend",
     "outputPrepend",
     "outputPrepend",
     "outputPrepend",
     "outputPrepend",
     "outputPrepend",
     "outputPrepend",
     "outputPrepend",
     "outputPrepend",
     "outputPrepend",
     "outputPrepend",
     "outputPrepend",
     "outputPrepend",
     "outputPrepend",
     "outputPrepend",
     "outputPrepend",
     "outputPrepend",
     "outputPrepend",
     "outputPrepend",
     "outputPrepend",
     "outputPrepend",
     "outputPrepend",
     "outputPrepend",
     "outputPrepend",
     "outputPrepend",
     "outputPrepend",
     "outputPrepend",
     "outputPrepend",
     "outputPrepend",
     "outputPrepend",
     "outputPrepend",
     "outputPrepend",
     "outputPrepend",
     "outputPrepend",
     "outputPrepend",
     "outputPrepend",
     "outputPrepend",
     "outputPrepend",
     "outputPrepend",
     "outputPrepend",
     "outputPrepend",
     "outputPrepend",
     "outputPrepend",
     "outputPrepend",
     "outputPrepend",
     "outputPrepend",
     "outputPrepend",
     "outputPrepend",
     "outputPrepend",
     "outputPrepend",
     "outputPrepend",
     "outputPrepend",
     "outputPrepend",
     "outputPrepend",
     "outputPrepend",
     "outputPrepend",
     "outputPrepend",
     "outputPrepend",
     "outputPrepend",
     "outputPrepend",
     "outputPrepend",
     "outputPrepend",
     "outputPrepend",
     "outputPrepend",
     "outputPrepend",
     "outputPrepend",
     "outputPrepend",
     "outputPrepend",
     "outputPrepend",
     "outputPrepend",
     "outputPrepend",
     "outputPrepend",
     "outputPrepend",
     "outputPrepend",
     "outputPrepend",
     "outputPrepend",
     "outputPrepend",
     "outputPrepend",
     "outputPrepend",
     "outputPrepend",
     "outputPrepend",
     "outputPrepend",
     "outputPrepend",
     "outputPrepend",
     "outputPrepend",
     "outputPrepend",
     "outputPrepend",
     "outputPrepend",
     "outputPrepend",
     "outputPrepend",
     "outputPrepend",
     "outputPrepend",
     "outputPrepend",
     "outputPrepend",
     "outputPrepend",
     "outputPrepend",
     "outputPrepend",
     "outputPrepend",
     "outputPrepend",
     "outputPrepend",
     "outputPrepend",
     "outputPrepend",
     "outputPrepend",
     "outputPrepend",
     "outputPrepend",
     "outputPrepend",
     "outputPrepend",
     "outputPrepend",
     "outputPrepend",
     "outputPrepend",
     "outputPrepend",
     "outputPrepend",
     "outputPrepend",
     "outputPrepend",
     "outputPrepend",
     "outputPrepend",
     "outputPrepend",
     "outputPrepend",
     "outputPrepend",
     "outputPrepend",
     "outputPrepend",
     "outputPrepend",
     "outputPrepend",
     "outputPrepend",
     "outputPrepend",
     "outputPrepend",
     "outputPrepend",
     "outputPrepend",
     "outputPrepend",
     "outputPrepend",
     "outputPrepend",
     "outputPrepend",
     "outputPrepend",
     "outputPrepend",
     "outputPrepend",
     "outputPrepend",
     "outputPrepend",
     "outputPrepend",
     "outputPrepend",
     "outputPrepend",
     "outputPrepend",
     "outputPrepend",
     "outputPrepend",
     "outputPrepend",
     "outputPrepend",
     "outputPrepend",
     "outputPrepend",
     "outputPrepend",
     "outputPrepend",
     "outputPrepend",
     "outputPrepend",
     "outputPrepend",
     "outputPrepend",
     "outputPrepend",
     "outputPrepend",
     "outputPrepend",
     "outputPrepend",
     "outputPrepend",
     "outputPrepend",
     "outputPrepend",
     "outputPrepend",
     "outputPrepend",
     "outputPrepend",
     "outputPrepend",
     "outputPrepend",
     "outputPrepend",
     "outputPrepend",
     "outputPrepend",
     "outputPrepend",
     "outputPrepend",
     "outputPrepend",
     "outputPrepend",
     "outputPrepend",
     "outputPrepend",
     "outputPrepend",
     "outputPrepend",
     "outputPrepend",
     "outputPrepend",
     "outputPrepend",
     "outputPrepend",
     "outputPrepend",
     "outputPrepend",
     "outputPrepend",
     "outputPrepend",
     "outputPrepend",
     "outputPrepend",
     "outputPrepend",
     "outputPrepend",
     "outputPrepend",
     "outputPrepend",
     "outputPrepend",
     "outputPrepend",
     "outputPrepend",
     "outputPrepend",
     "outputPrepend",
     "outputPrepend",
     "outputPrepend",
     "outputPrepend",
     "outputPrepend",
     "outputPrepend",
     "outputPrepend",
     "outputPrepend",
     "outputPrepend",
     "outputPrepend",
     "outputPrepend",
     "outputPrepend",
     "outputPrepend",
     "outputPrepend",
     "outputPrepend",
     "outputPrepend",
     "outputPrepend",
     "outputPrepend",
     "outputPrepend",
     "outputPrepend",
     "outputPrepend",
     "outputPrepend",
     "outputPrepend",
     "outputPrepend",
     "outputPrepend",
     "outputPrepend",
     "outputPrepend",
     "outputPrepend",
     "outputPrepend",
     "outputPrepend",
     "outputPrepend",
     "outputPrepend",
     "outputPrepend",
     "outputPrepend",
     "outputPrepend",
     "outputPrepend",
     "outputPrepend",
     "outputPrepend",
     "outputPrepend",
     "outputPrepend",
     "outputPrepend"
    ]
   },
   "outputs": [
    {
     "output_type": "stream",
     "name": "stdout",
     "text": "']\nfound coincidence [19, 16, '-74.10164187099997;4.69244135200006']\nfound coincidence [9, 98, '-74.06668429999998;4.71029513000002']\nfound coincidence [19, 52, '-74.12278393899999;4.558443448000048']\nfound coincidence [7, 111, '-74.09369859599997;4.688895240000021']\nfound coincidence [22, 30, '-74.19036733899995;4.622555699000031']\nfound coincidence [7, 163, '-74.09562420699997;4.650374386000067']\nfound coincidence [20, 110, '-74.10881555199995;4.669605164000076']\nfound coincidence [6, 26, '-74.11672821099995;4.686298769000075']\nfound coincidence [12, 147, '-74.10036860699995;4.703752692000024']\nfound coincidence [12, 69, '-74.04039635;4.689502100000027']\nfound coincidence [8, 82, '-74.10290485999997;4.6908317500000285']\nfound coincidence [12, 24, '-74.10378029599997;4.600985306000041']\nfound coincidence [17, 146, '-74.10225851199993;4.669959096000071']\nfound coincidence [15, 3, '-74.11021922499998;4.619483583000034']\nfound coincidence [15, 113, '-74.07772209699993;4.665658441000062']\nfound coincidence [9, 44, '-74.11538788199994;4.688802246000024']\nfound coincidence [18, 138, '-74.10086885699997;4.597489808000034']\nfound coincidence [16, 95, '-74.11280732899995;4.654889157000071']\nfound coincidence [17, 142, '-74.13593862799998;4.6394633840000665']\nfound coincidence [17, 97, '-74.06754306599998;4.632573471000057']\nfound coincidence [11, 123, '-74.11264100399995;4.619196837000061']\nfound coincidence [16, 161, '-74.11437812299994;4.506071766000048']\nfound coincidence [11, 64, '-74.06548923999998;4.750846790000026']\nfound coincidence [11, 142, '-74.05533914499993;4.698262109000041']\nfound coincidence [18, 134, '-74.08997376799994;4.753601779000063']\nfound coincidence [9, 66, '-74.05420195999993;4.697496450000076']\nfound coincidence [12, 64, '-74.07237958999998;4.6511081100000515']\nfound coincidence [9, 114, '-74.14083738399995;4.6260475490000195']\nfound coincidence [13, 104, '-74.09578790499995;4.601959147000059']\nfound coincidence [9, 137, '-74.07999665499993;4.712253166000039']\nfound coincidence [12, 87, '-74.10084414799998;4.6272031110000285']\nfound coincidence [10, 74, '-74.10296200999993;4.624012980000032']\nfound coincidence [18, 166, '-74.041611328;4.696218705000035']\nfound coincidence [7, 74, '-74.11780889999993;4.628324350000072']\nfound coincidence [15, 71, '-74.03441587999998;4.694229990000053']\nfound coincidence [6, 141, '-74.08287051799994;4.6243761770000456']\nfound coincidence [12, 213, '-74.05562694399998;4.689436362000038']\nfound coincidence [19, 156, '-74.06578789199995;4.598673922000046']\nfound coincidence [15, 76, '-74.07327846999993;4.6957561900000515']\nfound coincidence [9, 29, '-74.09437660699997;4.679810800000041']\nfound coincidence [8, 351, '-74.12650136899998;4.6491371280000635']\nfound coincidence [20, 217, '-74.17056456999995;4.6139459370000395']\nfound coincidence [17, 72, '-74.08070108699997;4.6279522330000304']\nfound coincidence [8, 352, '-74.08156458099995;4.60109010900004']\nfound coincidence [6, 328, '-74.06402155799998;4.660842916000036']\nfound coincidence [13, 359, '-74.06098032599994;4.641028493000022']\nfound coincidence [19, 271, '-74.12063294199999;4.575527558000034']\nfound coincidence [16, 206, '-74.15151004599994;4.6691963040000255']\nfound coincidence [12, 270, '-74.13596262299995;4.659560401000022']\nfound coincidence [17, 226, '-74.03945298899998;4.791883159000065']\nfound coincidence [8, 243, '-74.15103822799993;4.5954202900000505']\nfound coincidence [10, 6, '-74.12874211099995;4.5846435900000415']\nfound coincidence [5, 351, '-74.13008162399994;4.607126565000044']\nfound coincidence [9, 221, '-74.06882053199999;4.651474269000062']\nfound coincidence [17, 210, '-74.10211241099995;4.736869067000042']\nfound coincidence [11, 306, '-74.04217206399994;4.775209266000047']\nfound coincidence [17, 306, '-74.07927785999993;4.652189225000028']\nfound coincidence [6, 246, '-74.08896155499998;4.57069726900005']\nfound coincidence [16, 212, '-74.063630258;4.636715811000045']\nfound coincidence [13, 211, '-74.13625277699998;4.597835982000049']\nfound coincidence [15, 206, '-74.13900013499993;4.560268966000024']\nfound coincidence [16, 208, '-74.14255565399995;4.580380483000057']\nfound coincidence [17, 359, '-74.133978487;4.575468088000036']\nfound coincidence [15, 222, '-74.14042134899995;4.663840249000032']\nfound coincidence [10, 334, '-74.08132764799996;4.569776856000033']\nfound coincidence [8, 334, '-74.065692169;4.675128734000054']\nfound coincidence [8, 323, '-74.12966576399998;4.6084061930000635']\nfound coincidence [16, 322, '-74.08657377699996;4.586930596000059']\nfound coincidence [20, 320, '-74.15798455199997;4.5817233490000735']\nfound coincidence [9, 352, '-74.08894618199997;4.614948944000048']\nfound coincidence [12, 349, '-74.08673371599998;4.598483601000054']\nfound coincidence [12, 225, '-74.12699593199994;4.561009054000067']\nfound coincidence [12, 351, '-74.11319482899995;4.594063362000043']\nfound coincidence [13, 349, '-74.08958480099994;4.616795465000052']\nfound coincidence [9, 223, '-74.09672811199994;4.547787303000064']\nfound coincidence [15, 218, '-74.07037396699997;4.718681220000065']\nfound coincidence [11, 293, '-74.10263395799996;4.644970543000057']\nfound coincidence [14, 212, '-74.09586640299993;4.602019014000064']\nfound coincidence [22, 277, '-74.08880773399994;4.591874825000048']\nfound coincidence [13, 262, '-74.09529073099996;4.585103841000034']\nfound coincidence [17, 209, '-74.14218907799993;4.580424573000073']\nfound coincidence [7, 323, '-74.13982277299993;4.656028221000042']\nfound coincidence [23, 218, '-74.15214016099996;4.622960255000066']\nfound coincidence [21, 306, '-74.09288649999998;4.717141014000049']\nfound coincidence [20, 225, '-74.18429659599997;4.6064101470000764']\nfound coincidence [17, 223, '-74.07761275699994;4.657923629000038']\nfound coincidence [7, 337, '-74.09338924999997;4.612373357000024']\nfound coincidence [19, 224, '-74.11786455999999;4.499204158000055']\nfound coincidence [7, 262, '-74.13538139999997;4.543496319000042']\nfound coincidence [17, 337, '-74.07799204299994;4.684734632000072']\nfound coincidence [13, 225, '-74.04610269599993;4.72977725100003']\nfound coincidence [11, 227, '-74.08899629299998;4.599755253000068']\nfound coincidence [13, 240, '-74.15434394699997;4.6786732690000585']\nfound coincidence [15, 322, '-74.06569024099997;4.599455761000058']\nfound coincidence [19, 59, '-74.06343773999998;4.676471940000057']\nfound coincidence [8, 278, '-74.16710759999995;4.630896440000072']\nfound coincidence [8, 31, '-74.14488079999995;4.609174300000063']\nfound coincidence [17, 228, '-74.12072295999997;4.645046639000043']\nfound coincidence [5, 148, '-74.12272629999995;4.57763267200005']\nfound coincidence [20, 135, '-74.16442759499995;4.5960600380000765']\nfound coincidence [7, 158, '-74.09241849599994;4.690713290000076']\nfound coincidence [14, 106, '-74.07182727899993;4.654222481000033']\nfound coincidence [13, 81, '-74.09582956;4.641174910000075']\nfound coincidence [19, 35, '-74.10282193499995;4.595159075000026']\nfound coincidence [13, 81, '-74.04327460999998;4.682709060000036']\nfound coincidence [21, 131, '-74.16139558199995;4.608169554000028']\nfound coincidence [7, 226, '-74.10282972399995;4.645084643000075']\nfound coincidence [17, 158, '-74.09433758399997;4.6486858850000194']\nfound coincidence [6, 40, '-74.11963634299997;4.526933644000053']\nfound coincidence [22, 238, '-74.09182764799993;4.614317606000043']\nfound coincidence [11, 70, '-74.10539460999998;4.599657730000047']\nfound coincidence [8, 95, '-74.15645129999997;4.696501900000044']\nfound coincidence [7, 51, '-74.06397691999997;4.6386276030000335']\nfound coincidence [18, 335, '-74.10045885199997;4.600881672000072']\nfound coincidence [17, 333, '-74.12540496099997;4.672065750000058']\nfound coincidence [9, 218, '-74.12045807999993;4.656530785000029']\nfound coincidence [18, 259, '-74.14130549599997;4.610763156000076']\nfound coincidence [20, 345, '-74.06424092499998;4.7372988240000495']\nfound coincidence [15, 317, '-74.15515073499995;4.576454829000056']\nfound coincidence [7, 114, '-74.07556947599994;4.730674893000071']\nfound coincidence [19, 202, '-74.14612095099994;4.665963260000068']\nfound coincidence [6, 264, '-74.14234259499993;4.606080466000037']\nfound coincidence [13, 310, '-74.04714131299994;4.750262572000054']\nfound coincidence [13, 343, '-74.12797971199996;4.669076709000024']\nfound coincidence [9, 185, '-74.13547057999993;4.659001695000029']\nfound coincidence [7, 335, '-74.05835480799993;4.653955120000036']\nfound coincidence [20, 335, '-74.07927731499996;4.686131062000072']\nfound coincidence [11, 314, '-74.04507601899995;4.668690772000048']\nfound coincidence [11, 314, '-74.04507601899995;4.668690772000048']\nfound coincidence [7, 319, '-74.04322133899994;4.7162216320000425']\nfound coincidence [5, 93, '-74.01855528899995;4.735530182000048']\nfound coincidence [10, 137, '-74.10353605799997;4.677300118000061']\nfound coincidence [7, 55, '-74.05172309999993;4.719009580000034']\nfound coincidence [13, 134, '-74.12412607999991;4.651567210000052']\nfound coincidence [14, 165, '-74.09115244999998;4.561930626000049']\nfound coincidence [8, 135, '-74.12077982499993;4.7220064170000455']\nfound coincidence [14, 27, '-74.126316004;4.617734289000055']\nfound coincidence [15, 18, '-74.07472959699999;4.605199700000072']\nfound coincidence [20, 13, '-74.10827036799998;4.692242774000022']\nfound coincidence [18, 98, '-74.11263268999993;4.72236692000007']\nfound coincidence [12, 62, '-74.04981897999993;4.654530440000031']\nfound coincidence [18, 104, '-74.06186963999993;4.630527591000033']\nfound coincidence [8, 111, '-74.13763803299997;4.584429324000041']\nfound coincidence [15, 57, '-74.12078417999999;4.603621070000031']\nfound coincidence [12, 71, '-74.13818381999994;4.565581470000041']\nfound coincidence [10, 39, '-74.04752460799993;4.684975561000043']\nfound coincidence [11, 118, '-74.10606913499998;4.618623758000068']\nfound coincidence [17, 74, '-74.18345620999997;4.607068620000063']\nfound coincidence [12, 306, '-74.12466371699999;4.646759962000033']\nfound coincidence [18, 348, '-74.13379397399994;4.625408113000049']\nfound coincidence [19, 347, '-74.05644147099997;4.718487823000032']\nfound coincidence [14, 53, '-74.09338924999997;4.612373357000024']\nfound coincidence [19, 312, '-74.08459724099998;4.623156829000038']\nfound coincidence [18, 30, '-74.06981990499997;4.638031681000029']\nfound coincidence [9, 267, '-74.05987311299998;4.6979575300000525']\nfound coincidence [18, 345, '-74.05647283399995;4.6847690390000585']\nfound coincidence [17, 345, '-74.04079930699999;4.723538547000032']\nfound coincidence [17, 17, '-74.05908152099995;4.650014633000068']\nfound coincidence [8, 312, '-74.17110213399997;4.628118350000022']\nfound coincidence [20, 311, '-74.10391732899996;4.565506856000071']\nfound coincidence [8, 228, '-74.06455839999995;4.7282917200000725']\nfound coincidence [12, 283, '-74.07206225099996;4.640925002000074']\nfound coincidence [21, 358, '-74.16593290199995;4.621054638000032']\nfound coincidence [13, 354, '-74.15618762499997;4.578058142000032']\nfound coincidence [13, 342, '-74.08367956199999;4.624881862000052']\nfound coincidence [8, 61, '-74.07553307999996;4.6101699100000255']\nfound coincidence [9, 72, '-74.09389842;4.606398200000059']\nfound coincidence [7, 246, '-74.13429262399995;4.630422467000074']\nfound coincidence [10, 257, '-74.10636495899995;4.627423752000027']\nfound coincidence [10, 313, '-74.07422567999998;4.58658702300005']\nfound coincidence [11, 353, '-74.09130619099993;4.600327937000031']\nfound coincidence [15, 315, '-74.16155146299997;4.685445548000075']\nfound coincidence [12, 292, '-74.10699668699993;4.6519189340000375']\nfound coincidence [6, 234, '-74.10045367999999;4.732758347000072']\nfound coincidence [5, 235, '-74.06423441999993;4.631528305000074']\nfound coincidence [21, 234, '-74.08928347299997;4.625507558000038']\nfound coincidence [17, 293, '-74.10083302599996;4.568672910000032']\nfound coincidence [19, 291, '-74.08917451699995;4.629364130000057']\nfound coincidence [19, 230, '-74.03999437999995;4.789001227000028']\nfound coincidence [7, 338, '-74.12705630999993;4.563266137000029']\nfound coincidence [6, 250, '-74.06622341699995;4.603163455000072']\nfound coincidence [19, 352, '-74.05204021099996;4.686083912000072']\nfound coincidence [7, 354, '-74.08470686699997;4.754731072000027']\nfound coincidence [16, 231, '-74.04672689299997;4.7515161360000215']\nfound coincidence [15, 232, '-74.18811066299997;4.616455931000076']\nfound coincidence [15, 341, '-74.119617609;4.628937390000034']\nfound coincidence [13, 350, '-74.10689463799997;4.6275309930000486']\nfound coincidence [15, 352, '-74.15013368699994;4.627625310000042']\nfound coincidence [16, 232, '-74.05521537399994;4.682903783000028']\nfound coincidence [12, 355, '-74.12659381099995;4.581937480000022']\nfound coincidence [10, 355, '-74.13047645299997;4.666144847000055']\nfound coincidence [4, 321, '-74.08754322599998;4.619468269000038']\nfound coincidence [21, 323, '-74.18412704499997;4.609772961000033']\nfound coincidence [16, 281, '-74.10054202199996;4.603442270000073']\nfound coincidence [11, 292, '-74.07431443599995;4.639816308000036']\nfound coincidence [12, 267, '-74.13363493199995;4.66182778700005']\nfound coincidence [15, 227, '-74.09381808399995;4.62551402500003']\nfound coincidence [11, 356, '-74.09038712999995;4.6108003070000345']\nfound coincidence [17, 284, '-74.07921555999997;4.636019938000062']\nfound coincidence [6, 234, '-74.03909730599996;4.797559749000072']\nfound coincidence [22, 361, '-74.17880719299995;4.626751322000075']\nfound coincidence [6, 204, '-74.15374351;4.617008521000058']\nfound coincidence [16, 147, '-74.14232439599994;4.58052133700005']\nfound coincidence [6, 270, '-74.10131602499995;4.60710318200006']\nfound coincidence [20, 343, '-74.14639546599993;4.631278844000065']\nfound coincidence [11, 325, '-74.02900747599993;4.699612218000028']\nfound coincidence [14, 324, '-74.067171708;4.613017926000055']\nfound coincidence [11, 282, '-74.12269429699995;4.745770361000041']\nfound coincidence [23, 337, '-74.13497074899993;4.5945801010000755']\nfound coincidence [16, 220, '-74.10613310699993;4.627368374000072']\nfound coincidence [18, 290, '-74.11210278699998;4.655418889000032']\nfound coincidence [10, 318, '-74.07514891299998;4.666036624000071']\nfound coincidence [12, 318, '-74.17752522499995;4.629175516000032']\nfound coincidence [16, 318, '-74.13226315099996;4.5760632610000584']\nfound coincidence [19, 340, '-74.06426172499994;4.661004840000032']\nfound coincidence [14, 325, '-74.11185511199994;4.609418369000025']\nfound coincidence [15, 358, '-74.0614808;4.66688739600005']\nfound coincidence [22, 352, '-74.12835732699995;4.574610316000076']\nfound coincidence [5, 356, '-74.13927399499994;4.583141319000049']\nfound coincidence [7, 364, '-74.04697964799993;4.747302116000071']\nfound coincidence [20, 349, '-74.07030755799997;4.620459786000026']\nfound coincidence [13, 349, '-74.06616664999996;4.640453689000027']\nfound coincidence [12, 358, '-74.13756803199995;4.6306256510000585']\nfound coincidence [15, 357, '-74.13975754099994;4.618672273000072']\nfound coincidence [16, 365, '-74.10516172399997;4.584555524000051']\nfound coincidence [16, 295, '-74.125259182;4.648800513000026']\nfound coincidence [21, 342, '-74.14270529099997;4.5666238370000665']\nfound coincidence [6, 346, '-74.08331886199994;4.680337458000054']\nfound coincidence [6, 346, '-74.08331886199994;4.680337458000054']\nfound coincidence [15, 264, '-74.11763908099994;4.587693520000073']\nfound coincidence [10, 354, '-74.05814210499993;4.650709642000038']\nfound coincidence [20, 293, '-74.11052021299997;4.708561151000026']\nfound coincidence [15, 329, '-74.04300879599998;4.7503791980000765']\nfound coincidence [7, 331, '-74.054771197;4.699325041000066']\nfound coincidence [9, 306, '-74.11245016399994;4.594541725000057']\nfound coincidence [22, 234, '-74.10264467999998;4.581234466000068']\nfound coincidence [7, 263, '-74.11977794399995;4.67849497900005']\nfound coincidence [11, 237, '-74.03439835499995;4.743439007000064']\nfound coincidence [11, 360, '-74.030828822;4.697826132000046']\nfound coincidence [14, 361, '-74.07602103899995;4.649757037000028']\nfound coincidence [13, 333, '-74.11672821099995;4.686298769000075']\nfound coincidence [11, 333, '-74.16399464499993;4.602088556000068']\nfound coincidence [15, 253, '-74.15139268599995;4.669193']\nfound coincidence [7, 332, '-74.08071748599998;4.682672459000059']\nfound coincidence [13, 349, '-74.05677461799998;4.6901699530000664']\nfound coincidence [15, 303, '-74.145997934;4.618665790000024']\nfound coincidence [22, 156, '-74.03283528799993;4.703486491000035']\nfound coincidence [16, 320, '-74.15778814499998;4.619662652000045']\nfound coincidence [15, 321, '-74.12439190199996;4.58975881300006']\nfound coincidence [19, 303, '-74.10574602199993;4.593230994000066']\nfound coincidence [14, 303, '-74.07219668999993;4.652161844000035']\nfound coincidence [6, 224, '-74.112424107;4.594504512000071']\nfound coincidence [8, 181, '-74.12440235099997;4.725804679000022']\nfound coincidence [9, 177, '-74.06795211799994;4.6745092530000525']\nfound coincidence [7, 235, '-74.06508086799995;4.689219792000074']\nfound coincidence [10, 247, '-74.13215968799993;4.690306379000049']\nfound coincidence [12, 248, '-74.04160966099995;4.716501226000048']\nfound coincidence [19, 279, '-74.04531120699994;4.7605228480000505']\nfound coincidence [5, 198, '-74.07485845299993;4.7268268820000685']\nfound coincidence [7, 197, '-74.15919773299998;4.639274698000066']\nfound coincidence [17, 231, '-74.10151824799993;4.484398980000037']\nfound coincidence [14, 235, '-74.11577004799993;4.639739296000073']\nfound coincidence [12, 349, '-74.06625510199996;4.6727108740000745']\nfound coincidence [17, 250, '-74.08848203499997;4.66018822500007']\nfound coincidence [20, 239, '-74.04881864699999;4.665144043000055']\nfound coincidence [12, 236, '-74.10254458699995;4.623963892000064']\nfound coincidence [16, 318, '-74.03649708099994;4.704735529000062']\nfound coincidence [21, 304, '-74.12828325399995;4.686998282000047']\nfound coincidence [15, 309, '-74.17141674699997;4.616851195000038']\nfound coincidence [16, 217, '-74.11416313599993;4.6152431530000495']\nfound coincidence [7, 291, '-74.03263139299997;4.708480535000035']\nfound coincidence [9, 332, '-74.07802099399998;4.654822242000024']\nfound coincidence [17, 354, '-74.16979920399997;4.622178484000076']\nfound coincidence [12, 307, '-74.13885431299997;4.5961457770000615']\nfound coincidence [19, 364, '-74.06539691999996;4.6890456050000475']\nfound coincidence [13, 348, '-74.08700910599998;4.61705489600007']\nfound coincidence [10, 208, '-74.12000103599996;4.678822618000027']\nfound coincidence [21, 321, '-74.11485528599997;4.672155743000077']\nfound coincidence [6, 260, '-74.07324273999996;4.7156619840000635']\nfound coincidence [14, 247, '-74.10815965199998;4.586178284000027']\nfound coincidence [14, 215, '-74.13873114499995;4.69427162100004']\nfound coincidence [12, 338, '-74.09589555199994;4.6412714530000585']\nfound coincidence [14, 300, '-74.11109373199997;4.661649461000025']\nfound coincidence [20, 277, '-74.14147140899995;4.697489906000044']\nfound coincidence [8, 349, '-74.13700004899994;4.54902813700005']\nfound coincidence [17, 283, '-74.03263152999993;4.6947241840000515']\nfound coincidence [19, 237, '-74.18125233599994;4.608618481000065']\nfound coincidence [5, 249, '-74.10216064499998;4.736896389000037']\nfound coincidence [8, 317, '-74.09417531999998;4.755782460000034']\nfound coincidence [15, 314, '-74.09701221599995;4.568453307000027']\nfound coincidence [8, 239, '-74.05591408699999;4.693876153000076']\nfound coincidence [8, 239, '-74.04792774099997;4.71152414900007']\nfound coincidence [12, 237, '-74.05296270299993;4.686136969000074']\nfound coincidence [10, 248, '-74.02358444199997;4.741288689000044']\nfound coincidence [13, 246, '-74.05169736399995;4.721583750000036']\nfound coincidence [23, 253, '-74.15660051899994;4.682698309000045']\nCPU times: user 9min 3s, sys: 2.51 s, total: 9min 5s\nWall time: 9min 59s\n"
    }
   ],
   "source": [
    "%%time\n",
    "from itertools import chain\n",
    "neg_list = list(chain.from_iterable(my_list))"
   ]
  },
  {
   "cell_type": "code",
   "execution_count": 15,
   "metadata": {},
   "outputs": [],
   "source": [
    "neg_df = pd.DataFrame.from_records(neg_list)"
   ]
  },
  {
   "cell_type": "code",
   "execution_count": 16,
   "metadata": {},
   "outputs": [
    {
     "output_type": "execute_result",
     "data": {
      "text/plain": "        0    1                                      2  \\\n0      12  318  -74.12178986799995;4.6031063950000535   \n1      13   44    -74.17893912999993;4.62416029700006   \n2      17  173   -74.12102002699999;4.721841823000034   \n3       9   92   -74.06570572199999;4.599420861000056   \n4       8  170   -74.09429402399995;4.600073951000071   \n...    ..  ...                                    ...   \n33196  12  214   -74.11071803599998;4.708741003000057   \n33197  16   72   -74.07638578699994;4.685922248000054   \n33198  23  248  -74.06070190099996;4.6780774160000655   \n33199  15  255  -74.08714144399994;4.6752217400000395   \n33200  14  131   -74.08629189699997;4.676853866000044   \n\n                                          3               4   5  \n0      AV AVENIDA PRIMERA DE MAYO-KR 50A 14   PUENTE ARANDA   1  \n1                           KR 86-CL 53 S 2            BOSA   1  \n2                           CL 80-KR 114 99        ENGATIVA  10  \n3           AV AVENIDA CIRCUNVALAR-CL 17 02      CANDELARIA  13  \n4                           CL 4B-KR 23A 28    LOS MARTIRES   1  \n...                                     ...             ...  ..  \n33196                        CL 80-KR 98A 2        ENGATIVA   1  \n33197                        KR 68-CL 94 02  BARRIOS UNIDOS   1  \n33198                         KR 30-CL 91 2  BARRIOS UNIDOS   1  \n33199                     KR 68-CL 67DBIS 2  BARRIOS UNIDOS   1  \n33200                        KR 68-CL 67G 2  BARRIOS UNIDOS   1  \n\n[33201 rows x 6 columns]",
      "text/html": "<div>\n<style scoped>\n    .dataframe tbody tr th:only-of-type {\n        vertical-align: middle;\n    }\n\n    .dataframe tbody tr th {\n        vertical-align: top;\n    }\n\n    .dataframe thead th {\n        text-align: right;\n    }\n</style>\n<table border=\"1\" class=\"dataframe\">\n  <thead>\n    <tr style=\"text-align: right;\">\n      <th></th>\n      <th>0</th>\n      <th>1</th>\n      <th>2</th>\n      <th>3</th>\n      <th>4</th>\n      <th>5</th>\n    </tr>\n  </thead>\n  <tbody>\n    <tr>\n      <th>0</th>\n      <td>12</td>\n      <td>318</td>\n      <td>-74.12178986799995;4.6031063950000535</td>\n      <td>AV AVENIDA PRIMERA DE MAYO-KR 50A 14</td>\n      <td>PUENTE ARANDA</td>\n      <td>1</td>\n    </tr>\n    <tr>\n      <th>1</th>\n      <td>13</td>\n      <td>44</td>\n      <td>-74.17893912999993;4.62416029700006</td>\n      <td>KR 86-CL 53 S 2</td>\n      <td>BOSA</td>\n      <td>1</td>\n    </tr>\n    <tr>\n      <th>2</th>\n      <td>17</td>\n      <td>173</td>\n      <td>-74.12102002699999;4.721841823000034</td>\n      <td>CL 80-KR 114 99</td>\n      <td>ENGATIVA</td>\n      <td>10</td>\n    </tr>\n    <tr>\n      <th>3</th>\n      <td>9</td>\n      <td>92</td>\n      <td>-74.06570572199999;4.599420861000056</td>\n      <td>AV AVENIDA CIRCUNVALAR-CL 17 02</td>\n      <td>CANDELARIA</td>\n      <td>13</td>\n    </tr>\n    <tr>\n      <th>4</th>\n      <td>8</td>\n      <td>170</td>\n      <td>-74.09429402399995;4.600073951000071</td>\n      <td>CL 4B-KR 23A 28</td>\n      <td>LOS MARTIRES</td>\n      <td>1</td>\n    </tr>\n    <tr>\n      <th>...</th>\n      <td>...</td>\n      <td>...</td>\n      <td>...</td>\n      <td>...</td>\n      <td>...</td>\n      <td>...</td>\n    </tr>\n    <tr>\n      <th>33196</th>\n      <td>12</td>\n      <td>214</td>\n      <td>-74.11071803599998;4.708741003000057</td>\n      <td>CL 80-KR 98A 2</td>\n      <td>ENGATIVA</td>\n      <td>1</td>\n    </tr>\n    <tr>\n      <th>33197</th>\n      <td>16</td>\n      <td>72</td>\n      <td>-74.07638578699994;4.685922248000054</td>\n      <td>KR 68-CL 94 02</td>\n      <td>BARRIOS UNIDOS</td>\n      <td>1</td>\n    </tr>\n    <tr>\n      <th>33198</th>\n      <td>23</td>\n      <td>248</td>\n      <td>-74.06070190099996;4.6780774160000655</td>\n      <td>KR 30-CL 91 2</td>\n      <td>BARRIOS UNIDOS</td>\n      <td>1</td>\n    </tr>\n    <tr>\n      <th>33199</th>\n      <td>15</td>\n      <td>255</td>\n      <td>-74.08714144399994;4.6752217400000395</td>\n      <td>KR 68-CL 67DBIS 2</td>\n      <td>BARRIOS UNIDOS</td>\n      <td>1</td>\n    </tr>\n    <tr>\n      <th>33200</th>\n      <td>14</td>\n      <td>131</td>\n      <td>-74.08629189699997;4.676853866000044</td>\n      <td>KR 68-CL 67G 2</td>\n      <td>BARRIOS UNIDOS</td>\n      <td>1</td>\n    </tr>\n  </tbody>\n</table>\n<p>33201 rows × 6 columns</p>\n</div>"
     },
     "metadata": {},
     "execution_count": 16
    }
   ],
   "source": [
    "neg_df"
   ]
  },
  {
   "cell_type": "code",
   "execution_count": 17,
   "metadata": {},
   "outputs": [],
   "source": [
    "neg_df.columns = ['hour', 'day_of_year', 'coords', 'address', 'borough', 'cluster_id']"
   ]
  },
  {
   "cell_type": "code",
   "execution_count": 18,
   "metadata": {},
   "outputs": [],
   "source": [
    "neg_df['year'] = 2018"
   ]
  },
  {
   "cell_type": "code",
   "execution_count": 19,
   "metadata": {},
   "outputs": [
    {
     "output_type": "execute_result",
     "data": {
      "text/plain": "(33201, 7)"
     },
     "metadata": {},
     "execution_count": 19
    }
   ],
   "source": [
    "neg_df.shape"
   ]
  },
  {
   "cell_type": "code",
   "execution_count": 20,
   "metadata": {},
   "outputs": [],
   "source": [
    "def compose_date(years, months=1, days=1, weeks=None, hours=None, minutes=None,\n",
    "                 seconds=None, milliseconds=None, microseconds=None, nanoseconds=None):\n",
    "    years = np.asarray(years) - 1970\n",
    "    months = np.asarray(months) - 1\n",
    "    days = np.asarray(days) - 1\n",
    "    types = ('<M8[Y]', '<m8[M]', '<m8[D]', '<m8[W]', '<m8[h]',\n",
    "             '<m8[m]', '<m8[s]', '<m8[ms]', '<m8[us]', '<m8[ns]')\n",
    "    vals = (years, months, days, weeks, hours, minutes, seconds,\n",
    "            milliseconds, microseconds, nanoseconds)\n",
    "    return sum(np.asarray(v, dtype=t) for t, v in zip(types, vals)\n",
    "               if v is not None)\n",
    "\n",
    "\n",
    "neg_df['timestamp'] = compose_date(neg_df['year'], days=neg_df['day_of_year'], hours=neg_df['hour'], minutes=np.zeros(neg_df.shape[0]), seconds=np.zeros(neg_df.shape[0]))\n",
    "neg_df['date'] = compose_date(neg_df['year'], days=neg_df['day_of_year'])\n",
    ""
   ]
  },
  {
   "cell_type": "code",
   "execution_count": 21,
   "metadata": {},
   "outputs": [],
   "source": [
    "neg_df = neg_df.join(neg_df.coords.str.split(';',expand=True))"
   ]
  },
  {
   "cell_type": "code",
   "execution_count": 22,
   "metadata": {},
   "outputs": [],
   "source": [
    "neg_df.rename(columns={0: \"x\", 1: \"y\"}, inplace=True)"
   ]
  },
  {
   "cell_type": "code",
   "execution_count": 23,
   "metadata": {},
   "outputs": [
    {
     "output_type": "execute_result",
     "data": {
      "text/plain": "       hour  day_of_year                                 coords  \\\n0        12          318  -74.12178986799995;4.6031063950000535   \n1        13           44    -74.17893912999993;4.62416029700006   \n2        17          173   -74.12102002699999;4.721841823000034   \n3         9           92   -74.06570572199999;4.599420861000056   \n4         8          170   -74.09429402399995;4.600073951000071   \n...     ...          ...                                    ...   \n33196    12          214   -74.11071803599998;4.708741003000057   \n33197    16           72   -74.07638578699994;4.685922248000054   \n33198    23          248  -74.06070190099996;4.6780774160000655   \n33199    15          255  -74.08714144399994;4.6752217400000395   \n33200    14          131   -74.08629189699997;4.676853866000044   \n\n                                    address         borough  cluster_id  year  \\\n0      AV AVENIDA PRIMERA DE MAYO-KR 50A 14   PUENTE ARANDA           1  2018   \n1                           KR 86-CL 53 S 2            BOSA           1  2018   \n2                           CL 80-KR 114 99        ENGATIVA          10  2018   \n3           AV AVENIDA CIRCUNVALAR-CL 17 02      CANDELARIA          13  2018   \n4                           CL 4B-KR 23A 28    LOS MARTIRES           1  2018   \n...                                     ...             ...         ...   ...   \n33196                        CL 80-KR 98A 2        ENGATIVA           1  2018   \n33197                        KR 68-CL 94 02  BARRIOS UNIDOS           1  2018   \n33198                         KR 30-CL 91 2  BARRIOS UNIDOS           1  2018   \n33199                     KR 68-CL 67DBIS 2  BARRIOS UNIDOS           1  2018   \n33200                        KR 68-CL 67G 2  BARRIOS UNIDOS           1  2018   \n\n                timestamp       date                   x                   y  \n0     2018-11-14 12:00:00 2018-11-14  -74.12178986799995  4.6031063950000535  \n1     2018-02-13 13:00:00 2018-02-13  -74.17893912999993    4.62416029700006  \n2     2018-06-22 17:00:00 2018-06-22  -74.12102002699999   4.721841823000034  \n3     2018-04-02 09:00:00 2018-04-02  -74.06570572199999   4.599420861000056  \n4     2018-06-19 08:00:00 2018-06-19  -74.09429402399995   4.600073951000071  \n...                   ...        ...                 ...                 ...  \n33196 2018-08-02 12:00:00 2018-08-02  -74.11071803599998   4.708741003000057  \n33197 2018-03-13 16:00:00 2018-03-13  -74.07638578699994   4.685922248000054  \n33198 2018-09-05 23:00:00 2018-09-05  -74.06070190099996  4.6780774160000655  \n33199 2018-09-12 15:00:00 2018-09-12  -74.08714144399994  4.6752217400000395  \n33200 2018-05-11 14:00:00 2018-05-11  -74.08629189699997   4.676853866000044  \n\n[33201 rows x 11 columns]",
      "text/html": "<div>\n<style scoped>\n    .dataframe tbody tr th:only-of-type {\n        vertical-align: middle;\n    }\n\n    .dataframe tbody tr th {\n        vertical-align: top;\n    }\n\n    .dataframe thead th {\n        text-align: right;\n    }\n</style>\n<table border=\"1\" class=\"dataframe\">\n  <thead>\n    <tr style=\"text-align: right;\">\n      <th></th>\n      <th>hour</th>\n      <th>day_of_year</th>\n      <th>coords</th>\n      <th>address</th>\n      <th>borough</th>\n      <th>cluster_id</th>\n      <th>year</th>\n      <th>timestamp</th>\n      <th>date</th>\n      <th>x</th>\n      <th>y</th>\n    </tr>\n  </thead>\n  <tbody>\n    <tr>\n      <th>0</th>\n      <td>12</td>\n      <td>318</td>\n      <td>-74.12178986799995;4.6031063950000535</td>\n      <td>AV AVENIDA PRIMERA DE MAYO-KR 50A 14</td>\n      <td>PUENTE ARANDA</td>\n      <td>1</td>\n      <td>2018</td>\n      <td>2018-11-14 12:00:00</td>\n      <td>2018-11-14</td>\n      <td>-74.12178986799995</td>\n      <td>4.6031063950000535</td>\n    </tr>\n    <tr>\n      <th>1</th>\n      <td>13</td>\n      <td>44</td>\n      <td>-74.17893912999993;4.62416029700006</td>\n      <td>KR 86-CL 53 S 2</td>\n      <td>BOSA</td>\n      <td>1</td>\n      <td>2018</td>\n      <td>2018-02-13 13:00:00</td>\n      <td>2018-02-13</td>\n      <td>-74.17893912999993</td>\n      <td>4.62416029700006</td>\n    </tr>\n    <tr>\n      <th>2</th>\n      <td>17</td>\n      <td>173</td>\n      <td>-74.12102002699999;4.721841823000034</td>\n      <td>CL 80-KR 114 99</td>\n      <td>ENGATIVA</td>\n      <td>10</td>\n      <td>2018</td>\n      <td>2018-06-22 17:00:00</td>\n      <td>2018-06-22</td>\n      <td>-74.12102002699999</td>\n      <td>4.721841823000034</td>\n    </tr>\n    <tr>\n      <th>3</th>\n      <td>9</td>\n      <td>92</td>\n      <td>-74.06570572199999;4.599420861000056</td>\n      <td>AV AVENIDA CIRCUNVALAR-CL 17 02</td>\n      <td>CANDELARIA</td>\n      <td>13</td>\n      <td>2018</td>\n      <td>2018-04-02 09:00:00</td>\n      <td>2018-04-02</td>\n      <td>-74.06570572199999</td>\n      <td>4.599420861000056</td>\n    </tr>\n    <tr>\n      <th>4</th>\n      <td>8</td>\n      <td>170</td>\n      <td>-74.09429402399995;4.600073951000071</td>\n      <td>CL 4B-KR 23A 28</td>\n      <td>LOS MARTIRES</td>\n      <td>1</td>\n      <td>2018</td>\n      <td>2018-06-19 08:00:00</td>\n      <td>2018-06-19</td>\n      <td>-74.09429402399995</td>\n      <td>4.600073951000071</td>\n    </tr>\n    <tr>\n      <th>...</th>\n      <td>...</td>\n      <td>...</td>\n      <td>...</td>\n      <td>...</td>\n      <td>...</td>\n      <td>...</td>\n      <td>...</td>\n      <td>...</td>\n      <td>...</td>\n      <td>...</td>\n      <td>...</td>\n    </tr>\n    <tr>\n      <th>33196</th>\n      <td>12</td>\n      <td>214</td>\n      <td>-74.11071803599998;4.708741003000057</td>\n      <td>CL 80-KR 98A 2</td>\n      <td>ENGATIVA</td>\n      <td>1</td>\n      <td>2018</td>\n      <td>2018-08-02 12:00:00</td>\n      <td>2018-08-02</td>\n      <td>-74.11071803599998</td>\n      <td>4.708741003000057</td>\n    </tr>\n    <tr>\n      <th>33197</th>\n      <td>16</td>\n      <td>72</td>\n      <td>-74.07638578699994;4.685922248000054</td>\n      <td>KR 68-CL 94 02</td>\n      <td>BARRIOS UNIDOS</td>\n      <td>1</td>\n      <td>2018</td>\n      <td>2018-03-13 16:00:00</td>\n      <td>2018-03-13</td>\n      <td>-74.07638578699994</td>\n      <td>4.685922248000054</td>\n    </tr>\n    <tr>\n      <th>33198</th>\n      <td>23</td>\n      <td>248</td>\n      <td>-74.06070190099996;4.6780774160000655</td>\n      <td>KR 30-CL 91 2</td>\n      <td>BARRIOS UNIDOS</td>\n      <td>1</td>\n      <td>2018</td>\n      <td>2018-09-05 23:00:00</td>\n      <td>2018-09-05</td>\n      <td>-74.06070190099996</td>\n      <td>4.6780774160000655</td>\n    </tr>\n    <tr>\n      <th>33199</th>\n      <td>15</td>\n      <td>255</td>\n      <td>-74.08714144399994;4.6752217400000395</td>\n      <td>KR 68-CL 67DBIS 2</td>\n      <td>BARRIOS UNIDOS</td>\n      <td>1</td>\n      <td>2018</td>\n      <td>2018-09-12 15:00:00</td>\n      <td>2018-09-12</td>\n      <td>-74.08714144399994</td>\n      <td>4.6752217400000395</td>\n    </tr>\n    <tr>\n      <th>33200</th>\n      <td>14</td>\n      <td>131</td>\n      <td>-74.08629189699997;4.676853866000044</td>\n      <td>KR 68-CL 67G 2</td>\n      <td>BARRIOS UNIDOS</td>\n      <td>1</td>\n      <td>2018</td>\n      <td>2018-05-11 14:00:00</td>\n      <td>2018-05-11</td>\n      <td>-74.08629189699997</td>\n      <td>4.676853866000044</td>\n    </tr>\n  </tbody>\n</table>\n<p>33201 rows × 11 columns</p>\n</div>"
     },
     "metadata": {},
     "execution_count": 23
    }
   ],
   "source": [
    "neg_df"
   ]
  },
  {
   "cell_type": "code",
   "execution_count": 24,
   "metadata": {},
   "outputs": [],
   "source": [
    "neg_df['accident_id'] = ''\n",
    "neg_df['severity'] = ''\n",
    "neg_df['accident_type'] = ''\n",
    "neg_df['severity_numeric'] = ''\n",
    "neg_df['day_of_week'] = neg_df.timestamp.dt.dayofweek\n",
    "neg_df['day'] = neg_df.timestamp.dt.day\n",
    "neg_df['month'] = neg_df.timestamp.dt.month"
   ]
  },
  {
   "cell_type": "code",
   "execution_count": 25,
   "metadata": {},
   "outputs": [
    {
     "output_type": "execute_result",
     "data": {
      "text/plain": "   hour  day_of_year                                 coords  \\\n0    12          318  -74.12178986799995;4.6031063950000535   \n1    13           44    -74.17893912999993;4.62416029700006   \n2    17          173   -74.12102002699999;4.721841823000034   \n3     9           92   -74.06570572199999;4.599420861000056   \n4     8          170   -74.09429402399995;4.600073951000071   \n\n                                address        borough  cluster_id  year  \\\n0  AV AVENIDA PRIMERA DE MAYO-KR 50A 14  PUENTE ARANDA           1  2018   \n1                       KR 86-CL 53 S 2           BOSA           1  2018   \n2                       CL 80-KR 114 99       ENGATIVA          10  2018   \n3       AV AVENIDA CIRCUNVALAR-CL 17 02     CANDELARIA          13  2018   \n4                       CL 4B-KR 23A 28   LOS MARTIRES           1  2018   \n\n            timestamp       date                   x                   y  \\\n0 2018-11-14 12:00:00 2018-11-14  -74.12178986799995  4.6031063950000535   \n1 2018-02-13 13:00:00 2018-02-13  -74.17893912999993    4.62416029700006   \n2 2018-06-22 17:00:00 2018-06-22  -74.12102002699999   4.721841823000034   \n3 2018-04-02 09:00:00 2018-04-02  -74.06570572199999   4.599420861000056   \n4 2018-06-19 08:00:00 2018-06-19  -74.09429402399995   4.600073951000071   \n\n  accident_id severity accident_type severity_numeric  day_of_week  day  month  \n0                                                                2   14     11  \n1                                                                1   13      2  \n2                                                                4   22      6  \n3                                                                0    2      4  \n4                                                                1   19      6  ",
      "text/html": "<div>\n<style scoped>\n    .dataframe tbody tr th:only-of-type {\n        vertical-align: middle;\n    }\n\n    .dataframe tbody tr th {\n        vertical-align: top;\n    }\n\n    .dataframe thead th {\n        text-align: right;\n    }\n</style>\n<table border=\"1\" class=\"dataframe\">\n  <thead>\n    <tr style=\"text-align: right;\">\n      <th></th>\n      <th>hour</th>\n      <th>day_of_year</th>\n      <th>coords</th>\n      <th>address</th>\n      <th>borough</th>\n      <th>cluster_id</th>\n      <th>year</th>\n      <th>timestamp</th>\n      <th>date</th>\n      <th>x</th>\n      <th>y</th>\n      <th>accident_id</th>\n      <th>severity</th>\n      <th>accident_type</th>\n      <th>severity_numeric</th>\n      <th>day_of_week</th>\n      <th>day</th>\n      <th>month</th>\n    </tr>\n  </thead>\n  <tbody>\n    <tr>\n      <th>0</th>\n      <td>12</td>\n      <td>318</td>\n      <td>-74.12178986799995;4.6031063950000535</td>\n      <td>AV AVENIDA PRIMERA DE MAYO-KR 50A 14</td>\n      <td>PUENTE ARANDA</td>\n      <td>1</td>\n      <td>2018</td>\n      <td>2018-11-14 12:00:00</td>\n      <td>2018-11-14</td>\n      <td>-74.12178986799995</td>\n      <td>4.6031063950000535</td>\n      <td></td>\n      <td></td>\n      <td></td>\n      <td></td>\n      <td>2</td>\n      <td>14</td>\n      <td>11</td>\n    </tr>\n    <tr>\n      <th>1</th>\n      <td>13</td>\n      <td>44</td>\n      <td>-74.17893912999993;4.62416029700006</td>\n      <td>KR 86-CL 53 S 2</td>\n      <td>BOSA</td>\n      <td>1</td>\n      <td>2018</td>\n      <td>2018-02-13 13:00:00</td>\n      <td>2018-02-13</td>\n      <td>-74.17893912999993</td>\n      <td>4.62416029700006</td>\n      <td></td>\n      <td></td>\n      <td></td>\n      <td></td>\n      <td>1</td>\n      <td>13</td>\n      <td>2</td>\n    </tr>\n    <tr>\n      <th>2</th>\n      <td>17</td>\n      <td>173</td>\n      <td>-74.12102002699999;4.721841823000034</td>\n      <td>CL 80-KR 114 99</td>\n      <td>ENGATIVA</td>\n      <td>10</td>\n      <td>2018</td>\n      <td>2018-06-22 17:00:00</td>\n      <td>2018-06-22</td>\n      <td>-74.12102002699999</td>\n      <td>4.721841823000034</td>\n      <td></td>\n      <td></td>\n      <td></td>\n      <td></td>\n      <td>4</td>\n      <td>22</td>\n      <td>6</td>\n    </tr>\n    <tr>\n      <th>3</th>\n      <td>9</td>\n      <td>92</td>\n      <td>-74.06570572199999;4.599420861000056</td>\n      <td>AV AVENIDA CIRCUNVALAR-CL 17 02</td>\n      <td>CANDELARIA</td>\n      <td>13</td>\n      <td>2018</td>\n      <td>2018-04-02 09:00:00</td>\n      <td>2018-04-02</td>\n      <td>-74.06570572199999</td>\n      <td>4.599420861000056</td>\n      <td></td>\n      <td></td>\n      <td></td>\n      <td></td>\n      <td>0</td>\n      <td>2</td>\n      <td>4</td>\n    </tr>\n    <tr>\n      <th>4</th>\n      <td>8</td>\n      <td>170</td>\n      <td>-74.09429402399995;4.600073951000071</td>\n      <td>CL 4B-KR 23A 28</td>\n      <td>LOS MARTIRES</td>\n      <td>1</td>\n      <td>2018</td>\n      <td>2018-06-19 08:00:00</td>\n      <td>2018-06-19</td>\n      <td>-74.09429402399995</td>\n      <td>4.600073951000071</td>\n      <td></td>\n      <td></td>\n      <td></td>\n      <td></td>\n      <td>1</td>\n      <td>19</td>\n      <td>6</td>\n    </tr>\n  </tbody>\n</table>\n</div>"
     },
     "metadata": {},
     "execution_count": 25
    }
   ],
   "source": [
    "neg_df.head()"
   ]
  },
  {
   "cell_type": "code",
   "execution_count": 26,
   "metadata": {},
   "outputs": [],
   "source": [
    "accidents.drop(columns=['accident_id', 'month_name'], inplace=True)"
   ]
  },
  {
   "cell_type": "code",
   "execution_count": 27,
   "metadata": {},
   "outputs": [],
   "source": [
    "accidents_2018 = accidents[accidents.year == 2018]"
   ]
  },
  {
   "cell_type": "code",
   "execution_count": 29,
   "metadata": {},
   "outputs": [],
   "source": [
    "accidents_2018.timestamp = pd.to_datetime(accidents_2018.timestamp, utc=True).dt.tz_localize(None)"
   ]
  },
  {
   "cell_type": "code",
   "execution_count": 30,
   "metadata": {},
   "outputs": [],
   "source": [
    "accidents_2018['day'] = accidents_2018.timestamp.dt.day\n",
    "accidents_2018['day_of_week'] = accidents_2018.timestamp.dt.dayofweek\n",
    "accidents_2018['day_of_year'] = accidents_2018.timestamp.dt.dayofyear"
   ]
  },
  {
   "cell_type": "code",
   "execution_count": 31,
   "metadata": {},
   "outputs": [
    {
     "output_type": "execute_result",
     "data": {
      "text/plain": "            x         y  year                               address  \\\n2  -74.121790  4.603106  2018  AV AVENIDA PRIMERA DE MAYO-KR 50A 14   \n9  -74.178939  4.624160  2018                       KR 86-CL 53 S 2   \n30 -74.121020  4.721842  2018                       CL 80-KR 114 99   \n36 -74.065706  4.599421  2018       AV AVENIDA CIRCUNVALAR-CL 17 02   \n51 -74.094294  4.600074  2018                       CL 4B-KR 23A 28   \n52 -74.079973  4.600711  2018                        KR 12-CL 10 49   \n53 -74.069820  4.638032  2018                        KR 17-CL 50 02   \n54 -74.077495  4.665175  2018                        CL 68-KR 51 02   \n55 -74.179553  4.603938  2018                      CL 59-KR 78D S 2   \n56 -74.058813  4.657149  2018                         KR 11-CL 72 2   \n57 -74.071347  4.669944  2018                        AK 30-CL 75 15   \n58 -74.142405  4.630881  2018                        CL 6-KR 73B 51   \n59 -74.077702  4.656651  2018                        AK 30-CL 63F 2   \n60 -74.151820  4.679748  2018                       CL 17-KR 111A 2   \n61 -74.160785  4.624531  2018                    CL 40C-KR 79F S 02   \n62 -74.110179  4.619499  2018                        KR 43B-CL 5A 2   \n63 -74.114180  4.646072  2018                       CL 20-KR 68B 31   \n64 -74.065574  4.637240  2018                        KR 13-CL 50 02   \n65 -74.076785  4.602200  2018                        KR 10-CL 13 02   \n66 -74.138005  4.584156  2018                     DG 52A-KR 33 S 02   \n\n           severity  accident_type  severity_numeric     borough_geo  \\\n2            Injury          Crash                 8   PUENTE ARANDA   \n9            Injury          Crash                 8            BOSA   \n30  Material damage          Crash                 1        ENGATIVA   \n36  Material damage          Crash                 1      CANDELARIA   \n51           Injury       Run over                 9    LOS MARTIRES   \n52  Material damage          Crash                 1        SANTA FE   \n53           Injury  Occupant fall                 7     TEUSAQUILLO   \n54  Material damage          Crash                 1  BARRIOS UNIDOS   \n55  Material damage          Crash                 1            BOSA   \n56  Material damage          Crash                 1       CHAPINERO   \n57  Material damage          Crash                 1  BARRIOS UNIDOS   \n58           Injury          Crash                 8         KENNEDY   \n59  Material damage          Crash                 1  BARRIOS UNIDOS   \n60  Material damage          Crash                 1        FONTIBON   \n61           Injury          Crash                 8         KENNEDY   \n62  Material damage          Crash                 1   PUENTE ARANDA   \n63  Material damage          Crash                 1        FONTIBON   \n64           Injury          Crash                 8       CHAPINERO   \n65           Injury       Run over                 9        SANTA FE   \n66           Injury          Crash                 8      TUNJUELITO   \n\n             timestamp        date  hour  month  day  cluster_id  day_of_week  \\\n2  2018-03-25 12:10:00  2018-03-25    12      3   25           1            6   \n9  2018-02-13 07:45:00  2018-02-13     7      2   13           1            1   \n30 2018-05-02 17:50:00  2018-05-02    17      5    2          10            2   \n36 2018-04-26 09:00:00  2018-04-26     9      4   26          13            3   \n51 2018-06-19 12:00:00  2018-06-19    12      6   19           1            1   \n52 2018-06-18 14:55:00  2018-06-18    14      6   18           1            0   \n53 2018-06-22 10:40:00  2018-06-22    10      6   22           1            4   \n54 2018-07-18 10:30:00  2018-07-18    10      7   18           1            2   \n55 2018-07-06 07:15:00  2018-07-06     7      7    6           1            4   \n56 2018-07-09 23:30:00  2018-07-09    23      7    9           1            0   \n57 2018-06-29 09:44:00  2018-06-29     9      6   29           1            4   \n58 2018-06-26 15:17:00  2018-06-26    15      6   26           1            1   \n59 2018-07-13 10:50:00  2018-07-13    10      7   13           1            4   \n60 2018-07-14 14:45:00  2018-07-14    14      7   14          14            5   \n61 2018-07-04 06:20:00  2018-07-04     6      7    4           1            2   \n62 2018-06-14 08:45:00  2018-06-14     8      6   14          18            3   \n63 2018-07-17 11:00:00  2018-07-17    11      7   17          -1            1   \n64 2018-07-07 16:20:00  2018-07-07    16      7    7           1            5   \n65 2018-07-11 20:16:00  2018-07-11    20      7   11           1            2   \n66 2018-06-23 08:00:00  2018-06-23     8      6   23           1            5   \n\n    day_of_year  \n2            84  \n9            44  \n30          122  \n36          116  \n51          170  \n52          169  \n53          173  \n54          199  \n55          187  \n56          190  \n57          180  \n58          177  \n59          194  \n60          195  \n61          185  \n62          165  \n63          198  \n64          188  \n65          192  \n66          174  ",
      "text/html": "<div>\n<style scoped>\n    .dataframe tbody tr th:only-of-type {\n        vertical-align: middle;\n    }\n\n    .dataframe tbody tr th {\n        vertical-align: top;\n    }\n\n    .dataframe thead th {\n        text-align: right;\n    }\n</style>\n<table border=\"1\" class=\"dataframe\">\n  <thead>\n    <tr style=\"text-align: right;\">\n      <th></th>\n      <th>x</th>\n      <th>y</th>\n      <th>year</th>\n      <th>address</th>\n      <th>severity</th>\n      <th>accident_type</th>\n      <th>severity_numeric</th>\n      <th>borough_geo</th>\n      <th>timestamp</th>\n      <th>date</th>\n      <th>hour</th>\n      <th>month</th>\n      <th>day</th>\n      <th>cluster_id</th>\n      <th>day_of_week</th>\n      <th>day_of_year</th>\n    </tr>\n  </thead>\n  <tbody>\n    <tr>\n      <th>2</th>\n      <td>-74.121790</td>\n      <td>4.603106</td>\n      <td>2018</td>\n      <td>AV AVENIDA PRIMERA DE MAYO-KR 50A 14</td>\n      <td>Injury</td>\n      <td>Crash</td>\n      <td>8</td>\n      <td>PUENTE ARANDA</td>\n      <td>2018-03-25 12:10:00</td>\n      <td>2018-03-25</td>\n      <td>12</td>\n      <td>3</td>\n      <td>25</td>\n      <td>1</td>\n      <td>6</td>\n      <td>84</td>\n    </tr>\n    <tr>\n      <th>9</th>\n      <td>-74.178939</td>\n      <td>4.624160</td>\n      <td>2018</td>\n      <td>KR 86-CL 53 S 2</td>\n      <td>Injury</td>\n      <td>Crash</td>\n      <td>8</td>\n      <td>BOSA</td>\n      <td>2018-02-13 07:45:00</td>\n      <td>2018-02-13</td>\n      <td>7</td>\n      <td>2</td>\n      <td>13</td>\n      <td>1</td>\n      <td>1</td>\n      <td>44</td>\n    </tr>\n    <tr>\n      <th>30</th>\n      <td>-74.121020</td>\n      <td>4.721842</td>\n      <td>2018</td>\n      <td>CL 80-KR 114 99</td>\n      <td>Material damage</td>\n      <td>Crash</td>\n      <td>1</td>\n      <td>ENGATIVA</td>\n      <td>2018-05-02 17:50:00</td>\n      <td>2018-05-02</td>\n      <td>17</td>\n      <td>5</td>\n      <td>2</td>\n      <td>10</td>\n      <td>2</td>\n      <td>122</td>\n    </tr>\n    <tr>\n      <th>36</th>\n      <td>-74.065706</td>\n      <td>4.599421</td>\n      <td>2018</td>\n      <td>AV AVENIDA CIRCUNVALAR-CL 17 02</td>\n      <td>Material damage</td>\n      <td>Crash</td>\n      <td>1</td>\n      <td>CANDELARIA</td>\n      <td>2018-04-26 09:00:00</td>\n      <td>2018-04-26</td>\n      <td>9</td>\n      <td>4</td>\n      <td>26</td>\n      <td>13</td>\n      <td>3</td>\n      <td>116</td>\n    </tr>\n    <tr>\n      <th>51</th>\n      <td>-74.094294</td>\n      <td>4.600074</td>\n      <td>2018</td>\n      <td>CL 4B-KR 23A 28</td>\n      <td>Injury</td>\n      <td>Run over</td>\n      <td>9</td>\n      <td>LOS MARTIRES</td>\n      <td>2018-06-19 12:00:00</td>\n      <td>2018-06-19</td>\n      <td>12</td>\n      <td>6</td>\n      <td>19</td>\n      <td>1</td>\n      <td>1</td>\n      <td>170</td>\n    </tr>\n    <tr>\n      <th>52</th>\n      <td>-74.079973</td>\n      <td>4.600711</td>\n      <td>2018</td>\n      <td>KR 12-CL 10 49</td>\n      <td>Material damage</td>\n      <td>Crash</td>\n      <td>1</td>\n      <td>SANTA FE</td>\n      <td>2018-06-18 14:55:00</td>\n      <td>2018-06-18</td>\n      <td>14</td>\n      <td>6</td>\n      <td>18</td>\n      <td>1</td>\n      <td>0</td>\n      <td>169</td>\n    </tr>\n    <tr>\n      <th>53</th>\n      <td>-74.069820</td>\n      <td>4.638032</td>\n      <td>2018</td>\n      <td>KR 17-CL 50 02</td>\n      <td>Injury</td>\n      <td>Occupant fall</td>\n      <td>7</td>\n      <td>TEUSAQUILLO</td>\n      <td>2018-06-22 10:40:00</td>\n      <td>2018-06-22</td>\n      <td>10</td>\n      <td>6</td>\n      <td>22</td>\n      <td>1</td>\n      <td>4</td>\n      <td>173</td>\n    </tr>\n    <tr>\n      <th>54</th>\n      <td>-74.077495</td>\n      <td>4.665175</td>\n      <td>2018</td>\n      <td>CL 68-KR 51 02</td>\n      <td>Material damage</td>\n      <td>Crash</td>\n      <td>1</td>\n      <td>BARRIOS UNIDOS</td>\n      <td>2018-07-18 10:30:00</td>\n      <td>2018-07-18</td>\n      <td>10</td>\n      <td>7</td>\n      <td>18</td>\n      <td>1</td>\n      <td>2</td>\n      <td>199</td>\n    </tr>\n    <tr>\n      <th>55</th>\n      <td>-74.179553</td>\n      <td>4.603938</td>\n      <td>2018</td>\n      <td>CL 59-KR 78D S 2</td>\n      <td>Material damage</td>\n      <td>Crash</td>\n      <td>1</td>\n      <td>BOSA</td>\n      <td>2018-07-06 07:15:00</td>\n      <td>2018-07-06</td>\n      <td>7</td>\n      <td>7</td>\n      <td>6</td>\n      <td>1</td>\n      <td>4</td>\n      <td>187</td>\n    </tr>\n    <tr>\n      <th>56</th>\n      <td>-74.058813</td>\n      <td>4.657149</td>\n      <td>2018</td>\n      <td>KR 11-CL 72 2</td>\n      <td>Material damage</td>\n      <td>Crash</td>\n      <td>1</td>\n      <td>CHAPINERO</td>\n      <td>2018-07-09 23:30:00</td>\n      <td>2018-07-09</td>\n      <td>23</td>\n      <td>7</td>\n      <td>9</td>\n      <td>1</td>\n      <td>0</td>\n      <td>190</td>\n    </tr>\n    <tr>\n      <th>57</th>\n      <td>-74.071347</td>\n      <td>4.669944</td>\n      <td>2018</td>\n      <td>AK 30-CL 75 15</td>\n      <td>Material damage</td>\n      <td>Crash</td>\n      <td>1</td>\n      <td>BARRIOS UNIDOS</td>\n      <td>2018-06-29 09:44:00</td>\n      <td>2018-06-29</td>\n      <td>9</td>\n      <td>6</td>\n      <td>29</td>\n      <td>1</td>\n      <td>4</td>\n      <td>180</td>\n    </tr>\n    <tr>\n      <th>58</th>\n      <td>-74.142405</td>\n      <td>4.630881</td>\n      <td>2018</td>\n      <td>CL 6-KR 73B 51</td>\n      <td>Injury</td>\n      <td>Crash</td>\n      <td>8</td>\n      <td>KENNEDY</td>\n      <td>2018-06-26 15:17:00</td>\n      <td>2018-06-26</td>\n      <td>15</td>\n      <td>6</td>\n      <td>26</td>\n      <td>1</td>\n      <td>1</td>\n      <td>177</td>\n    </tr>\n    <tr>\n      <th>59</th>\n      <td>-74.077702</td>\n      <td>4.656651</td>\n      <td>2018</td>\n      <td>AK 30-CL 63F 2</td>\n      <td>Material damage</td>\n      <td>Crash</td>\n      <td>1</td>\n      <td>BARRIOS UNIDOS</td>\n      <td>2018-07-13 10:50:00</td>\n      <td>2018-07-13</td>\n      <td>10</td>\n      <td>7</td>\n      <td>13</td>\n      <td>1</td>\n      <td>4</td>\n      <td>194</td>\n    </tr>\n    <tr>\n      <th>60</th>\n      <td>-74.151820</td>\n      <td>4.679748</td>\n      <td>2018</td>\n      <td>CL 17-KR 111A 2</td>\n      <td>Material damage</td>\n      <td>Crash</td>\n      <td>1</td>\n      <td>FONTIBON</td>\n      <td>2018-07-14 14:45:00</td>\n      <td>2018-07-14</td>\n      <td>14</td>\n      <td>7</td>\n      <td>14</td>\n      <td>14</td>\n      <td>5</td>\n      <td>195</td>\n    </tr>\n    <tr>\n      <th>61</th>\n      <td>-74.160785</td>\n      <td>4.624531</td>\n      <td>2018</td>\n      <td>CL 40C-KR 79F S 02</td>\n      <td>Injury</td>\n      <td>Crash</td>\n      <td>8</td>\n      <td>KENNEDY</td>\n      <td>2018-07-04 06:20:00</td>\n      <td>2018-07-04</td>\n      <td>6</td>\n      <td>7</td>\n      <td>4</td>\n      <td>1</td>\n      <td>2</td>\n      <td>185</td>\n    </tr>\n    <tr>\n      <th>62</th>\n      <td>-74.110179</td>\n      <td>4.619499</td>\n      <td>2018</td>\n      <td>KR 43B-CL 5A 2</td>\n      <td>Material damage</td>\n      <td>Crash</td>\n      <td>1</td>\n      <td>PUENTE ARANDA</td>\n      <td>2018-06-14 08:45:00</td>\n      <td>2018-06-14</td>\n      <td>8</td>\n      <td>6</td>\n      <td>14</td>\n      <td>18</td>\n      <td>3</td>\n      <td>165</td>\n    </tr>\n    <tr>\n      <th>63</th>\n      <td>-74.114180</td>\n      <td>4.646072</td>\n      <td>2018</td>\n      <td>CL 20-KR 68B 31</td>\n      <td>Material damage</td>\n      <td>Crash</td>\n      <td>1</td>\n      <td>FONTIBON</td>\n      <td>2018-07-17 11:00:00</td>\n      <td>2018-07-17</td>\n      <td>11</td>\n      <td>7</td>\n      <td>17</td>\n      <td>-1</td>\n      <td>1</td>\n      <td>198</td>\n    </tr>\n    <tr>\n      <th>64</th>\n      <td>-74.065574</td>\n      <td>4.637240</td>\n      <td>2018</td>\n      <td>KR 13-CL 50 02</td>\n      <td>Injury</td>\n      <td>Crash</td>\n      <td>8</td>\n      <td>CHAPINERO</td>\n      <td>2018-07-07 16:20:00</td>\n      <td>2018-07-07</td>\n      <td>16</td>\n      <td>7</td>\n      <td>7</td>\n      <td>1</td>\n      <td>5</td>\n      <td>188</td>\n    </tr>\n    <tr>\n      <th>65</th>\n      <td>-74.076785</td>\n      <td>4.602200</td>\n      <td>2018</td>\n      <td>KR 10-CL 13 02</td>\n      <td>Injury</td>\n      <td>Run over</td>\n      <td>9</td>\n      <td>SANTA FE</td>\n      <td>2018-07-11 20:16:00</td>\n      <td>2018-07-11</td>\n      <td>20</td>\n      <td>7</td>\n      <td>11</td>\n      <td>1</td>\n      <td>2</td>\n      <td>192</td>\n    </tr>\n    <tr>\n      <th>66</th>\n      <td>-74.138005</td>\n      <td>4.584156</td>\n      <td>2018</td>\n      <td>DG 52A-KR 33 S 02</td>\n      <td>Injury</td>\n      <td>Crash</td>\n      <td>8</td>\n      <td>TUNJUELITO</td>\n      <td>2018-06-23 08:00:00</td>\n      <td>2018-06-23</td>\n      <td>8</td>\n      <td>6</td>\n      <td>23</td>\n      <td>1</td>\n      <td>5</td>\n      <td>174</td>\n    </tr>\n  </tbody>\n</table>\n</div>"
     },
     "metadata": {},
     "execution_count": 31
    }
   ],
   "source": [
    "accidents_2018.head(20)"
   ]
  },
  {
   "cell_type": "code",
   "execution_count": 32,
   "metadata": {},
   "outputs": [],
   "source": [
    "accidents_2018 = accidents_2018[['x', 'y', 'timestamp', 'date', 'year', 'month',\n",
    "       'day', 'day_of_year', 'day_of_week', 'hour', 'address', 'severity', 'accident_type',\n",
    "       'severity_numeric', 'borough_geo','cluster_id']]"
   ]
  },
  {
   "cell_type": "code",
   "execution_count": 33,
   "metadata": {},
   "outputs": [],
   "source": [
    "accidents_2018.rename(columns={\"borough_geo\": \"borough\"}, inplace=True)"
   ]
  },
  {
   "cell_type": "code",
   "execution_count": 34,
   "metadata": {},
   "outputs": [],
   "source": [
    "accidents_2018['sample_type'] = 1"
   ]
  },
  {
   "cell_type": "code",
   "execution_count": 35,
   "metadata": {},
   "outputs": [],
   "source": [
    "neg_df = neg_df[['x', 'y', 'timestamp', 'date', 'year', 'month',\n",
    "       'day', 'day_of_year', 'day_of_week', 'hour', 'address', 'severity', 'accident_type',\n",
    "       'severity_numeric', 'borough','cluster_id']]"
   ]
  },
  {
   "cell_type": "code",
   "execution_count": 36,
   "metadata": {},
   "outputs": [],
   "source": [
    "neg_df['sample_type'] = 0"
   ]
  },
  {
   "cell_type": "code",
   "execution_count": 38,
   "metadata": {},
   "outputs": [
    {
     "output_type": "execute_result",
     "data": {
      "text/plain": "(33201, 17)"
     },
     "metadata": {},
     "execution_count": 38
    }
   ],
   "source": [
    "accidents_2018.shape"
   ]
  },
  {
   "cell_type": "code",
   "execution_count": 39,
   "metadata": {},
   "outputs": [],
   "source": [
    "dataset = pd.concat([accidents_2018,neg_df])"
   ]
  },
  {
   "cell_type": "code",
   "execution_count": 40,
   "metadata": {},
   "outputs": [
    {
     "output_type": "execute_result",
     "data": {
      "text/plain": "                        x                   y           timestamp  \\\n2                -74.1218             4.60311 2018-03-25 12:10:00   \n9                -74.1789             4.62416 2018-02-13 07:45:00   \n30                -74.121             4.72184 2018-05-02 17:50:00   \n36               -74.0657             4.59942 2018-04-26 09:00:00   \n51               -74.0943             4.60007 2018-06-19 12:00:00   \n...                   ...                 ...                 ...   \n33196  -74.11071803599998   4.708741003000057 2018-08-02 12:00:00   \n33197  -74.07638578699994   4.685922248000054 2018-03-13 16:00:00   \n33198  -74.06070190099996  4.6780774160000655 2018-09-05 23:00:00   \n33199  -74.08714144399994  4.6752217400000395 2018-09-12 15:00:00   \n33200  -74.08629189699997   4.676853866000044 2018-05-11 14:00:00   \n\n                      date  year  month  day  day_of_year  day_of_week  hour  \\\n2               2018-03-25  2018      3   25           84            6    12   \n9               2018-02-13  2018      2   13           44            1     7   \n30              2018-05-02  2018      5    2          122            2    17   \n36              2018-04-26  2018      4   26          116            3     9   \n51              2018-06-19  2018      6   19          170            1    12   \n...                    ...   ...    ...  ...          ...          ...   ...   \n33196  2018-08-02 00:00:00  2018      8    2          214            3    12   \n33197  2018-03-13 00:00:00  2018      3   13           72            1    16   \n33198  2018-09-05 00:00:00  2018      9    5          248            2    23   \n33199  2018-09-12 00:00:00  2018      9   12          255            2    15   \n33200  2018-05-11 00:00:00  2018      5   11          131            4    14   \n\n                                    address         severity accident_type  \\\n2      AV AVENIDA PRIMERA DE MAYO-KR 50A 14           Injury         Crash   \n9                           KR 86-CL 53 S 2           Injury         Crash   \n30                          CL 80-KR 114 99  Material damage         Crash   \n36          AV AVENIDA CIRCUNVALAR-CL 17 02  Material damage         Crash   \n51                          CL 4B-KR 23A 28           Injury      Run over   \n...                                     ...              ...           ...   \n33196                        CL 80-KR 98A 2                                  \n33197                        KR 68-CL 94 02                                  \n33198                         KR 30-CL 91 2                                  \n33199                     KR 68-CL 67DBIS 2                                  \n33200                        KR 68-CL 67G 2                                  \n\n      severity_numeric         borough  cluster_id  sample_type  \n2                    8   PUENTE ARANDA           1            1  \n9                    8            BOSA           1            1  \n30                   1        ENGATIVA          10            1  \n36                   1      CANDELARIA          13            1  \n51                   9    LOS MARTIRES           1            1  \n...                ...             ...         ...          ...  \n33196                         ENGATIVA           1            0  \n33197                   BARRIOS UNIDOS           1            0  \n33198                   BARRIOS UNIDOS           1            0  \n33199                   BARRIOS UNIDOS           1            0  \n33200                   BARRIOS UNIDOS           1            0  \n\n[66402 rows x 17 columns]",
      "text/html": "<div>\n<style scoped>\n    .dataframe tbody tr th:only-of-type {\n        vertical-align: middle;\n    }\n\n    .dataframe tbody tr th {\n        vertical-align: top;\n    }\n\n    .dataframe thead th {\n        text-align: right;\n    }\n</style>\n<table border=\"1\" class=\"dataframe\">\n  <thead>\n    <tr style=\"text-align: right;\">\n      <th></th>\n      <th>x</th>\n      <th>y</th>\n      <th>timestamp</th>\n      <th>date</th>\n      <th>year</th>\n      <th>month</th>\n      <th>day</th>\n      <th>day_of_year</th>\n      <th>day_of_week</th>\n      <th>hour</th>\n      <th>address</th>\n      <th>severity</th>\n      <th>accident_type</th>\n      <th>severity_numeric</th>\n      <th>borough</th>\n      <th>cluster_id</th>\n      <th>sample_type</th>\n    </tr>\n  </thead>\n  <tbody>\n    <tr>\n      <th>2</th>\n      <td>-74.1218</td>\n      <td>4.60311</td>\n      <td>2018-03-25 12:10:00</td>\n      <td>2018-03-25</td>\n      <td>2018</td>\n      <td>3</td>\n      <td>25</td>\n      <td>84</td>\n      <td>6</td>\n      <td>12</td>\n      <td>AV AVENIDA PRIMERA DE MAYO-KR 50A 14</td>\n      <td>Injury</td>\n      <td>Crash</td>\n      <td>8</td>\n      <td>PUENTE ARANDA</td>\n      <td>1</td>\n      <td>1</td>\n    </tr>\n    <tr>\n      <th>9</th>\n      <td>-74.1789</td>\n      <td>4.62416</td>\n      <td>2018-02-13 07:45:00</td>\n      <td>2018-02-13</td>\n      <td>2018</td>\n      <td>2</td>\n      <td>13</td>\n      <td>44</td>\n      <td>1</td>\n      <td>7</td>\n      <td>KR 86-CL 53 S 2</td>\n      <td>Injury</td>\n      <td>Crash</td>\n      <td>8</td>\n      <td>BOSA</td>\n      <td>1</td>\n      <td>1</td>\n    </tr>\n    <tr>\n      <th>30</th>\n      <td>-74.121</td>\n      <td>4.72184</td>\n      <td>2018-05-02 17:50:00</td>\n      <td>2018-05-02</td>\n      <td>2018</td>\n      <td>5</td>\n      <td>2</td>\n      <td>122</td>\n      <td>2</td>\n      <td>17</td>\n      <td>CL 80-KR 114 99</td>\n      <td>Material damage</td>\n      <td>Crash</td>\n      <td>1</td>\n      <td>ENGATIVA</td>\n      <td>10</td>\n      <td>1</td>\n    </tr>\n    <tr>\n      <th>36</th>\n      <td>-74.0657</td>\n      <td>4.59942</td>\n      <td>2018-04-26 09:00:00</td>\n      <td>2018-04-26</td>\n      <td>2018</td>\n      <td>4</td>\n      <td>26</td>\n      <td>116</td>\n      <td>3</td>\n      <td>9</td>\n      <td>AV AVENIDA CIRCUNVALAR-CL 17 02</td>\n      <td>Material damage</td>\n      <td>Crash</td>\n      <td>1</td>\n      <td>CANDELARIA</td>\n      <td>13</td>\n      <td>1</td>\n    </tr>\n    <tr>\n      <th>51</th>\n      <td>-74.0943</td>\n      <td>4.60007</td>\n      <td>2018-06-19 12:00:00</td>\n      <td>2018-06-19</td>\n      <td>2018</td>\n      <td>6</td>\n      <td>19</td>\n      <td>170</td>\n      <td>1</td>\n      <td>12</td>\n      <td>CL 4B-KR 23A 28</td>\n      <td>Injury</td>\n      <td>Run over</td>\n      <td>9</td>\n      <td>LOS MARTIRES</td>\n      <td>1</td>\n      <td>1</td>\n    </tr>\n    <tr>\n      <th>...</th>\n      <td>...</td>\n      <td>...</td>\n      <td>...</td>\n      <td>...</td>\n      <td>...</td>\n      <td>...</td>\n      <td>...</td>\n      <td>...</td>\n      <td>...</td>\n      <td>...</td>\n      <td>...</td>\n      <td>...</td>\n      <td>...</td>\n      <td>...</td>\n      <td>...</td>\n      <td>...</td>\n      <td>...</td>\n    </tr>\n    <tr>\n      <th>33196</th>\n      <td>-74.11071803599998</td>\n      <td>4.708741003000057</td>\n      <td>2018-08-02 12:00:00</td>\n      <td>2018-08-02 00:00:00</td>\n      <td>2018</td>\n      <td>8</td>\n      <td>2</td>\n      <td>214</td>\n      <td>3</td>\n      <td>12</td>\n      <td>CL 80-KR 98A 2</td>\n      <td></td>\n      <td></td>\n      <td></td>\n      <td>ENGATIVA</td>\n      <td>1</td>\n      <td>0</td>\n    </tr>\n    <tr>\n      <th>33197</th>\n      <td>-74.07638578699994</td>\n      <td>4.685922248000054</td>\n      <td>2018-03-13 16:00:00</td>\n      <td>2018-03-13 00:00:00</td>\n      <td>2018</td>\n      <td>3</td>\n      <td>13</td>\n      <td>72</td>\n      <td>1</td>\n      <td>16</td>\n      <td>KR 68-CL 94 02</td>\n      <td></td>\n      <td></td>\n      <td></td>\n      <td>BARRIOS UNIDOS</td>\n      <td>1</td>\n      <td>0</td>\n    </tr>\n    <tr>\n      <th>33198</th>\n      <td>-74.06070190099996</td>\n      <td>4.6780774160000655</td>\n      <td>2018-09-05 23:00:00</td>\n      <td>2018-09-05 00:00:00</td>\n      <td>2018</td>\n      <td>9</td>\n      <td>5</td>\n      <td>248</td>\n      <td>2</td>\n      <td>23</td>\n      <td>KR 30-CL 91 2</td>\n      <td></td>\n      <td></td>\n      <td></td>\n      <td>BARRIOS UNIDOS</td>\n      <td>1</td>\n      <td>0</td>\n    </tr>\n    <tr>\n      <th>33199</th>\n      <td>-74.08714144399994</td>\n      <td>4.6752217400000395</td>\n      <td>2018-09-12 15:00:00</td>\n      <td>2018-09-12 00:00:00</td>\n      <td>2018</td>\n      <td>9</td>\n      <td>12</td>\n      <td>255</td>\n      <td>2</td>\n      <td>15</td>\n      <td>KR 68-CL 67DBIS 2</td>\n      <td></td>\n      <td></td>\n      <td></td>\n      <td>BARRIOS UNIDOS</td>\n      <td>1</td>\n      <td>0</td>\n    </tr>\n    <tr>\n      <th>33200</th>\n      <td>-74.08629189699997</td>\n      <td>4.676853866000044</td>\n      <td>2018-05-11 14:00:00</td>\n      <td>2018-05-11 00:00:00</td>\n      <td>2018</td>\n      <td>5</td>\n      <td>11</td>\n      <td>131</td>\n      <td>4</td>\n      <td>14</td>\n      <td>KR 68-CL 67G 2</td>\n      <td></td>\n      <td></td>\n      <td></td>\n      <td>BARRIOS UNIDOS</td>\n      <td>1</td>\n      <td>0</td>\n    </tr>\n  </tbody>\n</table>\n<p>66402 rows × 17 columns</p>\n</div>"
     },
     "metadata": {},
     "execution_count": 40
    }
   ],
   "source": [
    "dataset"
   ]
  },
  {
   "cell_type": "code",
   "execution_count": 41,
   "metadata": {},
   "outputs": [],
   "source": [
    "boroughs = pd.read_csv(\"../data/localidades.csv\")"
   ]
  },
  {
   "cell_type": "code",
   "execution_count": 42,
   "metadata": {},
   "outputs": [
    {
     "output_type": "execute_result",
     "data": {
      "text/plain": "array(['USAQUEN', 'CHAPINERO', 'SANTA FE', 'SAN CRISTOBAL', 'USME',\n       'TUNJUELITO', 'BOSA', 'KENNEDY', 'FONTIBON', 'ENGATIVA', 'SUBA',\n       'BARRIOS UNIDOS', 'TEUSAQUILLO', 'LOS MARTIRES', 'ANTONIO NARIÑO',\n       'PUENTE ARANDA', 'CANDELARIA', 'RAFAEL URIBE URIBE',\n       'CIUDAD BOLIVAR', 'SUMAPAZ'], dtype=object)"
     },
     "metadata": {},
     "execution_count": 42
    }
   ],
   "source": [
    "boroughs.borough.unique()"
   ]
  },
  {
   "cell_type": "code",
   "execution_count": 43,
   "metadata": {},
   "outputs": [
    {
     "output_type": "execute_result",
     "data": {
      "text/plain": "Index(['id', 'borough', 'area_km2', 'population', 'population_density'], dtype='object')"
     },
     "metadata": {},
     "execution_count": 43
    }
   ],
   "source": [
    "boroughs.columns"
   ]
  },
  {
   "cell_type": "code",
   "execution_count": 44,
   "metadata": {},
   "outputs": [],
   "source": [
    "# boroughs.replace({\"Tunjuelito\": 'TUNJUELITO', \"Chapinero\":'CHAPINERO', \"Kennedy\": 'KENNEDY', \"Usaquén\": 'USAQUEN', \"BarriosUnidos\":  'BARRIOS UNIDOS', \"CiudadBolívar\": \n",
    "# 'CIUDAD BOLIVAR', \"Fontibón\":  'FONTIBON', \"PuenteAranda\":  'PUENTE ARANDA', \"Suba\":  'SUBA', \"Teusaquillo\":\n",
    "# 'TEUSAQUILLO', \"SantaFe\":  'SANTA FE', \"Bosa\":  'BOSA', \"SanCristóbal\":  'SAN CRISTOBAL', \"Engativá\":  'ENGATIVA', \"RafaelUribeUribe\": \n",
    "# 'RAFAEL URIBE URIBE', \"AntonioNariño\":  'ANTONIO NARIÑO', \"LosMártires\":  'LOS MARTIRES', \"LaCandelaria\":\n",
    "# 'CANDELARIA', \"Usme\": 'USME', \"Sumapaz\":  'SUMAPAZ'}, inplace=True)"
   ]
  },
  {
   "cell_type": "code",
   "execution_count": 45,
   "metadata": {},
   "outputs": [],
   "source": [
    "# boroughs.drop(columns = ['id'], inplace=True)"
   ]
  },
  {
   "cell_type": "code",
   "execution_count": 46,
   "metadata": {},
   "outputs": [],
   "source": [
    "dataset = dataset.merge(boroughs, how='left', left_on='borough', right_on='borough')"
   ]
  },
  {
   "cell_type": "code",
   "execution_count": 47,
   "metadata": {},
   "outputs": [
    {
     "output_type": "execute_result",
     "data": {
      "text/plain": "         x        y           timestamp        date  year  month  day  \\\n0 -74.1218  4.60311 2018-03-25 12:10:00  2018-03-25  2018      3   25   \n1 -74.1789  4.62416 2018-02-13 07:45:00  2018-02-13  2018      2   13   \n2  -74.121  4.72184 2018-05-02 17:50:00  2018-05-02  2018      5    2   \n3 -74.0657  4.59942 2018-04-26 09:00:00  2018-04-26  2018      4   26   \n4 -74.0943  4.60007 2018-06-19 12:00:00  2018-06-19  2018      6   19   \n\n   day_of_year  day_of_week  hour  ...         severity accident_type  \\\n0           84            6    12  ...           Injury         Crash   \n1           44            1     7  ...           Injury         Crash   \n2          122            2    17  ...  Material damage         Crash   \n3          116            3     9  ...  Material damage         Crash   \n4          170            1    12  ...           Injury      Run over   \n\n  severity_numeric        borough cluster_id  sample_type  id  area_km2  \\\n0                8  PUENTE ARANDA          1            1  16     17.31   \n1                8           BOSA          1            1   7     23.93   \n2                1       ENGATIVA         10            1  10     35.88   \n3                1     CANDELARIA         13            1  17      2.06   \n4                9   LOS MARTIRES          1            1  14      6.51   \n\n   population  population_density  \n0      258287            14921.25  \n1      673077            28126.91  \n2      887080            24723.52  \n3       24088            11693.20  \n4       99119            15225.65  \n\n[5 rows x 21 columns]",
      "text/html": "<div>\n<style scoped>\n    .dataframe tbody tr th:only-of-type {\n        vertical-align: middle;\n    }\n\n    .dataframe tbody tr th {\n        vertical-align: top;\n    }\n\n    .dataframe thead th {\n        text-align: right;\n    }\n</style>\n<table border=\"1\" class=\"dataframe\">\n  <thead>\n    <tr style=\"text-align: right;\">\n      <th></th>\n      <th>x</th>\n      <th>y</th>\n      <th>timestamp</th>\n      <th>date</th>\n      <th>year</th>\n      <th>month</th>\n      <th>day</th>\n      <th>day_of_year</th>\n      <th>day_of_week</th>\n      <th>hour</th>\n      <th>...</th>\n      <th>severity</th>\n      <th>accident_type</th>\n      <th>severity_numeric</th>\n      <th>borough</th>\n      <th>cluster_id</th>\n      <th>sample_type</th>\n      <th>id</th>\n      <th>area_km2</th>\n      <th>population</th>\n      <th>population_density</th>\n    </tr>\n  </thead>\n  <tbody>\n    <tr>\n      <th>0</th>\n      <td>-74.1218</td>\n      <td>4.60311</td>\n      <td>2018-03-25 12:10:00</td>\n      <td>2018-03-25</td>\n      <td>2018</td>\n      <td>3</td>\n      <td>25</td>\n      <td>84</td>\n      <td>6</td>\n      <td>12</td>\n      <td>...</td>\n      <td>Injury</td>\n      <td>Crash</td>\n      <td>8</td>\n      <td>PUENTE ARANDA</td>\n      <td>1</td>\n      <td>1</td>\n      <td>16</td>\n      <td>17.31</td>\n      <td>258287</td>\n      <td>14921.25</td>\n    </tr>\n    <tr>\n      <th>1</th>\n      <td>-74.1789</td>\n      <td>4.62416</td>\n      <td>2018-02-13 07:45:00</td>\n      <td>2018-02-13</td>\n      <td>2018</td>\n      <td>2</td>\n      <td>13</td>\n      <td>44</td>\n      <td>1</td>\n      <td>7</td>\n      <td>...</td>\n      <td>Injury</td>\n      <td>Crash</td>\n      <td>8</td>\n      <td>BOSA</td>\n      <td>1</td>\n      <td>1</td>\n      <td>7</td>\n      <td>23.93</td>\n      <td>673077</td>\n      <td>28126.91</td>\n    </tr>\n    <tr>\n      <th>2</th>\n      <td>-74.121</td>\n      <td>4.72184</td>\n      <td>2018-05-02 17:50:00</td>\n      <td>2018-05-02</td>\n      <td>2018</td>\n      <td>5</td>\n      <td>2</td>\n      <td>122</td>\n      <td>2</td>\n      <td>17</td>\n      <td>...</td>\n      <td>Material damage</td>\n      <td>Crash</td>\n      <td>1</td>\n      <td>ENGATIVA</td>\n      <td>10</td>\n      <td>1</td>\n      <td>10</td>\n      <td>35.88</td>\n      <td>887080</td>\n      <td>24723.52</td>\n    </tr>\n    <tr>\n      <th>3</th>\n      <td>-74.0657</td>\n      <td>4.59942</td>\n      <td>2018-04-26 09:00:00</td>\n      <td>2018-04-26</td>\n      <td>2018</td>\n      <td>4</td>\n      <td>26</td>\n      <td>116</td>\n      <td>3</td>\n      <td>9</td>\n      <td>...</td>\n      <td>Material damage</td>\n      <td>Crash</td>\n      <td>1</td>\n      <td>CANDELARIA</td>\n      <td>13</td>\n      <td>1</td>\n      <td>17</td>\n      <td>2.06</td>\n      <td>24088</td>\n      <td>11693.20</td>\n    </tr>\n    <tr>\n      <th>4</th>\n      <td>-74.0943</td>\n      <td>4.60007</td>\n      <td>2018-06-19 12:00:00</td>\n      <td>2018-06-19</td>\n      <td>2018</td>\n      <td>6</td>\n      <td>19</td>\n      <td>170</td>\n      <td>1</td>\n      <td>12</td>\n      <td>...</td>\n      <td>Injury</td>\n      <td>Run over</td>\n      <td>9</td>\n      <td>LOS MARTIRES</td>\n      <td>1</td>\n      <td>1</td>\n      <td>14</td>\n      <td>6.51</td>\n      <td>99119</td>\n      <td>15225.65</td>\n    </tr>\n  </tbody>\n</table>\n<p>5 rows × 21 columns</p>\n</div>"
     },
     "metadata": {},
     "execution_count": 47
    }
   ],
   "source": [
    "dataset.head()"
   ]
  },
  {
   "cell_type": "code",
   "execution_count": 48,
   "metadata": {},
   "outputs": [],
   "source": [
    "dataset.rename(columns={\"id\": \"borough_id\"}, inplace=True)"
   ]
  },
  {
   "cell_type": "code",
   "execution_count": 49,
   "metadata": {},
   "outputs": [],
   "source": [
    "weather = pd.read_csv(\"../data/total.csv\")"
   ]
  },
  {
   "cell_type": "code",
   "execution_count": 50,
   "metadata": {},
   "outputs": [
    {
     "output_type": "execute_result",
     "data": {
      "text/plain": "Index(['Unnamed: 0', 'Unnamed: 0.1', 'time', 'summary', 'icon',\n       'precipIntensity', 'precipProbability', 'temperature',\n       'apparentTemperature', 'dewPoint', 'humidity', 'windSpeed',\n       'cloudCover', 'uvIndex', 'visibility', 'windBearing', 'location',\n       'windGust', 'pressure', 'precipType', 'ozone', 'precipAccumulation'],\n      dtype='object')"
     },
     "metadata": {},
     "execution_count": 50
    }
   ],
   "source": [
    "weather.columns"
   ]
  },
  {
   "cell_type": "code",
   "execution_count": 51,
   "metadata": {},
   "outputs": [],
   "source": [
    "weather.drop(columns=[\"Unnamed: 0\", \"Unnamed: 0.1\"], inplace=True)"
   ]
  },
  {
   "cell_type": "code",
   "execution_count": 52,
   "metadata": {},
   "outputs": [
    {
     "output_type": "execute_result",
     "data": {
      "text/plain": "                  time        summary                 icon  precipIntensity  \\\n0  2014-07-15 05:00:00  Partly Cloudy  partly-cloudy-night              0.0   \n1  2014-07-15 06:00:00  Partly Cloudy  partly-cloudy-night              0.0   \n2  2014-07-15 07:00:00  Partly Cloudy  partly-cloudy-night              0.0   \n3  2014-07-15 08:00:00  Partly Cloudy  partly-cloudy-night              0.0   \n4  2014-07-15 09:00:00  Partly Cloudy  partly-cloudy-night              0.0   \n\n   precipProbability  temperature  apparentTemperature  dewPoint  humidity  \\\n0                0.0         10.0                10.00      9.99      1.00   \n1                0.0          9.0                 9.00      9.00      1.00   \n2                0.0          9.0                 9.00      9.00      1.00   \n3                0.0         10.0                 8.46      9.00      0.94   \n4                0.0          9.0                 8.46      6.99      0.87   \n\n   windSpeed  cloudCover  uvIndex  visibility  windBearing location  windGust  \\\n0       1.02        0.44      0.0      10.003          NaN     bosa       NaN   \n1       1.02        0.44      0.0      10.003         50.0     bosa       NaN   \n2       1.02        0.44      0.0      10.003          NaN     bosa       NaN   \n3       3.09        0.44      0.0      10.003        120.0     bosa       NaN   \n4       1.55        0.44      0.0      10.003        270.0     bosa       NaN   \n\n   pressure precipType  ozone  precipAccumulation  \n0       NaN        NaN    NaN                 NaN  \n1       NaN        NaN    NaN                 NaN  \n2       NaN        NaN    NaN                 NaN  \n3       NaN        NaN    NaN                 NaN  \n4       NaN        NaN    NaN                 NaN  ",
      "text/html": "<div>\n<style scoped>\n    .dataframe tbody tr th:only-of-type {\n        vertical-align: middle;\n    }\n\n    .dataframe tbody tr th {\n        vertical-align: top;\n    }\n\n    .dataframe thead th {\n        text-align: right;\n    }\n</style>\n<table border=\"1\" class=\"dataframe\">\n  <thead>\n    <tr style=\"text-align: right;\">\n      <th></th>\n      <th>time</th>\n      <th>summary</th>\n      <th>icon</th>\n      <th>precipIntensity</th>\n      <th>precipProbability</th>\n      <th>temperature</th>\n      <th>apparentTemperature</th>\n      <th>dewPoint</th>\n      <th>humidity</th>\n      <th>windSpeed</th>\n      <th>cloudCover</th>\n      <th>uvIndex</th>\n      <th>visibility</th>\n      <th>windBearing</th>\n      <th>location</th>\n      <th>windGust</th>\n      <th>pressure</th>\n      <th>precipType</th>\n      <th>ozone</th>\n      <th>precipAccumulation</th>\n    </tr>\n  </thead>\n  <tbody>\n    <tr>\n      <th>0</th>\n      <td>2014-07-15 05:00:00</td>\n      <td>Partly Cloudy</td>\n      <td>partly-cloudy-night</td>\n      <td>0.0</td>\n      <td>0.0</td>\n      <td>10.0</td>\n      <td>10.00</td>\n      <td>9.99</td>\n      <td>1.00</td>\n      <td>1.02</td>\n      <td>0.44</td>\n      <td>0.0</td>\n      <td>10.003</td>\n      <td>NaN</td>\n      <td>bosa</td>\n      <td>NaN</td>\n      <td>NaN</td>\n      <td>NaN</td>\n      <td>NaN</td>\n      <td>NaN</td>\n    </tr>\n    <tr>\n      <th>1</th>\n      <td>2014-07-15 06:00:00</td>\n      <td>Partly Cloudy</td>\n      <td>partly-cloudy-night</td>\n      <td>0.0</td>\n      <td>0.0</td>\n      <td>9.0</td>\n      <td>9.00</td>\n      <td>9.00</td>\n      <td>1.00</td>\n      <td>1.02</td>\n      <td>0.44</td>\n      <td>0.0</td>\n      <td>10.003</td>\n      <td>50.0</td>\n      <td>bosa</td>\n      <td>NaN</td>\n      <td>NaN</td>\n      <td>NaN</td>\n      <td>NaN</td>\n      <td>NaN</td>\n    </tr>\n    <tr>\n      <th>2</th>\n      <td>2014-07-15 07:00:00</td>\n      <td>Partly Cloudy</td>\n      <td>partly-cloudy-night</td>\n      <td>0.0</td>\n      <td>0.0</td>\n      <td>9.0</td>\n      <td>9.00</td>\n      <td>9.00</td>\n      <td>1.00</td>\n      <td>1.02</td>\n      <td>0.44</td>\n      <td>0.0</td>\n      <td>10.003</td>\n      <td>NaN</td>\n      <td>bosa</td>\n      <td>NaN</td>\n      <td>NaN</td>\n      <td>NaN</td>\n      <td>NaN</td>\n      <td>NaN</td>\n    </tr>\n    <tr>\n      <th>3</th>\n      <td>2014-07-15 08:00:00</td>\n      <td>Partly Cloudy</td>\n      <td>partly-cloudy-night</td>\n      <td>0.0</td>\n      <td>0.0</td>\n      <td>10.0</td>\n      <td>8.46</td>\n      <td>9.00</td>\n      <td>0.94</td>\n      <td>3.09</td>\n      <td>0.44</td>\n      <td>0.0</td>\n      <td>10.003</td>\n      <td>120.0</td>\n      <td>bosa</td>\n      <td>NaN</td>\n      <td>NaN</td>\n      <td>NaN</td>\n      <td>NaN</td>\n      <td>NaN</td>\n    </tr>\n    <tr>\n      <th>4</th>\n      <td>2014-07-15 09:00:00</td>\n      <td>Partly Cloudy</td>\n      <td>partly-cloudy-night</td>\n      <td>0.0</td>\n      <td>0.0</td>\n      <td>9.0</td>\n      <td>8.46</td>\n      <td>6.99</td>\n      <td>0.87</td>\n      <td>1.55</td>\n      <td>0.44</td>\n      <td>0.0</td>\n      <td>10.003</td>\n      <td>270.0</td>\n      <td>bosa</td>\n      <td>NaN</td>\n      <td>NaN</td>\n      <td>NaN</td>\n      <td>NaN</td>\n      <td>NaN</td>\n    </tr>\n  </tbody>\n</table>\n</div>"
     },
     "metadata": {},
     "execution_count": 52
    }
   ],
   "source": [
    "weather.head()"
   ]
  },
  {
   "cell_type": "code",
   "execution_count": 53,
   "metadata": {},
   "outputs": [],
   "source": [
    "dataset['timestamp_floor'] =  dataset.timestamp.dt.round('H')"
   ]
  },
  {
   "cell_type": "code",
   "execution_count": 54,
   "metadata": {},
   "outputs": [],
   "source": [
    "weather.time = pd.to_datetime(weather.time)"
   ]
  },
  {
   "cell_type": "code",
   "execution_count": 55,
   "metadata": {},
   "outputs": [
    {
     "output_type": "execute_result",
     "data": {
      "text/plain": "array(['bosa', 'engativa', 'tunjuelito', 'fontibon', 'kennedy',\n       'ciudadbolivar', 'la candelaria', 'puente aranda', 'rafael uribe',\n       'sumapaz', 'antonio nariño', 'barrios unidos', 'chapinero',\n       'los martires', 'san cristobal', 'santafe', 'suba', 'teusaquillo',\n       'usaquen', 'usme'], dtype=object)"
     },
     "metadata": {},
     "execution_count": 55
    }
   ],
   "source": [
    "weather.location.unique()"
   ]
  },
  {
   "cell_type": "code",
   "execution_count": 56,
   "metadata": {},
   "outputs": [],
   "source": [
    "weather.replace({\"tunjuelito\": 'TUNJUELITO', \"chapinero\":'CHAPINERO', \"kennedy\": 'KENNEDY', \"usaquen\": 'USAQUEN', \"barrios unidos\":  'BARRIOS UNIDOS', \"ciudadbolivar\": \n",
    "'CIUDAD BOLIVAR', \"fontibon\":  'FONTIBON', \"puente aranda\":  'PUENTE ARANDA', \"suba\":  'SUBA', \"teusaquillo\":\n",
    "'TEUSAQUILLO', \"santafe\":  'SANTA FE', \"bosa\":  'BOSA', \"san cristobal\":  'SAN CRISTOBAL', \"engativa\":  'ENGATIVA', \"rafael uribe\": \n",
    "'RAFAEL URIBE URIBE', \"antonio nariño\":  'ANTONIO NARIÑO', \"los martires\":  'LOS MARTIRES', \"la candelaria\":\n",
    "'CANDELARIA', \"usme\": 'USME', \"sumapaz\":  'SUMAPAZ'}, inplace=True)"
   ]
  },
  {
   "cell_type": "code",
   "execution_count": 57,
   "metadata": {},
   "outputs": [],
   "source": [
    "dataset = dataset.merge(weather, left_on=['borough' , 'timestamp_floor'], right_on=['location', 'time'])"
   ]
  },
  {
   "cell_type": "code",
   "execution_count": 58,
   "metadata": {},
   "outputs": [
    {
     "output_type": "execute_result",
     "data": {
      "text/plain": "Index(['x', 'y', 'timestamp', 'date', 'year', 'month', 'day', 'day_of_year',\n       'day_of_week', 'hour', 'address', 'severity', 'accident_type',\n       'severity_numeric', 'borough', 'cluster_id', 'sample_type',\n       'borough_id', 'area_km2', 'population', 'population_density',\n       'timestamp_floor', 'time', 'summary', 'icon', 'precipIntensity',\n       'precipProbability', 'temperature', 'apparentTemperature', 'dewPoint',\n       'humidity', 'windSpeed', 'cloudCover', 'uvIndex', 'visibility',\n       'windBearing', 'location', 'windGust', 'pressure', 'precipType',\n       'ozone', 'precipAccumulation'],\n      dtype='object')"
     },
     "metadata": {},
     "execution_count": 58
    }
   ],
   "source": [
    "dataset.columns"
   ]
  },
  {
   "cell_type": "code",
   "execution_count": 59,
   "metadata": {},
   "outputs": [],
   "source": [
    "dataset.drop(columns = ['timestamp_floor', 'location'], inplace=True)"
   ]
  },
  {
   "cell_type": "code",
   "execution_count": 60,
   "metadata": {},
   "outputs": [],
   "source": [
    "dataset.rename(columns={\"time\": \"timestamp_darksky\"}, inplace=True)"
   ]
  },
  {
   "cell_type": "code",
   "execution_count": 61,
   "metadata": {},
   "outputs": [],
   "source": [
    "dataset.to_csv('../data/dataset_2018_with_negatives.csv', index=None)"
   ]
  },
  {
   "cell_type": "code",
   "execution_count": 62,
   "metadata": {},
   "outputs": [
    {
     "output_type": "execute_result",
     "data": {
      "text/plain": "                        x                   y           timestamp  \\\n0                -74.1218             4.60311 2018-03-25 12:10:00   \n1      -74.10631202499997  4.6273950890000615 2018-03-25 12:00:00   \n2                -74.1789             4.62416 2018-02-13 07:45:00   \n3                 -74.121             4.72184 2018-05-02 17:50:00   \n4                -74.1047             4.65641 2018-05-02 18:19:00   \n...                   ...                 ...                 ...   \n66217  -74.10435691599997   4.652615037000032 2018-03-11 20:00:00   \n66218  -74.10566061099996   4.705324347000044 2018-12-04 22:00:00   \n66219  -74.06577121299993   4.755576805000032 2018-09-15 13:00:00   \n66220  -74.06070190099996  4.6780774160000655 2018-09-05 23:00:00   \n66221  -74.08629189699997   4.676853866000044 2018-05-11 14:00:00   \n\n                      date  year  month  day  day_of_year  day_of_week  hour  \\\n0               2018-03-25  2018      3   25           84            6    12   \n1      2018-03-25 00:00:00  2018      3   25           84            6    12   \n2               2018-02-13  2018      2   13           44            1     7   \n3               2018-05-02  2018      5    2          122            2    17   \n4               2018-05-02  2018      5    2          122            2    18   \n...                    ...   ...    ...  ...          ...          ...   ...   \n66217  2018-03-11 00:00:00  2018      3   11           70            6    20   \n66218  2018-12-04 00:00:00  2018     12    4          338            1    22   \n66219  2018-09-15 00:00:00  2018      9   15          258            5    13   \n66220  2018-09-05 00:00:00  2018      9    5          248            2    23   \n66221  2018-05-11 00:00:00  2018      5   11          131            4    14   \n\n       ... windSpeed cloudCover uvIndex visibility windBearing  windGust  \\\n0      ...      2.09       0.44     0.0     10.003        30.0       NaN   \n1      ...      2.09       0.44     0.0     10.003        30.0       NaN   \n2      ...      1.02       0.44     0.0     10.003         NaN       NaN   \n3      ...      5.09       0.75     7.0     10.003       150.0       NaN   \n4      ...      5.09       0.75     7.0     10.003       150.0       NaN   \n...    ...       ...        ...     ...        ...         ...       ...   \n66217  ...      5.09       0.44     5.0     10.003       120.0       NaN   \n66218  ...      1.77       0.88     0.0     16.093       307.0      3.15   \n66219  ...      1.05       0.90     3.0     14.669        58.0      1.62   \n66220  ...      1.85       0.90     0.0     11.843       162.0      3.25   \n66221  ...      2.60       0.44     5.0     10.003        30.0       NaN   \n\n       pressure  precipType  ozone  precipAccumulation  \n0           NaN         NaN    NaN                 NaN  \n1           NaN         NaN    NaN                 NaN  \n2           NaN         NaN    NaN                 NaN  \n3           NaN         NaN    NaN                 NaN  \n4           NaN         NaN    NaN                 NaN  \n...         ...         ...    ...                 ...  \n66217       NaN         NaN    NaN                 NaN  \n66218    1011.5        rain  241.6                 NaN  \n66219    1015.7        rain  269.1                 NaN  \n66220    1014.3        rain  261.2                 NaN  \n66221       NaN         NaN    NaN                 NaN  \n\n[66222 rows x 40 columns]",
      "text/html": "<div>\n<style scoped>\n    .dataframe tbody tr th:only-of-type {\n        vertical-align: middle;\n    }\n\n    .dataframe tbody tr th {\n        vertical-align: top;\n    }\n\n    .dataframe thead th {\n        text-align: right;\n    }\n</style>\n<table border=\"1\" class=\"dataframe\">\n  <thead>\n    <tr style=\"text-align: right;\">\n      <th></th>\n      <th>x</th>\n      <th>y</th>\n      <th>timestamp</th>\n      <th>date</th>\n      <th>year</th>\n      <th>month</th>\n      <th>day</th>\n      <th>day_of_year</th>\n      <th>day_of_week</th>\n      <th>hour</th>\n      <th>...</th>\n      <th>windSpeed</th>\n      <th>cloudCover</th>\n      <th>uvIndex</th>\n      <th>visibility</th>\n      <th>windBearing</th>\n      <th>windGust</th>\n      <th>pressure</th>\n      <th>precipType</th>\n      <th>ozone</th>\n      <th>precipAccumulation</th>\n    </tr>\n  </thead>\n  <tbody>\n    <tr>\n      <th>0</th>\n      <td>-74.1218</td>\n      <td>4.60311</td>\n      <td>2018-03-25 12:10:00</td>\n      <td>2018-03-25</td>\n      <td>2018</td>\n      <td>3</td>\n      <td>25</td>\n      <td>84</td>\n      <td>6</td>\n      <td>12</td>\n      <td>...</td>\n      <td>2.09</td>\n      <td>0.44</td>\n      <td>0.0</td>\n      <td>10.003</td>\n      <td>30.0</td>\n      <td>NaN</td>\n      <td>NaN</td>\n      <td>NaN</td>\n      <td>NaN</td>\n      <td>NaN</td>\n    </tr>\n    <tr>\n      <th>1</th>\n      <td>-74.10631202499997</td>\n      <td>4.6273950890000615</td>\n      <td>2018-03-25 12:00:00</td>\n      <td>2018-03-25 00:00:00</td>\n      <td>2018</td>\n      <td>3</td>\n      <td>25</td>\n      <td>84</td>\n      <td>6</td>\n      <td>12</td>\n      <td>...</td>\n      <td>2.09</td>\n      <td>0.44</td>\n      <td>0.0</td>\n      <td>10.003</td>\n      <td>30.0</td>\n      <td>NaN</td>\n      <td>NaN</td>\n      <td>NaN</td>\n      <td>NaN</td>\n      <td>NaN</td>\n    </tr>\n    <tr>\n      <th>2</th>\n      <td>-74.1789</td>\n      <td>4.62416</td>\n      <td>2018-02-13 07:45:00</td>\n      <td>2018-02-13</td>\n      <td>2018</td>\n      <td>2</td>\n      <td>13</td>\n      <td>44</td>\n      <td>1</td>\n      <td>7</td>\n      <td>...</td>\n      <td>1.02</td>\n      <td>0.44</td>\n      <td>0.0</td>\n      <td>10.003</td>\n      <td>NaN</td>\n      <td>NaN</td>\n      <td>NaN</td>\n      <td>NaN</td>\n      <td>NaN</td>\n      <td>NaN</td>\n    </tr>\n    <tr>\n      <th>3</th>\n      <td>-74.121</td>\n      <td>4.72184</td>\n      <td>2018-05-02 17:50:00</td>\n      <td>2018-05-02</td>\n      <td>2018</td>\n      <td>5</td>\n      <td>2</td>\n      <td>122</td>\n      <td>2</td>\n      <td>17</td>\n      <td>...</td>\n      <td>5.09</td>\n      <td>0.75</td>\n      <td>7.0</td>\n      <td>10.003</td>\n      <td>150.0</td>\n      <td>NaN</td>\n      <td>NaN</td>\n      <td>NaN</td>\n      <td>NaN</td>\n      <td>NaN</td>\n    </tr>\n    <tr>\n      <th>4</th>\n      <td>-74.1047</td>\n      <td>4.65641</td>\n      <td>2018-05-02 18:19:00</td>\n      <td>2018-05-02</td>\n      <td>2018</td>\n      <td>5</td>\n      <td>2</td>\n      <td>122</td>\n      <td>2</td>\n      <td>18</td>\n      <td>...</td>\n      <td>5.09</td>\n      <td>0.75</td>\n      <td>7.0</td>\n      <td>10.003</td>\n      <td>150.0</td>\n      <td>NaN</td>\n      <td>NaN</td>\n      <td>NaN</td>\n      <td>NaN</td>\n      <td>NaN</td>\n    </tr>\n    <tr>\n      <th>...</th>\n      <td>...</td>\n      <td>...</td>\n      <td>...</td>\n      <td>...</td>\n      <td>...</td>\n      <td>...</td>\n      <td>...</td>\n      <td>...</td>\n      <td>...</td>\n      <td>...</td>\n      <td>...</td>\n      <td>...</td>\n      <td>...</td>\n      <td>...</td>\n      <td>...</td>\n      <td>...</td>\n      <td>...</td>\n      <td>...</td>\n      <td>...</td>\n      <td>...</td>\n      <td>...</td>\n    </tr>\n    <tr>\n      <th>66217</th>\n      <td>-74.10435691599997</td>\n      <td>4.652615037000032</td>\n      <td>2018-03-11 20:00:00</td>\n      <td>2018-03-11 00:00:00</td>\n      <td>2018</td>\n      <td>3</td>\n      <td>11</td>\n      <td>70</td>\n      <td>6</td>\n      <td>20</td>\n      <td>...</td>\n      <td>5.09</td>\n      <td>0.44</td>\n      <td>5.0</td>\n      <td>10.003</td>\n      <td>120.0</td>\n      <td>NaN</td>\n      <td>NaN</td>\n      <td>NaN</td>\n      <td>NaN</td>\n      <td>NaN</td>\n    </tr>\n    <tr>\n      <th>66218</th>\n      <td>-74.10566061099996</td>\n      <td>4.705324347000044</td>\n      <td>2018-12-04 22:00:00</td>\n      <td>2018-12-04 00:00:00</td>\n      <td>2018</td>\n      <td>12</td>\n      <td>4</td>\n      <td>338</td>\n      <td>1</td>\n      <td>22</td>\n      <td>...</td>\n      <td>1.77</td>\n      <td>0.88</td>\n      <td>0.0</td>\n      <td>16.093</td>\n      <td>307.0</td>\n      <td>3.15</td>\n      <td>1011.5</td>\n      <td>rain</td>\n      <td>241.6</td>\n      <td>NaN</td>\n    </tr>\n    <tr>\n      <th>66219</th>\n      <td>-74.06577121299993</td>\n      <td>4.755576805000032</td>\n      <td>2018-09-15 13:00:00</td>\n      <td>2018-09-15 00:00:00</td>\n      <td>2018</td>\n      <td>9</td>\n      <td>15</td>\n      <td>258</td>\n      <td>5</td>\n      <td>13</td>\n      <td>...</td>\n      <td>1.05</td>\n      <td>0.90</td>\n      <td>3.0</td>\n      <td>14.669</td>\n      <td>58.0</td>\n      <td>1.62</td>\n      <td>1015.7</td>\n      <td>rain</td>\n      <td>269.1</td>\n      <td>NaN</td>\n    </tr>\n    <tr>\n      <th>66220</th>\n      <td>-74.06070190099996</td>\n      <td>4.6780774160000655</td>\n      <td>2018-09-05 23:00:00</td>\n      <td>2018-09-05 00:00:00</td>\n      <td>2018</td>\n      <td>9</td>\n      <td>5</td>\n      <td>248</td>\n      <td>2</td>\n      <td>23</td>\n      <td>...</td>\n      <td>1.85</td>\n      <td>0.90</td>\n      <td>0.0</td>\n      <td>11.843</td>\n      <td>162.0</td>\n      <td>3.25</td>\n      <td>1014.3</td>\n      <td>rain</td>\n      <td>261.2</td>\n      <td>NaN</td>\n    </tr>\n    <tr>\n      <th>66221</th>\n      <td>-74.08629189699997</td>\n      <td>4.676853866000044</td>\n      <td>2018-05-11 14:00:00</td>\n      <td>2018-05-11 00:00:00</td>\n      <td>2018</td>\n      <td>5</td>\n      <td>11</td>\n      <td>131</td>\n      <td>4</td>\n      <td>14</td>\n      <td>...</td>\n      <td>2.60</td>\n      <td>0.44</td>\n      <td>5.0</td>\n      <td>10.003</td>\n      <td>30.0</td>\n      <td>NaN</td>\n      <td>NaN</td>\n      <td>NaN</td>\n      <td>NaN</td>\n      <td>NaN</td>\n    </tr>\n  </tbody>\n</table>\n<p>66222 rows × 40 columns</p>\n</div>"
     },
     "metadata": {},
     "execution_count": 62
    }
   ],
   "source": [
    "dataset"
   ]
  },
  {
   "cell_type": "code",
   "execution_count": null,
   "metadata": {},
   "outputs": [],
   "source": []
  }
 ]
}