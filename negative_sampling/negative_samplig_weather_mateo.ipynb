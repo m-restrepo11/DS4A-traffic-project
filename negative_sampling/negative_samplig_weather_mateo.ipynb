{
 "nbformat": 4,
 "nbformat_minor": 2,
 "metadata": {
  "language_info": {
   "name": "python",
   "codemirror_mode": {
    "name": "ipython",
    "version": 3
   },
   "version": "3.7.7-final"
  },
  "orig_nbformat": 2,
  "file_extension": ".py",
  "mimetype": "text/x-python",
  "name": "python",
  "npconvert_exporter": "python",
  "pygments_lexer": "ipython3",
  "version": 3,
  "kernelspec": {
   "name": "python38264bitds4aprojectcondae0f55255db9a456ea22c31180c5c6b0c",
   "language": "python",
   "display_name": "Python 3.8.2 64-bit ('ds4a-project': conda)"
  }
 },
 "cells": [
  {
   "cell_type": "code",
   "execution_count": 1,
   "metadata": {},
   "outputs": [],
   "source": [
    "import pandas as pd\n",
    "import numpy as np"
   ]
  },
  {
   "cell_type": "code",
   "execution_count": 5,
   "metadata": {},
   "outputs": [],
   "source": [
    "accidents = pd.read_csv('../data/2015-2019_dataset_clusters.csv')"
   ]
  },
  {
   "cell_type": "code",
   "execution_count": 13,
   "metadata": {},
   "outputs": [
    {
     "output_type": "execute_result",
     "data": {
      "text/plain": "           x         y  accident_id  year  \\\n0 -74.105296  4.509792      4437952  2016   \n1 -74.167225  4.631051      4472304  2017   \n2 -74.121790  4.603106      4512837  2018   \n3 -74.075332  4.607944      4437462  2016   \n4 -74.064965  4.744182      4473374  2017   \n\n                                address severity accident_type  \\\n0                     CL 80A-KR 1 SE 02   Injury         Crash   \n1  AV AVENIDA CIUDAD DE CALI-CL 42 S 02   Injury      Run over   \n2  AV AVENIDA PRIMERA DE MAYO-KR 50A 14   Injury         Crash   \n3                        KR 13-CL 18 02   Injury         Crash   \n4           AV AVENIDA BOYACA-CL 160 02   Injury      Run over   \n\n   severity_numeric    borough_geo                  timestamp        date  \\\n0                 8           USME  2016-02-27 16:20:00+00:00  2016-02-27   \n1                 9        KENNEDY  2017-02-09 16:45:00+00:00  2017-02-09   \n2                 8  PUENTE ARANDA  2018-03-25 12:10:00+00:00  2018-03-25   \n3                 8       SANTA FE  2016-02-22 08:55:00+00:00  2016-02-22   \n4                 9           SUBA  2017-02-19 13:00:00+00:00  2017-02-19   \n\n   hour month_name  month  day  cluster_id  \n0    16        Feb      2  Sat           0  \n1    16        Feb      2  Thu           1  \n2    12        Mar      3  Sun           1  \n3     8        Feb      2  Mon           1  \n4    13        Feb      2  Sun           2  ",
      "text/html": "<div>\n<style scoped>\n    .dataframe tbody tr th:only-of-type {\n        vertical-align: middle;\n    }\n\n    .dataframe tbody tr th {\n        vertical-align: top;\n    }\n\n    .dataframe thead th {\n        text-align: right;\n    }\n</style>\n<table border=\"1\" class=\"dataframe\">\n  <thead>\n    <tr style=\"text-align: right;\">\n      <th></th>\n      <th>x</th>\n      <th>y</th>\n      <th>accident_id</th>\n      <th>year</th>\n      <th>address</th>\n      <th>severity</th>\n      <th>accident_type</th>\n      <th>severity_numeric</th>\n      <th>borough_geo</th>\n      <th>timestamp</th>\n      <th>date</th>\n      <th>hour</th>\n      <th>month_name</th>\n      <th>month</th>\n      <th>day</th>\n      <th>cluster_id</th>\n    </tr>\n  </thead>\n  <tbody>\n    <tr>\n      <th>0</th>\n      <td>-74.105296</td>\n      <td>4.509792</td>\n      <td>4437952</td>\n      <td>2016</td>\n      <td>CL 80A-KR 1 SE 02</td>\n      <td>Injury</td>\n      <td>Crash</td>\n      <td>8</td>\n      <td>USME</td>\n      <td>2016-02-27 16:20:00+00:00</td>\n      <td>2016-02-27</td>\n      <td>16</td>\n      <td>Feb</td>\n      <td>2</td>\n      <td>Sat</td>\n      <td>0</td>\n    </tr>\n    <tr>\n      <th>1</th>\n      <td>-74.167225</td>\n      <td>4.631051</td>\n      <td>4472304</td>\n      <td>2017</td>\n      <td>AV AVENIDA CIUDAD DE CALI-CL 42 S 02</td>\n      <td>Injury</td>\n      <td>Run over</td>\n      <td>9</td>\n      <td>KENNEDY</td>\n      <td>2017-02-09 16:45:00+00:00</td>\n      <td>2017-02-09</td>\n      <td>16</td>\n      <td>Feb</td>\n      <td>2</td>\n      <td>Thu</td>\n      <td>1</td>\n    </tr>\n    <tr>\n      <th>2</th>\n      <td>-74.121790</td>\n      <td>4.603106</td>\n      <td>4512837</td>\n      <td>2018</td>\n      <td>AV AVENIDA PRIMERA DE MAYO-KR 50A 14</td>\n      <td>Injury</td>\n      <td>Crash</td>\n      <td>8</td>\n      <td>PUENTE ARANDA</td>\n      <td>2018-03-25 12:10:00+00:00</td>\n      <td>2018-03-25</td>\n      <td>12</td>\n      <td>Mar</td>\n      <td>3</td>\n      <td>Sun</td>\n      <td>1</td>\n    </tr>\n    <tr>\n      <th>3</th>\n      <td>-74.075332</td>\n      <td>4.607944</td>\n      <td>4437462</td>\n      <td>2016</td>\n      <td>KR 13-CL 18 02</td>\n      <td>Injury</td>\n      <td>Crash</td>\n      <td>8</td>\n      <td>SANTA FE</td>\n      <td>2016-02-22 08:55:00+00:00</td>\n      <td>2016-02-22</td>\n      <td>8</td>\n      <td>Feb</td>\n      <td>2</td>\n      <td>Mon</td>\n      <td>1</td>\n    </tr>\n    <tr>\n      <th>4</th>\n      <td>-74.064965</td>\n      <td>4.744182</td>\n      <td>4473374</td>\n      <td>2017</td>\n      <td>AV AVENIDA BOYACA-CL 160 02</td>\n      <td>Injury</td>\n      <td>Run over</td>\n      <td>9</td>\n      <td>SUBA</td>\n      <td>2017-02-19 13:00:00+00:00</td>\n      <td>2017-02-19</td>\n      <td>13</td>\n      <td>Feb</td>\n      <td>2</td>\n      <td>Sun</td>\n      <td>2</td>\n    </tr>\n  </tbody>\n</table>\n</div>"
     },
     "metadata": {},
     "execution_count": 13
    }
   ],
   "source": [
    "accidents.head()"
   ]
  },
  {
   "cell_type": "code",
   "execution_count": 14,
   "metadata": {},
   "outputs": [],
   "source": [
    "df_positive_2019 = accidents[pd.to_datetime(accidents.date).dt.year == 2019]"
   ]
  },
  {
   "cell_type": "code",
   "execution_count": 15,
   "metadata": {},
   "outputs": [],
   "source": [
    "df_positive = df_positive_2019[['x','y','date','hour', 'borough_geo', 'address', 'cluster_id']].copy()"
   ]
  },
  {
   "cell_type": "code",
   "execution_count": 16,
   "metadata": {},
   "outputs": [],
   "source": [
    "df_positive.date = pd.to_datetime(df_positive.date)"
   ]
  },
  {
   "cell_type": "code",
   "execution_count": 17,
   "metadata": {},
   "outputs": [],
   "source": [
    "df_positive['day_of_year'] = df_positive.date.dt.dayofyear"
   ]
  },
  {
   "cell_type": "code",
   "execution_count": 18,
   "metadata": {},
   "outputs": [],
   "source": [
    "df_positive['coords'] = df_positive[['x', 'y']].apply(lambda x: ';'.join((str(x['x']), str(x['y']))), axis = 1)"
   ]
  },
  {
   "cell_type": "code",
   "execution_count": 19,
   "metadata": {},
   "outputs": [],
   "source": [
    "df_positive = df_positive[['hour', 'day_of_year','borough_geo', 'coords', 'address', 'cluster_id']].copy()"
   ]
  },
  {
   "cell_type": "code",
   "execution_count": 25,
   "metadata": {},
   "outputs": [
    {
     "output_type": "execute_result",
     "data": {
      "text/plain": "   hour  day_of_year borough_geo                                coords  \\\n0    14           11  TUNJUELITO  -74.13436280399995;4.579297398000051   \n1    11           11   CHAPINERO  -74.04881864699999;4.665144043000055   \n\n            address  cluster_id  \n0  KR 26-CL 52B S 2         470  \n1      CL 84-KR 8 2           1  ",
      "text/html": "<div>\n<style scoped>\n    .dataframe tbody tr th:only-of-type {\n        vertical-align: middle;\n    }\n\n    .dataframe tbody tr th {\n        vertical-align: top;\n    }\n\n    .dataframe thead th {\n        text-align: right;\n    }\n</style>\n<table border=\"1\" class=\"dataframe\">\n  <thead>\n    <tr style=\"text-align: right;\">\n      <th></th>\n      <th>hour</th>\n      <th>day_of_year</th>\n      <th>borough_geo</th>\n      <th>coords</th>\n      <th>address</th>\n      <th>cluster_id</th>\n    </tr>\n  </thead>\n  <tbody>\n    <tr>\n      <th>0</th>\n      <td>14</td>\n      <td>11</td>\n      <td>TUNJUELITO</td>\n      <td>-74.13436280399995;4.579297398000051</td>\n      <td>KR 26-CL 52B S 2</td>\n      <td>470</td>\n    </tr>\n    <tr>\n      <th>1</th>\n      <td>11</td>\n      <td>11</td>\n      <td>CHAPINERO</td>\n      <td>-74.04881864699999;4.665144043000055</td>\n      <td>CL 84-KR 8 2</td>\n      <td>1</td>\n    </tr>\n  </tbody>\n</table>\n</div>"
     },
     "metadata": {},
     "execution_count": 25
    }
   ],
   "source": [
    "df_positive.head(2)"
   ]
  },
  {
   "cell_type": "code",
   "execution_count": 24,
   "metadata": {},
   "outputs": [],
   "source": [
    "df_positive = df_positive.reset_index(drop=True)"
   ]
  },
  {
   "cell_type": "code",
   "execution_count": 21,
   "metadata": {
    "tags": [
     "outputPrepend",
     "outputPrepend",
     "outputPrepend",
     "outputPrepend",
     "outputPrepend",
     "outputPrepend",
     "outputPrepend",
     "outputPrepend",
     "outputPrepend",
     "outputPrepend",
     "outputPrepend",
     "outputPrepend",
     "outputPrepend",
     "outputPrepend",
     "outputPrepend",
     "outputPrepend",
     "outputPrepend",
     "outputPrepend",
     "outputPrepend",
     "outputPrepend",
     "outputPrepend",
     "outputPrepend",
     "outputPrepend",
     "outputPrepend",
     "outputPrepend",
     "outputPrepend",
     "outputPrepend",
     "outputPrepend",
     "outputPrepend",
     "outputPrepend",
     "outputPrepend",
     "outputPrepend",
     "outputPrepend",
     "outputPrepend",
     "outputPrepend",
     "outputPrepend",
     "outputPrepend",
     "outputPrepend",
     "outputPrepend",
     "outputPrepend",
     "outputPrepend",
     "outputPrepend",
     "outputPrepend",
     "outputPrepend",
     "outputPrepend",
     "outputPrepend",
     "outputPrepend",
     "outputPrepend",
     "outputPrepend",
     "outputPrepend",
     "outputPrepend",
     "outputPrepend",
     "outputPrepend",
     "outputPrepend",
     "outputPrepend",
     "outputPrepend",
     "outputPrepend",
     "outputPrepend",
     "outputPrepend",
     "outputPrepend",
     "outputPrepend",
     "outputPrepend",
     "outputPrepend",
     "outputPrepend",
     "outputPrepend",
     "outputPrepend",
     "outputPrepend",
     "outputPrepend",
     "outputPrepend",
     "outputPrepend",
     "outputPrepend",
     "outputPrepend",
     "outputPrepend",
     "outputPrepend",
     "outputPrepend",
     "outputPrepend",
     "outputPrepend",
     "outputPrepend",
     "outputPrepend",
     "outputPrepend",
     "outputPrepend",
     "outputPrepend",
     "outputPrepend",
     "outputPrepend",
     "outputPrepend",
     "outputPrepend",
     "outputPrepend",
     "outputPrepend",
     "outputPrepend",
     "outputPrepend",
     "outputPrepend",
     "outputPrepend",
     "outputPrepend",
     "outputPrepend",
     "outputPrepend",
     "outputPrepend",
     "outputPrepend",
     "outputPrepend",
     "outputPrepend",
     "outputPrepend",
     "outputPrepend",
     "outputPrepend",
     "outputPrepend",
     "outputPrepend",
     "outputPrepend",
     "outputPrepend",
     "outputPrepend",
     "outputPrepend",
     "outputPrepend",
     "outputPrepend",
     "outputPrepend",
     "outputPrepend",
     "outputPrepend",
     "outputPrepend",
     "outputPrepend",
     "outputPrepend",
     "outputPrepend",
     "outputPrepend",
     "outputPrepend",
     "outputPrepend",
     "outputPrepend",
     "outputPrepend",
     "outputPrepend",
     "outputPrepend",
     "outputPrepend",
     "outputPrepend",
     "outputPrepend",
     "outputPrepend",
     "outputPrepend",
     "outputPrepend",
     "outputPrepend",
     "outputPrepend",
     "outputPrepend",
     "outputPrepend",
     "outputPrepend",
     "outputPrepend",
     "outputPrepend",
     "outputPrepend",
     "outputPrepend",
     "outputPrepend",
     "outputPrepend",
     "outputPrepend",
     "outputPrepend",
     "outputPrepend",
     "outputPrepend",
     "outputPrepend",
     "outputPrepend",
     "outputPrepend",
     "outputPrepend",
     "outputPrepend",
     "outputPrepend",
     "outputPrepend",
     "outputPrepend",
     "outputPrepend",
     "outputPrepend",
     "outputPrepend",
     "outputPrepend",
     "outputPrepend",
     "outputPrepend",
     "outputPrepend",
     "outputPrepend",
     "outputPrepend",
     "outputPrepend",
     "outputPrepend",
     "outputPrepend",
     "outputPrepend",
     "outputPrepend",
     "outputPrepend",
     "outputPrepend",
     "outputPrepend",
     "outputPrepend",
     "outputPrepend",
     "outputPrepend",
     "outputPrepend",
     "outputPrepend",
     "outputPrepend",
     "outputPrepend",
     "outputPrepend",
     "outputPrepend",
     "outputPrepend",
     "outputPrepend",
     "outputPrepend",
     "outputPrepend",
     "outputPrepend",
     "outputPrepend",
     "outputPrepend",
     "outputPrepend",
     "outputPrepend",
     "outputPrepend",
     "outputPrepend",
     "outputPrepend",
     "outputPrepend",
     "outputPrepend",
     "outputPrepend",
     "outputPrepend",
     "outputPrepend",
     "outputPrepend",
     "outputPrepend",
     "outputPrepend",
     "outputPrepend",
     "outputPrepend",
     "outputPrepend",
     "outputPrepend",
     "outputPrepend",
     "outputPrepend",
     "outputPrepend",
     "outputPrepend",
     "outputPrepend",
     "outputPrepend",
     "outputPrepend",
     "outputPrepend",
     "outputPrepend",
     "outputPrepend",
     "outputPrepend",
     "outputPrepend",
     "outputPrepend",
     "outputPrepend",
     "outputPrepend",
     "outputPrepend",
     "outputPrepend",
     "outputPrepend",
     "outputPrepend",
     "outputPrepend",
     "outputPrepend",
     "outputPrepend",
     "outputPrepend",
     "outputPrepend",
     "outputPrepend",
     "outputPrepend",
     "outputPrepend",
     "outputPrepend",
     "outputPrepend",
     "outputPrepend",
     "outputPrepend",
     "outputPrepend",
     "outputPrepend",
     "outputPrepend",
     "outputPrepend",
     "outputPrepend",
     "outputPrepend",
     "outputPrepend",
     "outputPrepend",
     "outputPrepend",
     "outputPrepend",
     "outputPrepend",
     "outputPrepend",
     "outputPrepend",
     "outputPrepend",
     "outputPrepend",
     "outputPrepend",
     "outputPrepend",
     "outputPrepend",
     "outputPrepend",
     "outputPrepend",
     "outputPrepend",
     "outputPrepend",
     "outputPrepend",
     "outputPrepend",
     "outputPrepend",
     "outputPrepend",
     "outputPrepend",
     "outputPrepend",
     "outputPrepend",
     "outputPrepend",
     "outputPrepend",
     "outputPrepend",
     "outputPrepend",
     "outputPrepend",
     "outputPrepend",
     "outputPrepend",
     "outputPrepend",
     "outputPrepend",
     "outputPrepend",
     "outputPrepend",
     "outputPrepend",
     "outputPrepend",
     "outputPrepend",
     "outputPrepend",
     "outputPrepend",
     "outputPrepend",
     "outputPrepend",
     "outputPrepend",
     "outputPrepend",
     "outputPrepend",
     "outputPrepend",
     "outputPrepend",
     "outputPrepend",
     "outputPrepend",
     "outputPrepend",
     "outputPrepend",
     "outputPrepend",
     "outputPrepend",
     "outputPrepend",
     "outputPrepend",
     "outputPrepend",
     "outputPrepend",
     "outputPrepend",
     "outputPrepend",
     "outputPrepend",
     "outputPrepend",
     "outputPrepend",
     "outputPrepend",
     "outputPrepend",
     "outputPrepend",
     "outputPrepend",
     "outputPrepend",
     "outputPrepend",
     "outputPrepend",
     "outputPrepend",
     "outputPrepend",
     "outputPrepend",
     "outputPrepend",
     "outputPrepend",
     "outputPrepend",
     "outputPrepend",
     "outputPrepend",
     "outputPrepend",
     "outputPrepend",
     "outputPrepend",
     "outputPrepend",
     "outputPrepend",
     "outputPrepend",
     "outputPrepend",
     "outputPrepend",
     "outputPrepend",
     "outputPrepend",
     "outputPrepend",
     "outputPrepend",
     "outputPrepend",
     "outputPrepend",
     "outputPrepend",
     "outputPrepend",
     "outputPrepend",
     "outputPrepend",
     "outputPrepend",
     "outputPrepend",
     "outputPrepend",
     "outputPrepend",
     "outputPrepend",
     "outputPrepend",
     "outputPrepend",
     "outputPrepend",
     "outputPrepend",
     "outputPrepend",
     "outputPrepend",
     "outputPrepend",
     "outputPrepend",
     "outputPrepend",
     "outputPrepend",
     "outputPrepend",
     "outputPrepend",
     "outputPrepend"
    ]
   },
   "outputs": [],
   "source": [
    "def generate_negative_sample(row):\n",
    "    num_samples = 0\n",
    "    while num_samples < 1:\n",
    "        randcol = np.random.choice(np.array(['hour', 'day_of_year', 'coords']))\n",
    "        replacement = df_positive.sample()\n",
    "        negative_sample = row\n",
    "        negative_sample[randcol] = replacement[randcol].values[0]\n",
    "        if randcol == 'coords':\n",
    "            negative_sample['borough_geo'] = replacement['borough_geo'].values[0]\n",
    "            negative_sample['address']  = replacement['address'].values[0]\n",
    "            negative_sample['cluster_id']  = replacement['cluster_id'].values[0]\n",
    "\n",
    "        ncoords = negative_sample['coords']\n",
    "        nhour = negative_sample['hour']\n",
    "        nday = negative_sample['day_of_year']\n",
    "        \n",
    "        if df_positive.loc[(df_positive['coords'] == ncoords) & (df_positive['hour'] == nhour) & (df_positive['day_of_year'] == nday)].empty:\n",
    "            yield negative_sample[['hour', 'day_of_year','coords','address', 'borough_geo', 'cluster_id']].values.tolist()\n",
    "            num_samples += 1\n",
    "        else:\n",
    "            print('found coincidence', negative_sample[['hour', 'day_of_year','coords']].values.tolist())"
   ]
  },
  {
   "cell_type": "code",
   "execution_count": 26,
   "metadata": {},
   "outputs": [],
   "source": [
    "my_list = [generate_negative_sample(df_positive.iloc[x]) for x in df_positive.index]"
   ]
  },
  {
   "cell_type": "code",
   "execution_count": 27,
   "metadata": {
    "tags": [
     "outputPrepend",
     "outputPrepend",
     "outputPrepend",
     "outputPrepend",
     "outputPrepend",
     "outputPrepend",
     "outputPrepend",
     "outputPrepend",
     "outputPrepend",
     "outputPrepend",
     "outputPrepend",
     "outputPrepend",
     "outputPrepend",
     "outputPrepend",
     "outputPrepend",
     "outputPrepend",
     "outputPrepend",
     "outputPrepend",
     "outputPrepend",
     "outputPrepend",
     "outputPrepend",
     "outputPrepend",
     "outputPrepend",
     "outputPrepend",
     "outputPrepend",
     "outputPrepend",
     "outputPrepend",
     "outputPrepend",
     "outputPrepend",
     "outputPrepend",
     "outputPrepend",
     "outputPrepend",
     "outputPrepend",
     "outputPrepend",
     "outputPrepend",
     "outputPrepend",
     "outputPrepend",
     "outputPrepend",
     "outputPrepend",
     "outputPrepend",
     "outputPrepend",
     "outputPrepend",
     "outputPrepend",
     "outputPrepend",
     "outputPrepend",
     "outputPrepend",
     "outputPrepend",
     "outputPrepend",
     "outputPrepend",
     "outputPrepend",
     "outputPrepend",
     "outputPrepend",
     "outputPrepend",
     "outputPrepend",
     "outputPrepend",
     "outputPrepend",
     "outputPrepend",
     "outputPrepend",
     "outputPrepend",
     "outputPrepend",
     "outputPrepend",
     "outputPrepend",
     "outputPrepend",
     "outputPrepend",
     "outputPrepend",
     "outputPrepend",
     "outputPrepend",
     "outputPrepend",
     "outputPrepend",
     "outputPrepend",
     "outputPrepend",
     "outputPrepend",
     "outputPrepend",
     "outputPrepend",
     "outputPrepend",
     "outputPrepend",
     "outputPrepend",
     "outputPrepend",
     "outputPrepend",
     "outputPrepend",
     "outputPrepend",
     "outputPrepend",
     "outputPrepend",
     "outputPrepend",
     "outputPrepend",
     "outputPrepend",
     "outputPrepend",
     "outputPrepend",
     "outputPrepend",
     "outputPrepend",
     "outputPrepend",
     "outputPrepend",
     "outputPrepend",
     "outputPrepend",
     "outputPrepend",
     "outputPrepend",
     "outputPrepend",
     "outputPrepend",
     "outputPrepend",
     "outputPrepend",
     "outputPrepend",
     "outputPrepend",
     "outputPrepend",
     "outputPrepend",
     "outputPrepend",
     "outputPrepend",
     "outputPrepend",
     "outputPrepend",
     "outputPrepend",
     "outputPrepend",
     "outputPrepend",
     "outputPrepend",
     "outputPrepend",
     "outputPrepend",
     "outputPrepend",
     "outputPrepend",
     "outputPrepend",
     "outputPrepend",
     "outputPrepend",
     "outputPrepend",
     "outputPrepend",
     "outputPrepend",
     "outputPrepend",
     "outputPrepend",
     "outputPrepend",
     "outputPrepend",
     "outputPrepend",
     "outputPrepend",
     "outputPrepend",
     "outputPrepend",
     "outputPrepend",
     "outputPrepend",
     "outputPrepend",
     "outputPrepend",
     "outputPrepend",
     "outputPrepend",
     "outputPrepend",
     "outputPrepend",
     "outputPrepend",
     "outputPrepend",
     "outputPrepend",
     "outputPrepend",
     "outputPrepend",
     "outputPrepend",
     "outputPrepend",
     "outputPrepend",
     "outputPrepend",
     "outputPrepend",
     "outputPrepend",
     "outputPrepend",
     "outputPrepend",
     "outputPrepend",
     "outputPrepend",
     "outputPrepend",
     "outputPrepend",
     "outputPrepend",
     "outputPrepend",
     "outputPrepend",
     "outputPrepend",
     "outputPrepend",
     "outputPrepend",
     "outputPrepend",
     "outputPrepend",
     "outputPrepend",
     "outputPrepend",
     "outputPrepend",
     "outputPrepend",
     "outputPrepend",
     "outputPrepend",
     "outputPrepend",
     "outputPrepend",
     "outputPrepend",
     "outputPrepend",
     "outputPrepend",
     "outputPrepend",
     "outputPrepend",
     "outputPrepend",
     "outputPrepend"
    ]
   },
   "outputs": [
    {
     "output_type": "stream",
     "name": "stdout",
     "text": "607404199994;4.640868394000051']\nfound coincidence [11, 277, '-74.16537835399998;4.620097236000049']\nfound coincidence [18, 283, '-74.12740286199994;4.669526482000038']\nfound coincidence [10, 121, '-74.07854970199999;4.646602019000056']\nfound coincidence [12, 177, '-74.07260532799995;4.6945902490000435']\nfound coincidence [20, 176, '-74.10560590799997;4.648621565000042']\nfound coincidence [10, 303, '-74.08107437099994;4.595120953000047']\nfound coincidence [14, 187, '-74.12784229499994;4.629271811000024']\nfound coincidence [19, 89, '-74.07256651899995;4.731098954000061']\nfound coincidence [7, 117, '-74.04569900699995;4.726790397000059']\nfound coincidence [16, 71, '-74.07307526799997;4.598059717000068']\nfound coincidence [13, 9, '-74.09793445899999;4.713315476000048']\nfound coincidence [21, 115, '-74.04650097899997;4.7516098330000345']\nfound coincidence [5, 116, '-74.09517720799995;4.558947506000038']\nfound coincidence [18, 306, '-74.11426600399994;4.641167307000046']\nfound coincidence [15, 308, '-74.18135151999998;4.602746568000043']\nfound coincidence [12, 16, '-74.17058424099997;4.628373148000037']\nfound coincidence [10, 99, '-74.08724530899997;4.752162586000054']\nfound coincidence [14, 357, '-74.04540689499999;4.724019206000037']\nfound coincidence [14, 357, '-74.04540689499999;4.724019206000037']\nfound coincidence [11, 298, '-74.11070414499993;4.560363081000048']\nfound coincidence [7, 119, '-74.11789647099994;4.6182344500000445']\nfound coincidence [18, 262, '-74.08869943399995;4.591658341000027']\nfound coincidence [10, 99, '-74.04906713799994;4.737490042000047']\nfound coincidence [18, 277, '-74.10029531899994;4.566775092000056']\nfound coincidence [10, 305, '-74.10082559299997;4.6706752490000545']\nfound coincidence [13, 148, '-74.09736047299998;4.637558795000075']\nfound coincidence [14, 168, '-74.12003568599994;4.6788827090000495']\nfound coincidence [15, 277, '-74.12782726399995;4.6690105620000395']\nfound coincidence [15, 199, '-74.05698795;4.6708165430000586']\nfound coincidence [23, 190, '-74.16120298299995;4.6118440490000685']\nfound coincidence [13, 42, '-74.19678546599994;4.622575727000026']\nfound coincidence [14, 121, '-74.18068177999999;4.630751983000039']\nfound coincidence [17, 231, '-74.15833869099998;4.581991463000065']\nfound coincidence [14, 260, '-74.12060788899998;4.707378200000051']\nfound coincidence [12, 193, '-74.15196818399994;4.551750217000063']\nfound coincidence [12, 251, '-74.15976772499994;4.637476148000077']\nfound coincidence [15, 107, '-74.04183551899995;4.777810775000034']\nfound coincidence [7, 119, '-74.13167232;4.644681186000071']\nfound coincidence [16, 333, '-74.04531120699994;4.7605228480000505']\nfound coincidence [14, 335, '-74.05952595299993;4.699607186000037']\nfound coincidence [17, 168, '-74.05721400499993;4.687391775000037']\nfound coincidence [19, 268, '-74.02395039699995;4.703558653000074']\nfound coincidence [11, 260, '-74.07550755199999;4.6619689080000635']\nfound coincidence [14, 193, '-74.043094367;4.7042961800000285']\nfound coincidence [19, 130, '-74.09056779399998;4.753821513000048']\nfound coincidence [9, 333, '-74.11090221899997;4.653620556000022']\nfound coincidence [15, 269, '-74.12502755399998;4.7260361050000474']\nfound coincidence [14, 261, '-74.13079995599996;4.5654756940000425']\nfound coincidence [15, 340, '-74.14304120199995;4.636294819000057']\nfound coincidence [15, 53, '-74.10821483699993;4.660041769000031']\nfound coincidence [10, 316, '-74.14580307399994;4.563887556000054']\nfound coincidence [9, 68, '-74.15593167299994;4.640495415000032']\nfound coincidence [13, 21, '-74.20076384899994;4.639895134000028']\nfound coincidence [21, 194, '-74.09182764799993;4.614317606000043']\nfound coincidence [13, 141, '-74.14944355499993;4.675198265000063']\nfound coincidence [10, 140, '-74.04798603899997;4.719299978000039']\nfound coincidence [6, 141, '-74.10255094699994;4.633255362000057']\nfound coincidence [11, 141, '-74.10029684599994;4.5950228220000335']\nfound coincidence [14, 12, '-74.10141800099996;4.7024920600000515']\nfound coincidence [7, 168, '-74.12417609899995;4.629104745000063']\nfound coincidence [14, 299, '-74.10794479199996;4.69208186700007']\nfound coincidence [22, 339, '-74.11606921799995;4.611941686000024']\nfound coincidence [14, 337, '-74.05825608699999;4.694206229000032']\nfound coincidence [10, 339, '-74.06973385499998;4.6524400400000445']\nfound coincidence [5, 180, '-74.13573732299993;4.659435206000068']\nfound coincidence [15, 281, '-74.07345111799998;4.67289030400002']\nfound coincidence [16, 283, '-74.09768042599995;4.624257985000042']\nfound coincidence [18, 327, '-74.09182764799993;4.614317606000043']\nfound coincidence [9, 63, '-74.12332811299996;4.586592031000066']\nfound coincidence [14, 341, '-74.03551192799995;4.819660002000035']\nfound coincidence [7, 342, '-74.12196709399994;4.586374706000073']\nfound coincidence [11, 340, '-74.10681212799993;4.67124805100002']\nfound coincidence [4, 45, '-74.16194469999994;4.635395415000062']\nfound coincidence [18, 43, '-74.06686694299998;4.6364400160000505']\nfound coincidence [12, 299, '-74.07224389299995;4.6518903250000685']\nfound coincidence [7, 50, '-74.12502755399998;4.7260361050000474']\nfound coincidence [19, 232, '-74.05968040999993;4.678627324000047']\nfound coincidence [6, 213, '-74.11330163599996;4.6852182510000375']\nfound coincidence [11, 70, '-74.11173704899994;4.681434598000067']\nfound coincidence [15, 295, '-74.10350080499995;4.605275077000044']\nfound coincidence [7, 295, '-74.10951925899997;4.623883898000031']\nfound coincidence [17, 299, '-74.04704088099999;4.719123135000075']\nfound coincidence [7, 185, '-74.06024952999995;4.700338590000058']\nfound coincidence [14, 184, '-74.11684209199996;4.6365515650000475']\nfound coincidence [6, 222, '-74.08510275099997;4.625422749000052']\nfound coincidence [16, 220, '-74.07099352399995;4.726104618000021']\nfound coincidence [6, 236, '-74.13829967499998;4.625824341000055']\nfound coincidence [8, 85, '-74.13403063099996;4.681551848000026']\nfound coincidence [0, 81, '-74.08624776999993;4.5325486900000564']\nfound coincidence [2, 145, '-74.06425811999998;4.652139090000047']\nfound coincidence [14, 132, '-74.12142588799998;4.554217240000072']\nfound coincidence [19, 194, '-74.15174396899994;4.623880303000021']\nfound coincidence [14, 353, '-74.11448905799993;4.6155411370000365']\nfound coincidence [7, 358, '-74.05334052899997;4.7122462790000545']\nfound coincidence [11, 34, '-74.08535785699995;4.6222542040000585']\nfound coincidence [16, 192, '-74.12291126499997;4.608335222000051']\nfound coincidence [14, 192, '-74.16907091499998;4.589661922000062']\nfound coincidence [15, 355, '-74.07289877699995;4.658866576000038']\nfound coincidence [15, 352, '-74.10382668899997;4.668516019000037']\nfound coincidence [7, 46, '-74.12075506599997;4.714380818000052']\nfound coincidence [22, 115, '-74.091203663;4.615072364000072']\nfound coincidence [12, 150, '-74.131261969;4.56588745800002']\nfound coincidence [12, 150, '-74.04650097899997;4.7516098330000345']\nfound coincidence [21, 344, '-74.04434499999998;4.689662980000037']\nfound coincidence [18, 47, '-74.09442044599997;4.710042409000039']\nfound coincidence [14, 120, '-74.10170168099995;4.703454381000029']\nfound coincidence [16, 115, '-74.17092509999998;4.641962720000038']\nfound coincidence [9, 177, '-74.05975965799998;4.661892684000065']\nfound coincidence [11, 194, '-74.17700061299999;4.626014562000024']\nfound coincidence [18, 179, '-74.05481546499993;4.656182108000053']\nfound coincidence [15, 42, '-74.16758767799999;4.595955979000053']\nfound coincidence [20, 73, '-74.03647896599993;4.696453648000045']\nfound coincidence [19, 73, '-74.10295176499993;4.676413076000074']\nfound coincidence [12, 5, '-74.05523002099994;4.700827570000058']\nfound coincidence [16, 5, '-74.12307012299993;4.743919259000052']\nfound coincidence [16, 5, '-74.06768867099998;4.620129286000065']\nfound coincidence [18, 281, '-74.07449029099996;4.610273090000021']\nfound coincidence [7, 318, '-74.07611913699995;4.608720396000024']\nfound coincidence [12, 324, '-74.13876596799997;4.6567628770000615']\nfound coincidence [19, 289, '-74.07102676799997;4.618598674000054']\nfound coincidence [8, 14, '-74.12590006999993;4.671518807000041']\nfound coincidence [9, 166, '-74.15618725199994;4.640945740000063']\nfound coincidence [17, 233, '-74.11710165299998;4.6287092550000475']\nfound coincidence [13, 218, '-74.11569751899998;4.661653098000045']\nfound coincidence [19, 332, '-74.14793978699998;4.692297523000036']\nfound coincidence [5, 301, '-74.1056012499999;4.565441051000049']\nfound coincidence [10, 359, '-74.121442356;4.612095703000024']\nfound coincidence [12, 189, '-74.10716923099994;4.598131423000042']\nfound coincidence [9, 299, '-74.14412710799998;4.612721022000073']\nfound coincidence [8, 74, '-74.06069541099998;4.687960187000044']\nfound coincidence [12, 260, '-74.05778689799997;4.681803934000072']\nfound coincidence [14, 284, '-74.09895483299994;4.692240125000069']\nfound coincidence [6, 284, '-74.07237959099997;4.651108115000056']\nfound coincidence [19, 52, '-74.10653172799994;4.6771070950000535']\nfound coincidence [19, 51, '-74.10057003099996;4.635839185000066']\nfound coincidence [6, 155, '-74.11567554099996;4.557305691000066']\nfound coincidence [12, 40, '-74.09625537099998;4.591060190000063']\nfound coincidence [8, 38, '-74.16934680099996;4.629376605000061']\nfound coincidence [9, 45, '-74.08474738299998;4.6457170610000285']\nfound coincidence [20, 39, '-74.02267228899994;4.738249801000052']\nfound coincidence [15, 97, '-74.14486815499998;4.599092943000073']\nfound coincidence [8, 159, '-74.10858222999997;4.66934839000004']\nfound coincidence [7, 134, '-74.08952914899999;4.695739417000027']\nfound coincidence [15, 346, '-74.10583093199995;4.658047575000069']\nfound coincidence [13, 322, '-74.11354574299997;4.657664253000063']\nfound coincidence [7, 112, '-74.13083554699995;4.630063415000052']\nfound coincidence [16, 145, '-74.10986456499995;4.6273768320000395']\nfound coincidence [7, 12, '-74.12898257199998;4.60907071400004']\nfound coincidence [7, 12, '-74.12898257199998;4.60907071400004']\nfound coincidence [6, 249, '-74.07337346099996;4.6014973790000235']\nfound coincidence [10, 250, '-74.07762570699998;4.681856480000022']\nfound coincidence [10, 250, '-74.07762570699998;4.681856480000022']\nfound coincidence [10, 18, '-74.105939902;4.627293120000047']\nfound coincidence [16, 40, '-74.07229266599995;4.6057136230000415']\nfound coincidence [15, 157, '-74.08143831099994;4.7074497250000595']\nfound coincidence [21, 144, '-74.09284088999993;4.717185870000037']\nfound coincidence [10, 67, '-74.08416432799999;4.6536784660000325']\nfound coincidence [6, 306, '-74.17539263099997;4.596895275000065']\nfound coincidence [14, 45, '-74.07395388199996;4.641881685000044']\nfound coincidence [13, 316, '-74.11828728699999;4.7054141860000405']\nfound coincidence [18, 348, '-74.16146867199996;4.545482914000047']\nfound coincidence [9, 94, '-74.10574443099993;4.668312512000057']\nfound coincidence [12, 94, '-74.07314389899994;4.6475745500000585']\nfound coincidence [21, 293, '-74.12625312999995;4.617929008000034']\nfound coincidence [19, 60, '-74.13696005099996;4.579814903000057']\nfound coincidence [13, 208, '-74.09719895799998;4.557724877000055']\nfound coincidence [10, 205, '-74.08754322599998;4.619468269000038']\nfound coincidence [7, 208, '-74.07042628599999;4.623162529000068']\nfound coincidence [13, 333, '-74.09506587999994;4.5788488950000215']\nfound coincidence [10, 263, '-74.13575110599999;4.659425555000041']\nfound coincidence [12, 84, '-74.03870738299997;4.760282726000071']\nfound coincidence [15, 104, '-74.12531212999993;4.569236406000073']\nfound coincidence [15, 208, '-74.13134196599998;4.578395833000059']\nfound coincidence [17, 208, '-74.05063943699997;4.665243396000051']\nfound coincidence [11, 209, '-74.08380756499997;4.6745409520000285']\nfound coincidence [10, 209, '-74.09975130799995;4.694060839000032']\nfound coincidence [9, 334, '-74.13018924399995;4.699068831000036']\nfound coincidence [12, 333, '-74.12145101899995;4.609028045000058']\nfound coincidence [16, 261, '-74.15412326599994;4.62309579600003']\nfound coincidence [10, 93, '-74.10189140499993;4.602068422000059']\nfound coincidence [21, 80, '-74.12666429499996;4.566806310000062']\nfound coincidence [13, 324, '-74.07076888399995;4.612245360000031']\nfound coincidence [13, 324, '-74.07076888399995;4.612245360000031']\nfound coincidence [18, 324, '-74.072939992;4.608415382000032']\nfound coincidence [14, 194, '-74.11562352699997;4.661569198000052']\nfound coincidence [12, 169, '-74.060932155;4.619517685000061']\nfound coincidence [15, 298, '-74.06934751299997;4.698192774000064']\nfound coincidence [20, 143, '-74.05342372899997;4.653026265000051']\nfound coincidence [7, 317, '-74.06283510799993;4.639548550000028']\nfound coincidence [18, 318, '-74.12225241899995;4.669687601000022']\nfound coincidence [14, 318, '-74.03356420299998;4.712886619000074']\nfound coincidence [20, 347, '-74.05721400499993;4.687391775000037']\nfound coincidence [12, 349, '-74.07810854399997;4.60016515600006']\nfound coincidence [7, 28, '-74.11222674199999;4.628086136000036']\nfound coincidence [7, 263, '-74.15264715399995;4.6319798130000445']\nfound coincidence [16, 85, '-74.06381202599994;4.653044069000032']\nfound coincidence [6, 130, '-74.10639307499997;4.5792618490000345']\nfound coincidence [14, 143, '-74.06393222599996;4.652585050000027']\nfound coincidence [10, 324, '-74.17330064099998;4.615589148000026']\nfound coincidence [6, 219, '-74.144143392;4.5857827200000525']\nfound coincidence [12, 161, '-74.11830157699995;4.710424228000021']\nfound coincidence [6, 194, '-74.06272842899993;4.694744537000076']\nfound coincidence [16, 196, '-74.13780255799998;4.59455166500004']\nfound coincidence [12, 344, '-74.09452195099993;4.721634996000034']\nfound coincidence [6, 331, '-74.11776727799997;4.637050819000024']\nfound coincidence [11, 54, '-74.16104444999998;4.6879330850000525']\nfound coincidence [16, 294, '-74.16410354199995;4.596049967000057']\nfound coincidence [14, 27, '-74.09985521399994;4.735899367000059']\nfound coincidence [13, 347, '-74.11448905799993;4.6155411370000365']\nfound coincidence [16, 220, '-74.14200700899994;4.580035480000049']\nfound coincidence [11, 303, '-74.07383945699995;4.606783642000039']\nfound coincidence [13, 144, '-74.08191008999995;4.625708750000058']\nfound coincidence [14, 78, '-74.13751961599996;4.555228126000031']\nfound coincidence [11, 87, '-74.03973804799993;4.7009190350000285']\nfound coincidence [11, 87, '-74.03973804799993;4.7009190350000285']\nfound coincidence [14, 262, '-74.05978830399994;4.669429318000027']\nfound coincidence [17, 347, '-74.09421150599997;4.698171742000056']\nfound coincidence [17, 276, '-74.12162181599997;4.72147115000007']\nfound coincidence [10, 68, '-74.08367699099993;4.5913002300000585']\nfound coincidence [13, 324, '-74.06778475599998;4.729237084000033']\nfound coincidence [18, 324, '-74.045460527;4.678674426000043']\nfound coincidence [10, 356, '-74.16371202299996;4.623027210000032']\nfound coincidence [10, 356, '-74.16371202299996;4.623027210000032']\nfound coincidence [12, 286, '-74.12392801099996;4.5838466390000585']\nfound coincidence [6, 294, '-74.17270757399997;4.5961729620000265']\nfound coincidence [16, 43, '-74.13845787999998;4.583765114000073']\nfound coincidence [20, 164, '-74.03116023699994;4.712760649000074']\nfound coincidence [17, 280, '-74.06863009399994;4.608057942000073']\nfound coincidence [13, 334, '-74.09421150599997;4.698171742000056']\nfound coincidence [14, 334, '-74.04434499999998;4.689662980000037']\nfound coincidence [21, 310, '-74.045397671;4.755734702000041']\nfound coincidence [13, 37, '-74.02900747599993;4.699612218000028']\nfound coincidence [9, 103, '-74.13962122199995;4.573164237000071']\nfound coincidence [7, 58, '-74.07645292599993;4.662675363000061']\nfound coincidence [12, 163, '-74.08760872699997;4.6141552860000274']\nfound coincidence [19, 182, '-74.13848685099998;4.583748805000028']\nfound coincidence [16, 337, '-74.04320270399995;4.732598873000028']\nfound coincidence [14, 63, '-74.13805525099998;4.556797945000029']\nfound coincidence [14, 60, '-74.04819125999995;4.657742939000059']\nfound coincidence [21, 327, '-74.13685939899995;4.636499061000052']\nfound coincidence [13, 270, '-74.14637522499999;4.535436840000044']\nfound coincidence [21, 74, '-74.06273689399995;4.708138897000026']\nfound coincidence [18, 284, '-74.12413153899995;4.604593967000029']\nfound coincidence [18, 299, '-74.12379104499998;4.604359964000025']\nfound coincidence [14, 151, '-74.08855969499997;4.6953952190000345']\nfound coincidence [21, 92, '-74.10045755299996;4.679448937000075']\nfound coincidence [19, 344, '-74.11241114199998;4.667659474000062']\nfound coincidence [19, 316, '-74.11365594599994;4.746802353000022']\nfound coincidence [11, 345, '-74.14464326899997;4.671478611000055']\nfound coincidence [10, 270, '-74.08937564899995;4.6719606620000595']\nfound coincidence [7, 273, '-74.07744669499994;4.659072429000048']\nfound coincidence [8, 271, '-74.12827196599994;4.622510194000029']\nfound coincidence [10, 354, '-74.06402863099999;4.6405076440000235']\nfound coincidence [15, 258, '-74.16173618499994;4.639955718000066']\nfound coincidence [13, 257, '-74.05778689799997;4.681803934000072']\nfound coincidence [7, 123, '-74.07958085499997;4.633333220000051']\nfound coincidence [14, 278, '-74.04408521499995;4.7634202880000185']\nfound coincidence [20, 354, '-74.18392939899995;4.63314857000006']\nfound coincidence [7, 311, '-74.065537394;4.604648840000039']\nfound coincidence [19, 65, '-74.06071415599996;4.646322112000064']\nfound coincidence [14, 143, '-74.11241114199998;4.667659474000062']\nfound coincidence [11, 142, '-74.11040253199997;4.587637157000074']\nfound coincidence [10, 223, '-74.13618901499996;4.683389926000076']\nfound coincidence [10, 268, '-74.12769092599996;4.706253407000077']\nfound coincidence [1, 268, '-74.04318597799994;4.680020831000036']\nfound coincidence [16, 348, '-74.08754322599998;4.619468269000038']\nfound coincidence [9, 35, '-74.06441188599996;4.70889091600003']\nfound coincidence [20, 165, '-74.12394803699993;4.6439965210000755']\nfound coincidence [13, 64, '-74.11321573699999;4.674241595000068']\nfound coincidence [12, 159, '-74.11921143999997;4.613315100000023']\nfound coincidence [6, 350, '-74.16414349199994;4.5695481320000235']\nfound coincidence [14, 350, '-74.05064128699999;4.677523797000049']\nfound coincidence [7, 351, '-74.17264292799997;4.677775428000075']\nfound coincidence [8, 352, '-74.06626074699994;4.766712915000029']\nfound coincidence [17, 150, '-74.11426547899998;4.684161161000019']\nfound coincidence [10, 169, '-74.07965736199995;4.630857229000071']\nfound coincidence [12, 201, '-74.05286277399993;4.7197778080000585']\nfound coincidence [14, 201, '-74.08595747299995;4.677658855000061']\nfound coincidence [7, 80, '-74.15405390999997;4.588366267000026']\nfound coincidence [10, 259, '-74.16365661399993;4.690008207000061']\nfound coincidence [14, 26, '-74.11032346699994;4.597703616000047']\nfound coincidence [0, 181, '-74.153237947;4.6115388640000665']\nfound coincidence [14, 258, '-74.16379683899999;4.637584766000033']\nfound coincidence [14, 298, '-74.05458157999993;4.700361502000021']\nfound coincidence [13, 39, '-74.10340904199995;4.653836820000038']\nfound coincidence [20, 41, '-74.11666913199997;4.7156984950000265']\nfound coincidence [19, 155, '-74.09786811499998;4.72291388900004']\nfound coincidence [8, 279, '-74.13960313699994;4.681662791000065']\nfound coincidence [16, 279, '-74.03078411199994;4.742739794000045']\nfound coincidence [20, 337, '-74.12995765899994;4.615646802000072']\nfound coincidence [16, 190, '-74.10054202199996;4.603442270000073']\nfound coincidence [13, 285, '-74.07868166199995;4.6518433320000545']\nfound coincidence [13, 43, '-74.04272217499994;4.703641109000046']\nfound coincidence [10, 278, '-74.13244926099996;4.582638692000046']\nfound coincidence [11, 333, '-74.08136888899995;4.627823040000066']\nCPU times: user 7min 14s, sys: 1.55 s, total: 7min 15s\nWall time: 7min 44s\n"
    }
   ],
   "source": [
    "%%time\n",
    "from itertools import chain\n",
    "neg_list = list(chain.from_iterable(my_list))"
   ]
  },
  {
   "cell_type": "code",
   "execution_count": 28,
   "metadata": {},
   "outputs": [],
   "source": [
    "neg_df = pd.DataFrame.from_records(neg_list)"
   ]
  },
  {
   "cell_type": "code",
   "execution_count": 29,
   "metadata": {},
   "outputs": [
    {
     "output_type": "execute_result",
     "data": {
      "text/plain": "        0    1                                     2  \\\n0      14  158  -74.13436280399995;4.579297398000051   \n1      16   11  -74.04881864699999;4.665144043000055   \n2      23   11  -74.08542502399995;4.632912610000061   \n3       7   11  -74.02506831099998;4.725288041000057   \n4       7   12  -74.08077001499998;4.670083261000059   \n...    ..  ...                                   ...   \n29115  16  337  -74.13568662999995;4.580801026000074   \n29116   4   12       -74.084274684;4.590370525000028   \n29117  16  277  -74.09775169999993;4.619584603000021   \n29118  19  354  -74.17421686799997;4.576242357000068   \n29119   9  355  -74.06685944699996;4.636431144000029   \n\n                                 3               4    5  \n0                 KR 26-CL 52B S 2      TUNJUELITO  470  \n1                     CL 84-KR 8 2       CHAPINERO    1  \n2                    CL 26-KR 37 2     TEUSAQUILLO    1  \n3                    KR 7-CL 150 2         USAQUEN  146  \n4                    CL 68-KR 58 2  BARRIOS UNIDOS    1  \n...                            ...             ...  ...  \n29115             KR 28-DG 52B S 2      TUNJUELITO  383  \n29116               KR 10-CL 1B 02        SANTA FE    1  \n29117               CL 13-KR 37 35   PUENTE ARANDA    1  \n29118            KR 75-CL 75D S 02  CIUDAD BOLIVAR   -1  \n29119  AV AVENIDA CARACAS-CL 49 02       CHAPINERO    1  \n\n[29120 rows x 6 columns]",
      "text/html": "<div>\n<style scoped>\n    .dataframe tbody tr th:only-of-type {\n        vertical-align: middle;\n    }\n\n    .dataframe tbody tr th {\n        vertical-align: top;\n    }\n\n    .dataframe thead th {\n        text-align: right;\n    }\n</style>\n<table border=\"1\" class=\"dataframe\">\n  <thead>\n    <tr style=\"text-align: right;\">\n      <th></th>\n      <th>0</th>\n      <th>1</th>\n      <th>2</th>\n      <th>3</th>\n      <th>4</th>\n      <th>5</th>\n    </tr>\n  </thead>\n  <tbody>\n    <tr>\n      <th>0</th>\n      <td>14</td>\n      <td>158</td>\n      <td>-74.13436280399995;4.579297398000051</td>\n      <td>KR 26-CL 52B S 2</td>\n      <td>TUNJUELITO</td>\n      <td>470</td>\n    </tr>\n    <tr>\n      <th>1</th>\n      <td>16</td>\n      <td>11</td>\n      <td>-74.04881864699999;4.665144043000055</td>\n      <td>CL 84-KR 8 2</td>\n      <td>CHAPINERO</td>\n      <td>1</td>\n    </tr>\n    <tr>\n      <th>2</th>\n      <td>23</td>\n      <td>11</td>\n      <td>-74.08542502399995;4.632912610000061</td>\n      <td>CL 26-KR 37 2</td>\n      <td>TEUSAQUILLO</td>\n      <td>1</td>\n    </tr>\n    <tr>\n      <th>3</th>\n      <td>7</td>\n      <td>11</td>\n      <td>-74.02506831099998;4.725288041000057</td>\n      <td>KR 7-CL 150 2</td>\n      <td>USAQUEN</td>\n      <td>146</td>\n    </tr>\n    <tr>\n      <th>4</th>\n      <td>7</td>\n      <td>12</td>\n      <td>-74.08077001499998;4.670083261000059</td>\n      <td>CL 68-KR 58 2</td>\n      <td>BARRIOS UNIDOS</td>\n      <td>1</td>\n    </tr>\n    <tr>\n      <th>...</th>\n      <td>...</td>\n      <td>...</td>\n      <td>...</td>\n      <td>...</td>\n      <td>...</td>\n      <td>...</td>\n    </tr>\n    <tr>\n      <th>29115</th>\n      <td>16</td>\n      <td>337</td>\n      <td>-74.13568662999995;4.580801026000074</td>\n      <td>KR 28-DG 52B S 2</td>\n      <td>TUNJUELITO</td>\n      <td>383</td>\n    </tr>\n    <tr>\n      <th>29116</th>\n      <td>4</td>\n      <td>12</td>\n      <td>-74.084274684;4.590370525000028</td>\n      <td>KR 10-CL 1B 02</td>\n      <td>SANTA FE</td>\n      <td>1</td>\n    </tr>\n    <tr>\n      <th>29117</th>\n      <td>16</td>\n      <td>277</td>\n      <td>-74.09775169999993;4.619584603000021</td>\n      <td>CL 13-KR 37 35</td>\n      <td>PUENTE ARANDA</td>\n      <td>1</td>\n    </tr>\n    <tr>\n      <th>29118</th>\n      <td>19</td>\n      <td>354</td>\n      <td>-74.17421686799997;4.576242357000068</td>\n      <td>KR 75-CL 75D S 02</td>\n      <td>CIUDAD BOLIVAR</td>\n      <td>-1</td>\n    </tr>\n    <tr>\n      <th>29119</th>\n      <td>9</td>\n      <td>355</td>\n      <td>-74.06685944699996;4.636431144000029</td>\n      <td>AV AVENIDA CARACAS-CL 49 02</td>\n      <td>CHAPINERO</td>\n      <td>1</td>\n    </tr>\n  </tbody>\n</table>\n<p>29120 rows × 6 columns</p>\n</div>"
     },
     "metadata": {},
     "execution_count": 29
    }
   ],
   "source": [
    "neg_df"
   ]
  },
  {
   "cell_type": "code",
   "execution_count": 30,
   "metadata": {},
   "outputs": [],
   "source": [
    "neg_df.columns = ['hour', 'day_of_year', 'coords', 'address', 'borough', 'cluster_id']"
   ]
  },
  {
   "cell_type": "code",
   "execution_count": 31,
   "metadata": {},
   "outputs": [],
   "source": [
    "neg_df['year'] = 2019"
   ]
  },
  {
   "cell_type": "code",
   "execution_count": 32,
   "metadata": {},
   "outputs": [
    {
     "output_type": "execute_result",
     "data": {
      "text/plain": "(29120, 7)"
     },
     "metadata": {},
     "execution_count": 32
    }
   ],
   "source": [
    "neg_df.shape"
   ]
  },
  {
   "cell_type": "code",
   "execution_count": 33,
   "metadata": {},
   "outputs": [],
   "source": [
    "def compose_date(years, months=1, days=1, weeks=None, hours=None, minutes=None,\n",
    "                 seconds=None, milliseconds=None, microseconds=None, nanoseconds=None):\n",
    "    years = np.asarray(years) - 1970\n",
    "    months = np.asarray(months) - 1\n",
    "    days = np.asarray(days) - 1\n",
    "    types = ('<M8[Y]', '<m8[M]', '<m8[D]', '<m8[W]', '<m8[h]',\n",
    "             '<m8[m]', '<m8[s]', '<m8[ms]', '<m8[us]', '<m8[ns]')\n",
    "    vals = (years, months, days, weeks, hours, minutes, seconds,\n",
    "            milliseconds, microseconds, nanoseconds)\n",
    "    return sum(np.asarray(v, dtype=t) for t, v in zip(types, vals)\n",
    "               if v is not None)\n",
    "\n",
    "\n",
    "neg_df['timestamp'] = compose_date(neg_df['year'], days=neg_df['day_of_year'], hours=neg_df['hour'], minutes=np.zeros(neg_df.shape[0]), seconds=np.zeros(neg_df.shape[0]))\n",
    "neg_df['date'] = compose_date(neg_df['year'], days=neg_df['day_of_year'])\n",
    ""
   ]
  },
  {
   "cell_type": "code",
   "execution_count": 34,
   "metadata": {},
   "outputs": [],
   "source": [
    "neg_df = neg_df.join(neg_df.coords.str.split(';',expand=True))"
   ]
  },
  {
   "cell_type": "code",
   "execution_count": 35,
   "metadata": {},
   "outputs": [],
   "source": [
    "neg_df.rename(columns={0: \"x\", 1: \"y\"}, inplace=True)"
   ]
  },
  {
   "cell_type": "code",
   "execution_count": 36,
   "metadata": {},
   "outputs": [
    {
     "output_type": "execute_result",
     "data": {
      "text/plain": "       hour  day_of_year                                coords  \\\n0        14          158  -74.13436280399995;4.579297398000051   \n1        16           11  -74.04881864699999;4.665144043000055   \n2        23           11  -74.08542502399995;4.632912610000061   \n3         7           11  -74.02506831099998;4.725288041000057   \n4         7           12  -74.08077001499998;4.670083261000059   \n...     ...          ...                                   ...   \n29115    16          337  -74.13568662999995;4.580801026000074   \n29116     4           12       -74.084274684;4.590370525000028   \n29117    16          277  -74.09775169999993;4.619584603000021   \n29118    19          354  -74.17421686799997;4.576242357000068   \n29119     9          355  -74.06685944699996;4.636431144000029   \n\n                           address         borough  cluster_id  year  \\\n0                 KR 26-CL 52B S 2      TUNJUELITO         470  2019   \n1                     CL 84-KR 8 2       CHAPINERO           1  2019   \n2                    CL 26-KR 37 2     TEUSAQUILLO           1  2019   \n3                    KR 7-CL 150 2         USAQUEN         146  2019   \n4                    CL 68-KR 58 2  BARRIOS UNIDOS           1  2019   \n...                            ...             ...         ...   ...   \n29115             KR 28-DG 52B S 2      TUNJUELITO         383  2019   \n29116               KR 10-CL 1B 02        SANTA FE           1  2019   \n29117               CL 13-KR 37 35   PUENTE ARANDA           1  2019   \n29118            KR 75-CL 75D S 02  CIUDAD BOLIVAR          -1  2019   \n29119  AV AVENIDA CARACAS-CL 49 02       CHAPINERO           1  2019   \n\n                timestamp       date                   x                  y  \n0     2019-06-07 14:00:00 2019-06-07  -74.13436280399995  4.579297398000051  \n1     2019-01-11 16:00:00 2019-01-11  -74.04881864699999  4.665144043000055  \n2     2019-01-11 23:00:00 2019-01-11  -74.08542502399995  4.632912610000061  \n3     2019-01-11 07:00:00 2019-01-11  -74.02506831099998  4.725288041000057  \n4     2019-01-12 07:00:00 2019-01-12  -74.08077001499998  4.670083261000059  \n...                   ...        ...                 ...                ...  \n29115 2019-12-03 16:00:00 2019-12-03  -74.13568662999995  4.580801026000074  \n29116 2019-01-12 04:00:00 2019-01-12       -74.084274684  4.590370525000028  \n29117 2019-10-04 16:00:00 2019-10-04  -74.09775169999993  4.619584603000021  \n29118 2019-12-20 19:00:00 2019-12-20  -74.17421686799997  4.576242357000068  \n29119 2019-12-21 09:00:00 2019-12-21  -74.06685944699996  4.636431144000029  \n\n[29120 rows x 11 columns]",
      "text/html": "<div>\n<style scoped>\n    .dataframe tbody tr th:only-of-type {\n        vertical-align: middle;\n    }\n\n    .dataframe tbody tr th {\n        vertical-align: top;\n    }\n\n    .dataframe thead th {\n        text-align: right;\n    }\n</style>\n<table border=\"1\" class=\"dataframe\">\n  <thead>\n    <tr style=\"text-align: right;\">\n      <th></th>\n      <th>hour</th>\n      <th>day_of_year</th>\n      <th>coords</th>\n      <th>address</th>\n      <th>borough</th>\n      <th>cluster_id</th>\n      <th>year</th>\n      <th>timestamp</th>\n      <th>date</th>\n      <th>x</th>\n      <th>y</th>\n    </tr>\n  </thead>\n  <tbody>\n    <tr>\n      <th>0</th>\n      <td>14</td>\n      <td>158</td>\n      <td>-74.13436280399995;4.579297398000051</td>\n      <td>KR 26-CL 52B S 2</td>\n      <td>TUNJUELITO</td>\n      <td>470</td>\n      <td>2019</td>\n      <td>2019-06-07 14:00:00</td>\n      <td>2019-06-07</td>\n      <td>-74.13436280399995</td>\n      <td>4.579297398000051</td>\n    </tr>\n    <tr>\n      <th>1</th>\n      <td>16</td>\n      <td>11</td>\n      <td>-74.04881864699999;4.665144043000055</td>\n      <td>CL 84-KR 8 2</td>\n      <td>CHAPINERO</td>\n      <td>1</td>\n      <td>2019</td>\n      <td>2019-01-11 16:00:00</td>\n      <td>2019-01-11</td>\n      <td>-74.04881864699999</td>\n      <td>4.665144043000055</td>\n    </tr>\n    <tr>\n      <th>2</th>\n      <td>23</td>\n      <td>11</td>\n      <td>-74.08542502399995;4.632912610000061</td>\n      <td>CL 26-KR 37 2</td>\n      <td>TEUSAQUILLO</td>\n      <td>1</td>\n      <td>2019</td>\n      <td>2019-01-11 23:00:00</td>\n      <td>2019-01-11</td>\n      <td>-74.08542502399995</td>\n      <td>4.632912610000061</td>\n    </tr>\n    <tr>\n      <th>3</th>\n      <td>7</td>\n      <td>11</td>\n      <td>-74.02506831099998;4.725288041000057</td>\n      <td>KR 7-CL 150 2</td>\n      <td>USAQUEN</td>\n      <td>146</td>\n      <td>2019</td>\n      <td>2019-01-11 07:00:00</td>\n      <td>2019-01-11</td>\n      <td>-74.02506831099998</td>\n      <td>4.725288041000057</td>\n    </tr>\n    <tr>\n      <th>4</th>\n      <td>7</td>\n      <td>12</td>\n      <td>-74.08077001499998;4.670083261000059</td>\n      <td>CL 68-KR 58 2</td>\n      <td>BARRIOS UNIDOS</td>\n      <td>1</td>\n      <td>2019</td>\n      <td>2019-01-12 07:00:00</td>\n      <td>2019-01-12</td>\n      <td>-74.08077001499998</td>\n      <td>4.670083261000059</td>\n    </tr>\n    <tr>\n      <th>...</th>\n      <td>...</td>\n      <td>...</td>\n      <td>...</td>\n      <td>...</td>\n      <td>...</td>\n      <td>...</td>\n      <td>...</td>\n      <td>...</td>\n      <td>...</td>\n      <td>...</td>\n      <td>...</td>\n    </tr>\n    <tr>\n      <th>29115</th>\n      <td>16</td>\n      <td>337</td>\n      <td>-74.13568662999995;4.580801026000074</td>\n      <td>KR 28-DG 52B S 2</td>\n      <td>TUNJUELITO</td>\n      <td>383</td>\n      <td>2019</td>\n      <td>2019-12-03 16:00:00</td>\n      <td>2019-12-03</td>\n      <td>-74.13568662999995</td>\n      <td>4.580801026000074</td>\n    </tr>\n    <tr>\n      <th>29116</th>\n      <td>4</td>\n      <td>12</td>\n      <td>-74.084274684;4.590370525000028</td>\n      <td>KR 10-CL 1B 02</td>\n      <td>SANTA FE</td>\n      <td>1</td>\n      <td>2019</td>\n      <td>2019-01-12 04:00:00</td>\n      <td>2019-01-12</td>\n      <td>-74.084274684</td>\n      <td>4.590370525000028</td>\n    </tr>\n    <tr>\n      <th>29117</th>\n      <td>16</td>\n      <td>277</td>\n      <td>-74.09775169999993;4.619584603000021</td>\n      <td>CL 13-KR 37 35</td>\n      <td>PUENTE ARANDA</td>\n      <td>1</td>\n      <td>2019</td>\n      <td>2019-10-04 16:00:00</td>\n      <td>2019-10-04</td>\n      <td>-74.09775169999993</td>\n      <td>4.619584603000021</td>\n    </tr>\n    <tr>\n      <th>29118</th>\n      <td>19</td>\n      <td>354</td>\n      <td>-74.17421686799997;4.576242357000068</td>\n      <td>KR 75-CL 75D S 02</td>\n      <td>CIUDAD BOLIVAR</td>\n      <td>-1</td>\n      <td>2019</td>\n      <td>2019-12-20 19:00:00</td>\n      <td>2019-12-20</td>\n      <td>-74.17421686799997</td>\n      <td>4.576242357000068</td>\n    </tr>\n    <tr>\n      <th>29119</th>\n      <td>9</td>\n      <td>355</td>\n      <td>-74.06685944699996;4.636431144000029</td>\n      <td>AV AVENIDA CARACAS-CL 49 02</td>\n      <td>CHAPINERO</td>\n      <td>1</td>\n      <td>2019</td>\n      <td>2019-12-21 09:00:00</td>\n      <td>2019-12-21</td>\n      <td>-74.06685944699996</td>\n      <td>4.636431144000029</td>\n    </tr>\n  </tbody>\n</table>\n<p>29120 rows × 11 columns</p>\n</div>"
     },
     "metadata": {},
     "execution_count": 36
    }
   ],
   "source": [
    "neg_df"
   ]
  },
  {
   "cell_type": "code",
   "execution_count": 62,
   "metadata": {},
   "outputs": [],
   "source": [
    "neg_df['accident_id'] = ''\n",
    "neg_df['severity'] = ''\n",
    "neg_df['accident_type'] = ''\n",
    "neg_df['severity_numeric'] = ''\n",
    "neg_df['day_of_week'] = neg_df.timestamp.dt.dayofweek\n",
    "neg_df['day'] = neg_df.timestamp.dt.day\n",
    "neg_df['month'] = neg_df.timestamp.dt.month"
   ]
  },
  {
   "cell_type": "code",
   "execution_count": 63,
   "metadata": {},
   "outputs": [
    {
     "output_type": "execute_result",
     "data": {
      "text/plain": "   hour  day_of_year                                coords           address  \\\n0    14          158  -74.13436280399995;4.579297398000051  KR 26-CL 52B S 2   \n1    16           11  -74.04881864699999;4.665144043000055      CL 84-KR 8 2   \n2    23           11  -74.08542502399995;4.632912610000061     CL 26-KR 37 2   \n3     7           11  -74.02506831099998;4.725288041000057     KR 7-CL 150 2   \n4     7           12  -74.08077001499998;4.670083261000059     CL 68-KR 58 2   \n\n          borough  cluster_id  year           timestamp       date  \\\n0      TUNJUELITO         470  2019 2019-06-07 14:00:00 2019-06-07   \n1       CHAPINERO           1  2019 2019-01-11 16:00:00 2019-01-11   \n2     TEUSAQUILLO           1  2019 2019-01-11 23:00:00 2019-01-11   \n3         USAQUEN         146  2019 2019-01-11 07:00:00 2019-01-11   \n4  BARRIOS UNIDOS           1  2019 2019-01-12 07:00:00 2019-01-12   \n\n                    x                  y accident_id severity accident_type  \\\n0  -74.13436280399995  4.579297398000051                                      \n1  -74.04881864699999  4.665144043000055                                      \n2  -74.08542502399995  4.632912610000061                                      \n3  -74.02506831099998  4.725288041000057                                      \n4  -74.08077001499998  4.670083261000059                                      \n\n  severity_numeric  day_of_week  month  day  \n0                             4      6    7  \n1                             4      1   11  \n2                             4      1   11  \n3                             4      1   11  \n4                             5      1   12  ",
      "text/html": "<div>\n<style scoped>\n    .dataframe tbody tr th:only-of-type {\n        vertical-align: middle;\n    }\n\n    .dataframe tbody tr th {\n        vertical-align: top;\n    }\n\n    .dataframe thead th {\n        text-align: right;\n    }\n</style>\n<table border=\"1\" class=\"dataframe\">\n  <thead>\n    <tr style=\"text-align: right;\">\n      <th></th>\n      <th>hour</th>\n      <th>day_of_year</th>\n      <th>coords</th>\n      <th>address</th>\n      <th>borough</th>\n      <th>cluster_id</th>\n      <th>year</th>\n      <th>timestamp</th>\n      <th>date</th>\n      <th>x</th>\n      <th>y</th>\n      <th>accident_id</th>\n      <th>severity</th>\n      <th>accident_type</th>\n      <th>severity_numeric</th>\n      <th>day_of_week</th>\n      <th>month</th>\n      <th>day</th>\n    </tr>\n  </thead>\n  <tbody>\n    <tr>\n      <th>0</th>\n      <td>14</td>\n      <td>158</td>\n      <td>-74.13436280399995;4.579297398000051</td>\n      <td>KR 26-CL 52B S 2</td>\n      <td>TUNJUELITO</td>\n      <td>470</td>\n      <td>2019</td>\n      <td>2019-06-07 14:00:00</td>\n      <td>2019-06-07</td>\n      <td>-74.13436280399995</td>\n      <td>4.579297398000051</td>\n      <td></td>\n      <td></td>\n      <td></td>\n      <td></td>\n      <td>4</td>\n      <td>6</td>\n      <td>7</td>\n    </tr>\n    <tr>\n      <th>1</th>\n      <td>16</td>\n      <td>11</td>\n      <td>-74.04881864699999;4.665144043000055</td>\n      <td>CL 84-KR 8 2</td>\n      <td>CHAPINERO</td>\n      <td>1</td>\n      <td>2019</td>\n      <td>2019-01-11 16:00:00</td>\n      <td>2019-01-11</td>\n      <td>-74.04881864699999</td>\n      <td>4.665144043000055</td>\n      <td></td>\n      <td></td>\n      <td></td>\n      <td></td>\n      <td>4</td>\n      <td>1</td>\n      <td>11</td>\n    </tr>\n    <tr>\n      <th>2</th>\n      <td>23</td>\n      <td>11</td>\n      <td>-74.08542502399995;4.632912610000061</td>\n      <td>CL 26-KR 37 2</td>\n      <td>TEUSAQUILLO</td>\n      <td>1</td>\n      <td>2019</td>\n      <td>2019-01-11 23:00:00</td>\n      <td>2019-01-11</td>\n      <td>-74.08542502399995</td>\n      <td>4.632912610000061</td>\n      <td></td>\n      <td></td>\n      <td></td>\n      <td></td>\n      <td>4</td>\n      <td>1</td>\n      <td>11</td>\n    </tr>\n    <tr>\n      <th>3</th>\n      <td>7</td>\n      <td>11</td>\n      <td>-74.02506831099998;4.725288041000057</td>\n      <td>KR 7-CL 150 2</td>\n      <td>USAQUEN</td>\n      <td>146</td>\n      <td>2019</td>\n      <td>2019-01-11 07:00:00</td>\n      <td>2019-01-11</td>\n      <td>-74.02506831099998</td>\n      <td>4.725288041000057</td>\n      <td></td>\n      <td></td>\n      <td></td>\n      <td></td>\n      <td>4</td>\n      <td>1</td>\n      <td>11</td>\n    </tr>\n    <tr>\n      <th>4</th>\n      <td>7</td>\n      <td>12</td>\n      <td>-74.08077001499998;4.670083261000059</td>\n      <td>CL 68-KR 58 2</td>\n      <td>BARRIOS UNIDOS</td>\n      <td>1</td>\n      <td>2019</td>\n      <td>2019-01-12 07:00:00</td>\n      <td>2019-01-12</td>\n      <td>-74.08077001499998</td>\n      <td>4.670083261000059</td>\n      <td></td>\n      <td></td>\n      <td></td>\n      <td></td>\n      <td>5</td>\n      <td>1</td>\n      <td>12</td>\n    </tr>\n  </tbody>\n</table>\n</div>"
     },
     "metadata": {},
     "execution_count": 63
    }
   ],
   "source": [
    "neg_df.head()"
   ]
  },
  {
   "cell_type": "code",
   "execution_count": 42,
   "metadata": {},
   "outputs": [],
   "source": [
    "accidents.drop(columns=['accident_id', 'month_name'], inplace=True)"
   ]
  },
  {
   "cell_type": "code",
   "execution_count": 51,
   "metadata": {},
   "outputs": [],
   "source": [
    "accidents_2019 = accidents[accidents.year == 2019]"
   ]
  },
  {
   "cell_type": "code",
   "execution_count": 52,
   "metadata": {},
   "outputs": [],
   "source": [
    "accidents_2019.timestamp = pd.to_datetime(accidents_2019.timestamp, utc=True).dt.tz_localize(None)"
   ]
  },
  {
   "cell_type": "code",
   "execution_count": 55,
   "metadata": {},
   "outputs": [],
   "source": [
    "accidents_2019['day'] = accidents_2019.timestamp.dt.day\n",
    "accidents_2019['day_of_week'] = accidents_2019.timestamp.dt.dayofweek\n",
    "accidents_2019['day_of_year'] = accidents_2019.timestamp.dt.dayofyear"
   ]
  },
  {
   "cell_type": "code",
   "execution_count": 57,
   "metadata": {},
   "outputs": [
    {
     "output_type": "execute_result",
     "data": {
      "text/plain": "                x         y  year            address         severity  \\\n106678 -74.134363  4.579297  2019   KR 26-CL 52B S 2           Injury   \n106679 -74.048819  4.665144  2019       CL 84-KR 8 2  Material damage   \n106680 -74.173301  4.615589  2019   KR 80-CL 53A S 2           Injury   \n106681 -74.025068  4.725288  2019      KR 7-CL 150 2  Material damage   \n106682 -74.080770  4.670083  2019      CL 68-KR 58 2           Injury   \n106683 -74.151311  4.572193  2019    KR 38-CL 61 S 2  Material damage   \n106684 -74.142010  4.667770  2019    CL 17-KR 96B 71  Material damage   \n106685 -74.135317  4.599616  2019  KR 68-CL 38H S 02           Injury   \n106686 -74.135804  4.588874  2019   CL 49A-KR 37 S 2           Injury   \n106687 -74.149876  4.687513  2019   CL 22F-KR 116 02           Injury   \n106688 -74.092781  4.618428  2019      CL 17-KR 33 2           Injury   \n106689 -74.085183  4.736202  2019    KR 91-CL 139 34  Material damage   \n106690 -74.115665  4.672517  2019     CL 26-KR 75 02  Material damage   \n106692 -74.094338  4.648686  2019      CL 44-KR 59 2  Material damage   \n106694 -74.138621  4.560379  2019  CL 60G-KR 18C S 2           Injury   \n106695 -74.090326  4.741737  2019    CL 145-KR 98B 2  Material damage   \n106696 -74.112507  4.632656  2019     CL 13-KR 60 37  Material damage   \n106697 -74.072432  4.584746  2019  TR 5BIS-CL 2 E 98           Injury   \n106698 -74.102551  4.633255  2019     KR 50-CL 19 02  Material damage   \n106699 -74.059798  4.647937  2019       KR 7-CL 63 2  Material damage   \n\n       accident_type  severity_numeric     borough_geo           timestamp  \\\n106678         Crash                 8      TUNJUELITO 2019-01-11 14:20:00   \n106679         Crash                 1       CHAPINERO 2019-01-11 11:30:00   \n106680         Crash                 8         KENNEDY 2019-01-11 23:20:00   \n106681         Crash                 1         USAQUEN 2019-01-11 06:30:00   \n106682         Crash                 8  BARRIOS UNIDOS 2019-01-10 07:20:00   \n106683         Crash                 1  CIUDAD BOLIVAR 2019-01-11 09:20:00   \n106684         Crash                 1        FONTIBON 2019-01-11 01:00:00   \n106685         Crash                 8         KENNEDY 2019-01-09 23:48:00   \n106686         Crash                 8      TUNJUELITO 2019-01-11 17:38:00   \n106687         Crash                 8        FONTIBON 2019-01-10 16:30:00   \n106688         Crash                 8   PUENTE ARANDA 2019-01-10 05:15:00   \n106689         Crash                 1            SUBA 2019-01-11 03:40:00   \n106690         Crash                 1        FONTIBON 2019-01-10 22:00:00   \n106692         Crash                 1     TEUSAQUILLO 2019-01-11 06:30:00   \n106694         Other                 6  CIUDAD BOLIVAR 2019-01-10 07:13:00   \n106695         Crash                 1            SUBA 2019-05-14 21:10:00   \n106696         Crash                 1   PUENTE ARANDA 2019-05-16 12:27:00   \n106697         Crash                 8        SANTA FE 2019-05-14 13:10:00   \n106698         Crash                 1   PUENTE ARANDA 2019-05-15 13:20:00   \n106699         Crash                 1       CHAPINERO 2019-05-17 19:20:00   \n\n              date  hour  month  day  cluster_id  day_of_year  day_of_week  \n106678  2019-01-11    14      1   11         470           11            4  \n106679  2019-01-11    11      1   11           1           11            4  \n106680  2019-01-11    23      1   11           1           11            4  \n106681  2019-01-11     6      1   11         146           11            4  \n106682  2019-01-10     7      1   10           1           10            3  \n106683  2019-01-11     9      1   11           1           11            4  \n106684  2019-01-11     1      1   11          14           11            4  \n106685  2019-01-09    23      1    9           1            9            2  \n106686  2019-01-11    17      1   11          -1           11            4  \n106687  2019-01-10    16      1   10         274           10            3  \n106688  2019-01-10     5      1   10           1           10            3  \n106689  2019-01-11     3      1   11          19           11            4  \n106690  2019-01-10    22      1   10           1           10            3  \n106692  2019-01-11     6      1   11         184           11            4  \n106694  2019-01-10     7      1   10           1           10            3  \n106695  2019-05-14    21      5   14          19          134            1  \n106696  2019-05-16    12      5   16           1          136            3  \n106697  2019-05-14    13      5   14         521          134            1  \n106698  2019-05-15    13      5   15           1          135            2  \n106699  2019-05-17    19      5   17           1          137            4  ",
      "text/html": "<div>\n<style scoped>\n    .dataframe tbody tr th:only-of-type {\n        vertical-align: middle;\n    }\n\n    .dataframe tbody tr th {\n        vertical-align: top;\n    }\n\n    .dataframe thead th {\n        text-align: right;\n    }\n</style>\n<table border=\"1\" class=\"dataframe\">\n  <thead>\n    <tr style=\"text-align: right;\">\n      <th></th>\n      <th>x</th>\n      <th>y</th>\n      <th>year</th>\n      <th>address</th>\n      <th>severity</th>\n      <th>accident_type</th>\n      <th>severity_numeric</th>\n      <th>borough_geo</th>\n      <th>timestamp</th>\n      <th>date</th>\n      <th>hour</th>\n      <th>month</th>\n      <th>day</th>\n      <th>cluster_id</th>\n      <th>day_of_year</th>\n      <th>day_of_week</th>\n    </tr>\n  </thead>\n  <tbody>\n    <tr>\n      <th>106678</th>\n      <td>-74.134363</td>\n      <td>4.579297</td>\n      <td>2019</td>\n      <td>KR 26-CL 52B S 2</td>\n      <td>Injury</td>\n      <td>Crash</td>\n      <td>8</td>\n      <td>TUNJUELITO</td>\n      <td>2019-01-11 14:20:00</td>\n      <td>2019-01-11</td>\n      <td>14</td>\n      <td>1</td>\n      <td>11</td>\n      <td>470</td>\n      <td>11</td>\n      <td>4</td>\n    </tr>\n    <tr>\n      <th>106679</th>\n      <td>-74.048819</td>\n      <td>4.665144</td>\n      <td>2019</td>\n      <td>CL 84-KR 8 2</td>\n      <td>Material damage</td>\n      <td>Crash</td>\n      <td>1</td>\n      <td>CHAPINERO</td>\n      <td>2019-01-11 11:30:00</td>\n      <td>2019-01-11</td>\n      <td>11</td>\n      <td>1</td>\n      <td>11</td>\n      <td>1</td>\n      <td>11</td>\n      <td>4</td>\n    </tr>\n    <tr>\n      <th>106680</th>\n      <td>-74.173301</td>\n      <td>4.615589</td>\n      <td>2019</td>\n      <td>KR 80-CL 53A S 2</td>\n      <td>Injury</td>\n      <td>Crash</td>\n      <td>8</td>\n      <td>KENNEDY</td>\n      <td>2019-01-11 23:20:00</td>\n      <td>2019-01-11</td>\n      <td>23</td>\n      <td>1</td>\n      <td>11</td>\n      <td>1</td>\n      <td>11</td>\n      <td>4</td>\n    </tr>\n    <tr>\n      <th>106681</th>\n      <td>-74.025068</td>\n      <td>4.725288</td>\n      <td>2019</td>\n      <td>KR 7-CL 150 2</td>\n      <td>Material damage</td>\n      <td>Crash</td>\n      <td>1</td>\n      <td>USAQUEN</td>\n      <td>2019-01-11 06:30:00</td>\n      <td>2019-01-11</td>\n      <td>6</td>\n      <td>1</td>\n      <td>11</td>\n      <td>146</td>\n      <td>11</td>\n      <td>4</td>\n    </tr>\n    <tr>\n      <th>106682</th>\n      <td>-74.080770</td>\n      <td>4.670083</td>\n      <td>2019</td>\n      <td>CL 68-KR 58 2</td>\n      <td>Injury</td>\n      <td>Crash</td>\n      <td>8</td>\n      <td>BARRIOS UNIDOS</td>\n      <td>2019-01-10 07:20:00</td>\n      <td>2019-01-10</td>\n      <td>7</td>\n      <td>1</td>\n      <td>10</td>\n      <td>1</td>\n      <td>10</td>\n      <td>3</td>\n    </tr>\n    <tr>\n      <th>106683</th>\n      <td>-74.151311</td>\n      <td>4.572193</td>\n      <td>2019</td>\n      <td>KR 38-CL 61 S 2</td>\n      <td>Material damage</td>\n      <td>Crash</td>\n      <td>1</td>\n      <td>CIUDAD BOLIVAR</td>\n      <td>2019-01-11 09:20:00</td>\n      <td>2019-01-11</td>\n      <td>9</td>\n      <td>1</td>\n      <td>11</td>\n      <td>1</td>\n      <td>11</td>\n      <td>4</td>\n    </tr>\n    <tr>\n      <th>106684</th>\n      <td>-74.142010</td>\n      <td>4.667770</td>\n      <td>2019</td>\n      <td>CL 17-KR 96B 71</td>\n      <td>Material damage</td>\n      <td>Crash</td>\n      <td>1</td>\n      <td>FONTIBON</td>\n      <td>2019-01-11 01:00:00</td>\n      <td>2019-01-11</td>\n      <td>1</td>\n      <td>1</td>\n      <td>11</td>\n      <td>14</td>\n      <td>11</td>\n      <td>4</td>\n    </tr>\n    <tr>\n      <th>106685</th>\n      <td>-74.135317</td>\n      <td>4.599616</td>\n      <td>2019</td>\n      <td>KR 68-CL 38H S 02</td>\n      <td>Injury</td>\n      <td>Crash</td>\n      <td>8</td>\n      <td>KENNEDY</td>\n      <td>2019-01-09 23:48:00</td>\n      <td>2019-01-09</td>\n      <td>23</td>\n      <td>1</td>\n      <td>9</td>\n      <td>1</td>\n      <td>9</td>\n      <td>2</td>\n    </tr>\n    <tr>\n      <th>106686</th>\n      <td>-74.135804</td>\n      <td>4.588874</td>\n      <td>2019</td>\n      <td>CL 49A-KR 37 S 2</td>\n      <td>Injury</td>\n      <td>Crash</td>\n      <td>8</td>\n      <td>TUNJUELITO</td>\n      <td>2019-01-11 17:38:00</td>\n      <td>2019-01-11</td>\n      <td>17</td>\n      <td>1</td>\n      <td>11</td>\n      <td>-1</td>\n      <td>11</td>\n      <td>4</td>\n    </tr>\n    <tr>\n      <th>106687</th>\n      <td>-74.149876</td>\n      <td>4.687513</td>\n      <td>2019</td>\n      <td>CL 22F-KR 116 02</td>\n      <td>Injury</td>\n      <td>Crash</td>\n      <td>8</td>\n      <td>FONTIBON</td>\n      <td>2019-01-10 16:30:00</td>\n      <td>2019-01-10</td>\n      <td>16</td>\n      <td>1</td>\n      <td>10</td>\n      <td>274</td>\n      <td>10</td>\n      <td>3</td>\n    </tr>\n    <tr>\n      <th>106688</th>\n      <td>-74.092781</td>\n      <td>4.618428</td>\n      <td>2019</td>\n      <td>CL 17-KR 33 2</td>\n      <td>Injury</td>\n      <td>Crash</td>\n      <td>8</td>\n      <td>PUENTE ARANDA</td>\n      <td>2019-01-10 05:15:00</td>\n      <td>2019-01-10</td>\n      <td>5</td>\n      <td>1</td>\n      <td>10</td>\n      <td>1</td>\n      <td>10</td>\n      <td>3</td>\n    </tr>\n    <tr>\n      <th>106689</th>\n      <td>-74.085183</td>\n      <td>4.736202</td>\n      <td>2019</td>\n      <td>KR 91-CL 139 34</td>\n      <td>Material damage</td>\n      <td>Crash</td>\n      <td>1</td>\n      <td>SUBA</td>\n      <td>2019-01-11 03:40:00</td>\n      <td>2019-01-11</td>\n      <td>3</td>\n      <td>1</td>\n      <td>11</td>\n      <td>19</td>\n      <td>11</td>\n      <td>4</td>\n    </tr>\n    <tr>\n      <th>106690</th>\n      <td>-74.115665</td>\n      <td>4.672517</td>\n      <td>2019</td>\n      <td>CL 26-KR 75 02</td>\n      <td>Material damage</td>\n      <td>Crash</td>\n      <td>1</td>\n      <td>FONTIBON</td>\n      <td>2019-01-10 22:00:00</td>\n      <td>2019-01-10</td>\n      <td>22</td>\n      <td>1</td>\n      <td>10</td>\n      <td>1</td>\n      <td>10</td>\n      <td>3</td>\n    </tr>\n    <tr>\n      <th>106692</th>\n      <td>-74.094338</td>\n      <td>4.648686</td>\n      <td>2019</td>\n      <td>CL 44-KR 59 2</td>\n      <td>Material damage</td>\n      <td>Crash</td>\n      <td>1</td>\n      <td>TEUSAQUILLO</td>\n      <td>2019-01-11 06:30:00</td>\n      <td>2019-01-11</td>\n      <td>6</td>\n      <td>1</td>\n      <td>11</td>\n      <td>184</td>\n      <td>11</td>\n      <td>4</td>\n    </tr>\n    <tr>\n      <th>106694</th>\n      <td>-74.138621</td>\n      <td>4.560379</td>\n      <td>2019</td>\n      <td>CL 60G-KR 18C S 2</td>\n      <td>Injury</td>\n      <td>Other</td>\n      <td>6</td>\n      <td>CIUDAD BOLIVAR</td>\n      <td>2019-01-10 07:13:00</td>\n      <td>2019-01-10</td>\n      <td>7</td>\n      <td>1</td>\n      <td>10</td>\n      <td>1</td>\n      <td>10</td>\n      <td>3</td>\n    </tr>\n    <tr>\n      <th>106695</th>\n      <td>-74.090326</td>\n      <td>4.741737</td>\n      <td>2019</td>\n      <td>CL 145-KR 98B 2</td>\n      <td>Material damage</td>\n      <td>Crash</td>\n      <td>1</td>\n      <td>SUBA</td>\n      <td>2019-05-14 21:10:00</td>\n      <td>2019-05-14</td>\n      <td>21</td>\n      <td>5</td>\n      <td>14</td>\n      <td>19</td>\n      <td>134</td>\n      <td>1</td>\n    </tr>\n    <tr>\n      <th>106696</th>\n      <td>-74.112507</td>\n      <td>4.632656</td>\n      <td>2019</td>\n      <td>CL 13-KR 60 37</td>\n      <td>Material damage</td>\n      <td>Crash</td>\n      <td>1</td>\n      <td>PUENTE ARANDA</td>\n      <td>2019-05-16 12:27:00</td>\n      <td>2019-05-16</td>\n      <td>12</td>\n      <td>5</td>\n      <td>16</td>\n      <td>1</td>\n      <td>136</td>\n      <td>3</td>\n    </tr>\n    <tr>\n      <th>106697</th>\n      <td>-74.072432</td>\n      <td>4.584746</td>\n      <td>2019</td>\n      <td>TR 5BIS-CL 2 E 98</td>\n      <td>Injury</td>\n      <td>Crash</td>\n      <td>8</td>\n      <td>SANTA FE</td>\n      <td>2019-05-14 13:10:00</td>\n      <td>2019-05-14</td>\n      <td>13</td>\n      <td>5</td>\n      <td>14</td>\n      <td>521</td>\n      <td>134</td>\n      <td>1</td>\n    </tr>\n    <tr>\n      <th>106698</th>\n      <td>-74.102551</td>\n      <td>4.633255</td>\n      <td>2019</td>\n      <td>KR 50-CL 19 02</td>\n      <td>Material damage</td>\n      <td>Crash</td>\n      <td>1</td>\n      <td>PUENTE ARANDA</td>\n      <td>2019-05-15 13:20:00</td>\n      <td>2019-05-15</td>\n      <td>13</td>\n      <td>5</td>\n      <td>15</td>\n      <td>1</td>\n      <td>135</td>\n      <td>2</td>\n    </tr>\n    <tr>\n      <th>106699</th>\n      <td>-74.059798</td>\n      <td>4.647937</td>\n      <td>2019</td>\n      <td>KR 7-CL 63 2</td>\n      <td>Material damage</td>\n      <td>Crash</td>\n      <td>1</td>\n      <td>CHAPINERO</td>\n      <td>2019-05-17 19:20:00</td>\n      <td>2019-05-17</td>\n      <td>19</td>\n      <td>5</td>\n      <td>17</td>\n      <td>1</td>\n      <td>137</td>\n      <td>4</td>\n    </tr>\n  </tbody>\n</table>\n</div>"
     },
     "metadata": {},
     "execution_count": 57
    }
   ],
   "source": [
    "accidents_2019.head(20)"
   ]
  },
  {
   "cell_type": "code",
   "execution_count": 58,
   "metadata": {},
   "outputs": [],
   "source": [
    "accidents_2019 = accidents_2019[['x', 'y', 'timestamp', 'date', 'year', 'month',\n",
    "       'day', 'day_of_year', 'day_of_week', 'hour', 'address', 'severity', 'accident_type',\n",
    "       'severity_numeric', 'borough_geo','cluster_id']]"
   ]
  },
  {
   "cell_type": "code",
   "execution_count": 59,
   "metadata": {},
   "outputs": [],
   "source": [
    "accidents_2019.rename(columns={\"borough_geo\": \"borough\"}, inplace=True)"
   ]
  },
  {
   "cell_type": "code",
   "execution_count": 60,
   "metadata": {},
   "outputs": [],
   "source": [
    "accidents_2019['sample_type'] = 1"
   ]
  },
  {
   "cell_type": "code",
   "execution_count": 64,
   "metadata": {},
   "outputs": [],
   "source": [
    "neg_df = neg_df[['x', 'y', 'timestamp', 'date', 'year', 'month',\n",
    "       'day', 'day_of_year', 'day_of_week', 'hour', 'address', 'severity', 'accident_type',\n",
    "       'severity_numeric', 'borough','cluster_id']]"
   ]
  },
  {
   "cell_type": "code",
   "execution_count": 65,
   "metadata": {},
   "outputs": [],
   "source": [
    "neg_df['sample_type'] = 0"
   ]
  },
  {
   "cell_type": "code",
   "execution_count": 71,
   "metadata": {},
   "outputs": [
    {
     "output_type": "execute_result",
     "data": {
      "text/plain": "(29120, 17)"
     },
     "metadata": {},
     "execution_count": 71
    }
   ],
   "source": [
    "accidents_2019.shape"
   ]
  },
  {
   "cell_type": "code",
   "execution_count": 72,
   "metadata": {},
   "outputs": [],
   "source": [
    "dataset = pd.concat([accidents_2019,neg_df])"
   ]
  },
  {
   "cell_type": "code",
   "execution_count": 73,
   "metadata": {},
   "outputs": [
    {
     "output_type": "execute_result",
     "data": {
      "text/plain": "                         x                  y           timestamp  \\\n106678            -74.1344             4.5793 2019-01-11 14:20:00   \n106679            -74.0488            4.66514 2019-01-11 11:30:00   \n106680            -74.1733            4.61559 2019-01-11 23:20:00   \n106681            -74.0251            4.72529 2019-01-11 06:30:00   \n106682            -74.0808            4.67008 2019-01-10 07:20:00   \n...                    ...                ...                 ...   \n29115   -74.13568662999995  4.580801026000074 2019-12-03 16:00:00   \n29116        -74.084274684  4.590370525000028 2019-01-12 04:00:00   \n29117   -74.09775169999993  4.619584603000021 2019-10-04 16:00:00   \n29118   -74.17421686799997  4.576242357000068 2019-12-20 19:00:00   \n29119   -74.06685944699996  4.636431144000029 2019-12-21 09:00:00   \n\n                       date  year  month  day  day_of_year  day_of_week  hour  \\\n106678           2019-01-11  2019      1   11           11            4    14   \n106679           2019-01-11  2019      1   11           11            4    11   \n106680           2019-01-11  2019      1   11           11            4    23   \n106681           2019-01-11  2019      1   11           11            4     6   \n106682           2019-01-10  2019      1   10           10            3     7   \n...                     ...   ...    ...  ...          ...          ...   ...   \n29115   2019-12-03 00:00:00  2019     12    3          337            1    16   \n29116   2019-01-12 00:00:00  2019      1   12           12            5     4   \n29117   2019-10-04 00:00:00  2019     10    4          277            4    16   \n29118   2019-12-20 00:00:00  2019     12   20          354            4    19   \n29119   2019-12-21 00:00:00  2019     12   21          355            5     9   \n\n                            address         severity accident_type  \\\n106678             KR 26-CL 52B S 2           Injury         Crash   \n106679                 CL 84-KR 8 2  Material damage         Crash   \n106680             KR 80-CL 53A S 2           Injury         Crash   \n106681                KR 7-CL 150 2  Material damage         Crash   \n106682                CL 68-KR 58 2           Injury         Crash   \n...                             ...              ...           ...   \n29115              KR 28-DG 52B S 2                                  \n29116                KR 10-CL 1B 02                                  \n29117                CL 13-KR 37 35                                  \n29118             KR 75-CL 75D S 02                                  \n29119   AV AVENIDA CARACAS-CL 49 02                                  \n\n       severity_numeric         borough  cluster_id  sample_type  \n106678                8      TUNJUELITO         470            1  \n106679                1       CHAPINERO           1            1  \n106680                8         KENNEDY           1            1  \n106681                1         USAQUEN         146            1  \n106682                8  BARRIOS UNIDOS           1            1  \n...                 ...             ...         ...          ...  \n29115                        TUNJUELITO         383            0  \n29116                          SANTA FE           1            0  \n29117                     PUENTE ARANDA           1            0  \n29118                    CIUDAD BOLIVAR          -1            0  \n29119                         CHAPINERO           1            0  \n\n[58240 rows x 17 columns]",
      "text/html": "<div>\n<style scoped>\n    .dataframe tbody tr th:only-of-type {\n        vertical-align: middle;\n    }\n\n    .dataframe tbody tr th {\n        vertical-align: top;\n    }\n\n    .dataframe thead th {\n        text-align: right;\n    }\n</style>\n<table border=\"1\" class=\"dataframe\">\n  <thead>\n    <tr style=\"text-align: right;\">\n      <th></th>\n      <th>x</th>\n      <th>y</th>\n      <th>timestamp</th>\n      <th>date</th>\n      <th>year</th>\n      <th>month</th>\n      <th>day</th>\n      <th>day_of_year</th>\n      <th>day_of_week</th>\n      <th>hour</th>\n      <th>address</th>\n      <th>severity</th>\n      <th>accident_type</th>\n      <th>severity_numeric</th>\n      <th>borough</th>\n      <th>cluster_id</th>\n      <th>sample_type</th>\n    </tr>\n  </thead>\n  <tbody>\n    <tr>\n      <th>106678</th>\n      <td>-74.1344</td>\n      <td>4.5793</td>\n      <td>2019-01-11 14:20:00</td>\n      <td>2019-01-11</td>\n      <td>2019</td>\n      <td>1</td>\n      <td>11</td>\n      <td>11</td>\n      <td>4</td>\n      <td>14</td>\n      <td>KR 26-CL 52B S 2</td>\n      <td>Injury</td>\n      <td>Crash</td>\n      <td>8</td>\n      <td>TUNJUELITO</td>\n      <td>470</td>\n      <td>1</td>\n    </tr>\n    <tr>\n      <th>106679</th>\n      <td>-74.0488</td>\n      <td>4.66514</td>\n      <td>2019-01-11 11:30:00</td>\n      <td>2019-01-11</td>\n      <td>2019</td>\n      <td>1</td>\n      <td>11</td>\n      <td>11</td>\n      <td>4</td>\n      <td>11</td>\n      <td>CL 84-KR 8 2</td>\n      <td>Material damage</td>\n      <td>Crash</td>\n      <td>1</td>\n      <td>CHAPINERO</td>\n      <td>1</td>\n      <td>1</td>\n    </tr>\n    <tr>\n      <th>106680</th>\n      <td>-74.1733</td>\n      <td>4.61559</td>\n      <td>2019-01-11 23:20:00</td>\n      <td>2019-01-11</td>\n      <td>2019</td>\n      <td>1</td>\n      <td>11</td>\n      <td>11</td>\n      <td>4</td>\n      <td>23</td>\n      <td>KR 80-CL 53A S 2</td>\n      <td>Injury</td>\n      <td>Crash</td>\n      <td>8</td>\n      <td>KENNEDY</td>\n      <td>1</td>\n      <td>1</td>\n    </tr>\n    <tr>\n      <th>106681</th>\n      <td>-74.0251</td>\n      <td>4.72529</td>\n      <td>2019-01-11 06:30:00</td>\n      <td>2019-01-11</td>\n      <td>2019</td>\n      <td>1</td>\n      <td>11</td>\n      <td>11</td>\n      <td>4</td>\n      <td>6</td>\n      <td>KR 7-CL 150 2</td>\n      <td>Material damage</td>\n      <td>Crash</td>\n      <td>1</td>\n      <td>USAQUEN</td>\n      <td>146</td>\n      <td>1</td>\n    </tr>\n    <tr>\n      <th>106682</th>\n      <td>-74.0808</td>\n      <td>4.67008</td>\n      <td>2019-01-10 07:20:00</td>\n      <td>2019-01-10</td>\n      <td>2019</td>\n      <td>1</td>\n      <td>10</td>\n      <td>10</td>\n      <td>3</td>\n      <td>7</td>\n      <td>CL 68-KR 58 2</td>\n      <td>Injury</td>\n      <td>Crash</td>\n      <td>8</td>\n      <td>BARRIOS UNIDOS</td>\n      <td>1</td>\n      <td>1</td>\n    </tr>\n    <tr>\n      <th>...</th>\n      <td>...</td>\n      <td>...</td>\n      <td>...</td>\n      <td>...</td>\n      <td>...</td>\n      <td>...</td>\n      <td>...</td>\n      <td>...</td>\n      <td>...</td>\n      <td>...</td>\n      <td>...</td>\n      <td>...</td>\n      <td>...</td>\n      <td>...</td>\n      <td>...</td>\n      <td>...</td>\n      <td>...</td>\n    </tr>\n    <tr>\n      <th>29115</th>\n      <td>-74.13568662999995</td>\n      <td>4.580801026000074</td>\n      <td>2019-12-03 16:00:00</td>\n      <td>2019-12-03 00:00:00</td>\n      <td>2019</td>\n      <td>12</td>\n      <td>3</td>\n      <td>337</td>\n      <td>1</td>\n      <td>16</td>\n      <td>KR 28-DG 52B S 2</td>\n      <td></td>\n      <td></td>\n      <td></td>\n      <td>TUNJUELITO</td>\n      <td>383</td>\n      <td>0</td>\n    </tr>\n    <tr>\n      <th>29116</th>\n      <td>-74.084274684</td>\n      <td>4.590370525000028</td>\n      <td>2019-01-12 04:00:00</td>\n      <td>2019-01-12 00:00:00</td>\n      <td>2019</td>\n      <td>1</td>\n      <td>12</td>\n      <td>12</td>\n      <td>5</td>\n      <td>4</td>\n      <td>KR 10-CL 1B 02</td>\n      <td></td>\n      <td></td>\n      <td></td>\n      <td>SANTA FE</td>\n      <td>1</td>\n      <td>0</td>\n    </tr>\n    <tr>\n      <th>29117</th>\n      <td>-74.09775169999993</td>\n      <td>4.619584603000021</td>\n      <td>2019-10-04 16:00:00</td>\n      <td>2019-10-04 00:00:00</td>\n      <td>2019</td>\n      <td>10</td>\n      <td>4</td>\n      <td>277</td>\n      <td>4</td>\n      <td>16</td>\n      <td>CL 13-KR 37 35</td>\n      <td></td>\n      <td></td>\n      <td></td>\n      <td>PUENTE ARANDA</td>\n      <td>1</td>\n      <td>0</td>\n    </tr>\n    <tr>\n      <th>29118</th>\n      <td>-74.17421686799997</td>\n      <td>4.576242357000068</td>\n      <td>2019-12-20 19:00:00</td>\n      <td>2019-12-20 00:00:00</td>\n      <td>2019</td>\n      <td>12</td>\n      <td>20</td>\n      <td>354</td>\n      <td>4</td>\n      <td>19</td>\n      <td>KR 75-CL 75D S 02</td>\n      <td></td>\n      <td></td>\n      <td></td>\n      <td>CIUDAD BOLIVAR</td>\n      <td>-1</td>\n      <td>0</td>\n    </tr>\n    <tr>\n      <th>29119</th>\n      <td>-74.06685944699996</td>\n      <td>4.636431144000029</td>\n      <td>2019-12-21 09:00:00</td>\n      <td>2019-12-21 00:00:00</td>\n      <td>2019</td>\n      <td>12</td>\n      <td>21</td>\n      <td>355</td>\n      <td>5</td>\n      <td>9</td>\n      <td>AV AVENIDA CARACAS-CL 49 02</td>\n      <td></td>\n      <td></td>\n      <td></td>\n      <td>CHAPINERO</td>\n      <td>1</td>\n      <td>0</td>\n    </tr>\n  </tbody>\n</table>\n<p>58240 rows × 17 columns</p>\n</div>"
     },
     "metadata": {},
     "execution_count": 73
    }
   ],
   "source": [
    "dataset"
   ]
  },
  {
   "cell_type": "code",
   "execution_count": 74,
   "metadata": {},
   "outputs": [],
   "source": [
    "boroughs = pd.read_csv(\"../data/localidades.csv\")"
   ]
  },
  {
   "cell_type": "code",
   "execution_count": 75,
   "metadata": {},
   "outputs": [
    {
     "output_type": "execute_result",
     "data": {
      "text/plain": "array(['USAQUEN', 'CHAPINERO', 'SANTA FE', 'SAN CRISTOBAL', 'USME',\n       'TUNJUELITO', 'BOSA', 'KENNEDY', 'FONTIBON', 'ENGATIVA', 'SUBA',\n       'BARRIOS UNIDOS', 'TEUSAQUILLO', 'LOS MARTIRES', 'ANTONIO NARIÑO',\n       'PUENTE ARANDA', 'CANDELARIA', 'RAFAEL URIBE URIBE',\n       'CIUDAD BOLIVAR', 'SUMAPAZ'], dtype=object)"
     },
     "metadata": {},
     "execution_count": 75
    }
   ],
   "source": [
    "boroughs.borough.unique()"
   ]
  },
  {
   "cell_type": "code",
   "execution_count": 76,
   "metadata": {},
   "outputs": [
    {
     "output_type": "execute_result",
     "data": {
      "text/plain": "Index(['id', 'borough', 'area_km2', 'population', 'population_density'], dtype='object')"
     },
     "metadata": {},
     "execution_count": 76
    }
   ],
   "source": [
    "boroughs.columns"
   ]
  },
  {
   "cell_type": "code",
   "execution_count": 6,
   "metadata": {},
   "outputs": [],
   "source": [
    "# boroughs.replace({\"Tunjuelito\": 'TUNJUELITO', \"Chapinero\":'CHAPINERO', \"Kennedy\": 'KENNEDY', \"Usaquén\": 'USAQUEN', \"BarriosUnidos\":  'BARRIOS UNIDOS', \"CiudadBolívar\": \n",
    "# 'CIUDAD BOLIVAR', \"Fontibón\":  'FONTIBON', \"PuenteAranda\":  'PUENTE ARANDA', \"Suba\":  'SUBA', \"Teusaquillo\":\n",
    "# 'TEUSAQUILLO', \"SantaFe\":  'SANTA FE', \"Bosa\":  'BOSA', \"SanCristóbal\":  'SAN CRISTOBAL', \"Engativá\":  'ENGATIVA', \"RafaelUribeUribe\": \n",
    "# 'RAFAEL URIBE URIBE', \"AntonioNariño\":  'ANTONIO NARIÑO', \"LosMártires\":  'LOS MARTIRES', \"LaCandelaria\":\n",
    "# 'CANDELARIA', \"Usme\": 'USME', \"Sumapaz\":  'SUMAPAZ'}, inplace=True)"
   ]
  },
  {
   "cell_type": "code",
   "execution_count": 77,
   "metadata": {},
   "outputs": [],
   "source": [
    "# boroughs.drop(columns = ['id'], inplace=True)"
   ]
  },
  {
   "cell_type": "code",
   "execution_count": 78,
   "metadata": {},
   "outputs": [],
   "source": [
    "dataset = dataset.merge(boroughs, how='left', left_on='borough', right_on='borough')"
   ]
  },
  {
   "cell_type": "code",
   "execution_count": 79,
   "metadata": {},
   "outputs": [
    {
     "output_type": "execute_result",
     "data": {
      "text/plain": "         x        y           timestamp        date  year  month  day  \\\n0 -74.1344   4.5793 2019-01-11 14:20:00  2019-01-11  2019      1   11   \n1 -74.0488  4.66514 2019-01-11 11:30:00  2019-01-11  2019      1   11   \n2 -74.1733  4.61559 2019-01-11 23:20:00  2019-01-11  2019      1   11   \n3 -74.0251  4.72529 2019-01-11 06:30:00  2019-01-11  2019      1   11   \n4 -74.0808  4.67008 2019-01-10 07:20:00  2019-01-10  2019      1   10   \n\n   day_of_year  day_of_week  hour  ...         severity accident_type  \\\n0           11            4    14  ...           Injury         Crash   \n1           11            4    11  ...  Material damage         Crash   \n2           11            4    23  ...           Injury         Crash   \n3           11            4     6  ...  Material damage         Crash   \n4           10            3     7  ...           Injury         Crash   \n\n  severity_numeric         borough cluster_id  sample_type  id  area_km2  \\\n0                8      TUNJUELITO        470            1   6      9.91   \n1                1       CHAPINERO          1            1   2     38.15   \n2                8         KENNEDY          1            1   8     38.59   \n3                1         USAQUEN        146            1   1     65.31   \n4                8  BARRIOS UNIDOS          1            1  12     11.90   \n\n   population  population_density  \n0      199430            20124.11  \n1      139701             3661.88  \n2     1088443            28205.31  \n3      501999             7686.40  \n4      243465            20459.24  \n\n[5 rows x 21 columns]",
      "text/html": "<div>\n<style scoped>\n    .dataframe tbody tr th:only-of-type {\n        vertical-align: middle;\n    }\n\n    .dataframe tbody tr th {\n        vertical-align: top;\n    }\n\n    .dataframe thead th {\n        text-align: right;\n    }\n</style>\n<table border=\"1\" class=\"dataframe\">\n  <thead>\n    <tr style=\"text-align: right;\">\n      <th></th>\n      <th>x</th>\n      <th>y</th>\n      <th>timestamp</th>\n      <th>date</th>\n      <th>year</th>\n      <th>month</th>\n      <th>day</th>\n      <th>day_of_year</th>\n      <th>day_of_week</th>\n      <th>hour</th>\n      <th>...</th>\n      <th>severity</th>\n      <th>accident_type</th>\n      <th>severity_numeric</th>\n      <th>borough</th>\n      <th>cluster_id</th>\n      <th>sample_type</th>\n      <th>id</th>\n      <th>area_km2</th>\n      <th>population</th>\n      <th>population_density</th>\n    </tr>\n  </thead>\n  <tbody>\n    <tr>\n      <th>0</th>\n      <td>-74.1344</td>\n      <td>4.5793</td>\n      <td>2019-01-11 14:20:00</td>\n      <td>2019-01-11</td>\n      <td>2019</td>\n      <td>1</td>\n      <td>11</td>\n      <td>11</td>\n      <td>4</td>\n      <td>14</td>\n      <td>...</td>\n      <td>Injury</td>\n      <td>Crash</td>\n      <td>8</td>\n      <td>TUNJUELITO</td>\n      <td>470</td>\n      <td>1</td>\n      <td>6</td>\n      <td>9.91</td>\n      <td>199430</td>\n      <td>20124.11</td>\n    </tr>\n    <tr>\n      <th>1</th>\n      <td>-74.0488</td>\n      <td>4.66514</td>\n      <td>2019-01-11 11:30:00</td>\n      <td>2019-01-11</td>\n      <td>2019</td>\n      <td>1</td>\n      <td>11</td>\n      <td>11</td>\n      <td>4</td>\n      <td>11</td>\n      <td>...</td>\n      <td>Material damage</td>\n      <td>Crash</td>\n      <td>1</td>\n      <td>CHAPINERO</td>\n      <td>1</td>\n      <td>1</td>\n      <td>2</td>\n      <td>38.15</td>\n      <td>139701</td>\n      <td>3661.88</td>\n    </tr>\n    <tr>\n      <th>2</th>\n      <td>-74.1733</td>\n      <td>4.61559</td>\n      <td>2019-01-11 23:20:00</td>\n      <td>2019-01-11</td>\n      <td>2019</td>\n      <td>1</td>\n      <td>11</td>\n      <td>11</td>\n      <td>4</td>\n      <td>23</td>\n      <td>...</td>\n      <td>Injury</td>\n      <td>Crash</td>\n      <td>8</td>\n      <td>KENNEDY</td>\n      <td>1</td>\n      <td>1</td>\n      <td>8</td>\n      <td>38.59</td>\n      <td>1088443</td>\n      <td>28205.31</td>\n    </tr>\n    <tr>\n      <th>3</th>\n      <td>-74.0251</td>\n      <td>4.72529</td>\n      <td>2019-01-11 06:30:00</td>\n      <td>2019-01-11</td>\n      <td>2019</td>\n      <td>1</td>\n      <td>11</td>\n      <td>11</td>\n      <td>4</td>\n      <td>6</td>\n      <td>...</td>\n      <td>Material damage</td>\n      <td>Crash</td>\n      <td>1</td>\n      <td>USAQUEN</td>\n      <td>146</td>\n      <td>1</td>\n      <td>1</td>\n      <td>65.31</td>\n      <td>501999</td>\n      <td>7686.40</td>\n    </tr>\n    <tr>\n      <th>4</th>\n      <td>-74.0808</td>\n      <td>4.67008</td>\n      <td>2019-01-10 07:20:00</td>\n      <td>2019-01-10</td>\n      <td>2019</td>\n      <td>1</td>\n      <td>10</td>\n      <td>10</td>\n      <td>3</td>\n      <td>7</td>\n      <td>...</td>\n      <td>Injury</td>\n      <td>Crash</td>\n      <td>8</td>\n      <td>BARRIOS UNIDOS</td>\n      <td>1</td>\n      <td>1</td>\n      <td>12</td>\n      <td>11.90</td>\n      <td>243465</td>\n      <td>20459.24</td>\n    </tr>\n  </tbody>\n</table>\n<p>5 rows × 21 columns</p>\n</div>"
     },
     "metadata": {},
     "execution_count": 79
    }
   ],
   "source": [
    "dataset.head()"
   ]
  },
  {
   "cell_type": "code",
   "execution_count": 81,
   "metadata": {},
   "outputs": [],
   "source": [
    "dataset.rename(columns={\"id\": \"borough_id\"}, inplace=True)"
   ]
  },
  {
   "cell_type": "code",
   "execution_count": 83,
   "metadata": {},
   "outputs": [],
   "source": [
    "weather = pd.read_csv(\"../data/total.csv\")"
   ]
  },
  {
   "cell_type": "code",
   "execution_count": 84,
   "metadata": {},
   "outputs": [
    {
     "output_type": "execute_result",
     "data": {
      "text/plain": "Index(['Unnamed: 0', 'Unnamed: 0.1', 'time', 'summary', 'icon',\n       'precipIntensity', 'precipProbability', 'temperature',\n       'apparentTemperature', 'dewPoint', 'humidity', 'windSpeed',\n       'cloudCover', 'uvIndex', 'visibility', 'windBearing', 'location',\n       'windGust', 'pressure', 'precipType', 'ozone', 'precipAccumulation'],\n      dtype='object')"
     },
     "metadata": {},
     "execution_count": 84
    }
   ],
   "source": [
    "weather.columns"
   ]
  },
  {
   "cell_type": "code",
   "execution_count": 85,
   "metadata": {},
   "outputs": [],
   "source": [
    "weather.drop(columns=[\"Unnamed: 0\", \"Unnamed: 0.1\"], inplace=True)"
   ]
  },
  {
   "cell_type": "code",
   "execution_count": 86,
   "metadata": {},
   "outputs": [
    {
     "output_type": "execute_result",
     "data": {
      "text/plain": "                  time        summary                 icon  precipIntensity  \\\n0  2014-07-15 05:00:00  Partly Cloudy  partly-cloudy-night              0.0   \n1  2014-07-15 06:00:00  Partly Cloudy  partly-cloudy-night              0.0   \n2  2014-07-15 07:00:00  Partly Cloudy  partly-cloudy-night              0.0   \n3  2014-07-15 08:00:00  Partly Cloudy  partly-cloudy-night              0.0   \n4  2014-07-15 09:00:00  Partly Cloudy  partly-cloudy-night              0.0   \n\n   precipProbability  temperature  apparentTemperature  dewPoint  humidity  \\\n0                0.0         10.0                10.00      9.99      1.00   \n1                0.0          9.0                 9.00      9.00      1.00   \n2                0.0          9.0                 9.00      9.00      1.00   \n3                0.0         10.0                 8.46      9.00      0.94   \n4                0.0          9.0                 8.46      6.99      0.87   \n\n   windSpeed  cloudCover  uvIndex  visibility  windBearing location  windGust  \\\n0       1.02        0.44      0.0      10.003          NaN     bosa       NaN   \n1       1.02        0.44      0.0      10.003         50.0     bosa       NaN   \n2       1.02        0.44      0.0      10.003          NaN     bosa       NaN   \n3       3.09        0.44      0.0      10.003        120.0     bosa       NaN   \n4       1.55        0.44      0.0      10.003        270.0     bosa       NaN   \n\n   pressure precipType  ozone  precipAccumulation  \n0       NaN        NaN    NaN                 NaN  \n1       NaN        NaN    NaN                 NaN  \n2       NaN        NaN    NaN                 NaN  \n3       NaN        NaN    NaN                 NaN  \n4       NaN        NaN    NaN                 NaN  ",
      "text/html": "<div>\n<style scoped>\n    .dataframe tbody tr th:only-of-type {\n        vertical-align: middle;\n    }\n\n    .dataframe tbody tr th {\n        vertical-align: top;\n    }\n\n    .dataframe thead th {\n        text-align: right;\n    }\n</style>\n<table border=\"1\" class=\"dataframe\">\n  <thead>\n    <tr style=\"text-align: right;\">\n      <th></th>\n      <th>time</th>\n      <th>summary</th>\n      <th>icon</th>\n      <th>precipIntensity</th>\n      <th>precipProbability</th>\n      <th>temperature</th>\n      <th>apparentTemperature</th>\n      <th>dewPoint</th>\n      <th>humidity</th>\n      <th>windSpeed</th>\n      <th>cloudCover</th>\n      <th>uvIndex</th>\n      <th>visibility</th>\n      <th>windBearing</th>\n      <th>location</th>\n      <th>windGust</th>\n      <th>pressure</th>\n      <th>precipType</th>\n      <th>ozone</th>\n      <th>precipAccumulation</th>\n    </tr>\n  </thead>\n  <tbody>\n    <tr>\n      <th>0</th>\n      <td>2014-07-15 05:00:00</td>\n      <td>Partly Cloudy</td>\n      <td>partly-cloudy-night</td>\n      <td>0.0</td>\n      <td>0.0</td>\n      <td>10.0</td>\n      <td>10.00</td>\n      <td>9.99</td>\n      <td>1.00</td>\n      <td>1.02</td>\n      <td>0.44</td>\n      <td>0.0</td>\n      <td>10.003</td>\n      <td>NaN</td>\n      <td>bosa</td>\n      <td>NaN</td>\n      <td>NaN</td>\n      <td>NaN</td>\n      <td>NaN</td>\n      <td>NaN</td>\n    </tr>\n    <tr>\n      <th>1</th>\n      <td>2014-07-15 06:00:00</td>\n      <td>Partly Cloudy</td>\n      <td>partly-cloudy-night</td>\n      <td>0.0</td>\n      <td>0.0</td>\n      <td>9.0</td>\n      <td>9.00</td>\n      <td>9.00</td>\n      <td>1.00</td>\n      <td>1.02</td>\n      <td>0.44</td>\n      <td>0.0</td>\n      <td>10.003</td>\n      <td>50.0</td>\n      <td>bosa</td>\n      <td>NaN</td>\n      <td>NaN</td>\n      <td>NaN</td>\n      <td>NaN</td>\n      <td>NaN</td>\n    </tr>\n    <tr>\n      <th>2</th>\n      <td>2014-07-15 07:00:00</td>\n      <td>Partly Cloudy</td>\n      <td>partly-cloudy-night</td>\n      <td>0.0</td>\n      <td>0.0</td>\n      <td>9.0</td>\n      <td>9.00</td>\n      <td>9.00</td>\n      <td>1.00</td>\n      <td>1.02</td>\n      <td>0.44</td>\n      <td>0.0</td>\n      <td>10.003</td>\n      <td>NaN</td>\n      <td>bosa</td>\n      <td>NaN</td>\n      <td>NaN</td>\n      <td>NaN</td>\n      <td>NaN</td>\n      <td>NaN</td>\n    </tr>\n    <tr>\n      <th>3</th>\n      <td>2014-07-15 08:00:00</td>\n      <td>Partly Cloudy</td>\n      <td>partly-cloudy-night</td>\n      <td>0.0</td>\n      <td>0.0</td>\n      <td>10.0</td>\n      <td>8.46</td>\n      <td>9.00</td>\n      <td>0.94</td>\n      <td>3.09</td>\n      <td>0.44</td>\n      <td>0.0</td>\n      <td>10.003</td>\n      <td>120.0</td>\n      <td>bosa</td>\n      <td>NaN</td>\n      <td>NaN</td>\n      <td>NaN</td>\n      <td>NaN</td>\n      <td>NaN</td>\n    </tr>\n    <tr>\n      <th>4</th>\n      <td>2014-07-15 09:00:00</td>\n      <td>Partly Cloudy</td>\n      <td>partly-cloudy-night</td>\n      <td>0.0</td>\n      <td>0.0</td>\n      <td>9.0</td>\n      <td>8.46</td>\n      <td>6.99</td>\n      <td>0.87</td>\n      <td>1.55</td>\n      <td>0.44</td>\n      <td>0.0</td>\n      <td>10.003</td>\n      <td>270.0</td>\n      <td>bosa</td>\n      <td>NaN</td>\n      <td>NaN</td>\n      <td>NaN</td>\n      <td>NaN</td>\n      <td>NaN</td>\n    </tr>\n  </tbody>\n</table>\n</div>"
     },
     "metadata": {},
     "execution_count": 86
    }
   ],
   "source": [
    "weather.head()"
   ]
  },
  {
   "cell_type": "code",
   "execution_count": 87,
   "metadata": {},
   "outputs": [],
   "source": [
    "dataset['timestamp_floor'] =  dataset.timestamp.dt.round('H')"
   ]
  },
  {
   "cell_type": "code",
   "execution_count": 88,
   "metadata": {},
   "outputs": [],
   "source": [
    "weather.time = pd.to_datetime(weather.time)"
   ]
  },
  {
   "cell_type": "code",
   "execution_count": 89,
   "metadata": {},
   "outputs": [
    {
     "output_type": "execute_result",
     "data": {
      "text/plain": "array(['bosa', 'engativa', 'tunjuelito', 'fontibon', 'kennedy',\n       'ciudadbolivar', 'la candelaria', 'puente aranda', 'rafael uribe',\n       'sumapaz', 'antonio nariño', 'barrios unidos', 'chapinero',\n       'los martires', 'san cristobal', 'santafe', 'suba', 'teusaquillo',\n       'usaquen', 'usme'], dtype=object)"
     },
     "metadata": {},
     "execution_count": 89
    }
   ],
   "source": [
    "weather.location.unique()"
   ]
  },
  {
   "cell_type": "code",
   "execution_count": 90,
   "metadata": {},
   "outputs": [],
   "source": [
    "weather.replace({\"tunjuelito\": 'TUNJUELITO', \"chapinero\":'CHAPINERO', \"kennedy\": 'KENNEDY', \"usaquen\": 'USAQUEN', \"barrios unidos\":  'BARRIOS UNIDOS', \"ciudadbolivar\": \n",
    "'CIUDAD BOLIVAR', \"fontibon\":  'FONTIBON', \"puente aranda\":  'PUENTE ARANDA', \"suba\":  'SUBA', \"teusaquillo\":\n",
    "'TEUSAQUILLO', \"santafe\":  'SANTA FE', \"bosa\":  'BOSA', \"san cristobal\":  'SAN CRISTOBAL', \"engativa\":  'ENGATIVA', \"rafael uribe\": \n",
    "'RAFAEL URIBE URIBE', \"antonio nariño\":  'ANTONIO NARIÑO', \"los martires\":  'LOS MARTIRES', \"la candelaria\":\n",
    "'CANDELARIA', \"usme\": 'USME', \"sumapaz\":  'SUMAPAZ'}, inplace=True)"
   ]
  },
  {
   "cell_type": "code",
   "execution_count": 91,
   "metadata": {},
   "outputs": [],
   "source": [
    "dataset = dataset.merge(weather, left_on=['borough' , 'timestamp_floor'], right_on=['location', 'time'])"
   ]
  },
  {
   "cell_type": "code",
   "execution_count": 92,
   "metadata": {},
   "outputs": [
    {
     "output_type": "execute_result",
     "data": {
      "text/plain": "Index(['x', 'y', 'timestamp', 'date', 'year', 'month', 'day', 'day_of_year',\n       'day_of_week', 'hour', 'address', 'severity', 'accident_type',\n       'severity_numeric', 'borough', 'cluster_id', 'sample_type',\n       'borough_id', 'area_km2', 'population', 'population_density',\n       'timestamp_floor', 'time', 'summary', 'icon', 'precipIntensity',\n       'precipProbability', 'temperature', 'apparentTemperature', 'dewPoint',\n       'humidity', 'windSpeed', 'cloudCover', 'uvIndex', 'visibility',\n       'windBearing', 'location', 'windGust', 'pressure', 'precipType',\n       'ozone', 'precipAccumulation'],\n      dtype='object')"
     },
     "metadata": {},
     "execution_count": 92
    }
   ],
   "source": [
    "dataset.columns"
   ]
  },
  {
   "cell_type": "code",
   "execution_count": 93,
   "metadata": {},
   "outputs": [],
   "source": [
    "dataset.drop(columns = ['timestamp_floor', 'location'], inplace=True)"
   ]
  },
  {
   "cell_type": "code",
   "execution_count": 94,
   "metadata": {},
   "outputs": [],
   "source": [
    "dataset.rename(columns={\"time\": \"timestamp_darksky\"}, inplace=True)"
   ]
  },
  {
   "cell_type": "code",
   "execution_count": 95,
   "metadata": {},
   "outputs": [],
   "source": [
    "dataset.to_csv('../data/dataset_2019_with_negatives.csv', index=None)"
   ]
  },
  {
   "cell_type": "code",
   "execution_count": 96,
   "metadata": {},
   "outputs": [
    {
     "output_type": "execute_result",
     "data": {
      "text/plain": "                        x                  y           timestamp  \\\n0                -74.1344             4.5793 2019-01-11 14:20:00   \n1                -74.0488            4.66514 2019-01-11 11:30:00   \n2                -74.1733            4.61559 2019-01-11 23:20:00   \n3                -74.0251            4.72529 2019-01-11 06:30:00   \n4      -74.04462795299997  4.752516783000034 2019-01-11 06:00:00   \n...                   ...                ...                 ...   \n58128  -74.13568662999995  4.580801026000074 2019-12-03 16:00:00   \n58129       -74.084274684  4.590370525000028 2019-01-12 04:00:00   \n58130  -74.09775169999993  4.619584603000021 2019-10-04 16:00:00   \n58131  -74.17421686799997  4.576242357000068 2019-12-20 19:00:00   \n58132  -74.06685944699996  4.636431144000029 2019-12-21 09:00:00   \n\n                      date  year  month  day  day_of_year  day_of_week  hour  \\\n0               2019-01-11  2019      1   11           11            4    14   \n1               2019-01-11  2019      1   11           11            4    11   \n2               2019-01-11  2019      1   11           11            4    23   \n3               2019-01-11  2019      1   11           11            4     6   \n4      2019-01-11 00:00:00  2019      1   11           11            4     6   \n...                    ...   ...    ...  ...          ...          ...   ...   \n58128  2019-12-03 00:00:00  2019     12    3          337            1    16   \n58129  2019-01-12 00:00:00  2019      1   12           12            5     4   \n58130  2019-10-04 00:00:00  2019     10    4          277            4    16   \n58131  2019-12-20 00:00:00  2019     12   20          354            4    19   \n58132  2019-12-21 00:00:00  2019     12   21          355            5     9   \n\n       ... windSpeed cloudCover uvIndex visibility windBearing  windGust  \\\n0      ...      1.66       0.89     4.0     13.489       167.0      1.66   \n1      ...      1.11       0.83     0.0     12.254       128.0      1.15   \n2      ...      1.65       0.81     0.0      6.814        10.0      2.07   \n3      ...      0.97       0.90     0.0     15.389        41.0      0.99   \n4      ...      0.97       0.90     0.0     15.389        41.0      0.99   \n...    ...       ...        ...     ...        ...         ...       ...   \n58128  ...      2.03       0.64     9.0     15.267       120.0      3.27   \n58129  ...      1.04       0.93     0.0     16.093       131.0      1.78   \n58130  ...      2.22       0.80     8.0     16.093       146.0      3.88   \n58131  ...      2.17       0.87     6.0     10.840       112.0      2.96   \n58132  ...      1.44       0.78     0.0     16.093       104.0      2.35   \n\n       pressure  precipType  ozone  precipAccumulation  \n0        1018.0        rain  239.8                 NaN  \n1        1017.2        rain  240.5                 NaN  \n2        1014.8        rain  237.9                 NaN  \n3        1017.1        rain  242.7                 NaN  \n4        1017.1        rain  242.7                 NaN  \n...         ...         ...    ...                 ...  \n58128    1014.6        rain  240.9                 NaN  \n58129    1017.5        rain  238.6                 NaN  \n58130    1016.4        rain  259.2                 NaN  \n58131    1012.2        rain  232.8                 NaN  \n58132    1015.7        rain  232.1                 NaN  \n\n[58133 rows x 40 columns]",
      "text/html": "<div>\n<style scoped>\n    .dataframe tbody tr th:only-of-type {\n        vertical-align: middle;\n    }\n\n    .dataframe tbody tr th {\n        vertical-align: top;\n    }\n\n    .dataframe thead th {\n        text-align: right;\n    }\n</style>\n<table border=\"1\" class=\"dataframe\">\n  <thead>\n    <tr style=\"text-align: right;\">\n      <th></th>\n      <th>x</th>\n      <th>y</th>\n      <th>timestamp</th>\n      <th>date</th>\n      <th>year</th>\n      <th>month</th>\n      <th>day</th>\n      <th>day_of_year</th>\n      <th>day_of_week</th>\n      <th>hour</th>\n      <th>...</th>\n      <th>windSpeed</th>\n      <th>cloudCover</th>\n      <th>uvIndex</th>\n      <th>visibility</th>\n      <th>windBearing</th>\n      <th>windGust</th>\n      <th>pressure</th>\n      <th>precipType</th>\n      <th>ozone</th>\n      <th>precipAccumulation</th>\n    </tr>\n  </thead>\n  <tbody>\n    <tr>\n      <th>0</th>\n      <td>-74.1344</td>\n      <td>4.5793</td>\n      <td>2019-01-11 14:20:00</td>\n      <td>2019-01-11</td>\n      <td>2019</td>\n      <td>1</td>\n      <td>11</td>\n      <td>11</td>\n      <td>4</td>\n      <td>14</td>\n      <td>...</td>\n      <td>1.66</td>\n      <td>0.89</td>\n      <td>4.0</td>\n      <td>13.489</td>\n      <td>167.0</td>\n      <td>1.66</td>\n      <td>1018.0</td>\n      <td>rain</td>\n      <td>239.8</td>\n      <td>NaN</td>\n    </tr>\n    <tr>\n      <th>1</th>\n      <td>-74.0488</td>\n      <td>4.66514</td>\n      <td>2019-01-11 11:30:00</td>\n      <td>2019-01-11</td>\n      <td>2019</td>\n      <td>1</td>\n      <td>11</td>\n      <td>11</td>\n      <td>4</td>\n      <td>11</td>\n      <td>...</td>\n      <td>1.11</td>\n      <td>0.83</td>\n      <td>0.0</td>\n      <td>12.254</td>\n      <td>128.0</td>\n      <td>1.15</td>\n      <td>1017.2</td>\n      <td>rain</td>\n      <td>240.5</td>\n      <td>NaN</td>\n    </tr>\n    <tr>\n      <th>2</th>\n      <td>-74.1733</td>\n      <td>4.61559</td>\n      <td>2019-01-11 23:20:00</td>\n      <td>2019-01-11</td>\n      <td>2019</td>\n      <td>1</td>\n      <td>11</td>\n      <td>11</td>\n      <td>4</td>\n      <td>23</td>\n      <td>...</td>\n      <td>1.65</td>\n      <td>0.81</td>\n      <td>0.0</td>\n      <td>6.814</td>\n      <td>10.0</td>\n      <td>2.07</td>\n      <td>1014.8</td>\n      <td>rain</td>\n      <td>237.9</td>\n      <td>NaN</td>\n    </tr>\n    <tr>\n      <th>3</th>\n      <td>-74.0251</td>\n      <td>4.72529</td>\n      <td>2019-01-11 06:30:00</td>\n      <td>2019-01-11</td>\n      <td>2019</td>\n      <td>1</td>\n      <td>11</td>\n      <td>11</td>\n      <td>4</td>\n      <td>6</td>\n      <td>...</td>\n      <td>0.97</td>\n      <td>0.90</td>\n      <td>0.0</td>\n      <td>15.389</td>\n      <td>41.0</td>\n      <td>0.99</td>\n      <td>1017.1</td>\n      <td>rain</td>\n      <td>242.7</td>\n      <td>NaN</td>\n    </tr>\n    <tr>\n      <th>4</th>\n      <td>-74.04462795299997</td>\n      <td>4.752516783000034</td>\n      <td>2019-01-11 06:00:00</td>\n      <td>2019-01-11 00:00:00</td>\n      <td>2019</td>\n      <td>1</td>\n      <td>11</td>\n      <td>11</td>\n      <td>4</td>\n      <td>6</td>\n      <td>...</td>\n      <td>0.97</td>\n      <td>0.90</td>\n      <td>0.0</td>\n      <td>15.389</td>\n      <td>41.0</td>\n      <td>0.99</td>\n      <td>1017.1</td>\n      <td>rain</td>\n      <td>242.7</td>\n      <td>NaN</td>\n    </tr>\n    <tr>\n      <th>...</th>\n      <td>...</td>\n      <td>...</td>\n      <td>...</td>\n      <td>...</td>\n      <td>...</td>\n      <td>...</td>\n      <td>...</td>\n      <td>...</td>\n      <td>...</td>\n      <td>...</td>\n      <td>...</td>\n      <td>...</td>\n      <td>...</td>\n      <td>...</td>\n      <td>...</td>\n      <td>...</td>\n      <td>...</td>\n      <td>...</td>\n      <td>...</td>\n      <td>...</td>\n      <td>...</td>\n    </tr>\n    <tr>\n      <th>58128</th>\n      <td>-74.13568662999995</td>\n      <td>4.580801026000074</td>\n      <td>2019-12-03 16:00:00</td>\n      <td>2019-12-03 00:00:00</td>\n      <td>2019</td>\n      <td>12</td>\n      <td>3</td>\n      <td>337</td>\n      <td>1</td>\n      <td>16</td>\n      <td>...</td>\n      <td>2.03</td>\n      <td>0.64</td>\n      <td>9.0</td>\n      <td>15.267</td>\n      <td>120.0</td>\n      <td>3.27</td>\n      <td>1014.6</td>\n      <td>rain</td>\n      <td>240.9</td>\n      <td>NaN</td>\n    </tr>\n    <tr>\n      <th>58129</th>\n      <td>-74.084274684</td>\n      <td>4.590370525000028</td>\n      <td>2019-01-12 04:00:00</td>\n      <td>2019-01-12 00:00:00</td>\n      <td>2019</td>\n      <td>1</td>\n      <td>12</td>\n      <td>12</td>\n      <td>5</td>\n      <td>4</td>\n      <td>...</td>\n      <td>1.04</td>\n      <td>0.93</td>\n      <td>0.0</td>\n      <td>16.093</td>\n      <td>131.0</td>\n      <td>1.78</td>\n      <td>1017.5</td>\n      <td>rain</td>\n      <td>238.6</td>\n      <td>NaN</td>\n    </tr>\n    <tr>\n      <th>58130</th>\n      <td>-74.09775169999993</td>\n      <td>4.619584603000021</td>\n      <td>2019-10-04 16:00:00</td>\n      <td>2019-10-04 00:00:00</td>\n      <td>2019</td>\n      <td>10</td>\n      <td>4</td>\n      <td>277</td>\n      <td>4</td>\n      <td>16</td>\n      <td>...</td>\n      <td>2.22</td>\n      <td>0.80</td>\n      <td>8.0</td>\n      <td>16.093</td>\n      <td>146.0</td>\n      <td>3.88</td>\n      <td>1016.4</td>\n      <td>rain</td>\n      <td>259.2</td>\n      <td>NaN</td>\n    </tr>\n    <tr>\n      <th>58131</th>\n      <td>-74.17421686799997</td>\n      <td>4.576242357000068</td>\n      <td>2019-12-20 19:00:00</td>\n      <td>2019-12-20 00:00:00</td>\n      <td>2019</td>\n      <td>12</td>\n      <td>20</td>\n      <td>354</td>\n      <td>4</td>\n      <td>19</td>\n      <td>...</td>\n      <td>2.17</td>\n      <td>0.87</td>\n      <td>6.0</td>\n      <td>10.840</td>\n      <td>112.0</td>\n      <td>2.96</td>\n      <td>1012.2</td>\n      <td>rain</td>\n      <td>232.8</td>\n      <td>NaN</td>\n    </tr>\n    <tr>\n      <th>58132</th>\n      <td>-74.06685944699996</td>\n      <td>4.636431144000029</td>\n      <td>2019-12-21 09:00:00</td>\n      <td>2019-12-21 00:00:00</td>\n      <td>2019</td>\n      <td>12</td>\n      <td>21</td>\n      <td>355</td>\n      <td>5</td>\n      <td>9</td>\n      <td>...</td>\n      <td>1.44</td>\n      <td>0.78</td>\n      <td>0.0</td>\n      <td>16.093</td>\n      <td>104.0</td>\n      <td>2.35</td>\n      <td>1015.7</td>\n      <td>rain</td>\n      <td>232.1</td>\n      <td>NaN</td>\n    </tr>\n  </tbody>\n</table>\n<p>58133 rows × 40 columns</p>\n</div>"
     },
     "metadata": {},
     "execution_count": 96
    }
   ],
   "source": [
    "dataset"
   ]
  },
  {
   "cell_type": "code",
   "execution_count": null,
   "metadata": {},
   "outputs": [],
   "source": []
  }
 ]
}