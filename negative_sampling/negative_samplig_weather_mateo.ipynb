{
 "nbformat": 4,
 "nbformat_minor": 2,
 "metadata": {
  "language_info": {
   "name": "python",
   "codemirror_mode": {
    "name": "ipython",
    "version": 3
   },
   "version": "3.8.2-final"
  },
  "orig_nbformat": 2,
  "file_extension": ".py",
  "mimetype": "text/x-python",
  "name": "python",
  "npconvert_exporter": "python",
  "pygments_lexer": "ipython3",
  "version": 3,
  "kernelspec": {
   "name": "python38264bitds4aprojectcondae0f55255db9a456ea22c31180c5c6b0c",
   "language": "python",
   "display_name": "Python 3.8.2 64-bit ('ds4a-project': conda)"
  }
 },
 "cells": [
  {
   "cell_type": "code",
   "execution_count": 1,
   "metadata": {},
   "outputs": [],
   "source": [
    "import pandas as pd\n",
    "import numpy as np"
   ]
  },
  {
   "cell_type": "code",
   "execution_count": 2,
   "metadata": {},
   "outputs": [],
   "source": [
    "accidents = pd.read_csv('../data/2019_clusters.csv')"
   ]
  },
  {
   "cell_type": "code",
   "execution_count": 3,
   "metadata": {},
   "outputs": [
    {
     "output_type": "execute_result",
     "data": {
      "text/plain": "           x         y  accident_id  year           address         severity  \\\n0 -74.134363  4.579297     10472514  2019  KR 26-CL 52B S 2           Injury   \n1 -74.048819  4.665144     10472553  2019      CL 84-KR 8 2  Material damage   \n2 -74.173301  4.615589     10472522  2019  KR 80-CL 53A S 2           Injury   \n3 -74.025068  4.725288     10472569  2019     KR 7-CL 150 2  Material damage   \n4 -74.080770  4.670083     10472515  2019     CL 68-KR 58 2           Injury   \n\n  accident_type  severity_numeric     borough_geo                  timestamp  \\\n0         Crash                 8      TUNJUELITO  2019-01-11 14:20:00+00:00   \n1         Crash                 1       CHAPINERO  2019-01-11 11:30:00+00:00   \n2         Crash                 8         KENNEDY  2019-01-11 23:20:00+00:00   \n3         Crash                 1         USAQUEN  2019-01-11 06:30:00+00:00   \n4         Crash                 8  BARRIOS UNIDOS  2019-01-10 07:20:00+00:00   \n\n         date  hour month_name  month  day  cluster_id  \n0  2019-01-11    14        Jan      1  Fri          -1  \n1  2019-01-11    11        Jan      1  Fri          -1  \n2  2019-01-11    23        Jan      1  Fri           0  \n3  2019-01-11     6        Jan      1  Fri          -1  \n4  2019-01-10     7        Jan      1  Thu          -1  ",
      "text/html": "<div>\n<style scoped>\n    .dataframe tbody tr th:only-of-type {\n        vertical-align: middle;\n    }\n\n    .dataframe tbody tr th {\n        vertical-align: top;\n    }\n\n    .dataframe thead th {\n        text-align: right;\n    }\n</style>\n<table border=\"1\" class=\"dataframe\">\n  <thead>\n    <tr style=\"text-align: right;\">\n      <th></th>\n      <th>x</th>\n      <th>y</th>\n      <th>accident_id</th>\n      <th>year</th>\n      <th>address</th>\n      <th>severity</th>\n      <th>accident_type</th>\n      <th>severity_numeric</th>\n      <th>borough_geo</th>\n      <th>timestamp</th>\n      <th>date</th>\n      <th>hour</th>\n      <th>month_name</th>\n      <th>month</th>\n      <th>day</th>\n      <th>cluster_id</th>\n    </tr>\n  </thead>\n  <tbody>\n    <tr>\n      <th>0</th>\n      <td>-74.134363</td>\n      <td>4.579297</td>\n      <td>10472514</td>\n      <td>2019</td>\n      <td>KR 26-CL 52B S 2</td>\n      <td>Injury</td>\n      <td>Crash</td>\n      <td>8</td>\n      <td>TUNJUELITO</td>\n      <td>2019-01-11 14:20:00+00:00</td>\n      <td>2019-01-11</td>\n      <td>14</td>\n      <td>Jan</td>\n      <td>1</td>\n      <td>Fri</td>\n      <td>-1</td>\n    </tr>\n    <tr>\n      <th>1</th>\n      <td>-74.048819</td>\n      <td>4.665144</td>\n      <td>10472553</td>\n      <td>2019</td>\n      <td>CL 84-KR 8 2</td>\n      <td>Material damage</td>\n      <td>Crash</td>\n      <td>1</td>\n      <td>CHAPINERO</td>\n      <td>2019-01-11 11:30:00+00:00</td>\n      <td>2019-01-11</td>\n      <td>11</td>\n      <td>Jan</td>\n      <td>1</td>\n      <td>Fri</td>\n      <td>-1</td>\n    </tr>\n    <tr>\n      <th>2</th>\n      <td>-74.173301</td>\n      <td>4.615589</td>\n      <td>10472522</td>\n      <td>2019</td>\n      <td>KR 80-CL 53A S 2</td>\n      <td>Injury</td>\n      <td>Crash</td>\n      <td>8</td>\n      <td>KENNEDY</td>\n      <td>2019-01-11 23:20:00+00:00</td>\n      <td>2019-01-11</td>\n      <td>23</td>\n      <td>Jan</td>\n      <td>1</td>\n      <td>Fri</td>\n      <td>0</td>\n    </tr>\n    <tr>\n      <th>3</th>\n      <td>-74.025068</td>\n      <td>4.725288</td>\n      <td>10472569</td>\n      <td>2019</td>\n      <td>KR 7-CL 150 2</td>\n      <td>Material damage</td>\n      <td>Crash</td>\n      <td>1</td>\n      <td>USAQUEN</td>\n      <td>2019-01-11 06:30:00+00:00</td>\n      <td>2019-01-11</td>\n      <td>6</td>\n      <td>Jan</td>\n      <td>1</td>\n      <td>Fri</td>\n      <td>-1</td>\n    </tr>\n    <tr>\n      <th>4</th>\n      <td>-74.080770</td>\n      <td>4.670083</td>\n      <td>10472515</td>\n      <td>2019</td>\n      <td>CL 68-KR 58 2</td>\n      <td>Injury</td>\n      <td>Crash</td>\n      <td>8</td>\n      <td>BARRIOS UNIDOS</td>\n      <td>2019-01-10 07:20:00+00:00</td>\n      <td>2019-01-10</td>\n      <td>7</td>\n      <td>Jan</td>\n      <td>1</td>\n      <td>Thu</td>\n      <td>-1</td>\n    </tr>\n  </tbody>\n</table>\n</div>"
     },
     "metadata": {},
     "execution_count": 3
    }
   ],
   "source": [
    "accidents.head()"
   ]
  },
  {
   "cell_type": "code",
   "execution_count": 4,
   "metadata": {},
   "outputs": [],
   "source": [
    "df_positive = accidents[['x','y','date','hour', 'borough_geo', 'address', 'cluster_id']].copy()"
   ]
  },
  {
   "cell_type": "code",
   "execution_count": 5,
   "metadata": {},
   "outputs": [],
   "source": [
    "df_positive.date = pd.to_datetime(df_positive.date)"
   ]
  },
  {
   "cell_type": "code",
   "execution_count": 6,
   "metadata": {},
   "outputs": [],
   "source": [
    "df_positive['day_of_year'] = df_positive.date.dt.dayofyear"
   ]
  },
  {
   "cell_type": "code",
   "execution_count": 7,
   "metadata": {},
   "outputs": [],
   "source": [
    "df_positive['x'] = round(df_positive['x'], 8)\n",
    "df_positive['y'] = round(df_positive['y'], 8)"
   ]
  },
  {
   "cell_type": "code",
   "execution_count": 8,
   "metadata": {},
   "outputs": [],
   "source": [
    "df_positive['coords'] = df_positive[['x', 'y']].apply(lambda x: ';'.join((str(x['x']), str(x['y']))), axis = 1)"
   ]
  },
  {
   "cell_type": "code",
   "execution_count": 9,
   "metadata": {},
   "outputs": [],
   "source": [
    "df_positive = df_positive[['x','y','hour', 'day_of_year','borough_geo', 'coords', 'address', 'cluster_id']].copy()"
   ]
  },
  {
   "cell_type": "code",
   "execution_count": 10,
   "metadata": {},
   "outputs": [],
   "source": [
    "negatives = pd.read_csv(\"../data/dataset_2019_with_negatives.csv\")"
   ]
  },
  {
   "cell_type": "code",
   "execution_count": 20,
   "metadata": {},
   "outputs": [
    {
     "output_type": "execute_result",
     "data": {
      "text/plain": "           x         y            timestamp       date  year  month  day  \\\n0 -74.134363  4.579297  2019-01-11 14:20:00 2019-01-11  2019      1   11   \n1 -74.139488  4.573233  2019-01-11 14:00:00 2019-01-11  2019      1   11   \n2 -74.048819  4.665144  2019-01-11 11:30:00 2019-01-11  2019      1   11   \n3 -74.173301  4.615589  2019-01-11 23:20:00 2019-01-11  2019      1   11   \n4 -74.141503  4.610874  2019-01-11 23:00:00 2019-01-11  2019      1   11   \n\n   day_of_year  hour                    address  ... windBearing cloudCover  \\\n0           11    14           KR 26-CL 52B S 2  ...       167.0       0.89   \n1           11    14  AV AVENIDA BOYACA-KR 24 2  ...       167.0       0.89   \n2           11    11               CL 84-KR 8 2  ...       127.0       0.80   \n3           11    23           KR 80-CL 53A S 2  ...        10.0       0.81   \n4           11    23         KR 72H-CL 37D S 02  ...        10.0       0.81   \n\n   uvIndex visibility  pressure  windGust  precipType  ozone  \\\n0      4.0     13.489    1018.0      1.66        rain  239.8   \n1      4.0     13.489    1018.0      1.66        rain  239.8   \n2      0.0     14.019    1018.0      1.52        rain  241.0   \n3      0.0      6.814    1014.8      2.07        rain  237.9   \n4      0.0      6.814    1014.8      2.07        rain  237.9   \n\n   precipAccumulation doy  \n0                 NaN  11  \n1                 NaN  11  \n2                 NaN  11  \n3                 NaN  11  \n4                 NaN  11  \n\n[5 rows x 39 columns]",
      "text/html": "<div>\n<style scoped>\n    .dataframe tbody tr th:only-of-type {\n        vertical-align: middle;\n    }\n\n    .dataframe tbody tr th {\n        vertical-align: top;\n    }\n\n    .dataframe thead th {\n        text-align: right;\n    }\n</style>\n<table border=\"1\" class=\"dataframe\">\n  <thead>\n    <tr style=\"text-align: right;\">\n      <th></th>\n      <th>x</th>\n      <th>y</th>\n      <th>timestamp</th>\n      <th>date</th>\n      <th>year</th>\n      <th>month</th>\n      <th>day</th>\n      <th>day_of_year</th>\n      <th>hour</th>\n      <th>address</th>\n      <th>...</th>\n      <th>windBearing</th>\n      <th>cloudCover</th>\n      <th>uvIndex</th>\n      <th>visibility</th>\n      <th>pressure</th>\n      <th>windGust</th>\n      <th>precipType</th>\n      <th>ozone</th>\n      <th>precipAccumulation</th>\n      <th>doy</th>\n    </tr>\n  </thead>\n  <tbody>\n    <tr>\n      <th>0</th>\n      <td>-74.134363</td>\n      <td>4.579297</td>\n      <td>2019-01-11 14:20:00</td>\n      <td>2019-01-11</td>\n      <td>2019</td>\n      <td>1</td>\n      <td>11</td>\n      <td>11</td>\n      <td>14</td>\n      <td>KR 26-CL 52B S 2</td>\n      <td>...</td>\n      <td>167.0</td>\n      <td>0.89</td>\n      <td>4.0</td>\n      <td>13.489</td>\n      <td>1018.0</td>\n      <td>1.66</td>\n      <td>rain</td>\n      <td>239.8</td>\n      <td>NaN</td>\n      <td>11</td>\n    </tr>\n    <tr>\n      <th>1</th>\n      <td>-74.139488</td>\n      <td>4.573233</td>\n      <td>2019-01-11 14:00:00</td>\n      <td>2019-01-11</td>\n      <td>2019</td>\n      <td>1</td>\n      <td>11</td>\n      <td>11</td>\n      <td>14</td>\n      <td>AV AVENIDA BOYACA-KR 24 2</td>\n      <td>...</td>\n      <td>167.0</td>\n      <td>0.89</td>\n      <td>4.0</td>\n      <td>13.489</td>\n      <td>1018.0</td>\n      <td>1.66</td>\n      <td>rain</td>\n      <td>239.8</td>\n      <td>NaN</td>\n      <td>11</td>\n    </tr>\n    <tr>\n      <th>2</th>\n      <td>-74.048819</td>\n      <td>4.665144</td>\n      <td>2019-01-11 11:30:00</td>\n      <td>2019-01-11</td>\n      <td>2019</td>\n      <td>1</td>\n      <td>11</td>\n      <td>11</td>\n      <td>11</td>\n      <td>CL 84-KR 8 2</td>\n      <td>...</td>\n      <td>127.0</td>\n      <td>0.80</td>\n      <td>0.0</td>\n      <td>14.019</td>\n      <td>1018.0</td>\n      <td>1.52</td>\n      <td>rain</td>\n      <td>241.0</td>\n      <td>NaN</td>\n      <td>11</td>\n    </tr>\n    <tr>\n      <th>3</th>\n      <td>-74.173301</td>\n      <td>4.615589</td>\n      <td>2019-01-11 23:20:00</td>\n      <td>2019-01-11</td>\n      <td>2019</td>\n      <td>1</td>\n      <td>11</td>\n      <td>11</td>\n      <td>23</td>\n      <td>KR 80-CL 53A S 2</td>\n      <td>...</td>\n      <td>10.0</td>\n      <td>0.81</td>\n      <td>0.0</td>\n      <td>6.814</td>\n      <td>1014.8</td>\n      <td>2.07</td>\n      <td>rain</td>\n      <td>237.9</td>\n      <td>NaN</td>\n      <td>11</td>\n    </tr>\n    <tr>\n      <th>4</th>\n      <td>-74.141503</td>\n      <td>4.610874</td>\n      <td>2019-01-11 23:00:00</td>\n      <td>2019-01-11</td>\n      <td>2019</td>\n      <td>1</td>\n      <td>11</td>\n      <td>11</td>\n      <td>23</td>\n      <td>KR 72H-CL 37D S 02</td>\n      <td>...</td>\n      <td>10.0</td>\n      <td>0.81</td>\n      <td>0.0</td>\n      <td>6.814</td>\n      <td>1014.8</td>\n      <td>2.07</td>\n      <td>rain</td>\n      <td>237.9</td>\n      <td>NaN</td>\n      <td>11</td>\n    </tr>\n  </tbody>\n</table>\n<p>5 rows × 39 columns</p>\n</div>"
     },
     "metadata": {},
     "execution_count": 20
    }
   ],
   "source": [
    "negatives.head()"
   ]
  },
  {
   "cell_type": "code",
   "execution_count": 13,
   "metadata": {},
   "outputs": [],
   "source": [
    "negatives.date = pd.to_datetime(negatives.date)\n",
    "negatives['doy']  = negatives.date.dt.dayofyear"
   ]
  },
  {
   "cell_type": "code",
   "execution_count": 23,
   "metadata": {},
   "outputs": [],
   "source": [
    "negatives = negatives.drop(columns=['day_of_year'])                   "
   ]
  },
  {
   "cell_type": "code",
   "execution_count": 24,
   "metadata": {},
   "outputs": [],
   "source": [
    "negatives.rename(columns={'doy': 'day_of_year'}, inplace=True)"
   ]
  },
  {
   "cell_type": "code",
   "execution_count": 31,
   "metadata": {},
   "outputs": [],
   "source": [
    "negatives = negatives[['x', 'y', 'timestamp', 'date', 'year', 'day_of_year', 'month', 'day', 'hour',\n",
    "       'address', 'severity', 'accident_type', 'severity_numeric', 'borough',\n",
    "       'cluster_id', 'sample_type', 'area_km2', 'population',\n",
    "       'population_density', 'timestamp_darksky', 'summary', 'icon',\n",
    "       'precipIntensity', 'precipProbability', 'temperature',\n",
    "       'apparentTemperature', 'dewPoint', 'humidity', 'windSpeed',\n",
    "       'windBearing', 'cloudCover', 'uvIndex', 'visibility', 'pressure',\n",
    "       'windGust', 'precipType', 'ozone', 'precipAccumulation']]"
   ]
  },
  {
   "cell_type": "code",
   "execution_count": 32,
   "metadata": {},
   "outputs": [],
   "source": [
    "negatives.to_csv(\"../data/dataset_2019_with_negatives.csv\", index=None)"
   ]
  },
  {
   "cell_type": "code",
   "execution_count": 19,
   "metadata": {},
   "outputs": [
    {
     "output_type": "execute_result",
     "data": {
      "text/plain": "       sample_type       date  day_of_year  doy\n5                1 2019-01-11           98   11\n9                1 2019-01-10           98   10\n15               1 2019-01-09           11    9\n16               1 2019-01-09          222    9\n20               1 2019-01-10           11   10\n...            ...        ...          ...  ...\n66487            1 2019-12-03          187  337\n66489            1 2019-12-04          341  338\n66490            1 2019-12-03          177  337\n66498            1 2019-12-20          177  354\n66500            1 2019-12-21          183  355\n\n[28947 rows x 4 columns]",
      "text/html": "<div>\n<style scoped>\n    .dataframe tbody tr th:only-of-type {\n        vertical-align: middle;\n    }\n\n    .dataframe tbody tr th {\n        vertical-align: top;\n    }\n\n    .dataframe thead th {\n        text-align: right;\n    }\n</style>\n<table border=\"1\" class=\"dataframe\">\n  <thead>\n    <tr style=\"text-align: right;\">\n      <th></th>\n      <th>sample_type</th>\n      <th>date</th>\n      <th>day_of_year</th>\n      <th>doy</th>\n    </tr>\n  </thead>\n  <tbody>\n    <tr>\n      <th>5</th>\n      <td>1</td>\n      <td>2019-01-11</td>\n      <td>98</td>\n      <td>11</td>\n    </tr>\n    <tr>\n      <th>9</th>\n      <td>1</td>\n      <td>2019-01-10</td>\n      <td>98</td>\n      <td>10</td>\n    </tr>\n    <tr>\n      <th>15</th>\n      <td>1</td>\n      <td>2019-01-09</td>\n      <td>11</td>\n      <td>9</td>\n    </tr>\n    <tr>\n      <th>16</th>\n      <td>1</td>\n      <td>2019-01-09</td>\n      <td>222</td>\n      <td>9</td>\n    </tr>\n    <tr>\n      <th>20</th>\n      <td>1</td>\n      <td>2019-01-10</td>\n      <td>11</td>\n      <td>10</td>\n    </tr>\n    <tr>\n      <th>...</th>\n      <td>...</td>\n      <td>...</td>\n      <td>...</td>\n      <td>...</td>\n    </tr>\n    <tr>\n      <th>66487</th>\n      <td>1</td>\n      <td>2019-12-03</td>\n      <td>187</td>\n      <td>337</td>\n    </tr>\n    <tr>\n      <th>66489</th>\n      <td>1</td>\n      <td>2019-12-04</td>\n      <td>341</td>\n      <td>338</td>\n    </tr>\n    <tr>\n      <th>66490</th>\n      <td>1</td>\n      <td>2019-12-03</td>\n      <td>177</td>\n      <td>337</td>\n    </tr>\n    <tr>\n      <th>66498</th>\n      <td>1</td>\n      <td>2019-12-20</td>\n      <td>177</td>\n      <td>354</td>\n    </tr>\n    <tr>\n      <th>66500</th>\n      <td>1</td>\n      <td>2019-12-21</td>\n      <td>183</td>\n      <td>355</td>\n    </tr>\n  </tbody>\n</table>\n<p>28947 rows × 4 columns</p>\n</div>"
     },
     "metadata": {},
     "execution_count": 19
    }
   ],
   "source": [
    "negatives[negatives.doy != negatives.day_of_year][['sample_type','date', 'day_of_year', 'doy']] "
   ]
  },
  {
   "cell_type": "code",
   "execution_count": 41,
   "metadata": {
    "tags": [
     "outputPrepend",
     "outputPrepend",
     "outputPrepend",
     "outputPrepend",
     "outputPrepend",
     "outputPrepend",
     "outputPrepend",
     "outputPrepend",
     "outputPrepend",
     "outputPrepend",
     "outputPrepend",
     "outputPrepend",
     "outputPrepend",
     "outputPrepend",
     "outputPrepend",
     "outputPrepend",
     "outputPrepend",
     "outputPrepend",
     "outputPrepend",
     "outputPrepend",
     "outputPrepend",
     "outputPrepend",
     "outputPrepend",
     "outputPrepend",
     "outputPrepend",
     "outputPrepend",
     "outputPrepend",
     "outputPrepend",
     "outputPrepend",
     "outputPrepend",
     "outputPrepend",
     "outputPrepend",
     "outputPrepend",
     "outputPrepend",
     "outputPrepend",
     "outputPrepend",
     "outputPrepend",
     "outputPrepend",
     "outputPrepend",
     "outputPrepend",
     "outputPrepend",
     "outputPrepend",
     "outputPrepend",
     "outputPrepend",
     "outputPrepend",
     "outputPrepend",
     "outputPrepend",
     "outputPrepend",
     "outputPrepend",
     "outputPrepend",
     "outputPrepend",
     "outputPrepend",
     "outputPrepend",
     "outputPrepend",
     "outputPrepend",
     "outputPrepend",
     "outputPrepend",
     "outputPrepend",
     "outputPrepend",
     "outputPrepend",
     "outputPrepend",
     "outputPrepend",
     "outputPrepend",
     "outputPrepend",
     "outputPrepend",
     "outputPrepend",
     "outputPrepend",
     "outputPrepend",
     "outputPrepend",
     "outputPrepend",
     "outputPrepend",
     "outputPrepend",
     "outputPrepend",
     "outputPrepend",
     "outputPrepend",
     "outputPrepend",
     "outputPrepend",
     "outputPrepend",
     "outputPrepend",
     "outputPrepend",
     "outputPrepend",
     "outputPrepend",
     "outputPrepend",
     "outputPrepend",
     "outputPrepend",
     "outputPrepend",
     "outputPrepend",
     "outputPrepend",
     "outputPrepend",
     "outputPrepend",
     "outputPrepend",
     "outputPrepend",
     "outputPrepend",
     "outputPrepend",
     "outputPrepend",
     "outputPrepend",
     "outputPrepend",
     "outputPrepend",
     "outputPrepend",
     "outputPrepend",
     "outputPrepend",
     "outputPrepend",
     "outputPrepend",
     "outputPrepend",
     "outputPrepend",
     "outputPrepend",
     "outputPrepend",
     "outputPrepend",
     "outputPrepend",
     "outputPrepend",
     "outputPrepend",
     "outputPrepend",
     "outputPrepend",
     "outputPrepend",
     "outputPrepend",
     "outputPrepend",
     "outputPrepend",
     "outputPrepend",
     "outputPrepend",
     "outputPrepend",
     "outputPrepend",
     "outputPrepend",
     "outputPrepend",
     "outputPrepend",
     "outputPrepend",
     "outputPrepend",
     "outputPrepend",
     "outputPrepend",
     "outputPrepend",
     "outputPrepend",
     "outputPrepend",
     "outputPrepend",
     "outputPrepend",
     "outputPrepend",
     "outputPrepend",
     "outputPrepend",
     "outputPrepend",
     "outputPrepend",
     "outputPrepend",
     "outputPrepend",
     "outputPrepend",
     "outputPrepend",
     "outputPrepend",
     "outputPrepend",
     "outputPrepend",
     "outputPrepend",
     "outputPrepend",
     "outputPrepend",
     "outputPrepend",
     "outputPrepend",
     "outputPrepend",
     "outputPrepend",
     "outputPrepend",
     "outputPrepend",
     "outputPrepend",
     "outputPrepend",
     "outputPrepend",
     "outputPrepend",
     "outputPrepend",
     "outputPrepend",
     "outputPrepend",
     "outputPrepend",
     "outputPrepend",
     "outputPrepend",
     "outputPrepend",
     "outputPrepend",
     "outputPrepend",
     "outputPrepend",
     "outputPrepend",
     "outputPrepend",
     "outputPrepend",
     "outputPrepend",
     "outputPrepend",
     "outputPrepend",
     "outputPrepend",
     "outputPrepend",
     "outputPrepend",
     "outputPrepend",
     "outputPrepend",
     "outputPrepend",
     "outputPrepend",
     "outputPrepend",
     "outputPrepend",
     "outputPrepend",
     "outputPrepend",
     "outputPrepend",
     "outputPrepend",
     "outputPrepend",
     "outputPrepend",
     "outputPrepend",
     "outputPrepend",
     "outputPrepend",
     "outputPrepend",
     "outputPrepend",
     "outputPrepend",
     "outputPrepend",
     "outputPrepend",
     "outputPrepend",
     "outputPrepend",
     "outputPrepend",
     "outputPrepend",
     "outputPrepend",
     "outputPrepend",
     "outputPrepend",
     "outputPrepend",
     "outputPrepend",
     "outputPrepend",
     "outputPrepend",
     "outputPrepend",
     "outputPrepend",
     "outputPrepend",
     "outputPrepend",
     "outputPrepend",
     "outputPrepend",
     "outputPrepend",
     "outputPrepend",
     "outputPrepend",
     "outputPrepend",
     "outputPrepend",
     "outputPrepend",
     "outputPrepend",
     "outputPrepend",
     "outputPrepend",
     "outputPrepend",
     "outputPrepend",
     "outputPrepend",
     "outputPrepend",
     "outputPrepend",
     "outputPrepend",
     "outputPrepend",
     "outputPrepend",
     "outputPrepend",
     "outputPrepend",
     "outputPrepend",
     "outputPrepend",
     "outputPrepend",
     "outputPrepend",
     "outputPrepend",
     "outputPrepend",
     "outputPrepend",
     "outputPrepend",
     "outputPrepend",
     "outputPrepend",
     "outputPrepend",
     "outputPrepend",
     "outputPrepend",
     "outputPrepend",
     "outputPrepend",
     "outputPrepend",
     "outputPrepend",
     "outputPrepend",
     "outputPrepend",
     "outputPrepend",
     "outputPrepend",
     "outputPrepend",
     "outputPrepend",
     "outputPrepend",
     "outputPrepend",
     "outputPrepend",
     "outputPrepend",
     "outputPrepend",
     "outputPrepend",
     "outputPrepend",
     "outputPrepend",
     "outputPrepend",
     "outputPrepend",
     "outputPrepend",
     "outputPrepend",
     "outputPrepend",
     "outputPrepend",
     "outputPrepend",
     "outputPrepend",
     "outputPrepend",
     "outputPrepend",
     "outputPrepend",
     "outputPrepend",
     "outputPrepend",
     "outputPrepend",
     "outputPrepend",
     "outputPrepend",
     "outputPrepend",
     "outputPrepend",
     "outputPrepend",
     "outputPrepend",
     "outputPrepend",
     "outputPrepend",
     "outputPrepend",
     "outputPrepend",
     "outputPrepend",
     "outputPrepend",
     "outputPrepend",
     "outputPrepend",
     "outputPrepend",
     "outputPrepend",
     "outputPrepend",
     "outputPrepend",
     "outputPrepend",
     "outputPrepend",
     "outputPrepend",
     "outputPrepend",
     "outputPrepend",
     "outputPrepend",
     "outputPrepend",
     "outputPrepend",
     "outputPrepend",
     "outputPrepend",
     "outputPrepend",
     "outputPrepend",
     "outputPrepend",
     "outputPrepend",
     "outputPrepend",
     "outputPrepend",
     "outputPrepend",
     "outputPrepend",
     "outputPrepend",
     "outputPrepend",
     "outputPrepend",
     "outputPrepend",
     "outputPrepend",
     "outputPrepend",
     "outputPrepend",
     "outputPrepend",
     "outputPrepend",
     "outputPrepend",
     "outputPrepend",
     "outputPrepend",
     "outputPrepend",
     "outputPrepend",
     "outputPrepend",
     "outputPrepend",
     "outputPrepend",
     "outputPrepend",
     "outputPrepend",
     "outputPrepend",
     "outputPrepend",
     "outputPrepend",
     "outputPrepend",
     "outputPrepend",
     "outputPrepend",
     "outputPrepend",
     "outputPrepend",
     "outputPrepend",
     "outputPrepend",
     "outputPrepend",
     "outputPrepend",
     "outputPrepend",
     "outputPrepend",
     "outputPrepend",
     "outputPrepend",
     "outputPrepend",
     "outputPrepend",
     "outputPrepend"
    ]
   },
   "outputs": [],
   "source": [
    "def generate_negative_sample(row):\n",
    "    num_samples = 0\n",
    "    while num_samples < 5:\n",
    "        randcol = np.random.choice(np.array(['hour', 'day_of_year', 'coords']))\n",
    "        replacement = df_positive.sample()\n",
    "        negative_sample = row\n",
    "        negative_sample[randcol] = replacement[randcol].values[0]\n",
    "        if randcol == 'coords':\n",
    "            negative_sample['borough_geo'] = replacement['borough_geo'].values[0]\n",
    "            negative_sample['address']  = replacement['address'].values[0]\n",
    "            negative_sample['cluster_id']  = replacement['cluster_id'].values[0]\n",
    "\n",
    "        ncoords = negative_sample['coords']\n",
    "        nhour = negative_sample['hour']\n",
    "        nday = negative_sample['day_of_year']\n",
    "        \n",
    "        if df_positive.loc[(df_positive['coords'] == ncoords) & (df_positive['hour'] == nhour) & (df_positive['day_of_year'] == nday)].empty:\n",
    "            yield negative_sample[['hour', 'day_of_year','coords','address', 'borough_geo', 'cluster_id']].values.tolist()\n",
    "            num_samples += 1\n",
    "        else:\n",
    "            print('found coincidence', negative_sample[['hour', 'day_of_year','coords']].values.tolist())"
   ]
  },
  {
   "cell_type": "code",
   "execution_count": 50,
   "metadata": {},
   "outputs": [],
   "source": [
    "my_list = [generate_negative_sample(df_positive.iloc[x]) for x in df_positive.index]"
   ]
  },
  {
   "cell_type": "code",
   "execution_count": 51,
   "metadata": {
    "tags": [
     "outputPrepend",
     "outputPrepend",
     "outputPrepend",
     "outputPrepend",
     "outputPrepend",
     "outputPrepend",
     "outputPrepend",
     "outputPrepend",
     "outputPrepend",
     "outputPrepend",
     "outputPrepend",
     "outputPrepend",
     "outputPrepend",
     "outputPrepend",
     "outputPrepend",
     "outputPrepend",
     "outputPrepend",
     "outputPrepend",
     "outputPrepend",
     "outputPrepend",
     "outputPrepend",
     "outputPrepend",
     "outputPrepend",
     "outputPrepend",
     "outputPrepend",
     "outputPrepend",
     "outputPrepend",
     "outputPrepend",
     "outputPrepend",
     "outputPrepend",
     "outputPrepend",
     "outputPrepend",
     "outputPrepend",
     "outputPrepend",
     "outputPrepend",
     "outputPrepend",
     "outputPrepend",
     "outputPrepend",
     "outputPrepend",
     "outputPrepend",
     "outputPrepend",
     "outputPrepend",
     "outputPrepend",
     "outputPrepend",
     "outputPrepend",
     "outputPrepend",
     "outputPrepend",
     "outputPrepend",
     "outputPrepend",
     "outputPrepend",
     "outputPrepend",
     "outputPrepend",
     "outputPrepend",
     "outputPrepend",
     "outputPrepend",
     "outputPrepend",
     "outputPrepend",
     "outputPrepend",
     "outputPrepend",
     "outputPrepend",
     "outputPrepend",
     "outputPrepend",
     "outputPrepend",
     "outputPrepend",
     "outputPrepend",
     "outputPrepend",
     "outputPrepend",
     "outputPrepend",
     "outputPrepend",
     "outputPrepend",
     "outputPrepend",
     "outputPrepend",
     "outputPrepend",
     "outputPrepend",
     "outputPrepend",
     "outputPrepend",
     "outputPrepend",
     "outputPrepend",
     "outputPrepend",
     "outputPrepend",
     "outputPrepend",
     "outputPrepend",
     "outputPrepend",
     "outputPrepend",
     "outputPrepend",
     "outputPrepend",
     "outputPrepend",
     "outputPrepend",
     "outputPrepend",
     "outputPrepend",
     "outputPrepend",
     "outputPrepend",
     "outputPrepend",
     "outputPrepend",
     "outputPrepend",
     "outputPrepend",
     "outputPrepend",
     "outputPrepend",
     "outputPrepend",
     "outputPrepend",
     "outputPrepend",
     "outputPrepend",
     "outputPrepend",
     "outputPrepend",
     "outputPrepend",
     "outputPrepend",
     "outputPrepend",
     "outputPrepend",
     "outputPrepend",
     "outputPrepend",
     "outputPrepend",
     "outputPrepend",
     "outputPrepend",
     "outputPrepend",
     "outputPrepend",
     "outputPrepend",
     "outputPrepend",
     "outputPrepend",
     "outputPrepend",
     "outputPrepend",
     "outputPrepend",
     "outputPrepend",
     "outputPrepend",
     "outputPrepend",
     "outputPrepend",
     "outputPrepend",
     "outputPrepend",
     "outputPrepend",
     "outputPrepend",
     "outputPrepend",
     "outputPrepend",
     "outputPrepend",
     "outputPrepend",
     "outputPrepend",
     "outputPrepend",
     "outputPrepend",
     "outputPrepend",
     "outputPrepend",
     "outputPrepend",
     "outputPrepend",
     "outputPrepend",
     "outputPrepend",
     "outputPrepend",
     "outputPrepend",
     "outputPrepend",
     "outputPrepend",
     "outputPrepend",
     "outputPrepend",
     "outputPrepend",
     "outputPrepend",
     "outputPrepend",
     "outputPrepend",
     "outputPrepend",
     "outputPrepend",
     "outputPrepend",
     "outputPrepend",
     "outputPrepend",
     "outputPrepend",
     "outputPrepend",
     "outputPrepend",
     "outputPrepend",
     "outputPrepend",
     "outputPrepend",
     "outputPrepend",
     "outputPrepend",
     "outputPrepend",
     "outputPrepend",
     "outputPrepend",
     "outputPrepend",
     "outputPrepend",
     "outputPrepend",
     "outputPrepend",
     "outputPrepend",
     "outputPrepend",
     "outputPrepend",
     "outputPrepend",
     "outputPrepend",
     "outputPrepend",
     "outputPrepend",
     "outputPrepend",
     "outputPrepend",
     "outputPrepend",
     "outputPrepend",
     "outputPrepend",
     "outputPrepend",
     "outputPrepend",
     "outputPrepend",
     "outputPrepend",
     "outputPrepend",
     "outputPrepend",
     "outputPrepend",
     "outputPrepend",
     "outputPrepend",
     "outputPrepend",
     "outputPrepend",
     "outputPrepend",
     "outputPrepend",
     "outputPrepend",
     "outputPrepend",
     "outputPrepend",
     "outputPrepend",
     "outputPrepend",
     "outputPrepend",
     "outputPrepend",
     "outputPrepend",
     "outputPrepend",
     "outputPrepend",
     "outputPrepend",
     "outputPrepend",
     "outputPrepend",
     "outputPrepend",
     "outputPrepend",
     "outputPrepend",
     "outputPrepend",
     "outputPrepend",
     "outputPrepend",
     "outputPrepend",
     "outputPrepend",
     "outputPrepend",
     "outputPrepend",
     "outputPrepend",
     "outputPrepend",
     "outputPrepend",
     "outputPrepend",
     "outputPrepend",
     "outputPrepend",
     "outputPrepend",
     "outputPrepend",
     "outputPrepend",
     "outputPrepend",
     "outputPrepend",
     "outputPrepend",
     "outputPrepend",
     "outputPrepend",
     "outputPrepend",
     "outputPrepend",
     "outputPrepend",
     "outputPrepend",
     "outputPrepend",
     "outputPrepend",
     "outputPrepend",
     "outputPrepend",
     "outputPrepend",
     "outputPrepend",
     "outputPrepend",
     "outputPrepend",
     "outputPrepend",
     "outputPrepend",
     "outputPrepend",
     "outputPrepend",
     "outputPrepend",
     "outputPrepend",
     "outputPrepend",
     "outputPrepend",
     "outputPrepend",
     "outputPrepend",
     "outputPrepend",
     "outputPrepend",
     "outputPrepend",
     "outputPrepend",
     "outputPrepend",
     "outputPrepend",
     "outputPrepend",
     "outputPrepend",
     "outputPrepend",
     "outputPrepend",
     "outputPrepend",
     "outputPrepend",
     "outputPrepend",
     "outputPrepend",
     "outputPrepend",
     "outputPrepend",
     "outputPrepend",
     "outputPrepend",
     "outputPrepend",
     "outputPrepend",
     "outputPrepend",
     "outputPrepend",
     "outputPrepend",
     "outputPrepend",
     "outputPrepend",
     "outputPrepend",
     "outputPrepend",
     "outputPrepend",
     "outputPrepend",
     "outputPrepend",
     "outputPrepend",
     "outputPrepend",
     "outputPrepend",
     "outputPrepend",
     "outputPrepend",
     "outputPrepend",
     "outputPrepend",
     "outputPrepend",
     "outputPrepend",
     "outputPrepend",
     "outputPrepend",
     "outputPrepend",
     "outputPrepend",
     "outputPrepend",
     "outputPrepend",
     "outputPrepend",
     "outputPrepend",
     "outputPrepend",
     "outputPrepend",
     "outputPrepend",
     "outputPrepend",
     "outputPrepend",
     "outputPrepend",
     "outputPrepend",
     "outputPrepend",
     "outputPrepend",
     "outputPrepend",
     "outputPrepend",
     "outputPrepend",
     "outputPrepend",
     "outputPrepend",
     "outputPrepend",
     "outputPrepend",
     "outputPrepend",
     "outputPrepend",
     "outputPrepend",
     "outputPrepend",
     "outputPrepend",
     "outputPrepend",
     "outputPrepend",
     "outputPrepend",
     "outputPrepend",
     "outputPrepend",
     "outputPrepend",
     "outputPrepend",
     "outputPrepend",
     "outputPrepend",
     "outputPrepend",
     "outputPrepend",
     "outputPrepend",
     "outputPrepend",
     "outputPrepend",
     "outputPrepend",
     "outputPrepend",
     "outputPrepend",
     "outputPrepend",
     "outputPrepend",
     "outputPrepend",
     "outputPrepend",
     "outputPrepend",
     "outputPrepend",
     "outputPrepend",
     "outputPrepend",
     "outputPrepend",
     "outputPrepend",
     "outputPrepend",
     "outputPrepend",
     "outputPrepend",
     "outputPrepend",
     "outputPrepend",
     "outputPrepend",
     "outputPrepend",
     "outputPrepend",
     "outputPrepend",
     "outputPrepend",
     "outputPrepend",
     "outputPrepend",
     "outputPrepend",
     "outputPrepend",
     "outputPrepend",
     "outputPrepend",
     "outputPrepend",
     "outputPrepend",
     "outputPrepend",
     "outputPrepend",
     "outputPrepend",
     "outputPrepend",
     "outputPrepend",
     "outputPrepend",
     "outputPrepend",
     "outputPrepend",
     "outputPrepend",
     "outputPrepend",
     "outputPrepend",
     "outputPrepend",
     "outputPrepend",
     "outputPrepend",
     "outputPrepend",
     "outputPrepend",
     "outputPrepend",
     "outputPrepend",
     "outputPrepend",
     "outputPrepend",
     "outputPrepend",
     "outputPrepend",
     "outputPrepend",
     "outputPrepend",
     "outputPrepend",
     "outputPrepend",
     "outputPrepend",
     "outputPrepend",
     "outputPrepend",
     "outputPrepend",
     "outputPrepend",
     "outputPrepend",
     "outputPrepend",
     "outputPrepend",
     "outputPrepend",
     "outputPrepend",
     "outputPrepend",
     "outputPrepend",
     "outputPrepend",
     "outputPrepend",
     "outputPrepend",
     "outputPrepend",
     "outputPrepend",
     "outputPrepend",
     "outputPrepend",
     "outputPrepend",
     "outputPrepend",
     "outputPrepend",
     "outputPrepend",
     "outputPrepend",
     "outputPrepend",
     "outputPrepend",
     "outputPrepend",
     "outputPrepend",
     "outputPrepend",
     "outputPrepend",
     "outputPrepend",
     "outputPrepend",
     "outputPrepend",
     "outputPrepend",
     "outputPrepend",
     "outputPrepend",
     "outputPrepend",
     "outputPrepend",
     "outputPrepend",
     "outputPrepend",
     "outputPrepend",
     "outputPrepend",
     "outputPrepend",
     "outputPrepend",
     "outputPrepend",
     "outputPrepend",
     "outputPrepend",
     "outputPrepend",
     "outputPrepend",
     "outputPrepend",
     "outputPrepend",
     "outputPrepend",
     "outputPrepend",
     "outputPrepend",
     "outputPrepend",
     "outputPrepend",
     "outputPrepend",
     "outputPrepend",
     "outputPrepend",
     "outputPrepend",
     "outputPrepend",
     "outputPrepend",
     "outputPrepend",
     "outputPrepend",
     "outputPrepend",
     "outputPrepend",
     "outputPrepend",
     "outputPrepend",
     "outputPrepend",
     "outputPrepend",
     "outputPrepend",
     "outputPrepend",
     "outputPrepend",
     "outputPrepend",
     "outputPrepend",
     "outputPrepend",
     "outputPrepend",
     "outputPrepend",
     "outputPrepend",
     "outputPrepend",
     "outputPrepend",
     "outputPrepend",
     "outputPrepend",
     "outputPrepend",
     "outputPrepend",
     "outputPrepend",
     "outputPrepend",
     "outputPrepend",
     "outputPrepend",
     "outputPrepend",
     "outputPrepend",
     "outputPrepend",
     "outputPrepend",
     "outputPrepend",
     "outputPrepend",
     "outputPrepend",
     "outputPrepend",
     "outputPrepend"
    ]
   },
   "outputs": [
    {
     "output_type": "stream",
     "name": "stdout",
     "text": " '-74.06784898;4.59400438']\nfound coincidence [11, 114, '-74.16646529;4.64592276']\nfound coincidence [5, 130, '-74.08300758;4.67338808']\nfound coincidence [15, 7, '-74.04531121;4.76052285']\nfound coincidence [6, 14, '-74.13260046;4.68008907']\nfound coincidence [18, 12, '-74.07256652;4.73109895']\nfound coincidence [13, 202, '-74.0715996;4.71125451']\nfound coincidence [17, 46, '-74.15129981;4.57218179']\nfound coincidence [7, 49, '-74.10057645;4.60103502']\nfound coincidence [22, 48, '-74.08907745;4.63390439']\nfound coincidence [17, 72, '-74.09587207;4.6224441']\nfound coincidence [16, 72, '-74.13710112;4.61754212']\nfound coincidence [8, 220, '-74.09498628;4.66424328']\nfound coincidence [17, 73, '-74.14307918;4.61143039']\nfound coincidence [13, 298, '-74.14725628;4.63450859']\nfound coincidence [17, 34, '-74.09174608;4.64165433']\nfound coincidence [16, 36, '-74.10477628;4.66712459']\nfound coincidence [8, 122, '-74.09182109;4.67661916']\nfound coincidence [21, 226, '-74.09498628;4.66424328']\nfound coincidence [15, 113, '-74.14859041;4.61566603']\nfound coincidence [18, 119, '-74.10792264;4.60694375']\nfound coincidence [16, 115, '-74.07634891;4.61152996']\nfound coincidence [8, 120, '-74.062744;4.6685193']\nfound coincidence [13, 76, '-74.0823508;4.73686218']\nfound coincidence [13, 226, '-74.11516191;4.71335734']\nfound coincidence [17, 357, '-74.12207111;4.64010786']\nfound coincidence [17, 152, '-74.12627952;4.72776434']\nfound coincidence [10, 203, '-74.07146394;4.66980524']\nfound coincidence [7, 117, '-74.08642715;4.58682656']\nfound coincidence [7, 151, '-74.11354574;4.65766425']\nfound coincidence [11, 151, '-74.03544772;4.82063772']\nfound coincidence [6, 102, '-74.07659127;4.65184577']\nfound coincidence [16, 57, '-74.03507519;4.70820561']\nfound coincidence [12, 178, '-74.05465964;4.69999206']\nfound coincidence [19, 43, '-74.13544046;4.61416208']\nfound coincidence [5, 10, '-74.14531391;4.66565564']\nfound coincidence [7, 115, '-74.09024403;4.61616263']\nfound coincidence [15, 148, '-74.06356969;4.63698947']\nfound coincidence [10, 341, '-74.02864362;4.70774031']\nfound coincidence [9, 179, '-74.15856187;4.58283248']\nfound coincidence [12, 43, '-74.13810866;4.63039049']\nfound coincidence [15, 8, '-74.16326848;4.63495773']\nfound coincidence [14, 198, '-74.0760193;4.6011943']\nfound coincidence [8, 254, '-74.09831704;4.60666703']\nfound coincidence [14, 198, '-74.02923715;4.71694502']\nfound coincidence [13, 337, '-74.04784271;4.67407781']\nfound coincidence [7, 340, '-74.13031756;4.60727871']\nfound coincidence [10, 71, '-74.08494501;4.58938026']\nfound coincidence [15, 70, '-74.0628316;4.65363698']\nfound coincidence [9, 5, '-74.09046969;4.64231434']\nfound coincidence [19, 5, '-74.16752526;4.623778']\nfound coincidence [16, 247, '-74.15468707;4.64496968']\nfound coincidence [16, 6, '-74.11132875;4.74300952']\nfound coincidence [13, 1, '-74.05471491;4.69965746']\nfound coincidence [13, 304, '-74.11448906;4.61554114']\nfound coincidence [14, 294, '-74.07224215;4.65847648']\nfound coincidence [14, 294, '-74.07224215;4.65847648']\nfound coincidence [13, 294, '-74.03259965;4.76036609']\nfound coincidence [21, 46, '-74.04408521;4.76342029']\nfound coincidence [12, 327, '-74.10396644;4.67417145']\nfound coincidence [15, 70, '-74.09955975;4.60022785']\nfound coincidence [17, 185, '-74.14525013;4.59493883']\nfound coincidence [17, 302, '-74.193584;4.62517825']\nfound coincidence [15, 302, '-74.0678667;4.6942654']\nfound coincidence [17, 300, '-74.04318458;4.67253253']\nfound coincidence [17, 300, '-74.02422076;4.76002119']\nfound coincidence [9, 49, '-74.08385058;4.69688046']\nfound coincidence [9, 49, '-74.05458128;4.68641634']\nfound coincidence [8, 4, '-74.06632035;4.72564494']\nfound coincidence [7, 226, '-74.11442109;4.6842136']\nfound coincidence [6, 178, '-74.11211746;4.53682542']\nfound coincidence [6, 178, '-74.11211746;4.53682542']\nfound coincidence [13, 218, '-74.11569752;4.6616531']\nfound coincidence [20, 68, '-74.14463286;4.59897142']\nfound coincidence [13, 3, '-74.02731182;4.76285983']\nfound coincidence [17, 294, '-74.11539341;4.61329021']\nfound coincidence [13, 250, '-74.02731182;4.76285983']\nfound coincidence [12, 49, '-74.1314519;4.68976793']\nfound coincidence [12, 301, '-74.0851889;4.62874649']\nfound coincidence [12, 35, '-74.07376792;4.60986724']\nfound coincidence [15, 120, '-74.04189118;4.77727112']\nfound coincidence [6, 115, '-74.11192435;4.69248478']\nfound coincidence [12, 117, '-74.14537845;4.56947572']\nfound coincidence [19, 122, '-74.12341624;4.6186305']\nfound coincidence [6, 94, '-74.09366508;4.71877179']\nfound coincidence [6, 64, '-74.18720221;4.60139338']\nfound coincidence [8, 232, '-74.08782747;4.67446584']\nfound coincidence [13, 77, '-74.04324804;4.69656519']\nfound coincidence [7, 359, '-74.09269285;4.60237129']\nfound coincidence [8, 298, '-74.06682445;4.64423266']\nfound coincidence [17, 301, '-74.09659085;4.71192016']\nfound coincidence [18, 36, '-74.05403716;4.70548056']\nfound coincidence [14, 36, '-74.09644272;4.72677056']\nfound coincidence [14, 73, '-74.06448717;4.66572306']\nfound coincidence [20, 104, '-74.16248178;4.61516907']\nfound coincidence [15, 259, '-74.12163536;4.62578149']\nfound coincidence [16, 284, '-74.09768481;4.60729177']\nfound coincidence [16, 141, '-74.06283511;4.63954855']\nfound coincidence [5, 298, '-74.07302341;4.61525702']\nfound coincidence [11, 36, '-74.13843549;4.56406215']\nfound coincidence [17, 43, '-74.12133414;4.62112076']\nfound coincidence [10, 45, '-74.05797876;4.65836617']\nfound coincidence [16, 99, '-74.13906595;4.56235364']\nfound coincidence [20, 261, '-74.0975593;4.63779218']\nfound coincidence [9, 157, '-74.08937565;4.67196066']\nfound coincidence [10, 220, '-74.10418655;4.65553684']\nfound coincidence [21, 248, '-74.09524237;4.74831509']\nfound coincidence [14, 249, '-74.11183058;4.57968461']\nfound coincidence [16, 347, '-74.08848203;4.66018823']\nfound coincidence [9, 327, '-74.13229323;4.61586634']\nfound coincidence [12, 326, '-74.12311546;4.60041722']\nfound coincidence [18, 40, '-74.08085554;4.59221945']\nfound coincidence [14, 249, '-74.12310093;4.6736116']\nfound coincidence [14, 250, '-74.14459068;4.67145634']\nfound coincidence [22, 316, '-74.10989358;4.5962972']\nfound coincidence [8, 165, '-74.07076888;4.61224536']\nfound coincidence [18, 317, '-74.10200605;4.62336882']\nfound coincidence [12, 350, '-74.10085734;4.60125577']\nfound coincidence [14, 347, '-74.10995423;4.67640733']\nfound coincidence [14, 39, '-74.14334825;4.56274746']\nfound coincidence [13, 197, '-74.06229502;4.69004972']\nfound coincidence [5, 197, '-74.10200938;4.61999615']\nfound coincidence [9, 204, '-74.15195045;4.67111375']\nfound coincidence [14, 345, '-74.11388218;4.58679668']\nfound coincidence [8, 18, '-74.05523002;4.70082757']\nfound coincidence [18, 67, '-74.07950461;4.58304669']\nfound coincidence [19, 66, '-74.06385768;4.72956157']\nfound coincidence [7, 67, '-74.11864725;4.6102887']\nfound coincidence [7, 66, '-74.11845512;4.57823785']\nfound coincidence [16, 215, '-74.04360763;4.68926083']\nfound coincidence [12, 173, '-74.15487801;4.68008353']\nfound coincidence [15, 33, '-74.17095117;4.61361595']\nfound coincidence [11, 37, '-74.08247731;4.60595245']\nfound coincidence [10, 93, '-74.04945117;4.67639107']\nfound coincidence [18, 93, '-74.12906641;4.56385483']\nfound coincidence [7, 140, '-74.14395485;4.67466838']\nfound coincidence [8, 138, '-74.12512962;4.56120512']\nfound coincidence [8, 138, '-74.07572553;4.61987055']\nfound coincidence [15, 196, '-74.12502755;4.72603611']\nfound coincidence [19, 317, '-74.06806365;4.64770172']\nfound coincidence [18, 317, '-74.07401678;4.60470669']\nfound coincidence [11, 343, '-74.12263262;4.65064343']\nfound coincidence [19, 345, '-74.04862806;4.68500052']\nfound coincidence [11, 68, '-74.07628429;4.59445451']\nfound coincidence [16, 93, '-74.08005407;4.71415489']\nfound coincidence [17, 190, '-74.05591409;4.69387615']\nfound coincidence [8, 208, '-74.15405306;4.63236137']\nfound coincidence [16, 208, '-74.15405306;4.63236137']\nfound coincidence [19, 209, '-74.08880935;4.61771171']\nfound coincidence [17, 261, '-74.09804914;4.57211227']\nfound coincidence [8, 85, '-74.08451406;4.64555717']\nfound coincidence [3, 133, '-74.156813;4.63993499']\nfound coincidence [22, 210, '-74.12709633;4.69755115']\nfound coincidence [13, 208, '-74.11565813;4.70303801']\nfound coincidence [12, 262, '-74.10054202;4.60344227']\nfound coincidence [10, 207, '-74.1124214;4.59447244']\nfound coincidence [16, 249, '-74.16612477;4.63174487']\nfound coincidence [11, 88, '-74.08416433;4.65367847']\nfound coincidence [13, 84, '-74.13403063;4.68155185']\nfound coincidence [13, 79, '-74.04335807;4.67110156']\nfound coincidence [7, 114, '-74.11963158;4.57602691']\nfound coincidence [16, 88, '-74.12555342;4.5692862']\nfound coincidence [16, 54, '-74.11017313;4.70821684']\nfound coincidence [11, 349, '-74.12230216;4.61655503']\nfound coincidence [11, 326, '-74.07989091;4.73465055']\nfound coincidence [14, 324, '-74.05790145;4.65462256']\nfound coincidence [14, 326, '-74.08754323;4.61946827']\nfound coincidence [14, 177, '-74.11471436;4.51064064']\nfound coincidence [20, 9, '-74.15812777;4.68530767']\nfound coincidence [0, 279, '-74.16473125;4.59602535']\nfound coincidence [13, 279, '-74.15049369;4.59534875']\nfound coincidence [15, 29, '-74.14472923;4.61883941']\nfound coincidence [10, 143, '-74.14680246;4.67670746']\nfound coincidence [16, 249, '-74.12303463;4.70685582']\nfound coincidence [7, 268, '-74.09869798;4.75277102']\nfound coincidence [22, 317, '-74.04596729;4.67072713']\nfound coincidence [10, 317, '-74.11970463;4.67898743']\nfound coincidence [8, 319, '-74.07003205;4.64002367']\nfound coincidence [11, 318, '-74.04729877;4.74537625']\nfound coincidence [10, 351, '-74.12000568;4.63872517']\nfound coincidence [13, 78, '-74.11241114;4.66765947']\nfound coincidence [5, 186, '-74.13874096;4.56207284']\nfound coincidence [11, 154, '-74.11560358;4.51306561']\nfound coincidence [17, 264, '-74.03065801;4.74429526']\nfound coincidence [7, 330, '-74.04529746;4.75809787']\nfound coincidence [9, 70, '-74.05342578;4.75298848']\nfound coincidence [10, 120, '-74.06155616;4.6607163']\nfound coincidence [17, 324, '-74.0686208;4.63020845']\nfound coincidence [15, 339, '-74.09661681;4.71501211']\nfound coincidence [8, 343, '-74.16339707;4.61865262']\nfound coincidence [14, 145, '-74.08422157;4.65388677']\nfound coincidence [17, 162, '-74.06261097;4.65038207']\nfound coincidence [8, 263, '-74.04655583;4.66457758']\nfound coincidence [9, 264, '-74.04649018;4.66453882']\nfound coincidence [10, 284, '-74.11282331;4.65189789']\nfound coincidence [8, 144, '-74.13985014;4.54920698']\nfound coincidence [17, 144, '-74.04273474;4.77574516']\nfound coincidence [7, 52, '-74.05891922;4.7613346']\nfound coincidence [18, 52, '-74.03416681;4.69083137']\nfound coincidence [6, 154, '-74.06892792;4.71806941']\nfound coincidence [6, 154, '-74.06892792;4.71806941']\nfound coincidence [13, 180, '-74.10692673;4.57924876']\nfound coincidence [11, 226, '-74.15730404;4.59641526']\nfound coincidence [14, 197, '-74.15622939;4.59386587']\nfound coincidence [6, 197, '-74.09828002;4.5654144']\nfound coincidence [16, 8, '-74.06192606;4.66027941']\nfound coincidence [13, 306, '-74.11327601;4.6827906']\nfound coincidence [12, 306, '-74.04672689;4.75151614']\nfound coincidence [18, 65, '-74.14550456;4.59020723']\nfound coincidence [18, 69, '-74.05591409;4.69387615']\nfound coincidence [18, 330, '-74.08907745;4.63390439']\nfound coincidence [16, 23, '-74.11492194;4.63442967']\nfound coincidence [8, 67, '-74.12447724;4.57710847']\nfound coincidence [13, 347, '-74.11448906;4.61554114']\nfound coincidence [15, 349, '-74.11600935;4.51728821']\nfound coincidence [15, 241, '-74.07738715;4.60692536']\nfound coincidence [14, 276, '-74.04590966;4.66716151']\nfound coincidence [14, 276, '-74.09583625;4.60581175']\nfound coincidence [8, 303, '-74.10448024;4.58993154']\nfound coincidence [5, 145, '-74.09246405;4.69735839']\nfound coincidence [6, 256, '-74.10245945;4.58140398']\nfound coincidence [11, 223, '-74.18225343;4.59699237']\nfound coincidence [7, 346, '-74.09741331;4.69619858']\nfound coincidence [11, 200, '-74.02984046;4.69832292']\nfound coincidence [21, 70, '-74.13836216;4.58975192']\nfound coincidence [8, 323, '-74.10083829;4.67057239']\nfound coincidence [7, 147, '-74.11448906;4.61554114']\nfound coincidence [14, 144, '-74.12092349;4.54418371']\nfound coincidence [13, 87, '-74.0849951;4.61226514']\nfound coincidence [19, 87, '-74.09736047;4.6375588']\nfound coincidence [6, 266, '-74.0944369;4.71003474']\nfound coincidence [14, 240, '-74.17836537;4.59711139']\nfound coincidence [10, 252, '-74.05772622;4.68162073']\nfound coincidence [19, 218, '-74.0741389;4.61253497']\nfound coincidence [19, 218, '-74.0741389;4.61253497']\nfound coincidence [15, 264, '-74.10340904;4.65383682']\nfound coincidence [15, 355, '-74.14959659;4.6773535']\nfound coincidence [21, 287, '-74.16625105;4.61704805']\nfound coincidence [11, 281, '-74.12632481;4.60648839']\nfound coincidence [17, 37, '-74.10844606;4.63242598']\nfound coincidence [13, 114, '-74.08202328;4.69945011']\nfound coincidence [11, 88, '-74.08416433;4.65367847']\nfound coincidence [17, 127, '-74.10857139;4.66936175']\nfound coincidence [17, 164, '-74.06426502;4.67509405']\nfound coincidence [18, 164, '-74.13685653;4.59306243']\nfound coincidence [14, 334, '-74.14319905;4.6210955']\nfound coincidence [14, 286, '-74.12024923;4.63438507']\nfound coincidence [16, 270, '-74.02962103;4.76580586']\nfound coincidence [8, 120, '-74.06155602;4.66644516']\nfound coincidence [7, 92, '-74.13741857;4.63467104']\nfound coincidence [10, 103, '-74.1364465;4.63839571']\nfound coincidence [14, 101, '-74.12962391;4.64654187']\nfound coincidence [13, 164, '-74.07220135;4.71088846']\nfound coincidence [14, 32, '-74.08291992;4.62437519']\nfound coincidence [11, 281, '-74.17264796;4.59220235']\nfound coincidence [14, 304, '-74.09999086;4.58614545']\nfound coincidence [7, 320, '-74.13756243;4.63067925']\nfound coincidence [15, 92, '-74.057214;4.68739178']\nfound coincidence [15, 43, '-74.09376542;4.56739214']\nfound coincidence [20, 44, '-74.16103793;4.61180037']\nfound coincidence [15, 179, '-74.04363074;4.70408559']\nfound coincidence [17, 180, '-74.14111742;4.65355465']\nfound coincidence [19, 180, '-74.04368698;4.73658841']\nfound coincidence [15, 181, '-74.1233916;4.62692691']\nfound coincidence [11, 343, '-74.11343849;4.71140174']\nfound coincidence [14, 343, '-74.09490801;4.61034362']\nfound coincidence [10, 344, '-74.11772218;4.51648001']\nfound coincidence [16, 361, '-74.11781394;4.71730873']\nfound coincidence [10, 61, '-74.08118759;4.70144835']\nfound coincidence [13, 62, '-74.06550642;4.73980556']\nfound coincidence [15, 330, '-74.1212536;4.63168613']\nfound coincidence [6, 270, '-74.1155023;4.63966946']\nfound coincidence [7, 270, '-74.13032635;4.74124351']\nfound coincidence [7, 270, '-74.07003502;4.65063515']\nfound coincidence [20, 273, '-74.05030391;4.69690989']\nfound coincidence [7, 269, '-74.10382669;4.66851602']\nfound coincidence [20, 273, '-74.08592734;4.62124985']\nfound coincidence [20, 273, '-74.08592734;4.62124985']\nfound coincidence [15, 277, '-74.10080734;4.57724326']\nfound coincidence [23, 191, '-74.12757636;4.69766031']\nfound coincidence [16, 141, '-74.12124313;4.53192645']\nfound coincidence [13, 139, '-74.07593332;4.60331688']\nfound coincidence [22, 11, '-74.16092267;4.63896792']\nfound coincidence [17, 311, '-74.1477303;4.56995242']\nfound coincidence [21, 40, '-74.09404204;4.68028464']\nfound coincidence [10, 123, '-74.04099653;4.72943472']\nfound coincidence [13, 279, '-74.06995855;4.70325427']\nfound coincidence [8, 279, '-74.13164836;4.60227818']\nfound coincidence [8, 355, '-74.0832142;4.60677369']\nfound coincidence [10, 352, '-74.07969608;4.59734529']\nfound coincidence [8, 190, '-74.07137415;4.68915457']\nfound coincidence [9, 311, '-74.10763507;4.54791883']\nfound coincidence [17, 143, '-74.15054722;4.64586']\nfound coincidence [11, 143, '-74.08911253;4.65993107']\nfound coincidence [11, 90, '-74.14154068;4.64249029']\nfound coincidence [20, 90, '-74.11516191;4.71335734']\nfound coincidence [17, 91, '-74.07489856;4.61322487']\nfound coincidence [8, 268, '-74.09785735;4.63773518']\nfound coincidence [13, 268, '-74.1340298;4.68150871']\nfound coincidence [8, 267, '-74.06066042;4.65013646']\nfound coincidence [13, 268, '-74.08354491;4.68647477']\nfound coincidence [10, 298, '-74.03576712;4.68521215']\nfound coincidence [17, 323, '-74.10292579;4.5948839']\nfound coincidence [16, 348, '-74.08383561;4.69704242']\nfound coincidence [12, 350, '-74.0706253;4.65976348']\nfound coincidence [9, 350, '-74.1210189;4.6389489']\nfound coincidence [11, 350, '-74.05641327;4.68475865']\nfound coincidence [16, 349, '-74.09592198;4.5509832']\nfound coincidence [7, 186, '-74.06450274;4.64968983']\nfound coincidence [14, 22, '-74.13496054;4.61335042']\nfound coincidence [8, 22, '-74.035675;4.71751199']\nfound coincidence [8, 167, '-74.04697479;4.66380286']\nfound coincidence [17, 203, '-74.12839537;4.58622522']\nfound coincidence [13, 64, '-74.04422124;4.74835453']\nfound coincidence [22, 159, '-74.08313306;4.62999105']\nfound coincidence [12, 159, '-74.058589;4.66633391']\nfound coincidence [8, 271, '-74.09640974;4.67025324']\nfound coincidence [20, 271, '-74.0414309;4.67450073']\nfound coincidence [7, 319, '-74.14641041;4.6452448']\nfound coincidence [9, 245, '-74.14390958;4.56445397']\nfound coincidence [5, 52, '-74.11492194;4.63442967']\nfound coincidence [14, 164, '-74.06419679;4.65133928']\nfound coincidence [15, 202, '-74.10807191;4.56390121']\nfound coincidence [17, 25, '-74.07863955;4.7121374']\nfound coincidence [5, 161, '-74.14480317;4.61900105']\nfound coincidence [14, 159, '-74.05116282;4.66464446']\nfound coincidence [12, 159, '-74.11066946;4.64519229']\nfound coincidence [16, 272, '-74.09989585;4.75040091']\nfound coincidence [10, 78, '-74.05642678;4.69132171']\nfound coincidence [9, 180, '-74.06401299;4.67741477']\nfound coincidence [9, 168, '-74.08107437;4.59512095']\nfound coincidence [8, 201, '-74.08848203;4.66018823']\nfound coincidence [9, 205, '-74.08848203;4.66018823']\nfound coincidence [9, 200, '-74.11259715;4.59441724']\nfound coincidence [15, 201, '-74.11779945;4.63085571']\nfound coincidence [13, 45, '-74.12627952;4.72776434']\nfound coincidence [16, 129, '-74.13591989;4.59850305']\nfound coincidence [13, 182, '-74.10658331;4.60291834']\nfound coincidence [9, 152, '-74.09277133;4.7171947']\nfound coincidence [23, 123, '-74.14528022;4.58868849']\nfound coincidence [13, 134, '-74.16038925;4.63716291']\nfound coincidence [17, 44, '-74.1314519;4.68976793']\nfound coincidence [7, 42, '-74.14151576;4.6670359']\nfound coincidence [9, 46, '-74.08670706;4.57891772']\nfound coincidence [16, 38, '-74.10420721;4.61562694']\nfound coincidence [9, 54, '-74.13709899;4.54687405']\nfound coincidence [4, 54, '-74.09480041;4.68729942']\nfound coincidence [20, 141, '-74.12967236;4.60961215']\nfound coincidence [10, 58, '-74.10044811;4.65723903']\nfound coincidence [12, 278, '-74.09388618;4.56670325']\nfound coincidence [9, 278, '-74.12511267;4.71524926']\nfound coincidence [10, 278, '-74.08754323;4.61946827']\nfound coincidence [7, 353, '-74.1305218;4.64647407']\nfound coincidence [12, 356, '-74.04533959;4.69698696']\nfound coincidence [11, 87, '-74.11174918;4.65488605']\nfound coincidence [16, 87, '-74.0371897;4.72758333']\nfound coincidence [15, 87, '-74.10589712;4.69598532']\nfound coincidence [9, 88, '-74.04336357;4.77200843']\nfound coincidence [18, 286, '-74.02344498;4.76000625']\nfound coincidence [18, 286, '-74.02344498;4.76000625']\nfound coincidence [16, 133, '-74.15673606;4.63999148']\nfound coincidence [19, 45, '-74.18314078;4.60386343']\nfound coincidence [12, 43, '-74.11666913;4.7156985']\nfound coincidence [12, 124, '-74.15040873;4.60314241']\nfound coincidence [15, 54, '-74.12111984;4.5756421']\nfound coincidence [19, 278, '-74.04415481;4.73656213']\nfound coincidence [14, 334, '-74.09384689;4.57028465']\nfound coincidence [12, 336, '-74.11343849;4.71140174']\nCPU times: user 37min 48s, sys: 8.48 s, total: 37min 57s\nWall time: 39min 40s\n"
    }
   ],
   "source": [
    "%%time\n",
    "from itertools import chain\n",
    "neg_list = list(chain.from_iterable(my_list))"
   ]
  },
  {
   "cell_type": "code",
   "execution_count": 66,
   "metadata": {},
   "outputs": [],
   "source": [
    "neg_df = pd.DataFrame.from_records(neg_list)"
   ]
  },
  {
   "cell_type": "code",
   "execution_count": 67,
   "metadata": {},
   "outputs": [
    {
     "output_type": "execute_result",
     "data": {
      "text/plain": "         0    1                        2                                    3  \\\n0       14   11  -74.13427637;4.61257783  AV AVENIDA PRIMERA DE MAYO-KR 69 28   \n1       14   11  -74.13427637;4.61257783  AV AVENIDA PRIMERA DE MAYO-KR 69 28   \n2       14   11  -74.03494633;4.68848957                        KR 7-CL 109 2   \n3       14   98  -74.03494633;4.68848957                        KR 7-CL 109 2   \n4       14   98  -74.03494633;4.68848957                        KR 7-CL 109 2   \n...     ..  ...                      ...                                  ...   \n145595   9   23  -74.12992808;4.57033507                    KR 19C-CL 51 S 02   \n145596  22   23  -74.12992808;4.57033507                    KR 19C-CL 51 S 02   \n145597  22   23  -74.14973538;4.68733476                      KR 116-CL 22F 2   \n145598  22   23  -74.13319791;4.56459794                    CL 57-KR 18A S 02   \n145599  22  312  -74.13319791;4.56459794                    CL 57-KR 18A S 02   \n\n                 4    5  \n0          KENNEDY  261  \n1          KENNEDY  261  \n2          USAQUEN  310  \n3          USAQUEN  310  \n4          USAQUEN  310  \n...            ...  ...  \n145595  TUNJUELITO   -1  \n145596  TUNJUELITO   -1  \n145597    FONTIBON   -1  \n145598  TUNJUELITO   -1  \n145599  TUNJUELITO   -1  \n\n[145600 rows x 6 columns]",
      "text/html": "<div>\n<style scoped>\n    .dataframe tbody tr th:only-of-type {\n        vertical-align: middle;\n    }\n\n    .dataframe tbody tr th {\n        vertical-align: top;\n    }\n\n    .dataframe thead th {\n        text-align: right;\n    }\n</style>\n<table border=\"1\" class=\"dataframe\">\n  <thead>\n    <tr style=\"text-align: right;\">\n      <th></th>\n      <th>0</th>\n      <th>1</th>\n      <th>2</th>\n      <th>3</th>\n      <th>4</th>\n      <th>5</th>\n    </tr>\n  </thead>\n  <tbody>\n    <tr>\n      <th>0</th>\n      <td>14</td>\n      <td>11</td>\n      <td>-74.13427637;4.61257783</td>\n      <td>AV AVENIDA PRIMERA DE MAYO-KR 69 28</td>\n      <td>KENNEDY</td>\n      <td>261</td>\n    </tr>\n    <tr>\n      <th>1</th>\n      <td>14</td>\n      <td>11</td>\n      <td>-74.13427637;4.61257783</td>\n      <td>AV AVENIDA PRIMERA DE MAYO-KR 69 28</td>\n      <td>KENNEDY</td>\n      <td>261</td>\n    </tr>\n    <tr>\n      <th>2</th>\n      <td>14</td>\n      <td>11</td>\n      <td>-74.03494633;4.68848957</td>\n      <td>KR 7-CL 109 2</td>\n      <td>USAQUEN</td>\n      <td>310</td>\n    </tr>\n    <tr>\n      <th>3</th>\n      <td>14</td>\n      <td>98</td>\n      <td>-74.03494633;4.68848957</td>\n      <td>KR 7-CL 109 2</td>\n      <td>USAQUEN</td>\n      <td>310</td>\n    </tr>\n    <tr>\n      <th>4</th>\n      <td>14</td>\n      <td>98</td>\n      <td>-74.03494633;4.68848957</td>\n      <td>KR 7-CL 109 2</td>\n      <td>USAQUEN</td>\n      <td>310</td>\n    </tr>\n    <tr>\n      <th>...</th>\n      <td>...</td>\n      <td>...</td>\n      <td>...</td>\n      <td>...</td>\n      <td>...</td>\n      <td>...</td>\n    </tr>\n    <tr>\n      <th>145595</th>\n      <td>9</td>\n      <td>23</td>\n      <td>-74.12992808;4.57033507</td>\n      <td>KR 19C-CL 51 S 02</td>\n      <td>TUNJUELITO</td>\n      <td>-1</td>\n    </tr>\n    <tr>\n      <th>145596</th>\n      <td>22</td>\n      <td>23</td>\n      <td>-74.12992808;4.57033507</td>\n      <td>KR 19C-CL 51 S 02</td>\n      <td>TUNJUELITO</td>\n      <td>-1</td>\n    </tr>\n    <tr>\n      <th>145597</th>\n      <td>22</td>\n      <td>23</td>\n      <td>-74.14973538;4.68733476</td>\n      <td>KR 116-CL 22F 2</td>\n      <td>FONTIBON</td>\n      <td>-1</td>\n    </tr>\n    <tr>\n      <th>145598</th>\n      <td>22</td>\n      <td>23</td>\n      <td>-74.13319791;4.56459794</td>\n      <td>CL 57-KR 18A S 02</td>\n      <td>TUNJUELITO</td>\n      <td>-1</td>\n    </tr>\n    <tr>\n      <th>145599</th>\n      <td>22</td>\n      <td>312</td>\n      <td>-74.13319791;4.56459794</td>\n      <td>CL 57-KR 18A S 02</td>\n      <td>TUNJUELITO</td>\n      <td>-1</td>\n    </tr>\n  </tbody>\n</table>\n<p>145600 rows × 6 columns</p>\n</div>"
     },
     "metadata": {},
     "execution_count": 67
    }
   ],
   "source": [
    "neg_df"
   ]
  },
  {
   "cell_type": "code",
   "execution_count": 68,
   "metadata": {},
   "outputs": [],
   "source": [
    "neg_df.columns = ['hour', 'day_of_year', 'coords', 'address', 'borough', 'cluster_id']"
   ]
  },
  {
   "cell_type": "code",
   "execution_count": 69,
   "metadata": {},
   "outputs": [],
   "source": [
    "neg_df['year'] = 2019"
   ]
  },
  {
   "cell_type": "code",
   "execution_count": 70,
   "metadata": {},
   "outputs": [
    {
     "output_type": "execute_result",
     "data": {
      "text/plain": "(145600, 7)"
     },
     "metadata": {},
     "execution_count": 70
    }
   ],
   "source": [
    "neg_df.shape"
   ]
  },
  {
   "cell_type": "code",
   "execution_count": 71,
   "metadata": {},
   "outputs": [],
   "source": [
    "def compose_date(years, months=1, days=1, weeks=None, hours=None, minutes=None,\n",
    "                 seconds=None, milliseconds=None, microseconds=None, nanoseconds=None):\n",
    "    years = np.asarray(years) - 1970\n",
    "    months = np.asarray(months) - 1\n",
    "    days = np.asarray(days) - 1\n",
    "    types = ('<M8[Y]', '<m8[M]', '<m8[D]', '<m8[W]', '<m8[h]',\n",
    "             '<m8[m]', '<m8[s]', '<m8[ms]', '<m8[us]', '<m8[ns]')\n",
    "    vals = (years, months, days, weeks, hours, minutes, seconds,\n",
    "            milliseconds, microseconds, nanoseconds)\n",
    "    return sum(np.asarray(v, dtype=t) for t, v in zip(types, vals)\n",
    "               if v is not None)\n",
    "\n",
    "\n",
    "neg_df['timestamp'] = compose_date(neg_df['year'], days=neg_df['day_of_year'], hours=neg_df['hour'], minutes=np.zeros(neg_df.shape[0]), seconds=np.zeros(neg_df.shape[0]))\n",
    "neg_df['date'] = compose_date(neg_df['year'], days=neg_df['day_of_year'])\n",
    ""
   ]
  },
  {
   "cell_type": "code",
   "execution_count": 72,
   "metadata": {},
   "outputs": [],
   "source": [
    "neg_df = neg_df.join(neg_df.coords.str.split(';',expand=True))"
   ]
  },
  {
   "cell_type": "code",
   "execution_count": 73,
   "metadata": {},
   "outputs": [],
   "source": [
    "neg_df.rename(columns={0: \"x\", 1: \"y\"}, inplace=True)"
   ]
  },
  {
   "cell_type": "code",
   "execution_count": 74,
   "metadata": {},
   "outputs": [
    {
     "output_type": "execute_result",
     "data": {
      "text/plain": "        hour  day_of_year                   coords  \\\n0         14           11  -74.13427637;4.61257783   \n1         14           11  -74.13427637;4.61257783   \n2         14           11  -74.03494633;4.68848957   \n3         14           98  -74.03494633;4.68848957   \n4         14           98  -74.03494633;4.68848957   \n...      ...          ...                      ...   \n145595     9           23  -74.12992808;4.57033507   \n145596    22           23  -74.12992808;4.57033507   \n145597    22           23  -74.14973538;4.68733476   \n145598    22           23  -74.13319791;4.56459794   \n145599    22          312  -74.13319791;4.56459794   \n\n                                    address     borough  cluster_id  year  \\\n0       AV AVENIDA PRIMERA DE MAYO-KR 69 28     KENNEDY         261  2019   \n1       AV AVENIDA PRIMERA DE MAYO-KR 69 28     KENNEDY         261  2019   \n2                             KR 7-CL 109 2     USAQUEN         310  2019   \n3                             KR 7-CL 109 2     USAQUEN         310  2019   \n4                             KR 7-CL 109 2     USAQUEN         310  2019   \n...                                     ...         ...         ...   ...   \n145595                    KR 19C-CL 51 S 02  TUNJUELITO          -1  2019   \n145596                    KR 19C-CL 51 S 02  TUNJUELITO          -1  2019   \n145597                      KR 116-CL 22F 2    FONTIBON          -1  2019   \n145598                    CL 57-KR 18A S 02  TUNJUELITO          -1  2019   \n145599                    CL 57-KR 18A S 02  TUNJUELITO          -1  2019   \n\n                 timestamp       date             x           y  \n0      2019-01-11 14:00:00 2019-01-11  -74.13427637  4.61257783  \n1      2019-01-11 14:00:00 2019-01-11  -74.13427637  4.61257783  \n2      2019-01-11 14:00:00 2019-01-11  -74.03494633  4.68848957  \n3      2019-04-08 14:00:00 2019-04-08  -74.03494633  4.68848957  \n4      2019-04-08 14:00:00 2019-04-08  -74.03494633  4.68848957  \n...                    ...        ...           ...         ...  \n145595 2019-01-23 09:00:00 2019-01-23  -74.12992808  4.57033507  \n145596 2019-01-23 22:00:00 2019-01-23  -74.12992808  4.57033507  \n145597 2019-01-23 22:00:00 2019-01-23  -74.14973538  4.68733476  \n145598 2019-01-23 22:00:00 2019-01-23  -74.13319791  4.56459794  \n145599 2019-11-08 22:00:00 2019-11-08  -74.13319791  4.56459794  \n\n[145600 rows x 11 columns]",
      "text/html": "<div>\n<style scoped>\n    .dataframe tbody tr th:only-of-type {\n        vertical-align: middle;\n    }\n\n    .dataframe tbody tr th {\n        vertical-align: top;\n    }\n\n    .dataframe thead th {\n        text-align: right;\n    }\n</style>\n<table border=\"1\" class=\"dataframe\">\n  <thead>\n    <tr style=\"text-align: right;\">\n      <th></th>\n      <th>hour</th>\n      <th>day_of_year</th>\n      <th>coords</th>\n      <th>address</th>\n      <th>borough</th>\n      <th>cluster_id</th>\n      <th>year</th>\n      <th>timestamp</th>\n      <th>date</th>\n      <th>x</th>\n      <th>y</th>\n    </tr>\n  </thead>\n  <tbody>\n    <tr>\n      <th>0</th>\n      <td>14</td>\n      <td>11</td>\n      <td>-74.13427637;4.61257783</td>\n      <td>AV AVENIDA PRIMERA DE MAYO-KR 69 28</td>\n      <td>KENNEDY</td>\n      <td>261</td>\n      <td>2019</td>\n      <td>2019-01-11 14:00:00</td>\n      <td>2019-01-11</td>\n      <td>-74.13427637</td>\n      <td>4.61257783</td>\n    </tr>\n    <tr>\n      <th>1</th>\n      <td>14</td>\n      <td>11</td>\n      <td>-74.13427637;4.61257783</td>\n      <td>AV AVENIDA PRIMERA DE MAYO-KR 69 28</td>\n      <td>KENNEDY</td>\n      <td>261</td>\n      <td>2019</td>\n      <td>2019-01-11 14:00:00</td>\n      <td>2019-01-11</td>\n      <td>-74.13427637</td>\n      <td>4.61257783</td>\n    </tr>\n    <tr>\n      <th>2</th>\n      <td>14</td>\n      <td>11</td>\n      <td>-74.03494633;4.68848957</td>\n      <td>KR 7-CL 109 2</td>\n      <td>USAQUEN</td>\n      <td>310</td>\n      <td>2019</td>\n      <td>2019-01-11 14:00:00</td>\n      <td>2019-01-11</td>\n      <td>-74.03494633</td>\n      <td>4.68848957</td>\n    </tr>\n    <tr>\n      <th>3</th>\n      <td>14</td>\n      <td>98</td>\n      <td>-74.03494633;4.68848957</td>\n      <td>KR 7-CL 109 2</td>\n      <td>USAQUEN</td>\n      <td>310</td>\n      <td>2019</td>\n      <td>2019-04-08 14:00:00</td>\n      <td>2019-04-08</td>\n      <td>-74.03494633</td>\n      <td>4.68848957</td>\n    </tr>\n    <tr>\n      <th>4</th>\n      <td>14</td>\n      <td>98</td>\n      <td>-74.03494633;4.68848957</td>\n      <td>KR 7-CL 109 2</td>\n      <td>USAQUEN</td>\n      <td>310</td>\n      <td>2019</td>\n      <td>2019-04-08 14:00:00</td>\n      <td>2019-04-08</td>\n      <td>-74.03494633</td>\n      <td>4.68848957</td>\n    </tr>\n    <tr>\n      <th>...</th>\n      <td>...</td>\n      <td>...</td>\n      <td>...</td>\n      <td>...</td>\n      <td>...</td>\n      <td>...</td>\n      <td>...</td>\n      <td>...</td>\n      <td>...</td>\n      <td>...</td>\n      <td>...</td>\n    </tr>\n    <tr>\n      <th>145595</th>\n      <td>9</td>\n      <td>23</td>\n      <td>-74.12992808;4.57033507</td>\n      <td>KR 19C-CL 51 S 02</td>\n      <td>TUNJUELITO</td>\n      <td>-1</td>\n      <td>2019</td>\n      <td>2019-01-23 09:00:00</td>\n      <td>2019-01-23</td>\n      <td>-74.12992808</td>\n      <td>4.57033507</td>\n    </tr>\n    <tr>\n      <th>145596</th>\n      <td>22</td>\n      <td>23</td>\n      <td>-74.12992808;4.57033507</td>\n      <td>KR 19C-CL 51 S 02</td>\n      <td>TUNJUELITO</td>\n      <td>-1</td>\n      <td>2019</td>\n      <td>2019-01-23 22:00:00</td>\n      <td>2019-01-23</td>\n      <td>-74.12992808</td>\n      <td>4.57033507</td>\n    </tr>\n    <tr>\n      <th>145597</th>\n      <td>22</td>\n      <td>23</td>\n      <td>-74.14973538;4.68733476</td>\n      <td>KR 116-CL 22F 2</td>\n      <td>FONTIBON</td>\n      <td>-1</td>\n      <td>2019</td>\n      <td>2019-01-23 22:00:00</td>\n      <td>2019-01-23</td>\n      <td>-74.14973538</td>\n      <td>4.68733476</td>\n    </tr>\n    <tr>\n      <th>145598</th>\n      <td>22</td>\n      <td>23</td>\n      <td>-74.13319791;4.56459794</td>\n      <td>CL 57-KR 18A S 02</td>\n      <td>TUNJUELITO</td>\n      <td>-1</td>\n      <td>2019</td>\n      <td>2019-01-23 22:00:00</td>\n      <td>2019-01-23</td>\n      <td>-74.13319791</td>\n      <td>4.56459794</td>\n    </tr>\n    <tr>\n      <th>145599</th>\n      <td>22</td>\n      <td>312</td>\n      <td>-74.13319791;4.56459794</td>\n      <td>CL 57-KR 18A S 02</td>\n      <td>TUNJUELITO</td>\n      <td>-1</td>\n      <td>2019</td>\n      <td>2019-11-08 22:00:00</td>\n      <td>2019-11-08</td>\n      <td>-74.13319791</td>\n      <td>4.56459794</td>\n    </tr>\n  </tbody>\n</table>\n<p>145600 rows × 11 columns</p>\n</div>"
     },
     "metadata": {},
     "execution_count": 74
    }
   ],
   "source": [
    "neg_df"
   ]
  },
  {
   "cell_type": "code",
   "execution_count": 75,
   "metadata": {},
   "outputs": [],
   "source": [
    "neg_df['accident_id'] = ''\n",
    "neg_df['severity'] = ''\n",
    "neg_df['accident_type'] = ''\n",
    "neg_df['severity_numeric'] = ''\n",
    "neg_df['date'] = neg_df.timestamp.dt.date\n",
    "neg_df['day'] = neg_df.timestamp.dt.day\n",
    "neg_df['month'] = neg_df.timestamp.dt.month"
   ]
  },
  {
   "cell_type": "code",
   "execution_count": 76,
   "metadata": {},
   "outputs": [
    {
     "output_type": "execute_result",
     "data": {
      "text/plain": "   hour  day_of_year                   coords  \\\n0    14           11  -74.13427637;4.61257783   \n1    14           11  -74.13427637;4.61257783   \n2    14           11  -74.03494633;4.68848957   \n3    14           98  -74.03494633;4.68848957   \n4    14           98  -74.03494633;4.68848957   \n\n                               address  borough  cluster_id  year  \\\n0  AV AVENIDA PRIMERA DE MAYO-KR 69 28  KENNEDY         261  2019   \n1  AV AVENIDA PRIMERA DE MAYO-KR 69 28  KENNEDY         261  2019   \n2                        KR 7-CL 109 2  USAQUEN         310  2019   \n3                        KR 7-CL 109 2  USAQUEN         310  2019   \n4                        KR 7-CL 109 2  USAQUEN         310  2019   \n\n            timestamp        date             x           y accident_id  \\\n0 2019-01-11 14:00:00  2019-01-11  -74.13427637  4.61257783               \n1 2019-01-11 14:00:00  2019-01-11  -74.13427637  4.61257783               \n2 2019-01-11 14:00:00  2019-01-11  -74.03494633  4.68848957               \n3 2019-04-08 14:00:00  2019-04-08  -74.03494633  4.68848957               \n4 2019-04-08 14:00:00  2019-04-08  -74.03494633  4.68848957               \n\n  severity accident_type severity_numeric  day  month  \n0                                           11      1  \n1                                           11      1  \n2                                           11      1  \n3                                            8      4  \n4                                            8      4  ",
      "text/html": "<div>\n<style scoped>\n    .dataframe tbody tr th:only-of-type {\n        vertical-align: middle;\n    }\n\n    .dataframe tbody tr th {\n        vertical-align: top;\n    }\n\n    .dataframe thead th {\n        text-align: right;\n    }\n</style>\n<table border=\"1\" class=\"dataframe\">\n  <thead>\n    <tr style=\"text-align: right;\">\n      <th></th>\n      <th>hour</th>\n      <th>day_of_year</th>\n      <th>coords</th>\n      <th>address</th>\n      <th>borough</th>\n      <th>cluster_id</th>\n      <th>year</th>\n      <th>timestamp</th>\n      <th>date</th>\n      <th>x</th>\n      <th>y</th>\n      <th>accident_id</th>\n      <th>severity</th>\n      <th>accident_type</th>\n      <th>severity_numeric</th>\n      <th>day</th>\n      <th>month</th>\n    </tr>\n  </thead>\n  <tbody>\n    <tr>\n      <th>0</th>\n      <td>14</td>\n      <td>11</td>\n      <td>-74.13427637;4.61257783</td>\n      <td>AV AVENIDA PRIMERA DE MAYO-KR 69 28</td>\n      <td>KENNEDY</td>\n      <td>261</td>\n      <td>2019</td>\n      <td>2019-01-11 14:00:00</td>\n      <td>2019-01-11</td>\n      <td>-74.13427637</td>\n      <td>4.61257783</td>\n      <td></td>\n      <td></td>\n      <td></td>\n      <td></td>\n      <td>11</td>\n      <td>1</td>\n    </tr>\n    <tr>\n      <th>1</th>\n      <td>14</td>\n      <td>11</td>\n      <td>-74.13427637;4.61257783</td>\n      <td>AV AVENIDA PRIMERA DE MAYO-KR 69 28</td>\n      <td>KENNEDY</td>\n      <td>261</td>\n      <td>2019</td>\n      <td>2019-01-11 14:00:00</td>\n      <td>2019-01-11</td>\n      <td>-74.13427637</td>\n      <td>4.61257783</td>\n      <td></td>\n      <td></td>\n      <td></td>\n      <td></td>\n      <td>11</td>\n      <td>1</td>\n    </tr>\n    <tr>\n      <th>2</th>\n      <td>14</td>\n      <td>11</td>\n      <td>-74.03494633;4.68848957</td>\n      <td>KR 7-CL 109 2</td>\n      <td>USAQUEN</td>\n      <td>310</td>\n      <td>2019</td>\n      <td>2019-01-11 14:00:00</td>\n      <td>2019-01-11</td>\n      <td>-74.03494633</td>\n      <td>4.68848957</td>\n      <td></td>\n      <td></td>\n      <td></td>\n      <td></td>\n      <td>11</td>\n      <td>1</td>\n    </tr>\n    <tr>\n      <th>3</th>\n      <td>14</td>\n      <td>98</td>\n      <td>-74.03494633;4.68848957</td>\n      <td>KR 7-CL 109 2</td>\n      <td>USAQUEN</td>\n      <td>310</td>\n      <td>2019</td>\n      <td>2019-04-08 14:00:00</td>\n      <td>2019-04-08</td>\n      <td>-74.03494633</td>\n      <td>4.68848957</td>\n      <td></td>\n      <td></td>\n      <td></td>\n      <td></td>\n      <td>8</td>\n      <td>4</td>\n    </tr>\n    <tr>\n      <th>4</th>\n      <td>14</td>\n      <td>98</td>\n      <td>-74.03494633;4.68848957</td>\n      <td>KR 7-CL 109 2</td>\n      <td>USAQUEN</td>\n      <td>310</td>\n      <td>2019</td>\n      <td>2019-04-08 14:00:00</td>\n      <td>2019-04-08</td>\n      <td>-74.03494633</td>\n      <td>4.68848957</td>\n      <td></td>\n      <td></td>\n      <td></td>\n      <td></td>\n      <td>8</td>\n      <td>4</td>\n    </tr>\n  </tbody>\n</table>\n</div>"
     },
     "metadata": {},
     "execution_count": 76
    }
   ],
   "source": [
    "neg_df.head()"
   ]
  },
  {
   "cell_type": "code",
   "execution_count": 77,
   "metadata": {},
   "outputs": [],
   "source": [
    "accidents.drop(columns=['accident_id', 'month_name'], inplace=True)"
   ]
  },
  {
   "cell_type": "code",
   "execution_count": 86,
   "metadata": {},
   "outputs": [],
   "source": [
    "accidents['day_of_year'] = neg_df.timestamp.dt.dayofyear"
   ]
  },
  {
   "cell_type": "code",
   "execution_count": 87,
   "metadata": {},
   "outputs": [],
   "source": [
    "accidents.timestamp = pd.to_datetime(accidents.timestamp, utc=True).dt.tz_localize(None)"
   ]
  },
  {
   "cell_type": "code",
   "execution_count": 97,
   "metadata": {},
   "outputs": [],
   "source": [
    "accidents['day'] = accidents.timestamp.dt.day"
   ]
  },
  {
   "cell_type": "code",
   "execution_count": 99,
   "metadata": {},
   "outputs": [
    {
     "output_type": "execute_result",
     "data": {
      "text/plain": "           x         y           timestamp        date  year  month  day  \\\n0 -74.134363  4.579297 2019-01-11 14:20:00  2019-01-11  2019      1   11   \n1 -74.048819  4.665144 2019-01-11 11:30:00  2019-01-11  2019      1   11   \n2 -74.173301  4.615589 2019-01-11 23:20:00  2019-01-11  2019      1   11   \n3 -74.025068  4.725288 2019-01-11 06:30:00  2019-01-11  2019      1   11   \n4 -74.080770  4.670083 2019-01-10 07:20:00  2019-01-10  2019      1   10   \n\n   day_of_year  hour           address         severity accident_type  \\\n0           11    14  KR 26-CL 52B S 2           Injury         Crash   \n1           11    11      CL 84-KR 8 2  Material damage         Crash   \n2           11    23  KR 80-CL 53A S 2           Injury         Crash   \n3           98     6     KR 7-CL 150 2  Material damage         Crash   \n4           98     7     CL 68-KR 58 2           Injury         Crash   \n\n   severity_numeric         borough  cluster_id  sample_type  \n0                 8      TUNJUELITO          -1            1  \n1                 1       CHAPINERO          -1            1  \n2                 8         KENNEDY           0            1  \n3                 1         USAQUEN          -1            1  \n4                 8  BARRIOS UNIDOS          -1            1  ",
      "text/html": "<div>\n<style scoped>\n    .dataframe tbody tr th:only-of-type {\n        vertical-align: middle;\n    }\n\n    .dataframe tbody tr th {\n        vertical-align: top;\n    }\n\n    .dataframe thead th {\n        text-align: right;\n    }\n</style>\n<table border=\"1\" class=\"dataframe\">\n  <thead>\n    <tr style=\"text-align: right;\">\n      <th></th>\n      <th>x</th>\n      <th>y</th>\n      <th>timestamp</th>\n      <th>date</th>\n      <th>year</th>\n      <th>month</th>\n      <th>day</th>\n      <th>day_of_year</th>\n      <th>hour</th>\n      <th>address</th>\n      <th>severity</th>\n      <th>accident_type</th>\n      <th>severity_numeric</th>\n      <th>borough</th>\n      <th>cluster_id</th>\n      <th>sample_type</th>\n    </tr>\n  </thead>\n  <tbody>\n    <tr>\n      <th>0</th>\n      <td>-74.134363</td>\n      <td>4.579297</td>\n      <td>2019-01-11 14:20:00</td>\n      <td>2019-01-11</td>\n      <td>2019</td>\n      <td>1</td>\n      <td>11</td>\n      <td>11</td>\n      <td>14</td>\n      <td>KR 26-CL 52B S 2</td>\n      <td>Injury</td>\n      <td>Crash</td>\n      <td>8</td>\n      <td>TUNJUELITO</td>\n      <td>-1</td>\n      <td>1</td>\n    </tr>\n    <tr>\n      <th>1</th>\n      <td>-74.048819</td>\n      <td>4.665144</td>\n      <td>2019-01-11 11:30:00</td>\n      <td>2019-01-11</td>\n      <td>2019</td>\n      <td>1</td>\n      <td>11</td>\n      <td>11</td>\n      <td>11</td>\n      <td>CL 84-KR 8 2</td>\n      <td>Material damage</td>\n      <td>Crash</td>\n      <td>1</td>\n      <td>CHAPINERO</td>\n      <td>-1</td>\n      <td>1</td>\n    </tr>\n    <tr>\n      <th>2</th>\n      <td>-74.173301</td>\n      <td>4.615589</td>\n      <td>2019-01-11 23:20:00</td>\n      <td>2019-01-11</td>\n      <td>2019</td>\n      <td>1</td>\n      <td>11</td>\n      <td>11</td>\n      <td>23</td>\n      <td>KR 80-CL 53A S 2</td>\n      <td>Injury</td>\n      <td>Crash</td>\n      <td>8</td>\n      <td>KENNEDY</td>\n      <td>0</td>\n      <td>1</td>\n    </tr>\n    <tr>\n      <th>3</th>\n      <td>-74.025068</td>\n      <td>4.725288</td>\n      <td>2019-01-11 06:30:00</td>\n      <td>2019-01-11</td>\n      <td>2019</td>\n      <td>1</td>\n      <td>11</td>\n      <td>98</td>\n      <td>6</td>\n      <td>KR 7-CL 150 2</td>\n      <td>Material damage</td>\n      <td>Crash</td>\n      <td>1</td>\n      <td>USAQUEN</td>\n      <td>-1</td>\n      <td>1</td>\n    </tr>\n    <tr>\n      <th>4</th>\n      <td>-74.080770</td>\n      <td>4.670083</td>\n      <td>2019-01-10 07:20:00</td>\n      <td>2019-01-10</td>\n      <td>2019</td>\n      <td>1</td>\n      <td>10</td>\n      <td>98</td>\n      <td>7</td>\n      <td>CL 68-KR 58 2</td>\n      <td>Injury</td>\n      <td>Crash</td>\n      <td>8</td>\n      <td>BARRIOS UNIDOS</td>\n      <td>-1</td>\n      <td>1</td>\n    </tr>\n  </tbody>\n</table>\n</div>"
     },
     "metadata": {},
     "execution_count": 99
    }
   ],
   "source": [
    "accidents.head()"
   ]
  },
  {
   "cell_type": "code",
   "execution_count": 88,
   "metadata": {},
   "outputs": [
    {
     "output_type": "error",
     "ename": "KeyError",
     "evalue": "\"['borough_geo'] not in index\"",
     "traceback": [
      "\u001b[0;31m---------------------------------------------------------------------------\u001b[0m",
      "\u001b[0;31mKeyError\u001b[0m                                  Traceback (most recent call last)",
      "\u001b[0;32m<ipython-input-88-eb998f3277c6>\u001b[0m in \u001b[0;36m<module>\u001b[0;34m\u001b[0m\n\u001b[0;32m----> 1\u001b[0;31m accidents = accidents[['x', 'y', 'timestamp', 'date', 'year', 'month',\n\u001b[0m\u001b[1;32m      2\u001b[0m        \u001b[0;34m'day'\u001b[0m\u001b[0;34m,\u001b[0m \u001b[0;34m'day_of_year'\u001b[0m\u001b[0;34m,\u001b[0m \u001b[0;34m'hour'\u001b[0m\u001b[0;34m,\u001b[0m \u001b[0;34m'address'\u001b[0m\u001b[0;34m,\u001b[0m \u001b[0;34m'severity'\u001b[0m\u001b[0;34m,\u001b[0m \u001b[0;34m'accident_type'\u001b[0m\u001b[0;34m,\u001b[0m\u001b[0;34m\u001b[0m\u001b[0;34m\u001b[0m\u001b[0m\n\u001b[1;32m      3\u001b[0m        'severity_numeric', 'borough_geo','cluster_id']]\n",
      "\u001b[0;32m~/anaconda3/envs/ds4a-project/lib/python3.8/site-packages/pandas/core/frame.py\u001b[0m in \u001b[0;36m__getitem__\u001b[0;34m(self, key)\u001b[0m\n\u001b[1;32m   2804\u001b[0m             \u001b[0;32mif\u001b[0m \u001b[0mis_iterator\u001b[0m\u001b[0;34m(\u001b[0m\u001b[0mkey\u001b[0m\u001b[0;34m)\u001b[0m\u001b[0;34m:\u001b[0m\u001b[0;34m\u001b[0m\u001b[0;34m\u001b[0m\u001b[0m\n\u001b[1;32m   2805\u001b[0m                 \u001b[0mkey\u001b[0m \u001b[0;34m=\u001b[0m \u001b[0mlist\u001b[0m\u001b[0;34m(\u001b[0m\u001b[0mkey\u001b[0m\u001b[0;34m)\u001b[0m\u001b[0;34m\u001b[0m\u001b[0;34m\u001b[0m\u001b[0m\n\u001b[0;32m-> 2806\u001b[0;31m             \u001b[0mindexer\u001b[0m \u001b[0;34m=\u001b[0m \u001b[0mself\u001b[0m\u001b[0;34m.\u001b[0m\u001b[0mloc\u001b[0m\u001b[0;34m.\u001b[0m\u001b[0m_get_listlike_indexer\u001b[0m\u001b[0;34m(\u001b[0m\u001b[0mkey\u001b[0m\u001b[0;34m,\u001b[0m \u001b[0maxis\u001b[0m\u001b[0;34m=\u001b[0m\u001b[0;36m1\u001b[0m\u001b[0;34m,\u001b[0m \u001b[0mraise_missing\u001b[0m\u001b[0;34m=\u001b[0m\u001b[0;32mTrue\u001b[0m\u001b[0;34m)\u001b[0m\u001b[0;34m[\u001b[0m\u001b[0;36m1\u001b[0m\u001b[0;34m]\u001b[0m\u001b[0;34m\u001b[0m\u001b[0;34m\u001b[0m\u001b[0m\n\u001b[0m\u001b[1;32m   2807\u001b[0m \u001b[0;34m\u001b[0m\u001b[0m\n\u001b[1;32m   2808\u001b[0m         \u001b[0;31m# take() does not accept boolean indexers\u001b[0m\u001b[0;34m\u001b[0m\u001b[0;34m\u001b[0m\u001b[0;34m\u001b[0m\u001b[0m\n",
      "\u001b[0;32m~/anaconda3/envs/ds4a-project/lib/python3.8/site-packages/pandas/core/indexing.py\u001b[0m in \u001b[0;36m_get_listlike_indexer\u001b[0;34m(self, key, axis, raise_missing)\u001b[0m\n\u001b[1;32m   1549\u001b[0m             \u001b[0mkeyarr\u001b[0m\u001b[0;34m,\u001b[0m \u001b[0mindexer\u001b[0m\u001b[0;34m,\u001b[0m \u001b[0mnew_indexer\u001b[0m \u001b[0;34m=\u001b[0m \u001b[0max\u001b[0m\u001b[0;34m.\u001b[0m\u001b[0m_reindex_non_unique\u001b[0m\u001b[0;34m(\u001b[0m\u001b[0mkeyarr\u001b[0m\u001b[0;34m)\u001b[0m\u001b[0;34m\u001b[0m\u001b[0;34m\u001b[0m\u001b[0m\n\u001b[1;32m   1550\u001b[0m \u001b[0;34m\u001b[0m\u001b[0m\n\u001b[0;32m-> 1551\u001b[0;31m         self._validate_read_indexer(\n\u001b[0m\u001b[1;32m   1552\u001b[0m             \u001b[0mkeyarr\u001b[0m\u001b[0;34m,\u001b[0m \u001b[0mindexer\u001b[0m\u001b[0;34m,\u001b[0m \u001b[0mo\u001b[0m\u001b[0;34m.\u001b[0m\u001b[0m_get_axis_number\u001b[0m\u001b[0;34m(\u001b[0m\u001b[0maxis\u001b[0m\u001b[0;34m)\u001b[0m\u001b[0;34m,\u001b[0m \u001b[0mraise_missing\u001b[0m\u001b[0;34m=\u001b[0m\u001b[0mraise_missing\u001b[0m\u001b[0;34m\u001b[0m\u001b[0;34m\u001b[0m\u001b[0m\n\u001b[1;32m   1553\u001b[0m         )\n",
      "\u001b[0;32m~/anaconda3/envs/ds4a-project/lib/python3.8/site-packages/pandas/core/indexing.py\u001b[0m in \u001b[0;36m_validate_read_indexer\u001b[0;34m(self, key, indexer, axis, raise_missing)\u001b[0m\n\u001b[1;32m   1643\u001b[0m             \u001b[0;32mif\u001b[0m \u001b[0;32mnot\u001b[0m \u001b[0;34m(\u001b[0m\u001b[0mself\u001b[0m\u001b[0;34m.\u001b[0m\u001b[0mname\u001b[0m \u001b[0;34m==\u001b[0m \u001b[0;34m\"loc\"\u001b[0m \u001b[0;32mand\u001b[0m \u001b[0;32mnot\u001b[0m \u001b[0mraise_missing\u001b[0m\u001b[0;34m)\u001b[0m\u001b[0;34m:\u001b[0m\u001b[0;34m\u001b[0m\u001b[0;34m\u001b[0m\u001b[0m\n\u001b[1;32m   1644\u001b[0m                 \u001b[0mnot_found\u001b[0m \u001b[0;34m=\u001b[0m \u001b[0mlist\u001b[0m\u001b[0;34m(\u001b[0m\u001b[0mset\u001b[0m\u001b[0;34m(\u001b[0m\u001b[0mkey\u001b[0m\u001b[0;34m)\u001b[0m \u001b[0;34m-\u001b[0m \u001b[0mset\u001b[0m\u001b[0;34m(\u001b[0m\u001b[0max\u001b[0m\u001b[0;34m)\u001b[0m\u001b[0;34m)\u001b[0m\u001b[0;34m\u001b[0m\u001b[0;34m\u001b[0m\u001b[0m\n\u001b[0;32m-> 1645\u001b[0;31m                 \u001b[0;32mraise\u001b[0m \u001b[0mKeyError\u001b[0m\u001b[0;34m(\u001b[0m\u001b[0;34mf\"{not_found} not in index\"\u001b[0m\u001b[0;34m)\u001b[0m\u001b[0;34m\u001b[0m\u001b[0;34m\u001b[0m\u001b[0m\n\u001b[0m\u001b[1;32m   1646\u001b[0m \u001b[0;34m\u001b[0m\u001b[0m\n\u001b[1;32m   1647\u001b[0m             \u001b[0;31m# we skip the warning on Categorical/Interval\u001b[0m\u001b[0;34m\u001b[0m\u001b[0;34m\u001b[0m\u001b[0;34m\u001b[0m\u001b[0m\n",
      "\u001b[0;31mKeyError\u001b[0m: \"['borough_geo'] not in index\""
     ]
    }
   ],
   "source": [
    "accidents = accidents[['x', 'y', 'timestamp', 'date', 'year', 'month',\n",
    "       'day', 'day_of_year', 'hour', 'address', 'severity', 'accident_type',\n",
    "       'severity_numeric', 'borough_geo','cluster_id']]"
   ]
  },
  {
   "cell_type": "code",
   "execution_count": 89,
   "metadata": {},
   "outputs": [],
   "source": [
    "accidents.rename(columns={\"borough_geo\": \"borough\"}, inplace=True)"
   ]
  },
  {
   "cell_type": "code",
   "execution_count": 90,
   "metadata": {},
   "outputs": [],
   "source": [
    "accidents['sample_type'] = 1"
   ]
  },
  {
   "cell_type": "code",
   "execution_count": 91,
   "metadata": {},
   "outputs": [],
   "source": [
    "neg_df = neg_df[['x', 'y', 'timestamp', 'date', 'year', 'month',\n",
    "       'day', 'day_of_year', 'hour', 'address', 'severity', 'accident_type',\n",
    "       'severity_numeric', 'borough','cluster_id']]"
   ]
  },
  {
   "cell_type": "code",
   "execution_count": 92,
   "metadata": {},
   "outputs": [],
   "source": [
    "neg_df['sample_type'] = 0"
   ]
  },
  {
   "cell_type": "code",
   "execution_count": 100,
   "metadata": {},
   "outputs": [],
   "source": [
    "dataset = pd.concat([accidents,neg_df])"
   ]
  },
  {
   "cell_type": "code",
   "execution_count": 101,
   "metadata": {},
   "outputs": [
    {
     "output_type": "execute_result",
     "data": {
      "text/plain": "                   x           y           timestamp        date  year  month  \\\n0           -74.1344      4.5793 2019-01-11 14:20:00  2019-01-11  2019      1   \n1           -74.0488     4.66514 2019-01-11 11:30:00  2019-01-11  2019      1   \n2           -74.1733     4.61559 2019-01-11 23:20:00  2019-01-11  2019      1   \n3           -74.0251     4.72529 2019-01-11 06:30:00  2019-01-11  2019      1   \n4           -74.0808     4.67008 2019-01-10 07:20:00  2019-01-10  2019      1   \n...              ...         ...                 ...         ...   ...    ...   \n145595  -74.12992808  4.57033507 2019-01-23 09:00:00  2019-01-23  2019      1   \n145596  -74.12992808  4.57033507 2019-01-23 22:00:00  2019-01-23  2019      1   \n145597  -74.14973538  4.68733476 2019-01-23 22:00:00  2019-01-23  2019      1   \n145598  -74.13319791  4.56459794 2019-01-23 22:00:00  2019-01-23  2019      1   \n145599  -74.13319791  4.56459794 2019-11-08 22:00:00  2019-11-08  2019     11   \n\n        day  day_of_year  hour            address         severity  \\\n0        11           11    14   KR 26-CL 52B S 2           Injury   \n1        11           11    11       CL 84-KR 8 2  Material damage   \n2        11           11    23   KR 80-CL 53A S 2           Injury   \n3        11           98     6      KR 7-CL 150 2  Material damage   \n4        10           98     7      CL 68-KR 58 2           Injury   \n...     ...          ...   ...                ...              ...   \n145595   23           23     9  KR 19C-CL 51 S 02                    \n145596   23           23    22  KR 19C-CL 51 S 02                    \n145597   23           23    22    KR 116-CL 22F 2                    \n145598   23           23    22  CL 57-KR 18A S 02                    \n145599    8          312    22  CL 57-KR 18A S 02                    \n\n       accident_type severity_numeric         borough  cluster_id  sample_type  \n0              Crash                8      TUNJUELITO          -1            1  \n1              Crash                1       CHAPINERO          -1            1  \n2              Crash                8         KENNEDY           0            1  \n3              Crash                1         USAQUEN          -1            1  \n4              Crash                8  BARRIOS UNIDOS          -1            1  \n...              ...              ...             ...         ...          ...  \n145595                                     TUNJUELITO          -1            0  \n145596                                     TUNJUELITO          -1            0  \n145597                                       FONTIBON          -1            0  \n145598                                     TUNJUELITO          -1            0  \n145599                                     TUNJUELITO          -1            0  \n\n[174720 rows x 16 columns]",
      "text/html": "<div>\n<style scoped>\n    .dataframe tbody tr th:only-of-type {\n        vertical-align: middle;\n    }\n\n    .dataframe tbody tr th {\n        vertical-align: top;\n    }\n\n    .dataframe thead th {\n        text-align: right;\n    }\n</style>\n<table border=\"1\" class=\"dataframe\">\n  <thead>\n    <tr style=\"text-align: right;\">\n      <th></th>\n      <th>x</th>\n      <th>y</th>\n      <th>timestamp</th>\n      <th>date</th>\n      <th>year</th>\n      <th>month</th>\n      <th>day</th>\n      <th>day_of_year</th>\n      <th>hour</th>\n      <th>address</th>\n      <th>severity</th>\n      <th>accident_type</th>\n      <th>severity_numeric</th>\n      <th>borough</th>\n      <th>cluster_id</th>\n      <th>sample_type</th>\n    </tr>\n  </thead>\n  <tbody>\n    <tr>\n      <th>0</th>\n      <td>-74.1344</td>\n      <td>4.5793</td>\n      <td>2019-01-11 14:20:00</td>\n      <td>2019-01-11</td>\n      <td>2019</td>\n      <td>1</td>\n      <td>11</td>\n      <td>11</td>\n      <td>14</td>\n      <td>KR 26-CL 52B S 2</td>\n      <td>Injury</td>\n      <td>Crash</td>\n      <td>8</td>\n      <td>TUNJUELITO</td>\n      <td>-1</td>\n      <td>1</td>\n    </tr>\n    <tr>\n      <th>1</th>\n      <td>-74.0488</td>\n      <td>4.66514</td>\n      <td>2019-01-11 11:30:00</td>\n      <td>2019-01-11</td>\n      <td>2019</td>\n      <td>1</td>\n      <td>11</td>\n      <td>11</td>\n      <td>11</td>\n      <td>CL 84-KR 8 2</td>\n      <td>Material damage</td>\n      <td>Crash</td>\n      <td>1</td>\n      <td>CHAPINERO</td>\n      <td>-1</td>\n      <td>1</td>\n    </tr>\n    <tr>\n      <th>2</th>\n      <td>-74.1733</td>\n      <td>4.61559</td>\n      <td>2019-01-11 23:20:00</td>\n      <td>2019-01-11</td>\n      <td>2019</td>\n      <td>1</td>\n      <td>11</td>\n      <td>11</td>\n      <td>23</td>\n      <td>KR 80-CL 53A S 2</td>\n      <td>Injury</td>\n      <td>Crash</td>\n      <td>8</td>\n      <td>KENNEDY</td>\n      <td>0</td>\n      <td>1</td>\n    </tr>\n    <tr>\n      <th>3</th>\n      <td>-74.0251</td>\n      <td>4.72529</td>\n      <td>2019-01-11 06:30:00</td>\n      <td>2019-01-11</td>\n      <td>2019</td>\n      <td>1</td>\n      <td>11</td>\n      <td>98</td>\n      <td>6</td>\n      <td>KR 7-CL 150 2</td>\n      <td>Material damage</td>\n      <td>Crash</td>\n      <td>1</td>\n      <td>USAQUEN</td>\n      <td>-1</td>\n      <td>1</td>\n    </tr>\n    <tr>\n      <th>4</th>\n      <td>-74.0808</td>\n      <td>4.67008</td>\n      <td>2019-01-10 07:20:00</td>\n      <td>2019-01-10</td>\n      <td>2019</td>\n      <td>1</td>\n      <td>10</td>\n      <td>98</td>\n      <td>7</td>\n      <td>CL 68-KR 58 2</td>\n      <td>Injury</td>\n      <td>Crash</td>\n      <td>8</td>\n      <td>BARRIOS UNIDOS</td>\n      <td>-1</td>\n      <td>1</td>\n    </tr>\n    <tr>\n      <th>...</th>\n      <td>...</td>\n      <td>...</td>\n      <td>...</td>\n      <td>...</td>\n      <td>...</td>\n      <td>...</td>\n      <td>...</td>\n      <td>...</td>\n      <td>...</td>\n      <td>...</td>\n      <td>...</td>\n      <td>...</td>\n      <td>...</td>\n      <td>...</td>\n      <td>...</td>\n      <td>...</td>\n    </tr>\n    <tr>\n      <th>145595</th>\n      <td>-74.12992808</td>\n      <td>4.57033507</td>\n      <td>2019-01-23 09:00:00</td>\n      <td>2019-01-23</td>\n      <td>2019</td>\n      <td>1</td>\n      <td>23</td>\n      <td>23</td>\n      <td>9</td>\n      <td>KR 19C-CL 51 S 02</td>\n      <td></td>\n      <td></td>\n      <td></td>\n      <td>TUNJUELITO</td>\n      <td>-1</td>\n      <td>0</td>\n    </tr>\n    <tr>\n      <th>145596</th>\n      <td>-74.12992808</td>\n      <td>4.57033507</td>\n      <td>2019-01-23 22:00:00</td>\n      <td>2019-01-23</td>\n      <td>2019</td>\n      <td>1</td>\n      <td>23</td>\n      <td>23</td>\n      <td>22</td>\n      <td>KR 19C-CL 51 S 02</td>\n      <td></td>\n      <td></td>\n      <td></td>\n      <td>TUNJUELITO</td>\n      <td>-1</td>\n      <td>0</td>\n    </tr>\n    <tr>\n      <th>145597</th>\n      <td>-74.14973538</td>\n      <td>4.68733476</td>\n      <td>2019-01-23 22:00:00</td>\n      <td>2019-01-23</td>\n      <td>2019</td>\n      <td>1</td>\n      <td>23</td>\n      <td>23</td>\n      <td>22</td>\n      <td>KR 116-CL 22F 2</td>\n      <td></td>\n      <td></td>\n      <td></td>\n      <td>FONTIBON</td>\n      <td>-1</td>\n      <td>0</td>\n    </tr>\n    <tr>\n      <th>145598</th>\n      <td>-74.13319791</td>\n      <td>4.56459794</td>\n      <td>2019-01-23 22:00:00</td>\n      <td>2019-01-23</td>\n      <td>2019</td>\n      <td>1</td>\n      <td>23</td>\n      <td>23</td>\n      <td>22</td>\n      <td>CL 57-KR 18A S 02</td>\n      <td></td>\n      <td></td>\n      <td></td>\n      <td>TUNJUELITO</td>\n      <td>-1</td>\n      <td>0</td>\n    </tr>\n    <tr>\n      <th>145599</th>\n      <td>-74.13319791</td>\n      <td>4.56459794</td>\n      <td>2019-11-08 22:00:00</td>\n      <td>2019-11-08</td>\n      <td>2019</td>\n      <td>11</td>\n      <td>8</td>\n      <td>312</td>\n      <td>22</td>\n      <td>CL 57-KR 18A S 02</td>\n      <td></td>\n      <td></td>\n      <td></td>\n      <td>TUNJUELITO</td>\n      <td>-1</td>\n      <td>0</td>\n    </tr>\n  </tbody>\n</table>\n<p>174720 rows × 16 columns</p>\n</div>"
     },
     "metadata": {},
     "execution_count": 101
    }
   ],
   "source": [
    "dataset"
   ]
  },
  {
   "cell_type": "code",
   "execution_count": 102,
   "metadata": {},
   "outputs": [],
   "source": [
    "boroughs = pd.read_csv(\"../data/localidades.csv\")"
   ]
  },
  {
   "cell_type": "code",
   "execution_count": 103,
   "metadata": {},
   "outputs": [
    {
     "output_type": "execute_result",
     "data": {
      "text/plain": "array(['USAQUEN', 'CHAPINERO', 'SANTA FE', 'SAN CRISTOBAL', 'USME',\n       'TUNJUELITO', 'BOSA', 'KENNEDY', 'FONTIBON', 'ENGATIVA', 'SUBA',\n       'BARRIOS UNIDOS', 'TEUSAQUILLO', 'LOS MARTIRES', 'ANTONIO NARIÑO',\n       'PUENTE ARANDA', 'CANDELARIA', 'RAFAEL URIBE URIBE',\n       'CIUDAD BOLIVAR', 'SUMAPAZ'], dtype=object)"
     },
     "metadata": {},
     "execution_count": 103
    }
   ],
   "source": [
    "boroughs.borough.unique()"
   ]
  },
  {
   "cell_type": "code",
   "execution_count": 104,
   "metadata": {},
   "outputs": [
    {
     "output_type": "execute_result",
     "data": {
      "text/plain": "Index(['id', 'borough', 'area_km2', 'population', 'population_density'], dtype='object')"
     },
     "metadata": {},
     "execution_count": 104
    }
   ],
   "source": [
    "boroughs.columns"
   ]
  },
  {
   "cell_type": "code",
   "execution_count": 6,
   "metadata": {},
   "outputs": [],
   "source": [
    "# boroughs.replace({\"Tunjuelito\": 'TUNJUELITO', \"Chapinero\":'CHAPINERO', \"Kennedy\": 'KENNEDY', \"Usaquén\": 'USAQUEN', \"BarriosUnidos\":  'BARRIOS UNIDOS', \"CiudadBolívar\": \n",
    "# 'CIUDAD BOLIVAR', \"Fontibón\":  'FONTIBON', \"PuenteAranda\":  'PUENTE ARANDA', \"Suba\":  'SUBA', \"Teusaquillo\":\n",
    "# 'TEUSAQUILLO', \"SantaFe\":  'SANTA FE', \"Bosa\":  'BOSA', \"SanCristóbal\":  'SAN CRISTOBAL', \"Engativá\":  'ENGATIVA', \"RafaelUribeUribe\": \n",
    "# 'RAFAEL URIBE URIBE', \"AntonioNariño\":  'ANTONIO NARIÑO', \"LosMártires\":  'LOS MARTIRES', \"LaCandelaria\":\n",
    "# 'CANDELARIA', \"Usme\": 'USME', \"Sumapaz\":  'SUMAPAZ'}, inplace=True)"
   ]
  },
  {
   "cell_type": "code",
   "execution_count": 105,
   "metadata": {},
   "outputs": [],
   "source": [
    "boroughs.drop(columns = ['id'], inplace=True)"
   ]
  },
  {
   "cell_type": "code",
   "execution_count": 106,
   "metadata": {},
   "outputs": [],
   "source": [
    "dataset = dataset.merge(boroughs, how='left', left_on='borough', right_on='borough')"
   ]
  },
  {
   "cell_type": "code",
   "execution_count": 107,
   "metadata": {},
   "outputs": [
    {
     "output_type": "execute_result",
     "data": {
      "text/plain": "         x        y           timestamp        date  year  month  day  \\\n0 -74.1344   4.5793 2019-01-11 14:20:00  2019-01-11  2019      1   11   \n1 -74.0488  4.66514 2019-01-11 11:30:00  2019-01-11  2019      1   11   \n2 -74.1733  4.61559 2019-01-11 23:20:00  2019-01-11  2019      1   11   \n3 -74.0251  4.72529 2019-01-11 06:30:00  2019-01-11  2019      1   11   \n4 -74.0808  4.67008 2019-01-10 07:20:00  2019-01-10  2019      1   10   \n\n   day_of_year  hour           address         severity accident_type  \\\n0           11    14  KR 26-CL 52B S 2           Injury         Crash   \n1           11    11      CL 84-KR 8 2  Material damage         Crash   \n2           11    23  KR 80-CL 53A S 2           Injury         Crash   \n3           98     6     KR 7-CL 150 2  Material damage         Crash   \n4           98     7     CL 68-KR 58 2           Injury         Crash   \n\n  severity_numeric         borough  cluster_id  sample_type  area_km2  \\\n0                8      TUNJUELITO          -1            1      9.91   \n1                1       CHAPINERO          -1            1     38.15   \n2                8         KENNEDY           0            1     38.59   \n3                1         USAQUEN          -1            1     65.31   \n4                8  BARRIOS UNIDOS          -1            1     11.90   \n\n   population  population_density  \n0      199430            20124.11  \n1      139701             3661.88  \n2     1088443            28205.31  \n3      501999             7686.40  \n4      243465            20459.24  ",
      "text/html": "<div>\n<style scoped>\n    .dataframe tbody tr th:only-of-type {\n        vertical-align: middle;\n    }\n\n    .dataframe tbody tr th {\n        vertical-align: top;\n    }\n\n    .dataframe thead th {\n        text-align: right;\n    }\n</style>\n<table border=\"1\" class=\"dataframe\">\n  <thead>\n    <tr style=\"text-align: right;\">\n      <th></th>\n      <th>x</th>\n      <th>y</th>\n      <th>timestamp</th>\n      <th>date</th>\n      <th>year</th>\n      <th>month</th>\n      <th>day</th>\n      <th>day_of_year</th>\n      <th>hour</th>\n      <th>address</th>\n      <th>severity</th>\n      <th>accident_type</th>\n      <th>severity_numeric</th>\n      <th>borough</th>\n      <th>cluster_id</th>\n      <th>sample_type</th>\n      <th>area_km2</th>\n      <th>population</th>\n      <th>population_density</th>\n    </tr>\n  </thead>\n  <tbody>\n    <tr>\n      <th>0</th>\n      <td>-74.1344</td>\n      <td>4.5793</td>\n      <td>2019-01-11 14:20:00</td>\n      <td>2019-01-11</td>\n      <td>2019</td>\n      <td>1</td>\n      <td>11</td>\n      <td>11</td>\n      <td>14</td>\n      <td>KR 26-CL 52B S 2</td>\n      <td>Injury</td>\n      <td>Crash</td>\n      <td>8</td>\n      <td>TUNJUELITO</td>\n      <td>-1</td>\n      <td>1</td>\n      <td>9.91</td>\n      <td>199430</td>\n      <td>20124.11</td>\n    </tr>\n    <tr>\n      <th>1</th>\n      <td>-74.0488</td>\n      <td>4.66514</td>\n      <td>2019-01-11 11:30:00</td>\n      <td>2019-01-11</td>\n      <td>2019</td>\n      <td>1</td>\n      <td>11</td>\n      <td>11</td>\n      <td>11</td>\n      <td>CL 84-KR 8 2</td>\n      <td>Material damage</td>\n      <td>Crash</td>\n      <td>1</td>\n      <td>CHAPINERO</td>\n      <td>-1</td>\n      <td>1</td>\n      <td>38.15</td>\n      <td>139701</td>\n      <td>3661.88</td>\n    </tr>\n    <tr>\n      <th>2</th>\n      <td>-74.1733</td>\n      <td>4.61559</td>\n      <td>2019-01-11 23:20:00</td>\n      <td>2019-01-11</td>\n      <td>2019</td>\n      <td>1</td>\n      <td>11</td>\n      <td>11</td>\n      <td>23</td>\n      <td>KR 80-CL 53A S 2</td>\n      <td>Injury</td>\n      <td>Crash</td>\n      <td>8</td>\n      <td>KENNEDY</td>\n      <td>0</td>\n      <td>1</td>\n      <td>38.59</td>\n      <td>1088443</td>\n      <td>28205.31</td>\n    </tr>\n    <tr>\n      <th>3</th>\n      <td>-74.0251</td>\n      <td>4.72529</td>\n      <td>2019-01-11 06:30:00</td>\n      <td>2019-01-11</td>\n      <td>2019</td>\n      <td>1</td>\n      <td>11</td>\n      <td>98</td>\n      <td>6</td>\n      <td>KR 7-CL 150 2</td>\n      <td>Material damage</td>\n      <td>Crash</td>\n      <td>1</td>\n      <td>USAQUEN</td>\n      <td>-1</td>\n      <td>1</td>\n      <td>65.31</td>\n      <td>501999</td>\n      <td>7686.40</td>\n    </tr>\n    <tr>\n      <th>4</th>\n      <td>-74.0808</td>\n      <td>4.67008</td>\n      <td>2019-01-10 07:20:00</td>\n      <td>2019-01-10</td>\n      <td>2019</td>\n      <td>1</td>\n      <td>10</td>\n      <td>98</td>\n      <td>7</td>\n      <td>CL 68-KR 58 2</td>\n      <td>Injury</td>\n      <td>Crash</td>\n      <td>8</td>\n      <td>BARRIOS UNIDOS</td>\n      <td>-1</td>\n      <td>1</td>\n      <td>11.90</td>\n      <td>243465</td>\n      <td>20459.24</td>\n    </tr>\n  </tbody>\n</table>\n</div>"
     },
     "metadata": {},
     "execution_count": 107
    }
   ],
   "source": [
    "dataset.head()"
   ]
  },
  {
   "cell_type": "code",
   "execution_count": 108,
   "metadata": {},
   "outputs": [],
   "source": [
    "weather = pd.read_csv(\"../data/weather_full.csv\")"
   ]
  },
  {
   "cell_type": "code",
   "execution_count": 109,
   "metadata": {},
   "outputs": [
    {
     "output_type": "execute_result",
     "data": {
      "text/plain": "Index(['time', 'summary', 'icon', 'precipIntensity', 'precipProbability',\n       'temperature', 'apparentTemperature', 'dewPoint', 'humidity',\n       'windSpeed', 'windBearing', 'cloudCover', 'uvIndex', 'visibility',\n       'location', 'pressure', 'windGust', 'precipType', 'ozone',\n       'precipAccumulation'],\n      dtype='object')"
     },
     "metadata": {},
     "execution_count": 109
    }
   ],
   "source": [
    "weather.columns"
   ]
  },
  {
   "cell_type": "code",
   "execution_count": 110,
   "metadata": {},
   "outputs": [
    {
     "output_type": "execute_result",
     "data": {
      "text/plain": "                  time        summary                 icon  precipIntensity  \\\n0  2017-10-27 05:00:00          Clear          clear-night              0.0   \n1  2017-10-27 06:00:00          Clear          clear-night              0.0   \n2  2017-10-27 07:00:00  Partly Cloudy  partly-cloudy-night              0.0   \n3  2017-10-27 08:00:00  Partly Cloudy  partly-cloudy-night              0.0   \n4  2017-10-27 09:00:00  Mostly Cloudy  partly-cloudy-night              0.0   \n\n   precipProbability  temperature  apparentTemperature  dewPoint  humidity  \\\n0                0.0          7.0                 6.22      6.99      1.00   \n1                0.0          7.0                 6.22      6.00      0.93   \n2                0.0          7.0                 6.22      6.99      1.00   \n3                0.0          9.0                 8.51      9.00      1.00   \n4                0.0         10.0                10.00      9.99      1.00   \n\n   windSpeed  windBearing  cloudCover  uvIndex  visibility location  pressure  \\\n0       1.50        320.0        0.00      0.0       8.005     BOSA       NaN   \n1       1.50        320.0        0.13      0.0       8.005     BOSA       NaN   \n2       1.50          0.0        0.44      0.0      10.003     BOSA       NaN   \n3       1.50          0.0        0.44      0.0       8.005     BOSA       NaN   \n4       1.02        251.0        0.75      0.0       8.005     BOSA       NaN   \n\n   windGust precipType  ozone  precipAccumulation  \n0       NaN        NaN    NaN                 NaN  \n1       NaN        NaN    NaN                 NaN  \n2       NaN        NaN    NaN                 NaN  \n3       NaN        NaN    NaN                 NaN  \n4       NaN        NaN    NaN                 NaN  ",
      "text/html": "<div>\n<style scoped>\n    .dataframe tbody tr th:only-of-type {\n        vertical-align: middle;\n    }\n\n    .dataframe tbody tr th {\n        vertical-align: top;\n    }\n\n    .dataframe thead th {\n        text-align: right;\n    }\n</style>\n<table border=\"1\" class=\"dataframe\">\n  <thead>\n    <tr style=\"text-align: right;\">\n      <th></th>\n      <th>time</th>\n      <th>summary</th>\n      <th>icon</th>\n      <th>precipIntensity</th>\n      <th>precipProbability</th>\n      <th>temperature</th>\n      <th>apparentTemperature</th>\n      <th>dewPoint</th>\n      <th>humidity</th>\n      <th>windSpeed</th>\n      <th>windBearing</th>\n      <th>cloudCover</th>\n      <th>uvIndex</th>\n      <th>visibility</th>\n      <th>location</th>\n      <th>pressure</th>\n      <th>windGust</th>\n      <th>precipType</th>\n      <th>ozone</th>\n      <th>precipAccumulation</th>\n    </tr>\n  </thead>\n  <tbody>\n    <tr>\n      <th>0</th>\n      <td>2017-10-27 05:00:00</td>\n      <td>Clear</td>\n      <td>clear-night</td>\n      <td>0.0</td>\n      <td>0.0</td>\n      <td>7.0</td>\n      <td>6.22</td>\n      <td>6.99</td>\n      <td>1.00</td>\n      <td>1.50</td>\n      <td>320.0</td>\n      <td>0.00</td>\n      <td>0.0</td>\n      <td>8.005</td>\n      <td>BOSA</td>\n      <td>NaN</td>\n      <td>NaN</td>\n      <td>NaN</td>\n      <td>NaN</td>\n      <td>NaN</td>\n    </tr>\n    <tr>\n      <th>1</th>\n      <td>2017-10-27 06:00:00</td>\n      <td>Clear</td>\n      <td>clear-night</td>\n      <td>0.0</td>\n      <td>0.0</td>\n      <td>7.0</td>\n      <td>6.22</td>\n      <td>6.00</td>\n      <td>0.93</td>\n      <td>1.50</td>\n      <td>320.0</td>\n      <td>0.13</td>\n      <td>0.0</td>\n      <td>8.005</td>\n      <td>BOSA</td>\n      <td>NaN</td>\n      <td>NaN</td>\n      <td>NaN</td>\n      <td>NaN</td>\n      <td>NaN</td>\n    </tr>\n    <tr>\n      <th>2</th>\n      <td>2017-10-27 07:00:00</td>\n      <td>Partly Cloudy</td>\n      <td>partly-cloudy-night</td>\n      <td>0.0</td>\n      <td>0.0</td>\n      <td>7.0</td>\n      <td>6.22</td>\n      <td>6.99</td>\n      <td>1.00</td>\n      <td>1.50</td>\n      <td>0.0</td>\n      <td>0.44</td>\n      <td>0.0</td>\n      <td>10.003</td>\n      <td>BOSA</td>\n      <td>NaN</td>\n      <td>NaN</td>\n      <td>NaN</td>\n      <td>NaN</td>\n      <td>NaN</td>\n    </tr>\n    <tr>\n      <th>3</th>\n      <td>2017-10-27 08:00:00</td>\n      <td>Partly Cloudy</td>\n      <td>partly-cloudy-night</td>\n      <td>0.0</td>\n      <td>0.0</td>\n      <td>9.0</td>\n      <td>8.51</td>\n      <td>9.00</td>\n      <td>1.00</td>\n      <td>1.50</td>\n      <td>0.0</td>\n      <td>0.44</td>\n      <td>0.0</td>\n      <td>8.005</td>\n      <td>BOSA</td>\n      <td>NaN</td>\n      <td>NaN</td>\n      <td>NaN</td>\n      <td>NaN</td>\n      <td>NaN</td>\n    </tr>\n    <tr>\n      <th>4</th>\n      <td>2017-10-27 09:00:00</td>\n      <td>Mostly Cloudy</td>\n      <td>partly-cloudy-night</td>\n      <td>0.0</td>\n      <td>0.0</td>\n      <td>10.0</td>\n      <td>10.00</td>\n      <td>9.99</td>\n      <td>1.00</td>\n      <td>1.02</td>\n      <td>251.0</td>\n      <td>0.75</td>\n      <td>0.0</td>\n      <td>8.005</td>\n      <td>BOSA</td>\n      <td>NaN</td>\n      <td>NaN</td>\n      <td>NaN</td>\n      <td>NaN</td>\n      <td>NaN</td>\n    </tr>\n  </tbody>\n</table>\n</div>"
     },
     "metadata": {},
     "execution_count": 110
    }
   ],
   "source": [
    "weather.head()"
   ]
  },
  {
   "cell_type": "code",
   "execution_count": 111,
   "metadata": {},
   "outputs": [],
   "source": [
    "dataset['timestamp_floor'] =  dataset.timestamp.dt.floor('H')"
   ]
  },
  {
   "cell_type": "code",
   "execution_count": 112,
   "metadata": {},
   "outputs": [],
   "source": [
    "weather.time = pd.to_datetime(weather.time)"
   ]
  },
  {
   "cell_type": "code",
   "execution_count": 113,
   "metadata": {},
   "outputs": [
    {
     "output_type": "execute_result",
     "data": {
      "text/plain": "array(['BOSA', 'ENGATIVA', 'TUNJUELITO', 'KENNEDY', 'FONTIBON',\n       'CHAPINERO', 'CIUDAD BOLIVAR', 'ANTONIO NARIÑO', 'CANDELARIA',\n       'PUENTE ARANDA', 'RAFAEL URIBE URIBE', 'BARRIOS UNIDOS', 'SUBA',\n       'SAN CRISTOBAL', 'SUMAPAZ', 'LOS MARTIRES', 'SANTA FE',\n       'TEUSAQUILLO', 'USAQUEN', 'USME'], dtype=object)"
     },
     "metadata": {},
     "execution_count": 113
    }
   ],
   "source": [
    "weather.location.unique()"
   ]
  },
  {
   "cell_type": "code",
   "execution_count": 12,
   "metadata": {},
   "outputs": [],
   "source": [
    "# weather.replace({\"tunjuelito\": 'TUNJUELITO', \"chapinero\":'CHAPINERO', \"kennedy\": 'KENNEDY', \"usaquen\": 'USAQUEN', \"barrios unidos\":  'BARRIOS UNIDOS', \"ciudadbolivar\": \n",
    "# 'CIUDAD BOLIVAR', \"fontibon\":  'FONTIBON', \"puente aranda\":  'PUENTE ARANDA', \"suba\":  'SUBA', \"teusaquillo\":\n",
    "# 'TEUSAQUILLO', \"santafe\":  'SANTA FE', \"bosa\":  'BOSA', \"san cristobal\":  'SAN CRISTOBAL', \"engativa\":  'ENGATIVA', \"rafael uribe\": \n",
    "# 'RAFAEL URIBE URIBE', \"antonio nariño\":  'ANTONIO NARIÑO', \"los martires\":  'LOS MARTIRES', \"la candelaria\":\n",
    "# 'CANDELARIA', \"usme\": 'USME', \"sumapaz\":  'SUMAPAZ'}, inplace=True)"
   ]
  },
  {
   "cell_type": "code",
   "execution_count": 114,
   "metadata": {},
   "outputs": [],
   "source": [
    "dataset = dataset.merge(weather, left_on=['borough' , 'timestamp_floor'], right_on=['location', 'time'])"
   ]
  },
  {
   "cell_type": "code",
   "execution_count": 115,
   "metadata": {},
   "outputs": [
    {
     "output_type": "execute_result",
     "data": {
      "text/plain": "Index(['x', 'y', 'timestamp', 'date', 'year', 'month', 'day', 'day_of_year',\n       'hour', 'address', 'severity', 'accident_type', 'severity_numeric',\n       'borough', 'cluster_id', 'sample_type', 'area_km2', 'population',\n       'population_density', 'timestamp_floor', 'time', 'summary', 'icon',\n       'precipIntensity', 'precipProbability', 'temperature',\n       'apparentTemperature', 'dewPoint', 'humidity', 'windSpeed',\n       'windBearing', 'cloudCover', 'uvIndex', 'visibility', 'location',\n       'pressure', 'windGust', 'precipType', 'ozone', 'precipAccumulation'],\n      dtype='object')"
     },
     "metadata": {},
     "execution_count": 115
    }
   ],
   "source": [
    "dataset.columns"
   ]
  },
  {
   "cell_type": "code",
   "execution_count": 116,
   "metadata": {},
   "outputs": [],
   "source": [
    "dataset.drop(columns = ['timestamp_floor', 'location'], inplace=True)"
   ]
  },
  {
   "cell_type": "code",
   "execution_count": 117,
   "metadata": {},
   "outputs": [],
   "source": [
    "dataset.rename(columns={\"time\": \"timestamp_darksky\"}, inplace=True)"
   ]
  },
  {
   "cell_type": "code",
   "execution_count": 120,
   "metadata": {},
   "outputs": [],
   "source": [
    "dataset.to_csv('../data/dataset_2019_with_negatives.csv', index=None)"
   ]
  },
  {
   "cell_type": "code",
   "execution_count": 119,
   "metadata": {},
   "outputs": [
    {
     "output_type": "execute_result",
     "data": {
      "text/plain": "                   x           y           timestamp        date  year  month  \\\n0           -74.1344      4.5793 2019-01-11 14:20:00  2019-01-11  2019      1   \n1        -74.1394883  4.57323292 2019-01-11 14:00:00  2019-01-11  2019      1   \n2           -74.0488     4.66514 2019-01-11 11:30:00  2019-01-11  2019      1   \n3           -74.1733     4.61559 2019-01-11 23:20:00  2019-01-11  2019      1   \n4       -74.14150261  4.61087396 2019-01-11 23:00:00  2019-01-11  2019      1   \n...              ...         ...                 ...         ...   ...    ...   \n174349  -74.17421687  4.57624236 2019-04-26 16:00:00  2019-04-26  2019      4   \n174350  -74.12992808  4.57033507 2019-01-23 09:00:00  2019-01-23  2019      1   \n174351  -74.12992808  4.57033507 2019-01-23 22:00:00  2019-01-23  2019      1   \n174352  -74.13319791  4.56459794 2019-01-23 22:00:00  2019-01-23  2019      1   \n174353  -74.13319791  4.56459794 2019-11-08 22:00:00  2019-11-08  2019     11   \n\n        day  day_of_year  hour                    address  ... windSpeed  \\\n0        11           11    14           KR 26-CL 52B S 2  ...      1.66   \n1        11           11    14  AV AVENIDA BOYACA-KR 24 2  ...      1.66   \n2        11           11    11               CL 84-KR 8 2  ...      1.09   \n3        11           11    23           KR 80-CL 53A S 2  ...      1.65   \n4        11           11    23         KR 72H-CL 37D S 02  ...      1.65   \n...     ...          ...   ...                        ...  ...       ...   \n174349   26          116    16          KR 75-CL 75D S 02  ...      1.62   \n174350   23           23     9          KR 19C-CL 51 S 02  ...      2.48   \n174351   23           23    22          KR 19C-CL 51 S 02  ...      2.72   \n174352   23           23    22          CL 57-KR 18A S 02  ...      2.72   \n174353    8          312    22          CL 57-KR 18A S 02  ...      1.47   \n\n       windBearing cloudCover uvIndex  visibility  pressure  windGust  \\\n0            167.0       0.89     4.0      13.489    1018.0      1.66   \n1            167.0       0.89     4.0      13.489    1018.0      1.66   \n2            127.0       0.80     0.0      14.019    1018.0      1.52   \n3             10.0       0.81     0.0       6.814    1014.8      2.07   \n4             10.0       0.81     0.0       6.814    1014.8      2.07   \n...            ...        ...     ...         ...       ...       ...   \n174349       154.0       0.90     7.0      14.461    1017.9      2.68   \n174350       127.0       0.78     0.0      16.093    1017.7      4.72   \n174351       129.0       0.77     1.0      16.093    1013.5      4.14   \n174352       129.0       0.77     1.0      16.093    1013.5      4.14   \n174353       148.0       0.85     0.0      16.093    1008.7      2.64   \n\n        precipType  ozone precipAccumulation  \n0             rain  239.8                NaN  \n1             rain  239.8                NaN  \n2             rain  241.0                NaN  \n3             rain  237.9                NaN  \n4             rain  237.9                NaN  \n...            ...    ...                ...  \n174349        rain  246.0                NaN  \n174350        rain  239.2                NaN  \n174351        rain  241.0                NaN  \n174352        rain  241.0                NaN  \n174353        rain  246.7                NaN  \n\n[174354 rows x 38 columns]",
      "text/html": "<div>\n<style scoped>\n    .dataframe tbody tr th:only-of-type {\n        vertical-align: middle;\n    }\n\n    .dataframe tbody tr th {\n        vertical-align: top;\n    }\n\n    .dataframe thead th {\n        text-align: right;\n    }\n</style>\n<table border=\"1\" class=\"dataframe\">\n  <thead>\n    <tr style=\"text-align: right;\">\n      <th></th>\n      <th>x</th>\n      <th>y</th>\n      <th>timestamp</th>\n      <th>date</th>\n      <th>year</th>\n      <th>month</th>\n      <th>day</th>\n      <th>day_of_year</th>\n      <th>hour</th>\n      <th>address</th>\n      <th>...</th>\n      <th>windSpeed</th>\n      <th>windBearing</th>\n      <th>cloudCover</th>\n      <th>uvIndex</th>\n      <th>visibility</th>\n      <th>pressure</th>\n      <th>windGust</th>\n      <th>precipType</th>\n      <th>ozone</th>\n      <th>precipAccumulation</th>\n    </tr>\n  </thead>\n  <tbody>\n    <tr>\n      <th>0</th>\n      <td>-74.1344</td>\n      <td>4.5793</td>\n      <td>2019-01-11 14:20:00</td>\n      <td>2019-01-11</td>\n      <td>2019</td>\n      <td>1</td>\n      <td>11</td>\n      <td>11</td>\n      <td>14</td>\n      <td>KR 26-CL 52B S 2</td>\n      <td>...</td>\n      <td>1.66</td>\n      <td>167.0</td>\n      <td>0.89</td>\n      <td>4.0</td>\n      <td>13.489</td>\n      <td>1018.0</td>\n      <td>1.66</td>\n      <td>rain</td>\n      <td>239.8</td>\n      <td>NaN</td>\n    </tr>\n    <tr>\n      <th>1</th>\n      <td>-74.1394883</td>\n      <td>4.57323292</td>\n      <td>2019-01-11 14:00:00</td>\n      <td>2019-01-11</td>\n      <td>2019</td>\n      <td>1</td>\n      <td>11</td>\n      <td>11</td>\n      <td>14</td>\n      <td>AV AVENIDA BOYACA-KR 24 2</td>\n      <td>...</td>\n      <td>1.66</td>\n      <td>167.0</td>\n      <td>0.89</td>\n      <td>4.0</td>\n      <td>13.489</td>\n      <td>1018.0</td>\n      <td>1.66</td>\n      <td>rain</td>\n      <td>239.8</td>\n      <td>NaN</td>\n    </tr>\n    <tr>\n      <th>2</th>\n      <td>-74.0488</td>\n      <td>4.66514</td>\n      <td>2019-01-11 11:30:00</td>\n      <td>2019-01-11</td>\n      <td>2019</td>\n      <td>1</td>\n      <td>11</td>\n      <td>11</td>\n      <td>11</td>\n      <td>CL 84-KR 8 2</td>\n      <td>...</td>\n      <td>1.09</td>\n      <td>127.0</td>\n      <td>0.80</td>\n      <td>0.0</td>\n      <td>14.019</td>\n      <td>1018.0</td>\n      <td>1.52</td>\n      <td>rain</td>\n      <td>241.0</td>\n      <td>NaN</td>\n    </tr>\n    <tr>\n      <th>3</th>\n      <td>-74.1733</td>\n      <td>4.61559</td>\n      <td>2019-01-11 23:20:00</td>\n      <td>2019-01-11</td>\n      <td>2019</td>\n      <td>1</td>\n      <td>11</td>\n      <td>11</td>\n      <td>23</td>\n      <td>KR 80-CL 53A S 2</td>\n      <td>...</td>\n      <td>1.65</td>\n      <td>10.0</td>\n      <td>0.81</td>\n      <td>0.0</td>\n      <td>6.814</td>\n      <td>1014.8</td>\n      <td>2.07</td>\n      <td>rain</td>\n      <td>237.9</td>\n      <td>NaN</td>\n    </tr>\n    <tr>\n      <th>4</th>\n      <td>-74.14150261</td>\n      <td>4.61087396</td>\n      <td>2019-01-11 23:00:00</td>\n      <td>2019-01-11</td>\n      <td>2019</td>\n      <td>1</td>\n      <td>11</td>\n      <td>11</td>\n      <td>23</td>\n      <td>KR 72H-CL 37D S 02</td>\n      <td>...</td>\n      <td>1.65</td>\n      <td>10.0</td>\n      <td>0.81</td>\n      <td>0.0</td>\n      <td>6.814</td>\n      <td>1014.8</td>\n      <td>2.07</td>\n      <td>rain</td>\n      <td>237.9</td>\n      <td>NaN</td>\n    </tr>\n    <tr>\n      <th>...</th>\n      <td>...</td>\n      <td>...</td>\n      <td>...</td>\n      <td>...</td>\n      <td>...</td>\n      <td>...</td>\n      <td>...</td>\n      <td>...</td>\n      <td>...</td>\n      <td>...</td>\n      <td>...</td>\n      <td>...</td>\n      <td>...</td>\n      <td>...</td>\n      <td>...</td>\n      <td>...</td>\n      <td>...</td>\n      <td>...</td>\n      <td>...</td>\n      <td>...</td>\n      <td>...</td>\n    </tr>\n    <tr>\n      <th>174349</th>\n      <td>-74.17421687</td>\n      <td>4.57624236</td>\n      <td>2019-04-26 16:00:00</td>\n      <td>2019-04-26</td>\n      <td>2019</td>\n      <td>4</td>\n      <td>26</td>\n      <td>116</td>\n      <td>16</td>\n      <td>KR 75-CL 75D S 02</td>\n      <td>...</td>\n      <td>1.62</td>\n      <td>154.0</td>\n      <td>0.90</td>\n      <td>7.0</td>\n      <td>14.461</td>\n      <td>1017.9</td>\n      <td>2.68</td>\n      <td>rain</td>\n      <td>246.0</td>\n      <td>NaN</td>\n    </tr>\n    <tr>\n      <th>174350</th>\n      <td>-74.12992808</td>\n      <td>4.57033507</td>\n      <td>2019-01-23 09:00:00</td>\n      <td>2019-01-23</td>\n      <td>2019</td>\n      <td>1</td>\n      <td>23</td>\n      <td>23</td>\n      <td>9</td>\n      <td>KR 19C-CL 51 S 02</td>\n      <td>...</td>\n      <td>2.48</td>\n      <td>127.0</td>\n      <td>0.78</td>\n      <td>0.0</td>\n      <td>16.093</td>\n      <td>1017.7</td>\n      <td>4.72</td>\n      <td>rain</td>\n      <td>239.2</td>\n      <td>NaN</td>\n    </tr>\n    <tr>\n      <th>174351</th>\n      <td>-74.12992808</td>\n      <td>4.57033507</td>\n      <td>2019-01-23 22:00:00</td>\n      <td>2019-01-23</td>\n      <td>2019</td>\n      <td>1</td>\n      <td>23</td>\n      <td>23</td>\n      <td>22</td>\n      <td>KR 19C-CL 51 S 02</td>\n      <td>...</td>\n      <td>2.72</td>\n      <td>129.0</td>\n      <td>0.77</td>\n      <td>1.0</td>\n      <td>16.093</td>\n      <td>1013.5</td>\n      <td>4.14</td>\n      <td>rain</td>\n      <td>241.0</td>\n      <td>NaN</td>\n    </tr>\n    <tr>\n      <th>174352</th>\n      <td>-74.13319791</td>\n      <td>4.56459794</td>\n      <td>2019-01-23 22:00:00</td>\n      <td>2019-01-23</td>\n      <td>2019</td>\n      <td>1</td>\n      <td>23</td>\n      <td>23</td>\n      <td>22</td>\n      <td>CL 57-KR 18A S 02</td>\n      <td>...</td>\n      <td>2.72</td>\n      <td>129.0</td>\n      <td>0.77</td>\n      <td>1.0</td>\n      <td>16.093</td>\n      <td>1013.5</td>\n      <td>4.14</td>\n      <td>rain</td>\n      <td>241.0</td>\n      <td>NaN</td>\n    </tr>\n    <tr>\n      <th>174353</th>\n      <td>-74.13319791</td>\n      <td>4.56459794</td>\n      <td>2019-11-08 22:00:00</td>\n      <td>2019-11-08</td>\n      <td>2019</td>\n      <td>11</td>\n      <td>8</td>\n      <td>312</td>\n      <td>22</td>\n      <td>CL 57-KR 18A S 02</td>\n      <td>...</td>\n      <td>1.47</td>\n      <td>148.0</td>\n      <td>0.85</td>\n      <td>0.0</td>\n      <td>16.093</td>\n      <td>1008.7</td>\n      <td>2.64</td>\n      <td>rain</td>\n      <td>246.7</td>\n      <td>NaN</td>\n    </tr>\n  </tbody>\n</table>\n<p>174354 rows × 38 columns</p>\n</div>"
     },
     "metadata": {},
     "execution_count": 119
    }
   ],
   "source": [
    "dataset"
   ]
  },
  {
   "cell_type": "code",
   "execution_count": null,
   "metadata": {},
   "outputs": [],
   "source": []
  }
 ]
}